{
 "cells": [
  {
   "cell_type": "markdown",
   "id": "9ac528a1",
   "metadata": {},
   "source": [
    "# Antibiotic Resistance Gene Origin Predictor\n",
    "\n",
    "A machine-learning based bioinformatics tool for predicting the origin of antibiotic resistance genes using codon usage bias analysis.\n",
    "\n",
    "## Project Overview\n",
    "\n",
    "**Problem:** Antibiotic resistance genes spread rapidly through _horizontal gene transfer (HGT)_, making it crucial to track their origins and transmission routes.\n",
    "\n",
    "**Solution:** Uses machine-learning to analyze codon usage patterns and predict whether resistance genes are native to an organism or were horizontally transferred.\n",
    "\n",
    "**Impact:** Helps understand resistance gene transmission, track outbreak sources, and inform antibiotic stewardship strategies.\n",
    "\n",
    "---\n",
    "\n",
    "## Scientific Background\n",
    "\n",
    "### Codon Usage Bias\n",
    "\n",
    "Different organisms preferentially use certain synonymous codons over others. These preferences are shaped by:\n",
    "\n",
    "- tRNA abundance\n",
    "- Mutation biases\n",
    "- Selection for translation efficiency\n",
    "- GC content constraints\n",
    "\n",
    "### Horizontal Gene Transfer Detection\n",
    "\n",
    "When genes are transferred between organisms, they often retain the codon usage signature of their source organism, making them detectable through statistical analysis\n"
   ]
  },
  {
   "cell_type": "markdown",
   "id": "40ee38c3",
   "metadata": {},
   "source": [
    "## Create Sample Data"
   ]
  },
  {
   "cell_type": "code",
   "execution_count": 4,
   "id": "b476780f",
   "metadata": {},
   "outputs": [],
   "source": [
    "import os\n",
    "import numpy as np\n",
    "\n",
    "from Bio.Seq import Seq\n",
    "from Bio.SeqRecord import SeqRecord\n",
    "from Bio import SeqIO"
   ]
  },
  {
   "cell_type": "code",
   "execution_count": 5,
   "id": "2e3fe9ed",
   "metadata": {},
   "outputs": [],
   "source": [
    "def create_demo_data():\n",
    "    \"\"\"Create demo dataset with synthetic genes\"\"\"\n",
    "\n",
    "    # Create data directory\n",
    "    os.makedirs('data', exist_ok=True)\n",
    "\n",
    "    # Known codon usage biases\n",
    "    # E. coli prefers: CTG (Leu), GCG (Ala), GCG (Arg) etc\n",
    "    # Transferred genes often have different biases\n",
    "    native_codons = ['CTG', 'GCG', 'CGC', 'GAA', 'GTG', 'ACC', 'AAC', 'GAC']\n",
    "    transferred_codons = ['CTA', 'GCA', 'CGA', 'GAG', 'GTA', 'ACA', 'AAT', 'GAT']\n",
    "\n",
    "    def generate_gene(codon_preference, length=600):\n",
    "        \"\"\"Generate synthetic gene with codon bias\"\"\"\n",
    "        gene = 'ATG'    # Start Codon\n",
    "        while len(gene) < length - 3:\n",
    "            codon = np.random.choice(codon_preference)\n",
    "            gene += codon\n",
    "        gene += 'TAA'   # Stop Codon\n",
    "        return gene\n",
    "\n",
    "    # Generate native genes (100 samples)\n",
    "    native_records = []\n",
    "    for i in range(100):\n",
    "        seq = generate_gene(native_codons)\n",
    "        record = SeqRecord(\n",
    "            Seq(seq),\n",
    "            id=f\"native_{i+1}\",\n",
    "            description=f\"Native housekeeping gene {i+1} [E. coli]\"\n",
    "        )\n",
    "        native_records.append(record)\n",
    "\n",
    "    # Generate transferred genes (100 samples)\n",
    "    transferred_records = []\n",
    "    for i in range(100):\n",
    "        seq = generate_gene(transferred_codons)\n",
    "        record = SeqRecord(\n",
    "            Seq(seq),\n",
    "            id=f\"resistance_{i+1}\",\n",
    "            description=f\"Transferred resistance gene {i+1}\",\n",
    "        )\n",
    "        transferred_records.append(record)\n",
    "\n",
    "    # Save FASTA files\n",
    "    SeqIO.write(native_records, 'data/native_genes.fasta', 'fasta')\n",
    "    SeqIO.write(transferred_records, 'data/transferred_genes.fasta', 'fasta')\n",
    "\n",
    "    return 100, 100"
   ]
  },
  {
   "cell_type": "code",
   "execution_count": 6,
   "id": "0bca36dd",
   "metadata": {},
   "outputs": [
    {
     "name": "stdout",
     "output_type": "stream",
     "text": [
      "\n",
      "[1/5] Creating demo dataset...\n"
     ]
    },
    {
     "data": {
      "text/plain": [
       "(100, 100)"
      ]
     },
     "execution_count": 6,
     "metadata": {},
     "output_type": "execute_result"
    }
   ],
   "source": [
    "print(\"\\n[1/5] Creating demo dataset...\")\n",
    "create_demo_data()"
   ]
  },
  {
   "cell_type": "markdown",
   "id": "79c0a2ef",
   "metadata": {},
   "source": [
    "## Feature Extraction"
   ]
  },
  {
   "cell_type": "code",
   "execution_count": 7,
   "id": "07bad23c",
   "metadata": {},
   "outputs": [],
   "source": [
    "# Genetic code\n",
    "GENETIC_CODE = {\n",
    "    'TTT': 'F', 'TTC': 'F', 'TTA': 'L', 'TTG': 'L',\n",
    "    'TCT': 'S', 'TCC': 'S', 'TCA': 'S', 'TCG': 'S',\n",
    "    'TAT': 'Y', 'TAC': 'Y', 'TAA': '*', 'TAG': '*',\n",
    "    'TGT': 'C', 'TGC': 'C', 'TGA': '*', 'TGG': 'W',\n",
    "    'CTT': 'L', 'CTC': 'L', 'CTA': 'L', 'CTG': 'L',\n",
    "    'CCT': 'P', 'CCC': 'P', 'CCA': 'P', 'CCG': 'P',\n",
    "    'CAT': 'H', 'CAC': 'H', 'CAA': 'Q', 'CAG': 'Q',\n",
    "    'CGT': 'R', 'CGC': 'R', 'CGA': 'R', 'CGG': 'R',\n",
    "    'ATT': 'I', 'ATC': 'I', 'ATA': 'I', 'ATG': 'M',\n",
    "    'ACT': 'T', 'ACC': 'T', 'ACA': 'T', 'ACG': 'T',\n",
    "    'AAT': 'N', 'AAC': 'N', 'AAA': 'K', 'AAG': 'K',\n",
    "    'AGT': 'S', 'AGC': 'S', 'AGA': 'R', 'AGG': 'R',\n",
    "    'GTT': 'V', 'GTC': 'V', 'GTA': 'V', 'GTG': 'V',\n",
    "    'GCT': 'A', 'GCC': 'A', 'GCA': 'A', 'GCG': 'A',\n",
    "    'GAT': 'D', 'GAC': 'D', 'GAA': 'E', 'GAG': 'E',\n",
    "    'GGT': 'G', 'GGC': 'G', 'GGA': 'G', 'GGG': 'G'\n",
    "}"
   ]
  },
  {
   "cell_type": "code",
   "execution_count": 12,
   "id": "cc569904",
   "metadata": {},
   "outputs": [],
   "source": [
    "from collections import Counter"
   ]
  },
  {
   "cell_type": "code",
   "execution_count": 8,
   "id": "b1be8237",
   "metadata": {},
   "outputs": [],
   "source": [
    "def extract_features(sequence):\n",
    "    \"\"\"Extract codon usage features from sequence\"\"\"\n",
    "    features = {}\n",
    "\n",
    "    # Extract codons\n",
    "    codons = [sequence[i:i+3] for i in range(0, len(sequence) - 2, 3)]\n",
    "    valid_codons = [c for c in codons if len(c) == 3 and c in GENETIC_CODE and GENETIC_CODE[c] != '*']\n",
    "    if not valid_codons:\n",
    "        return None\n",
    "    \n",
    "    # Codon frequencies\n",
    "    codon_counts = Counter(valid_codons)\n",
    "    total = len(valid_codons)\n",
    "\n",
    "    for codon in GENETIC_CODE.keys():\n",
    "        if GENETIC_CODE[codon] != '*':\n",
    "            features[f'codon_{codon}'] = codon_counts[codon] / total if total > 0 else 0\n",
    "\n",
    "    # GC content\n",
    "    gc_count = sequence.count('G') + sequence.count('C')\n",
    "    features['GC_content'] = gc_count / len(sequence) if len(sequence) > 0 else 0\n",
    "\n",
    "    # GC3 (third position)\n",
    "    third_pos = sequence[2::3]\n",
    "    gc3_count = third_pos.count('G') + third_pos.count('C')\n",
    "    features['GC3_content'] = gc3_count / len(third_pos) if len(third_pos) > 0 else 0\n",
    "\n",
    "    return features"
   ]
  },
  {
   "cell_type": "code",
   "execution_count": 14,
   "id": "79c68555",
   "metadata": {},
   "outputs": [],
   "source": [
    "import pandas as pd"
   ]
  },
  {
   "cell_type": "code",
   "execution_count": 9,
   "id": "f04ae353",
   "metadata": {},
   "outputs": [],
   "source": [
    "def load_and_extract(fasta_file, label):\n",
    "    \"\"\"Load FASTA file and extract features\"\"\"\n",
    "\n",
    "    all_features = []\n",
    "\n",
    "    for record in SeqIO.parse(fasta_file, 'fasta'):\n",
    "        features = extract_features(str(record.seq))\n",
    "        if features:\n",
    "            features[\"gene_id\"] = record.id\n",
    "            features[\"label\"] = label\n",
    "            all_features.append(features)\n",
    "\n",
    "    return pd.DataFrame(all_features)"
   ]
  },
  {
   "cell_type": "code",
   "execution_count": 16,
   "id": "85de8c9d",
   "metadata": {},
   "outputs": [],
   "source": [
    "def load_dataset():\n",
    "    \"\"\"Load and prepare dataset\"\"\"\n",
    "\n",
    "   # Load native genes\n",
    "    df_native = load_and_extract('data/native_genes.fasta', label=0)\n",
    "    print(f\"   ✓ Loaded {len(df_native)} native genes\")\n",
    "    \n",
    "    # Load resistance genes\n",
    "    df_resistance = load_and_extract('data/transferred_genes.fasta', label=1)\n",
    "    print(f\"   ✓ Loaded {len(df_resistance)} resistance genes\")\n",
    "    \n",
    "    # Combine\n",
    "    df = pd.concat([df_native, df_resistance], ignore_index=True)\n",
    "    \n",
    "    print(f\"   ✓ Total dataset: {len(df)} genes\")\n",
    "    print(f\"   ✓ Features extracted: {len(df.columns) - 2}\")  # Minus gene_id and label\n",
    "    \n",
    "    return df"
   ]
  },
  {
   "cell_type": "code",
   "execution_count": 20,
   "id": "22819439",
   "metadata": {},
   "outputs": [
    {
     "name": "stdout",
     "output_type": "stream",
     "text": [
      "\n",
      "[2/5] Loading and processing data...\n",
      "   ✓ Loaded 100 native genes\n",
      "   ✓ Loaded 100 resistance genes\n",
      "   ✓ Total dataset: 200 genes\n",
      "   ✓ Features extracted: 63\n"
     ]
    },
    {
     "data": {
      "text/html": [
       "<div>\n",
       "<style scoped>\n",
       "    .dataframe tbody tr th:only-of-type {\n",
       "        vertical-align: middle;\n",
       "    }\n",
       "\n",
       "    .dataframe tbody tr th {\n",
       "        vertical-align: top;\n",
       "    }\n",
       "\n",
       "    .dataframe thead th {\n",
       "        text-align: right;\n",
       "    }\n",
       "</style>\n",
       "<table border=\"1\" class=\"dataframe\">\n",
       "  <thead>\n",
       "    <tr style=\"text-align: right;\">\n",
       "      <th></th>\n",
       "      <th>codon_TTT</th>\n",
       "      <th>codon_TTC</th>\n",
       "      <th>codon_TTA</th>\n",
       "      <th>codon_TTG</th>\n",
       "      <th>codon_TCT</th>\n",
       "      <th>codon_TCC</th>\n",
       "      <th>codon_TCA</th>\n",
       "      <th>codon_TCG</th>\n",
       "      <th>codon_TAT</th>\n",
       "      <th>codon_TAC</th>\n",
       "      <th>...</th>\n",
       "      <th>codon_GAA</th>\n",
       "      <th>codon_GAG</th>\n",
       "      <th>codon_GGT</th>\n",
       "      <th>codon_GGC</th>\n",
       "      <th>codon_GGA</th>\n",
       "      <th>codon_GGG</th>\n",
       "      <th>GC_content</th>\n",
       "      <th>GC3_content</th>\n",
       "      <th>gene_id</th>\n",
       "      <th>label</th>\n",
       "    </tr>\n",
       "  </thead>\n",
       "  <tbody>\n",
       "    <tr>\n",
       "      <th>0</th>\n",
       "      <td>0.0</td>\n",
       "      <td>0.0</td>\n",
       "      <td>0.0</td>\n",
       "      <td>0.0</td>\n",
       "      <td>0.0</td>\n",
       "      <td>0.0</td>\n",
       "      <td>0.0</td>\n",
       "      <td>0.0</td>\n",
       "      <td>0.0</td>\n",
       "      <td>0.0</td>\n",
       "      <td>...</td>\n",
       "      <td>0.100503</td>\n",
       "      <td>0.0</td>\n",
       "      <td>0.0</td>\n",
       "      <td>0.0</td>\n",
       "      <td>0.0</td>\n",
       "      <td>0.0</td>\n",
       "      <td>0.651667</td>\n",
       "      <td>0.895</td>\n",
       "      <td>native_1</td>\n",
       "      <td>0</td>\n",
       "    </tr>\n",
       "    <tr>\n",
       "      <th>1</th>\n",
       "      <td>0.0</td>\n",
       "      <td>0.0</td>\n",
       "      <td>0.0</td>\n",
       "      <td>0.0</td>\n",
       "      <td>0.0</td>\n",
       "      <td>0.0</td>\n",
       "      <td>0.0</td>\n",
       "      <td>0.0</td>\n",
       "      <td>0.0</td>\n",
       "      <td>0.0</td>\n",
       "      <td>...</td>\n",
       "      <td>0.125628</td>\n",
       "      <td>0.0</td>\n",
       "      <td>0.0</td>\n",
       "      <td>0.0</td>\n",
       "      <td>0.0</td>\n",
       "      <td>0.0</td>\n",
       "      <td>0.658333</td>\n",
       "      <td>0.870</td>\n",
       "      <td>native_2</td>\n",
       "      <td>0</td>\n",
       "    </tr>\n",
       "    <tr>\n",
       "      <th>2</th>\n",
       "      <td>0.0</td>\n",
       "      <td>0.0</td>\n",
       "      <td>0.0</td>\n",
       "      <td>0.0</td>\n",
       "      <td>0.0</td>\n",
       "      <td>0.0</td>\n",
       "      <td>0.0</td>\n",
       "      <td>0.0</td>\n",
       "      <td>0.0</td>\n",
       "      <td>0.0</td>\n",
       "      <td>...</td>\n",
       "      <td>0.115578</td>\n",
       "      <td>0.0</td>\n",
       "      <td>0.0</td>\n",
       "      <td>0.0</td>\n",
       "      <td>0.0</td>\n",
       "      <td>0.0</td>\n",
       "      <td>0.666667</td>\n",
       "      <td>0.880</td>\n",
       "      <td>native_3</td>\n",
       "      <td>0</td>\n",
       "    </tr>\n",
       "    <tr>\n",
       "      <th>3</th>\n",
       "      <td>0.0</td>\n",
       "      <td>0.0</td>\n",
       "      <td>0.0</td>\n",
       "      <td>0.0</td>\n",
       "      <td>0.0</td>\n",
       "      <td>0.0</td>\n",
       "      <td>0.0</td>\n",
       "      <td>0.0</td>\n",
       "      <td>0.0</td>\n",
       "      <td>0.0</td>\n",
       "      <td>...</td>\n",
       "      <td>0.090452</td>\n",
       "      <td>0.0</td>\n",
       "      <td>0.0</td>\n",
       "      <td>0.0</td>\n",
       "      <td>0.0</td>\n",
       "      <td>0.0</td>\n",
       "      <td>0.675000</td>\n",
       "      <td>0.905</td>\n",
       "      <td>native_4</td>\n",
       "      <td>0</td>\n",
       "    </tr>\n",
       "    <tr>\n",
       "      <th>4</th>\n",
       "      <td>0.0</td>\n",
       "      <td>0.0</td>\n",
       "      <td>0.0</td>\n",
       "      <td>0.0</td>\n",
       "      <td>0.0</td>\n",
       "      <td>0.0</td>\n",
       "      <td>0.0</td>\n",
       "      <td>0.0</td>\n",
       "      <td>0.0</td>\n",
       "      <td>0.0</td>\n",
       "      <td>...</td>\n",
       "      <td>0.130653</td>\n",
       "      <td>0.0</td>\n",
       "      <td>0.0</td>\n",
       "      <td>0.0</td>\n",
       "      <td>0.0</td>\n",
       "      <td>0.0</td>\n",
       "      <td>0.650000</td>\n",
       "      <td>0.865</td>\n",
       "      <td>native_5</td>\n",
       "      <td>0</td>\n",
       "    </tr>\n",
       "  </tbody>\n",
       "</table>\n",
       "<p>5 rows × 65 columns</p>\n",
       "</div>"
      ],
      "text/plain": [
       "   codon_TTT  codon_TTC  codon_TTA  codon_TTG  codon_TCT  codon_TCC  \\\n",
       "0        0.0        0.0        0.0        0.0        0.0        0.0   \n",
       "1        0.0        0.0        0.0        0.0        0.0        0.0   \n",
       "2        0.0        0.0        0.0        0.0        0.0        0.0   \n",
       "3        0.0        0.0        0.0        0.0        0.0        0.0   \n",
       "4        0.0        0.0        0.0        0.0        0.0        0.0   \n",
       "\n",
       "   codon_TCA  codon_TCG  codon_TAT  codon_TAC  ...  codon_GAA  codon_GAG  \\\n",
       "0        0.0        0.0        0.0        0.0  ...   0.100503        0.0   \n",
       "1        0.0        0.0        0.0        0.0  ...   0.125628        0.0   \n",
       "2        0.0        0.0        0.0        0.0  ...   0.115578        0.0   \n",
       "3        0.0        0.0        0.0        0.0  ...   0.090452        0.0   \n",
       "4        0.0        0.0        0.0        0.0  ...   0.130653        0.0   \n",
       "\n",
       "   codon_GGT  codon_GGC  codon_GGA  codon_GGG  GC_content  GC3_content  \\\n",
       "0        0.0        0.0        0.0        0.0    0.651667        0.895   \n",
       "1        0.0        0.0        0.0        0.0    0.658333        0.870   \n",
       "2        0.0        0.0        0.0        0.0    0.666667        0.880   \n",
       "3        0.0        0.0        0.0        0.0    0.675000        0.905   \n",
       "4        0.0        0.0        0.0        0.0    0.650000        0.865   \n",
       "\n",
       "    gene_id  label  \n",
       "0  native_1      0  \n",
       "1  native_2      0  \n",
       "2  native_3      0  \n",
       "3  native_4      0  \n",
       "4  native_5      0  \n",
       "\n",
       "[5 rows x 65 columns]"
      ]
     },
     "execution_count": 20,
     "metadata": {},
     "output_type": "execute_result"
    }
   ],
   "source": [
    "print(\"\\n[2/5] Loading and processing data...\")\n",
    "df = load_dataset()\n",
    "df.head()"
   ]
  },
  {
   "cell_type": "markdown",
   "id": "f89b978c",
   "metadata": {},
   "source": [
    "## Train Model"
   ]
  },
  {
   "cell_type": "code",
   "execution_count": 21,
   "id": "c8f07540",
   "metadata": {},
   "outputs": [],
   "source": [
    "from sklearn.model_selection import train_test_split, cross_val_score\n",
    "from sklearn.ensemble import RandomForestClassifier\n",
    "from sklearn.metrics import classification_report, roc_auc_score, confusion_matrix"
   ]
  },
  {
   "cell_type": "code",
   "execution_count": 22,
   "id": "ce209814",
   "metadata": {},
   "outputs": [],
   "source": [
    "def train_rf_model(df):\n",
    "    \"\"\"Train Random Forest Classifier\"\"\"\n",
    "\n",
    "    # Prepare features\n",
    "    X = df.drop(['gene_id', 'label'], axis=1)\n",
    "    y = df['label']\n",
    "\n",
    "    # Split data\n",
    "    X_train, X_test, y_train, y_test = train_test_split(\n",
    "        X, y, test_size=0.2, stratify=y, random_state=123\n",
    "    )\n",
    "\n",
    "    print(f\"   ✓ Training set: {len(X_train)} samples\")\n",
    "    print(f\"   ✓ Test set: {len(X_test)} samples\")\n",
    "\n",
    "    # Train Random Forest Model\n",
    "    model = RandomForestClassifier(\n",
    "        n_estimators=100,\n",
    "        max_depth=10,\n",
    "        random_state=123,\n",
    "        n_jobs=-1\n",
    "    )\n",
    "    model.fit(X_train, y_train)\n",
    "\n",
    "    # Predictions\n",
    "    y_pred = model.predict(X_test)\n",
    "    y_proba = model.predict_proba(X_test)[:, 1]\n",
    "\n",
    "    # Evaluate\n",
    "    print(\"\\n   Classification Report:\")\n",
    "    print(\"   \" + \"-\"*50)\n",
    "    report = classification_report(y_test, y_pred, target_names=['Native', 'Transferred'])\n",
    "    for line in report.split('\\n'):\n",
    "        print(f\"   {line}\")\n",
    "    \n",
    "    # ROC-AUC\n",
    "    roc_auc = roc_auc_score(y_test, y_proba)\n",
    "    print(f\"\\n   ROC-AUC Score: {roc_auc:.4f}\")\n",
    "    \n",
    "    # Cross-validation\n",
    "    cv_scores = cross_val_score(model, X_train, y_train, cv=5, scoring='f1')\n",
    "    print(f\"   Cross-validation F1: {cv_scores.mean():.4f} (+/- {cv_scores.std():.4f})\")\n",
    "    \n",
    "    return model, X, y, X_test, y_test, y_pred\n"
   ]
  },
  {
   "cell_type": "code",
   "execution_count": 26,
   "id": "fdb14ef3",
   "metadata": {},
   "outputs": [
    {
     "name": "stdout",
     "output_type": "stream",
     "text": [
      "\n",
      "[3/5] Training model...\n",
      "   ✓ Training set: 160 samples\n",
      "   ✓ Test set: 40 samples\n",
      "\n",
      "   Classification Report:\n",
      "   --------------------------------------------------\n",
      "                 precision    recall  f1-score   support\n",
      "   \n",
      "         Native       1.00      1.00      1.00        20\n",
      "    Transferred       1.00      1.00      1.00        20\n",
      "   \n",
      "       accuracy                           1.00        40\n",
      "      macro avg       1.00      1.00      1.00        40\n",
      "   weighted avg       1.00      1.00      1.00        40\n",
      "   \n",
      "\n",
      "   ROC-AUC Score: 1.0000\n",
      "   Cross-validation F1: 1.0000 (+/- 0.0000)\n"
     ]
    }
   ],
   "source": [
    "print(\"\\n[3/5] Training model...\")\n",
    "model, X, y, X_test, y_test, y_pred = train_rf_model(df)"
   ]
  },
  {
   "cell_type": "markdown",
   "id": "d90c6d1a",
   "metadata": {},
   "source": [
    "## Visualization"
   ]
  },
  {
   "cell_type": "code",
   "execution_count": 27,
   "id": "bfd0b473",
   "metadata": {},
   "outputs": [],
   "source": [
    "import matplotlib.pyplot as plt\n",
    "import seaborn as sns"
   ]
  },
  {
   "cell_type": "code",
   "execution_count": 30,
   "id": "03f8ad8e",
   "metadata": {},
   "outputs": [],
   "source": [
    "def create_visualization(model, X, y_test, y_pred):\n",
    "    \"\"\"Create Visualization\"\"\"\n",
    "\n",
    "    # Feature Importance\n",
    "    feature_importance = pd.DataFrame({\n",
    "        'feature': X.columns,\n",
    "        'importance': model.feature_importances_\n",
    "    }).sort_values('importance', ascending=False)\n",
    "\n",
    "    plt.figure(figsize=(10, 6))\n",
    "    top_features = feature_importance.head(15)\n",
    "    plt.barh(range(len(top_features)), top_features['importance'])\n",
    "    plt.yticks(range(len(top_features)), top_features['feature'])\n",
    "    plt.xlabel('Importance')\n",
    "    plt.title('Top 15 Most Important Features')\n",
    "    plt.gca().invert_yaxis()\n",
    "    plt.tight_layout()\n",
    "    plt.savefig('feature_importance.png', dpi=300, bbox_inches='tight')\n",
    "    plt.show()\n",
    "    print(\"   ✓ Saved feature_importance.png\")\n",
    "\n",
    "    # Confusion Matrix\n",
    "    cm = confusion_matrix(y_test, y_pred)\n",
    "    plt.figure(figsize=(8, 6))\n",
    "    sns.heatmap(cm, annot=True, fmt='d', cmap='Blues', xticklabels=['Native', 'Transferred'], yticklabels=['Native', 'Transferred'])\n",
    "    plt.title('Confusion Matrix')\n",
    "    plt.ylabel('True Label')\n",
    "    plt.xlabel('Predicted Label')\n",
    "    plt.tight_layout()\n",
    "    plt.savefig('confusion_matrix.png', dpi=300, bbox_inches='tight')\n",
    "    plt.show()\n",
    "    print(\"   ✓ Saved confusion_matrix.png\")\n",
    "\n",
    "    plt.close('all')\n",
    "\n",
    "    return feature_importance"
   ]
  },
  {
   "cell_type": "code",
   "execution_count": 31,
   "id": "3b17799a",
   "metadata": {},
   "outputs": [
    {
     "name": "stdout",
     "output_type": "stream",
     "text": [
      "\n",
      "[4/5] Creating visualizations...\n"
     ]
    },
    {
     "data": {
      "image/png": "[encoded data removed]",
      "text/plain": [
       "<Figure size 1000x600 with 1 Axes>"
      ]
     },
     "metadata": {},
     "output_type": "display_data"
    },
    {
     "name": "stdout",
     "output_type": "stream",
     "text": [
      "   ✓ Saved feature_importance.png\n"
     ]
    },
    {
     "data": {
      "image/png": "[encoded data removed]",
      "text/plain": [
       "<Figure size 800x600 with 2 Axes>"
      ]
     },
     "metadata": {},
     "output_type": "display_data"
    },
    {
     "name": "stdout",
     "output_type": "stream",
     "text": [
      "   ✓ Saved confusion_matrix.png\n"
     ]
    }
   ],
   "source": [
    "print(\"\\n[4/5] Creating visualizations...\")\n",
    "feature_importance = create_visualization(model, X, y_test, y_pred)"
   ]
  },
  {
   "cell_type": "markdown",
   "id": "01d92f9a",
   "metadata": {},
   "source": [
    "## Save Model"
   ]
  },
  {
   "cell_type": "code",
   "execution_count": 32,
   "id": "dd593340",
   "metadata": {},
   "outputs": [],
   "source": [
    "import pickle"
   ]
  },
  {
   "cell_type": "code",
   "execution_count": 33,
   "id": "1b758a6e",
   "metadata": {},
   "outputs": [],
   "source": [
    "def save_model(model):\n",
    "    \"\"\"Save trained model\"\"\"\n",
    "    with open('model.pkl', 'wb') as file:\n",
    "        pickle.dump(model, file)\n",
    "    print(\"   ✓ Model saved as argop_model.pkl\")\n"
   ]
  },
  {
   "cell_type": "code",
   "execution_count": 34,
   "id": "ada99e4b",
   "metadata": {},
   "outputs": [
    {
     "name": "stdout",
     "output_type": "stream",
     "text": [
      "\n",
      "[5/5] Saving model...\n",
      "   ✓ Model saved as argop_model.pkl\n"
     ]
    }
   ],
   "source": [
    "print(\"\\n[5/5] Saving model...\")\n",
    "save_model(model)"
   ]
  },
  {
   "cell_type": "markdown",
   "id": "894e8043",
   "metadata": {},
   "source": [
    "## Prediction Example"
   ]
  },
  {
   "cell_type": "code",
   "execution_count": 35,
   "id": "864720d4",
   "metadata": {},
   "outputs": [],
   "source": [
    "def predict_example(model, X):\n",
    "    \"\"\"Example prediction on new sequence\"\"\"\n",
    "\n",
    "    # Example: beta-lactamase gene (typically transferred)\n",
    "    example_seq = \"ATGAGTATTCAACATTTCCGTGTCGCCCTTATTCCCTTTTTTGCGGCATTTTGCCTTCCTGTTTTTGCTCACCCAGAAACGCTGGTGAAAGTAAAAGATGCTGAAGATCAGTTGGGTGCACGAGTGGGTTACATCGAACTGGATCTCAACAGCGGTAAGATCCTTGAGAGTTTTCGCCCCGAAGAACGTTTTCCAATGATGAGCACTTTTAAAGTTCTGCTATGTGGCGCGGTATTATCCCGTATTGACGCCGGGCAAGAGCAACTCGGTCGCCGCATACACTATTCTCAGAATGACTTGGTTGAGTACTCACCAGTCACAGAAAAGCATCTTACGGATGGCATGACAGTAAGAGAATTATGCAGTGCTGCCATAACCATGAGTGATAACACTGCGGCCAACTTACTTCTGACAACGATCGGAGGACCGAAGGAGCTAACCGCTTTTTTGCACAACATGGGGGATCATGTAACTCGCCTTGATCGTTGGGAACCGGAGCTGAATGAAGCCATACCAAACGACGAGCGTGACACCACGATGCCTGTAGCAATGGCAACAACGTTGCGCAAACTATTAACTGGCGAACTACTTACTCTAGCTTCCCGGCAACAATTAATAGACTGGATGGAGGCGGATAAAGTTGCAGGACCACTTCTGCGCTCGGCCCTTCCGGCTGGCTGGTTTATTGCTGATAAATCTGGAGCCGGTGAGCGTGGGTCTCGCGGTATCATTGCAGCACTGGGGCCAGATGGTAAGCCCTCCCGTATCGTAGTTATCTACACGACGGGGAGTCAGGCAACTATGGATGAACGAAATAGACAGATCGCTGAGATAGGTGCCTCACTGATTAAGCATTGGTAA\"\n",
    "   \n",
    "    # Extract features\n",
    "    features = extract_features(example_seq)\n",
    "    if features:\n",
    "        # Convert to DataFrame with same columns as training\n",
    "        feature_df = pd.DataFrame([features])\n",
    "        feature_df = feature_df.reindex(columns=X.columns, fill_value=0)\n",
    "\n",
    "        # Predict\n",
    "        prediction = model.predict(feature_df)[0]\n",
    "        probabilities = model.predict_proba(feature_df)[0]\n",
    "\n",
    "        print(f\"\\nSequence length: {len(example_seq)} bp\")\n",
    "        print(f\"Prediction: {'TRANSFERRED (Resistance Gene)' if prediction == 1 else 'NATIVE (Housekeeping)'}\")\n",
    "        print(f\"Confidence: {max(probabilities):.1%}\")\n",
    "        print(f\"\\nProbabilities:\")\n",
    "        print(f\"  Native: {probabilities[0]:.1%}\")\n",
    "        print(f\"  Transferred: {probabilities[1]:.1%}\")\n"
   ]
  },
  {
   "cell_type": "code",
   "execution_count": 36,
   "id": "0cf1f3c7",
   "metadata": {},
   "outputs": [
    {
     "name": "stdout",
     "output_type": "stream",
     "text": [
      "\n",
      "Sequence length: 861 bp\n",
      "Prediction: TRANSFERRED (Resistance Gene)\n",
      "Confidence: 57.0%\n",
      "\n",
      "Probabilities:\n",
      "  Native: 43.0%\n",
      "  Transferred: 57.0%\n"
     ]
    }
   ],
   "source": [
    "predict_example(model, X)"
   ]
  },
  {
   "cell_type": "code",
   "execution_count": null,
   "id": "e4aed422",
   "metadata": {},
   "outputs": [],
   "source": []
  }
 ],
 "metadata": {
  "kernelspec": {
   "display_name": ".venv (3.13.9)",
   "language": "python",
   "name": "python3"
  },
  "language_info": {
   "codemirror_mode": {
    "name": "ipython",
    "version": 3
   },
   "file_extension": ".py",
   "mimetype": "text/x-python",
   "name": "python",
   "nbconvert_exporter": "python",
   "pygments_lexer": "ipython3",
   "version": "3.13.9"
  }
 },
 "nbformat": 4,
 "nbformat_minor": 5
}
