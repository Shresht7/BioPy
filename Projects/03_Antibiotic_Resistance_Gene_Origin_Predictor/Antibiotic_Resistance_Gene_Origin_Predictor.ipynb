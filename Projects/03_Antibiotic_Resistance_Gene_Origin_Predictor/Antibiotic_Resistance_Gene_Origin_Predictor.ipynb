{
 "cells": [
  {
   "cell_type": "markdown",
   "id": "9ac528a1",
   "metadata": {},
   "source": [
    "# Antibiotic Resistance Gene Origin Predictor\n",
    "\n",
    "A machine-learning based bioinformatics tool for predicting the origin of antibiotic resistance genes using codon usage bias analysis.\n",
    "\n",
    "## Project Overview\n",
    "\n",
    "**Problem:** Antibiotic resistance genes spread rapidly through _horizontal gene transfer (HGT)_, making it crucial to track their origins and transmission routes.\n",
    "\n",
    "**Solution:** Uses machine-learning to analyze codon usage patterns and predict whether resistance genes are native to an organism or were horizontally transferred.\n",
    "\n",
    "**Impact:** Helps understand resistance gene transmission, track outbreak sources, and inform antibiotic stewardship strategies.\n",
    "\n",
    "---\n",
    "\n",
    "## Scientific Background\n",
    "\n",
    "### Codon Usage Bias\n",
    "\n",
    "Different organisms preferentially use certain synonymous codons over others. These preferences are shaped by:\n",
    "\n",
    "- tRNA abundance\n",
    "- Mutation biases\n",
    "- Selection for translation efficiency\n",
    "- GC content constraints\n",
    "\n",
    "### Horizontal Gene Transfer Detection\n",
    "\n",
    "When genes are transferred between organisms, they often retain the codon usage signature of their source organism, making them detectable through statistical analysis\n"
   ]
  },
  {
   "cell_type": "markdown",
   "id": "40ee38c3",
   "metadata": {},
   "source": [
    "## Create Sample Data"
   ]
  },
  {
   "cell_type": "code",
   "execution_count": 4,
   "id": "b476780f",
   "metadata": {},
   "outputs": [],
   "source": [
    "import os\n",
    "import numpy as np\n",
    "\n",
    "from Bio.Seq import Seq\n",
    "from Bio.SeqRecord import SeqRecord\n",
    "from Bio import SeqIO"
   ]
  },
  {
   "cell_type": "code",
   "execution_count": 5,
   "id": "2e3fe9ed",
   "metadata": {},
   "outputs": [],
   "source": [
    "def create_demo_data():\n",
    "    \"\"\"Create demo dataset with synthetic genes\"\"\"\n",
    "\n",
    "    # Create data directory\n",
    "    os.makedirs('data', exist_ok=True)\n",
    "\n",
    "    # Known codon usage biases\n",
    "    # E. coli prefers: CTG (Leu), GCG (Ala), GCG (Arg) etc\n",
    "    # Transferred genes often have different biases\n",
    "    native_codons = ['CTG', 'GCG', 'CGC', 'GAA', 'GTG', 'ACC', 'AAC', 'GAC']\n",
    "    transferred_codons = ['CTA', 'GCA', 'CGA', 'GAG', 'GTA', 'ACA', 'AAT', 'GAT']\n",
    "\n",
    "    def generate_gene(codon_preference, length=600):\n",
    "        \"\"\"Generate synthetic gene with codon bias\"\"\"\n",
    "        gene = 'ATG'    # Start Codon\n",
    "        while len(gene) < length - 3:\n",
    "            codon = np.random.choice(codon_preference)\n",
    "            gene += codon\n",
    "        gene += 'TAA'   # Stop Codon\n",
    "        return gene\n",
    "\n",
    "    # Generate native genes (100 samples)\n",
    "    native_records = []\n",
    "    for i in range(100):\n",
    "        seq = generate_gene(native_codons)\n",
    "        record = SeqRecord(\n",
    "            Seq(seq),\n",
    "            id=f\"native_{i+1}\",\n",
    "            description=f\"Native housekeeping gene {i+1} [E. coli]\"\n",
    "        )\n",
    "        native_records.append(record)\n",
    "\n",
    "    # Generate transferred genes (100 samples)\n",
    "    transferred_records = []\n",
    "    for i in range(100):\n",
    "        seq = generate_gene(transferred_codons)\n",
    "        record = SeqRecord(\n",
    "            Seq(seq),\n",
    "            id=f\"resistance_{i+1}\",\n",
    "            description=f\"Transferred resistance gene {i+1}\",\n",
    "        )\n",
    "        transferred_records.append(record)\n",
    "\n",
    "    # Save FASTA files\n",
    "    SeqIO.write(native_records, 'data/native_genes.fasta', 'fasta')\n",
    "    SeqIO.write(transferred_records, 'data/transferred_genes.fasta', 'fasta')\n",
    "\n",
    "    return 100, 100"
   ]
  },
  {
   "cell_type": "code",
   "execution_count": 6,
   "id": "0bca36dd",
   "metadata": {},
   "outputs": [
    {
     "name": "stdout",
     "output_type": "stream",
     "text": [
      "\n",
      "[1/5] Creating demo dataset...\n"
     ]
    },
    {
     "data": {
      "text/plain": [
       "(100, 100)"
      ]
     },
     "execution_count": 6,
     "metadata": {},
     "output_type": "execute_result"
    }
   ],
   "source": [
    "print(\"\\n[1/5] Creating demo dataset...\")\n",
    "create_demo_data()"
   ]
  },
  {
   "cell_type": "code",
   "execution_count": null,
   "id": "b1be8237",
   "metadata": {},
   "outputs": [],
   "source": []
  }
 ],
 "metadata": {
  "kernelspec": {
   "display_name": ".venv (3.13.9)",
   "language": "python",
   "name": "python3"
  },
  "language_info": {
   "codemirror_mode": {
    "name": "ipython",
    "version": 3
   },
   "file_extension": ".py",
   "mimetype": "text/x-python",
   "name": "python",
   "nbconvert_exporter": "python",
   "pygments_lexer": "ipython3",
   "version": "3.13.9"
  }
 },
 "nbformat": 4,
 "nbformat_minor": 5
}
