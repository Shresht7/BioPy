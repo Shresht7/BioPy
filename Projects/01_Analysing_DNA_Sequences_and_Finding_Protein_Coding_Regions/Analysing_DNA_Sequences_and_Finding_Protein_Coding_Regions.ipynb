{
 "cells": [
  {
   "cell_type": "markdown",
   "id": "97bcb01f",
   "metadata": {},
   "source": [
    "# Analysing DNA Sequences and Finding Protein-Coding Regions\n",
    "\n",
    "Gene: Human Insulin"
   ]
  },
  {
   "cell_type": "markdown",
   "id": "2d013ba5",
   "metadata": {},
   "source": [
    "## Downloading Sequence Data from Entrez Database"
   ]
  },
  {
   "cell_type": "code",
   "execution_count": null,
   "id": "b5cc3e91",
   "metadata": {},
   "outputs": [],
   "source": [
    "# Library\n",
    "from Bio import Entrez, SeqIO\n",
    "from Bio.SeqRecord import SeqRecord"
   ]
  },
  {
   "cell_type": "code",
   "execution_count": null,
   "id": "5c7d91f3",
   "metadata": {},
   "outputs": [],
   "source": [
    "# Always provide your email when using NCBI services\n",
    "Entrez.email = \"<your_email@example.com\""
   ]
  },
  {
   "cell_type": "code",
   "execution_count": null,
   "id": "73ecd707",
   "metadata": {},
   "outputs": [
    {
     "name": "stdout",
     "output_type": "stream",
     "text": [
      "Sequence ID: NM_000207.3\n",
      "Description: NM_000207.3 Homo sapiens insulin (INS), transcript variant 1, mRNA\n",
      "Length: 465 bp\n"
     ]
    }
   ],
   "source": [
    "# Fetch the human insulin gene sequence\n",
    "handle = Entrez.efetch(db=\"nucleotide\", id=\"NM_000207\", rettype=\"fasta\", retmode=\"text\")\n",
    "record: SeqRecord = SeqIO.read(handle, \"fasta\")\n",
    "handle.close()\n",
    "\n",
    "print(f\"Sequence ID: {record.id}\")\n",
    "print(f\"Description: {record.description}\")\n",
    "print(f\"Length: {len(record.seq)} bp\")"
   ]
  },
  {
   "cell_type": "markdown",
   "id": "08fb6cec",
   "metadata": {},
   "source": [
    "## Basic Sequence Analysis"
   ]
  },
  {
   "cell_type": "code",
   "execution_count": 4,
   "id": "f27bf58b",
   "metadata": {},
   "outputs": [
    {
     "data": {
      "text/plain": [
       "Seq('AGCCCTCCAGGACAGGCTGCATCAGAAGAGGCCATCAAGCAGATCACTGTCCTT...AGC')"
      ]
     },
     "execution_count": 4,
     "metadata": {},
     "output_type": "execute_result"
    }
   ],
   "source": [
    "record.seq"
   ]
  },
  {
   "cell_type": "code",
   "execution_count": null,
   "id": "f9d76ff6",
   "metadata": {},
   "outputs": [
    {
     "name": "stdout",
     "output_type": "stream",
     "text": [
      "AGCCCTCCAGGACAGGCTGCATCAGAAGAGGCCATCAAGCAGATCACTGTCCTTCTGCCATGGCCCTGTGGATGCGCCTCCTGCCCCTGCTGGCGCTGCTGGCCCTCTGGGGACCTGACCCAGCCGCAGCCTTTGTGAACCAACACCTGTGCGGCTCACACCTGGTGGAAGCTCTCTACCTAGTGTGCGGGGAACGAGGCTTCTTCTACACACCCAAGACCCGCCGGGAGGCAGAGGACCTGCAGGTGGGGCAGGTGGAGCTGGGCGGGGGCCCTGGTGCAGGCAGCCTGCAGCCCTTGGCCCTGGAGGGGTCCCTGCAGAAGCGTGGCATTGTGGAACAATGCTGTACCAGCATCTGCTCCCTCTACCAGCTGGAGAACTACTGCAACTAGACGCAGCCCGCAGGCAGCCCCACACCCGCCGCCTCCTGCACCGAGAGAGATGGAATAAAGCCCTTGAACCAGC\n"
     ]
    }
   ],
   "source": [
    "print(record.seq)"
   ]
  },
  {
   "cell_type": "markdown",
   "id": "1a62b1a2",
   "metadata": {},
   "source": [
    "### Complement"
   ]
  },
  {
   "cell_type": "code",
   "execution_count": 6,
   "id": "e846bc97",
   "metadata": {},
   "outputs": [
    {
     "data": {
      "text/plain": [
       "Seq('TCGGGAGGTCCTGTCCGACGTAGTCTTCTCCGGTAGTTCGTCTAGTGACAGGAA...TCG')"
      ]
     },
     "execution_count": 6,
     "metadata": {},
     "output_type": "execute_result"
    }
   ],
   "source": [
    "record.seq.complement()"
   ]
  },
  {
   "cell_type": "markdown",
   "id": "b6b1166d",
   "metadata": {},
   "source": [
    "### Reverse Complement"
   ]
  },
  {
   "cell_type": "code",
   "execution_count": 7,
   "id": "eaeb07b1",
   "metadata": {},
   "outputs": [
    {
     "data": {
      "text/plain": [
       "Seq('GCTGGTTCAAGGGCTTTATTCCATCTCTCTCGGTGCAGGAGGCGGCGGGTGTGG...GCT')"
      ]
     },
     "execution_count": 7,
     "metadata": {},
     "output_type": "execute_result"
    }
   ],
   "source": [
    "record.seq.reverse_complement()"
   ]
  },
  {
   "cell_type": "markdown",
   "id": "24ff5b9c",
   "metadata": {},
   "source": [
    "### Calculate GC Content"
   ]
  },
  {
   "cell_type": "code",
   "execution_count": null,
   "id": "dadde2aa",
   "metadata": {},
   "outputs": [
    {
     "name": "stdout",
     "output_type": "stream",
     "text": [
      "GC Content: 6387.10%\n"
     ]
    }
   ],
   "source": [
    "from Bio.SeqUtils import gc_fraction\n",
    "\n",
    "gc_content = gc_fraction(record.seq)\n",
    "\n",
    "print(f\"GC Content: {gc_content:.2%}\")"
   ]
  },
  {
   "cell_type": "code",
   "execution_count": null,
   "id": "7c88140d",
   "metadata": {},
   "outputs": [],
   "source": []
  }
 ],
 "metadata": {
  "kernelspec": {
   "display_name": ".venv (3.13.8)",
   "language": "python",
   "name": "python3"
  },
  "language_info": {
   "codemirror_mode": {
    "name": "ipython",
    "version": 3
   },
   "file_extension": ".py",
   "mimetype": "text/x-python",
   "name": "python",
   "nbconvert_exporter": "python",
   "pygments_lexer": "ipython3",
   "version": "3.13.9"
  }
 },
 "nbformat": 4,
 "nbformat_minor": 5
}
