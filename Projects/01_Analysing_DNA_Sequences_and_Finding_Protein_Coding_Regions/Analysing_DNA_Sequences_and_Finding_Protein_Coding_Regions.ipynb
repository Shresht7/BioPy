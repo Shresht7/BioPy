{
 "cells": [
  {
   "cell_type": "markdown",
   "id": "97bcb01f",
   "metadata": {},
   "source": [
    "# Analysing DNA Sequences and Finding Protein-Coding Regions\n",
    "\n",
    "Gene: Human Insulin"
   ]
  },
  {
   "cell_type": "markdown",
   "id": "2d013ba5",
   "metadata": {},
   "source": [
    "## Downloading Sequence Data from Entrez Database"
   ]
  },
  {
   "cell_type": "code",
   "execution_count": null,
   "id": "b5cc3e91",
   "metadata": {},
   "outputs": [],
   "source": [
    "# Library\n",
    "from Bio import Entrez, SeqIO\n",
    "from Bio.SeqRecord import SeqRecord"
   ]
  },
  {
   "cell_type": "code",
   "execution_count": null,
   "id": "5c7d91f3",
   "metadata": {},
   "outputs": [],
   "source": [
    "# Always provide your email when using NCBI services\n",
    "Entrez.email = \"<your_email@example.com\""
   ]
  },
  {
   "cell_type": "code",
   "execution_count": null,
   "id": "73ecd707",
   "metadata": {},
   "outputs": [
    {
     "name": "stdout",
     "output_type": "stream",
     "text": [
      "Sequence ID: NM_000207.3\n",
      "Description: NM_000207.3 Homo sapiens insulin (INS), transcript variant 1, mRNA\n",
      "Length: 465 bp\n"
     ]
    }
   ],
   "source": [
    "# Fetch the human insulin gene sequence\n",
    "handle = Entrez.efetch(db=\"nucleotide\", id=\"NM_000207\", rettype=\"fasta\", retmode=\"text\")\n",
    "record: SeqRecord = SeqIO.read(handle, \"fasta\")\n",
    "handle.close()\n",
    "\n",
    "print(f\"Sequence ID: {record.id}\")\n",
    "print(f\"Description: {record.description}\")\n",
    "print(f\"Length: {len(record.seq)} bp\")"
   ]
  },
  {
   "cell_type": "markdown",
   "id": "08fb6cec",
   "metadata": {},
   "source": [
    "## Basic Sequence Analysis"
   ]
  },
  {
   "cell_type": "code",
   "execution_count": 4,
   "id": "f27bf58b",
   "metadata": {},
   "outputs": [
    {
     "data": {
      "text/plain": [
       "Seq('AGCCCTCCAGGACAGGCTGCATCAGAAGAGGCCATCAAGCAGATCACTGTCCTT...AGC')"
      ]
     },
     "execution_count": 4,
     "metadata": {},
     "output_type": "execute_result"
    }
   ],
   "source": [
    "record.seq"
   ]
  },
  {
   "cell_type": "code",
   "execution_count": null,
   "id": "f9d76ff6",
   "metadata": {},
   "outputs": [
    {
     "name": "stdout",
     "output_type": "stream",
     "text": [
      "AGCCCTCCAGGACAGGCTGCATCAGAAGAGGCCATCAAGCAGATCACTGTCCTTCTGCCATGGCCCTGTGGATGCGCCTCCTGCCCCTGCTGGCGCTGCTGGCCCTCTGGGGACCTGACCCAGCCGCAGCCTTTGTGAACCAACACCTGTGCGGCTCACACCTGGTGGAAGCTCTCTACCTAGTGTGCGGGGAACGAGGCTTCTTCTACACACCCAAGACCCGCCGGGAGGCAGAGGACCTGCAGGTGGGGCAGGTGGAGCTGGGCGGGGGCCCTGGTGCAGGCAGCCTGCAGCCCTTGGCCCTGGAGGGGTCCCTGCAGAAGCGTGGCATTGTGGAACAATGCTGTACCAGCATCTGCTCCCTCTACCAGCTGGAGAACTACTGCAACTAGACGCAGCCCGCAGGCAGCCCCACACCCGCCGCCTCCTGCACCGAGAGAGATGGAATAAAGCCCTTGAACCAGC\n"
     ]
    }
   ],
   "source": [
    "print(record.seq)"
   ]
  },
  {
   "cell_type": "markdown",
   "id": "1a62b1a2",
   "metadata": {},
   "source": [
    "### Complement"
   ]
  },
  {
   "cell_type": "code",
   "execution_count": 6,
   "id": "e846bc97",
   "metadata": {},
   "outputs": [
    {
     "data": {
      "text/plain": [
       "Seq('TCGGGAGGTCCTGTCCGACGTAGTCTTCTCCGGTAGTTCGTCTAGTGACAGGAA...TCG')"
      ]
     },
     "execution_count": 6,
     "metadata": {},
     "output_type": "execute_result"
    }
   ],
   "source": [
    "record.seq.complement()"
   ]
  },
  {
   "cell_type": "markdown",
   "id": "b6b1166d",
   "metadata": {},
   "source": [
    "### Reverse Complement"
   ]
  },
  {
   "cell_type": "code",
   "execution_count": 7,
   "id": "eaeb07b1",
   "metadata": {},
   "outputs": [
    {
     "data": {
      "text/plain": [
       "Seq('GCTGGTTCAAGGGCTTTATTCCATCTCTCTCGGTGCAGGAGGCGGCGGGTGTGG...GCT')"
      ]
     },
     "execution_count": 7,
     "metadata": {},
     "output_type": "execute_result"
    }
   ],
   "source": [
    "record.seq.reverse_complement()"
   ]
  },
  {
   "cell_type": "markdown",
   "id": "f968056f",
   "metadata": {},
   "source": [
    "### Nucleotide Count"
   ]
  },
  {
   "cell_type": "code",
   "execution_count": 10,
   "id": "4ac194ff",
   "metadata": {},
   "outputs": [
    {
     "name": "stdout",
     "output_type": "stream",
     "text": [
      "Nucleotide Composition:\n",
      "A: 91 (19.57%)\n",
      "T: 77 (16.56%)\n",
      "G: 141 (30.32%)\n",
      "C: 156 (33.55%)\n"
     ]
    }
   ],
   "source": [
    "a_count = record.seq.count('A')\n",
    "t_count = record.seq.count('T')\n",
    "g_count = record.seq.count('G')\n",
    "c_count = record.seq.count('C')\n",
    "\n",
    "print(f\"Nucleotide Composition:\")\n",
    "print(f\"A: {a_count} ({a_count / len(record.seq):.2%})\")\n",
    "print(f\"T: {t_count} ({t_count / len(record.seq):.2%})\")\n",
    "print(f\"G: {g_count} ({g_count / len(record.seq):.2%})\")\n",
    "print(f\"C: {c_count} ({c_count / len(record.seq):.2%})\")"
   ]
  },
  {
   "cell_type": "code",
   "execution_count": 11,
   "id": "d359d8be",
   "metadata": {},
   "outputs": [],
   "source": [
    "# Data Visualization Libraries\n",
    "import matplotlib.pyplot as plt\n",
    "import seaborn as sns"
   ]
  },
  {
   "cell_type": "code",
   "execution_count": 21,
   "id": "d6601337",
   "metadata": {},
   "outputs": [
    {
     "name": "stderr",
     "output_type": "stream",
     "text": [
      "C:\\Users\\shres\\AppData\\Local\\Temp\\ipykernel_16076\\1269310117.py:1: FutureWarning: \n",
      "\n",
      "Passing `palette` without assigning `hue` is deprecated and will be removed in v0.14.0. Assign the `y` variable to `hue` and set `legend=False` for the same effect.\n",
      "\n",
      "  sns.barplot(x=[a_count, t_count, g_count, c_count], y=['A', 'T', 'G', 'C'], palette=\"viridis\")\n"
     ]
    },
    {
     "data": {
      "text/plain": [
       "<Axes: >"
      ]
     },
     "execution_count": 21,
     "metadata": {},
     "output_type": "execute_result"
    },
    {
     "data": {
      "image/png": "[encoded data removed]",
      "text/plain": [
       "<Figure size 640x480 with 1 Axes>"
      ]
     },
     "metadata": {},
     "output_type": "display_data"
    }
   ],
   "source": [
    "sns.barplot(x=[a_count, t_count, g_count, c_count], y=['A', 'T', 'G', 'C'], palette=\"viridis\")"
   ]
  },
  {
   "cell_type": "markdown",
   "id": "24ff5b9c",
   "metadata": {},
   "source": [
    "### Calculate GC Content"
   ]
  },
  {
   "cell_type": "code",
   "execution_count": 9,
   "id": "dadde2aa",
   "metadata": {},
   "outputs": [
    {
     "name": "stdout",
     "output_type": "stream",
     "text": [
      "GC Content: 63.87%\n"
     ]
    }
   ],
   "source": [
    "from Bio.SeqUtils import gc_fraction\n",
    "\n",
    "gc_content = gc_fraction(record.seq)\n",
    "\n",
    "print(f\"GC Content: {gc_content:.2%}\")"
   ]
  },
  {
   "cell_type": "markdown",
   "id": "b7faff99",
   "metadata": {},
   "source": [
    "## Finding Open Reading Frames (ORFs)"
   ]
  },
  {
   "cell_type": "code",
   "execution_count": 23,
   "id": "c2b79ec5",
   "metadata": {},
   "outputs": [],
   "source": [
    "def find_orfs(sequence, min_protein_length=100):\n",
    "    \"\"\"Find all ORFs in a DNA sequence\"\"\"\n",
    "    orfs = []\n",
    "\n",
    "    # Check all three reading frames\n",
    "    for frame in range(3):\n",
    "        # Get the sequence for this frame\n",
    "        seq_frame = sequence[frame:]\n",
    "\n",
    "        # Translate to protein\n",
    "        protein = seq_frame.translate(to_stop=False)\n",
    "        \n",
    "        # Find all start codons\n",
    "        start = 0\n",
    "        while True:\n",
    "            start = str(protein).find('M', start)\n",
    "            if start == -1:\n",
    "                break\n",
    "\n",
    "            # Find the next stop codon\n",
    "            stop = start + 1\n",
    "            while stop < len(protein) and protein[stop] != '*':\n",
    "                stop += 1\n",
    "\n",
    "            # If we found a complete ORF\n",
    "            if stop < len(protein):\n",
    "                orf_length = stop - start\n",
    "                if orf_length >= min_protein_length:\n",
    "                    orfs.append({\n",
    "                        'frame': frame,\n",
    "                        'start': frame + start * 3,\n",
    "                        'stop': frame + stop * 3,\n",
    "                        'length': orf_length,\n",
    "                        'protein': str(protein[start:stop])\n",
    "                    })\n",
    "\n",
    "            start += 1\n",
    "            \n",
    "    return orfs"
   ]
  },
  {
   "cell_type": "code",
   "execution_count": 24,
   "id": "d8704db5",
   "metadata": {},
   "outputs": [
    {
     "name": "stderr",
     "output_type": "stream",
     "text": [
      "c:\\Users\\shres\\Projects\\BioPy\\.venv\\Lib\\site-packages\\Bio\\Seq.py:2879: BiopythonWarning: Partial codon, len(sequence) not a multiple of three. Explicitly trim the sequence or add trailing N before translation. This may become an error in future.\n",
      "  warnings.warn(\n"
     ]
    },
    {
     "data": {
      "text/plain": [
       "[{'frame': 2,\n",
       "  'start': 59,\n",
       "  'stop': 389,\n",
       "  'length': 110,\n",
       "  'protein': 'MALWMRLLPLLALLALWGPDPAAAFVNQHLCGSHLVEALYLVCGERGFFYTPKTRREAEDLQVGQVELGGGPGAGSLQPLALEGSLQKRGIVEQCCTSICSLYQLENYCN'},\n",
       " {'frame': 2,\n",
       "  'start': 71,\n",
       "  'stop': 389,\n",
       "  'length': 106,\n",
       "  'protein': 'MRLLPLLALLALWGPDPAAAFVNQHLCGSHLVEALYLVCGERGFFYTPKTRREAEDLQVGQVELGGGPGAGSLQPLALEGSLQKRGIVEQCCTSICSLYQLENYCN'}]"
      ]
     },
     "execution_count": 24,
     "metadata": {},
     "output_type": "execute_result"
    }
   ],
   "source": [
    "# Find ORFs\n",
    "orfs = find_orfs(record.seq, min_protein_length=50)\n",
    "orfs"
   ]
  },
  {
   "cell_type": "code",
   "execution_count": 28,
   "id": "e28958a4",
   "metadata": {},
   "outputs": [
    {
     "name": "stdout",
     "output_type": "stream",
     "text": [
      "Found 2 ORFs (minimum 50 amino-acids)\n",
      "\n",
      "ORF 1:\n",
      "    Frame: 2\n",
      "    Position: 59 - 389\n",
      "    Protein Length: 110 aa\n",
      "    Protein Sequence: MALWMRLLPLLALLALWGPDPAAAFVNQHLCGSHLVEALYLVCGERGFFY...\n",
      "\n",
      "ORF 2:\n",
      "    Frame: 2\n",
      "    Position: 71 - 389\n",
      "    Protein Length: 106 aa\n",
      "    Protein Sequence: MRLLPLLALLALWGPDPAAAFVNQHLCGSHLVEALYLVCGERGFFYTPKT...\n"
     ]
    }
   ],
   "source": [
    "print(f\"Found {len(orfs)} ORFs (minimum 50 amino-acids)\")\n",
    "for i, orf in enumerate(orfs[:3], 1):\n",
    "    print(f\"\\nORF {i}:\")\n",
    "    print(f\"    Frame: {orf['frame']}\")\n",
    "    print(f\"    Position: {orf['start']} - {orf['stop']}\")\n",
    "    print(f\"    Protein Length: {orf['length']} aa\")\n",
    "    print(f\"    Protein Sequence: {orf['protein'][:50]}...\")"
   ]
  },
  {
   "cell_type": "markdown",
   "id": "26417b64",
   "metadata": {},
   "source": [
    "## Visualize ORF Locations"
   ]
  },
  {
   "cell_type": "code",
   "execution_count": null,
   "id": "8a8e4f50",
   "metadata": {},
   "outputs": [
    {
     "data": {
      "image/png": "[encoded data removed]",
      "text/plain": [
       "<Figure size 1200x400 with 1 Axes>"
      ]
     },
     "metadata": {},
     "output_type": "display_data"
    }
   ],
   "source": [
    "import matplotlib.pyplot as plt\n",
    "\n",
    "if orfs:\n",
    "    plt.figure(figsize=(12, 4))\n",
    "\n",
    "    for orf in orfs:\n",
    "        y_pos = orf['frame']\n",
    "        plt.barh(y_pos, orf['stop'] - orf['start'], left=orf['start'], height=3)\n",
    "\n",
    "    plt.xlabel('Position (bp)')\n",
    "    plt.ylabel('Reading Frame')\n",
    "    plt.title('Open Reading Frames Distribution')\n",
    "    plt.yticks([0, 1, 2])\n",
    "    plt.grid(axis='x', alpha=0.3)\n",
    "    plt.tight_layout()\n",
    "    plt.savefig('orf_distribution.png')\n",
    "    plt.show()"
   ]
  },
  {
   "cell_type": "markdown",
   "id": "f3b9218d",
   "metadata": {},
   "source": [
    "## Protein Analysis"
   ]
  },
  {
   "cell_type": "code",
   "execution_count": 29,
   "id": "93b07432",
   "metadata": {},
   "outputs": [
    {
     "name": "stdout",
     "output_type": "stream",
     "text": [
      "\n",
      "Protein Analysis for longest ORF:\n",
      "Molecular Weight: 11980.79 Da\n",
      "Theoretical pI: 5.22\n",
      "Instability Index: 40.33\n",
      "Aromaticity: 0.082\n",
      "\n",
      "Top 5 amino acids:\n",
      "    L: 18.18%%\n",
      "    G: 10.91%%\n",
      "    A: 9.09%%\n",
      "    E: 7.27%%\n",
      "    Q: 6.36%%\n"
     ]
    },
    {
     "name": "stderr",
     "output_type": "stream",
     "text": [
      "c:\\Users\\shres\\Projects\\BioPy\\.venv\\Lib\\site-packages\\Bio\\SeqUtils\\ProtParam.py:106: BiopythonDeprecationWarning: The get_amino_acids_percent method has been deprecated and will likely be removed from Biopython in the near future. Please use the amino_acids_percent attribute instead.\n",
      "  warnings.warn(\n"
     ]
    }
   ],
   "source": [
    "from Bio.SeqUtils.ProtParam import ProteinAnalysis\n",
    "\n",
    "# Analyze the longest ORF\n",
    "if orfs:\n",
    "    longest_orf = max(orfs, key=lambda x: x['length'])\n",
    "    protein_seq = longest_orf['protein']\n",
    "\n",
    "    analyzer = ProteinAnalysis(protein_seq)\n",
    "\n",
    "    print(f\"\\nProtein Analysis for longest ORF:\")\n",
    "    print(f\"Molecular Weight: {analyzer.molecular_weight():.2f} Da\")\n",
    "    print(f\"Theoretical pI: {analyzer.isoelectric_point():.2f}\")\n",
    "    print(f\"Instability Index: {analyzer.instability_index():.2f}\")\n",
    "    print(f\"Aromaticity: {analyzer.aromaticity():.3f}\")\n",
    "\n",
    "    # Amino Acid Composition\n",
    "    aa_comp = analyzer.get_amino_acids_percent()\n",
    "    print(\"\\nTop 5 amino acids:\")\n",
    "    for aa, percent in sorted(aa_comp.items(), key=lambda x: x[1], reverse=True)[:5]:\n",
    "        print(f\"    {aa}: {percent:.2%}%\")"
   ]
  },
  {
   "cell_type": "markdown",
   "id": "fd33b556",
   "metadata": {},
   "source": [
    "## Save Results"
   ]
  },
  {
   "cell_type": "code",
   "execution_count": 30,
   "id": "454eee8c",
   "metadata": {},
   "outputs": [
    {
     "name": "stdout",
     "output_type": "stream",
     "text": [
      "\n",
      "Protein sequence saved to protein_sequence.fasta\n"
     ]
    }
   ],
   "source": [
    "# Save the longest protein sequence to a file\n",
    "if orfs:\n",
    "    with open('protein_sequence.fasta', 'w') as file:\n",
    "        file.write(f\">Longest_ORF|Length_{longest_orf['length']}\\n\")\n",
    "        file.write(f\"{protein_seq}\\n\")\n",
    "\n",
    "    print(\"\\nProtein sequence saved to protein_sequence.fasta\")"
   ]
  },
  {
   "cell_type": "markdown",
   "id": "7d3d18ce",
   "metadata": {},
   "source": [
    "## Sequence Alignment and Motif Finding"
   ]
  },
  {
   "cell_type": "markdown",
   "id": "1a8925f8",
   "metadata": {},
   "source": [
    "### Pairwise Sequence Alignment"
   ]
  },
  {
   "cell_type": "code",
   "execution_count": 33,
   "id": "abe48e2c",
   "metadata": {},
   "outputs": [],
   "source": [
    "from Bio import Entrez, SeqIO, AlignIO, pairwise2\n",
    "from Bio.Align import substitution_matrices\n",
    "from Bio.pairwise2 import format_alignment"
   ]
  },
  {
   "cell_type": "code",
   "execution_count": 34,
   "id": "6bda20ff",
   "metadata": {},
   "outputs": [],
   "source": [
    "# Human Insulin\n",
    "handle = Entrez.efetch(db='nucleotide', id='NM_000207', rettype='fasta', retmode='text')\n",
    "human_insulin = SeqIO.read(handle, 'fasta')\n",
    "handle.close()"
   ]
  },
  {
   "cell_type": "code",
   "execution_count": 35,
   "id": "1b077a4b",
   "metadata": {},
   "outputs": [
    {
     "data": {
      "text/plain": [
       "SeqRecord(seq=Seq('AGCCCTCCAGGACAGGCTGCATCAGAAGAGGCCATCAAGCAGATCACTGTCCTT...AGC'), id='NM_000207.3', name='NM_000207.3', description='NM_000207.3 Homo sapiens insulin (INS), transcript variant 1, mRNA', dbxrefs=[])"
      ]
     },
     "execution_count": 35,
     "metadata": {},
     "output_type": "execute_result"
    }
   ],
   "source": [
    "human_insulin"
   ]
  },
  {
   "cell_type": "code",
   "execution_count": 36,
   "id": "0d1f7b5c",
   "metadata": {},
   "outputs": [],
   "source": [
    "# Mouse Insulin\n",
    "handle = Entrez.efetch(db='nucleotide', id='NM_008387', rettype='fasta', retmode='text')\n",
    "mouse_insulin = SeqIO.read(handle, 'fasta')\n",
    "handle.close()"
   ]
  },
  {
   "cell_type": "code",
   "execution_count": 37,
   "id": "5143fd86",
   "metadata": {},
   "outputs": [
    {
     "data": {
      "text/plain": [
       "SeqRecord(seq=Seq('GGGGACCCAGTAACCACCAGCCCTAAGTGATCCGCTACAATCAAAAACCATCAG...AAA'), id='NM_008387.5', name='NM_008387.5', description='NM_008387.5 Mus musculus insulin II (Ins2), transcript variant 2, mRNA', dbxrefs=[])"
      ]
     },
     "execution_count": 37,
     "metadata": {},
     "output_type": "execute_result"
    }
   ],
   "source": [
    "mouse_insulin"
   ]
  },
  {
   "cell_type": "markdown",
   "id": "47e0ae6f",
   "metadata": {},
   "source": [
    "#### Global Alignment (Needleman-Wunsch)"
   ]
  },
  {
   "cell_type": "code",
   "execution_count": 40,
   "id": "510677dd",
   "metadata": {},
   "outputs": [],
   "source": [
    "# Perform global alignment\n",
    "alignments = pairwise2.align.globalxx(\n",
    "    human_insulin.seq,\n",
    "    mouse_insulin.seq,\n",
    "    one_alignment_only=True\n",
    ")"
   ]
  },
  {
   "cell_type": "code",
   "execution_count": 39,
   "id": "dc2c2530",
   "metadata": {},
   "outputs": [
    {
     "name": "stdout",
     "output_type": "stream",
     "text": [
      "\n",
      "Alignment Score: 376.0\n",
      "Alignment Length: 574\n",
      "Matches: 376\n",
      "Mismatches: 0\n",
      "Gaps: 198\n",
      "Identity: 65.51%\n",
      "\n",
      "Alignment preview (first 1000 positions):\n",
      "AG----CCC--T--CCAGG--A-C---A-G-GC-T--GC-A---TCAGAAGAGG-CCATCA--A-GCAG-AT--C--A-CTGTCC---TTC-T-G---C--CATGGCCCTGTGGATGCGCCT-CCTGCCCCTGCTGGCGC-TGCTGGC--CCTCTGGGGA--CCTG-ACCC-AGCCGCAGC-CTTTGTG--AAC-CAA-CACCTGT-GC-GGCT-CAC-ACCTGGTGGAAG-CTCTCTACCTAG-TGTGC-GGGGAA-CGA-GGCTTCTTCTACACACCCAA-GA-CCCGCCGG-GA-G-GCAGAGGACCTGCAG---GTGGGGCAGG----TGGAGCTGGGCG-GG-GGCCCTGGTGCAGGCAG----CCTG-CAGC-CCTTGGCC-CTGGAGG-GGTCCCT-GCAGAAGCGTGGCATTGTGGA-A-CAA-TGCTGT-ACCAGCATCTGCTCCCTCTACCAGCTGGAGAACTACTGCAACTAGACGCAGCC-CGCAGGC-AGCCCCACAC-CCG--CCGCCTCCTGCACCGAGAGAGATGGAATAAAGC-CCTT-GAACC--AGC--------\n",
      " |    |||  |  |||    | |   | | |  |  || |   ||| || |   ||||||  | |||| |   |  | || |||   ||  | |   |  |||||||||||||||||| || ||||||||||||||| | ||||  |  ||||| ||||  ||   |||| | || |||  |||| ||  ||  | | ||||| | |  || | | | ||||||||| || |||||||||| | ||||  |||| | ||  |||||||||||||||||| | |  |||||| | || | |  |||||||  ||    ||  ||||      ||||||| || | || ||||| || | | ||||    |||  |||  |||||| | ||||||| || |||  ||||||||||||||||||  |\n"
     ]
    }
   ],
   "source": [
    "if alignments:\n",
    "    alignment = alignments[0]\n",
    "\n",
    "    # Calculate alignment statistics\n",
    "    matches = sum(1 for a, b in zip(alignment.seqA, alignment.seqB) if a == b and a != '-')\n",
    "    mismatches = sum(1 for a, b in zip(alignment.seqA, alignment.seqB) if a != b and a != '-' and b != '-')\n",
    "    gaps = alignment.seqA.count('-') + alignment.seqB.count('-')\n",
    "    alignment_length = len(alignment.seqA)\n",
    "    identity = (matches / alignment_length) * 100\n",
    "\n",
    "    print(f\"\\nAlignment Score: {alignment.score}\")\n",
    "    print(f\"Alignment Length: {alignment_length}\")\n",
    "    print(f\"Matches: {matches}\")\n",
    "    print(f\"Mismatches: {mismatches}\")\n",
    "    print(f\"Gaps: {gaps}\")\n",
    "    print(f\"Identity: {identity:.2f}%\")\n",
    "\n",
    "    # Show a portion of the alignment\n",
    "    print(\"\\nAlignment preview (first 1000 positions):\")\n",
    "    print(format_alignment(*alignment, full_sequences=False)[:1000])"
   ]
  },
  {
   "cell_type": "markdown",
   "id": "518651ea",
   "metadata": {},
   "source": [
    "#### Local Alignment (Smith-Waterman)"
   ]
  },
  {
   "cell_type": "code",
   "execution_count": 41,
   "id": "3f526655",
   "metadata": {},
   "outputs": [],
   "source": [
    "# Perform local alignment to find conserved regions\n",
    "local_alignments = pairwise2.align.localxx(\n",
    "    human_insulin.seq,\n",
    "    mouse_insulin.seq,\n",
    "    one_alignment_only=True\n",
    ")"
   ]
  },
  {
   "cell_type": "code",
   "execution_count": 42,
   "id": "4448e18b",
   "metadata": {},
   "outputs": [
    {
     "name": "stdout",
     "output_type": "stream",
     "text": [
      "Local Alignment Score: 376.0\n",
      "Best local alignment region (first 1000 positions):\n",
      "2 G----CCC--T--CCAGG--A-C---A-G-GC-T--GC-A---TCAGAAGAGG-CCATCA--A-GCAG-AT--C--A-CTGTCC---TTC-T-G---C--CATGGCCCTGTGGATGCGCCT-CCTGCCCCTGCTGGCGC-TGCTGGC--CCTCTGGGGA--CCTG-ACCC-AGCCGCAGC-CTTTGTG--AAC-CAA-CACCTGT-GC-GGCT-CAC-ACCTGGTGGAAG-CTCTCTACCTAG-TGTGC-GGGGAA-CGA-GGCTTCTTCTACACACCCAA-GA-CCCGCCGG-GA-G-GCAGAGGACCTGCAG---GTGGGGCAGG----TGGAGCTGGGCG-GG-GGCCCTGGTGCAGGCAG----CCTG-CAGC-CCTTGGCC-CTGGAGG-GGTCCCT-GCAGAAGCGTGGCATTGTGGA-A-CAA-TGCTGT-ACCAGCATCTGCTCCCTCTACCAGCTGGAGAACTACTGCAACTAGACGCAGCC-CGCAGGC-AGCCCCACAC-CCG--CCGCCTCCTGCACCGAGAGAGATGGAATAAAGC-CCTT-GAACC--AG--C\n",
      "  |    |||  |  |||    | |   | | |  |  || |   ||| || |   ||||||  | |||| |   |  | || |||   ||  | |   |  |||||||||||||||||| || ||||||||||||||| | ||||  |  ||||| ||||  ||   |||| | || |||  |||| ||  ||  | | ||||| | |  || | | | ||||||||| || |||||||||| | ||||  |||| | ||  |||||||||||||||||| | |  |||||| | || | |  |||||||  ||    ||  ||||      ||||||| || | || ||||| || | | ||||    |||  |||  |||||| | ||||||| || |||  ||||||||||||||||||  | | |\n"
     ]
    }
   ],
   "source": [
    "if local_alignments:\n",
    "    local_alignment = local_alignments[0]\n",
    "\n",
    "    print(f\"Local Alignment Score: {local_alignment.score}\")\n",
    "    print(f\"Best local alignment region (first 1000 positions):\")\n",
    "    print(format_alignment(*local_alignment, full_sequences=False)[:1000])"
   ]
  },
  {
   "cell_type": "markdown",
   "id": "8b4e864f",
   "metadata": {},
   "source": [
    "### Protein Sequence Alignment with Scoring Matrix "
   ]
  },
  {
   "cell_type": "code",
   "execution_count": 43,
   "id": "352fed62",
   "metadata": {},
   "outputs": [],
   "source": [
    "# Translate coding sequences to protein\n",
    "from Bio.Seq import Seq"
   ]
  },
  {
   "cell_type": "code",
   "execution_count": 44,
   "id": "f89a526f",
   "metadata": {},
   "outputs": [],
   "source": [
    "# Extract Coding Sequence - for insulin, we need to find the longest open reading frame\n",
    "def get_longest_orf_protein(seq_record):\n",
    "    \"\"\"Get protein from longest open reading frame\"\"\"\n",
    "    seq = seq_record.seq\n",
    "    best_protein = None\n",
    "    max_length = 0\n",
    "\n",
    "    for frame in range(3):\n",
    "        protein = seq[frame:].translate(to_stop=False)\n",
    "\n",
    "        # Find ORF starting with M (start codon)\n",
    "        for i, aa in enumerate(protein):\n",
    "            if aa == 'M':\n",
    "                # Find stop codon\n",
    "                stop_pos = str(protein[i:]).find('*')\n",
    "                if stop_pos != -1:\n",
    "                    orf_protein = protein[i:i+stop_pos]\n",
    "                    if len(orf_protein) > max_length:\n",
    "                        max_length = len(orf_protein)\n",
    "                        best_protein = orf_protein\n",
    "    \n",
    "    return best_protein"
   ]
  },
  {
   "cell_type": "code",
   "execution_count": 45,
   "id": "9554fb34",
   "metadata": {},
   "outputs": [
    {
     "name": "stderr",
     "output_type": "stream",
     "text": [
      "c:\\Users\\shres\\Projects\\BioPy\\.venv\\Lib\\site-packages\\Bio\\Seq.py:2879: BiopythonWarning: Partial codon, len(sequence) not a multiple of three. Explicitly trim the sequence or add trailing N before translation. This may become an error in future.\n",
      "  warnings.warn(\n"
     ]
    },
    {
     "data": {
      "text/plain": [
       "Seq('MALWMRLLPLLALLALWGPDPAAAFVNQHLCGSHLVEALYLVCGERGFFYTPKT...YCN')"
      ]
     },
     "execution_count": 45,
     "metadata": {},
     "output_type": "execute_result"
    }
   ],
   "source": [
    "human_protein = get_longest_orf_protein(human_insulin)\n",
    "human_protein"
   ]
  },
  {
   "cell_type": "code",
   "execution_count": 46,
   "id": "4f5e460f",
   "metadata": {},
   "outputs": [
    {
     "name": "stderr",
     "output_type": "stream",
     "text": [
      "c:\\Users\\shres\\Projects\\BioPy\\.venv\\Lib\\site-packages\\Bio\\Seq.py:2879: BiopythonWarning: Partial codon, len(sequence) not a multiple of three. Explicitly trim the sequence or add trailing N before translation. This may become an error in future.\n",
      "  warnings.warn(\n"
     ]
    },
    {
     "data": {
      "text/plain": [
       "Seq('MALWMRFLPLLALLFLWESHPTQAFVKQHLCGSHLVEALYLVCGERGFFYTPMS...YCN')"
      ]
     },
     "execution_count": 46,
     "metadata": {},
     "output_type": "execute_result"
    }
   ],
   "source": [
    "mouse_protein = get_longest_orf_protein(mouse_insulin)\n",
    "mouse_protein"
   ]
  },
  {
   "cell_type": "code",
   "execution_count": 48,
   "id": "f334f666",
   "metadata": {},
   "outputs": [
    {
     "data": {
      "text/plain": [
       "Array([[ 4., -1., -2., -2.,  0., -1., -1.,  0., -2., -1., -1., -1., -1.,\n",
       "        -2., -1.,  1.,  0., -3., -2.,  0., -2., -1.,  0., -4.],\n",
       "       [-1.,  5.,  0., -2., -3.,  1.,  0., -2.,  0., -3., -2.,  2., -1.,\n",
       "        -3., -2., -1., -1., -3., -2., -3., -1.,  0., -1., -4.],\n",
       "       [-2.,  0.,  6.,  1., -3.,  0.,  0.,  0.,  1., -3., -3.,  0., -2.,\n",
       "        -3., -2.,  1.,  0., -4., -2., -3.,  3.,  0., -1., -4.],\n",
       "       [-2., -2.,  1.,  6., -3.,  0.,  2., -1., -1., -3., -4., -1., -3.,\n",
       "        -3., -1.,  0., -1., -4., -3., -3.,  4.,  1., -1., -4.],\n",
       "       [ 0., -3., -3., -3.,  9., -3., -4., -3., -3., -1., -1., -3., -1.,\n",
       "        -2., -3., -1., -1., -2., -2., -1., -3., -3., -2., -4.],\n",
       "       [-1.,  1.,  0.,  0., -3.,  5.,  2., -2.,  0., -3., -2.,  1.,  0.,\n",
       "        -3., -1.,  0., -1., -2., -1., -2.,  0.,  3., -1., -4.],\n",
       "       [-1.,  0.,  0.,  2., -4.,  2.,  5., -2.,  0., -3., -3.,  1., -2.,\n",
       "        -3., -1.,  0., -1., -3., -2., -2.,  1.,  4., -1., -4.],\n",
       "       [ 0., -2.,  0., -1., -3., -2., -2.,  6., -2., -4., -4., -2., -3.,\n",
       "        -3., -2.,  0., -2., -2., -3., -3., -1., -2., -1., -4.],\n",
       "       [-2.,  0.,  1., -1., -3.,  0.,  0., -2.,  8., -3., -3., -1., -2.,\n",
       "        -1., -2., -1., -2., -2.,  2., -3.,  0.,  0., -1., -4.],\n",
       "       [-1., -3., -3., -3., -1., -3., -3., -4., -3.,  4.,  2., -3.,  1.,\n",
       "         0., -3., -2., -1., -3., -1.,  3., -3., -3., -1., -4.],\n",
       "       [-1., -2., -3., -4., -1., -2., -3., -4., -3.,  2.,  4., -2.,  2.,\n",
       "         0., -3., -2., -1., -2., -1.,  1., -4., -3., -1., -4.],\n",
       "       [-1.,  2.,  0., -1., -3.,  1.,  1., -2., -1., -3., -2.,  5., -1.,\n",
       "        -3., -1.,  0., -1., -3., -2., -2.,  0.,  1., -1., -4.],\n",
       "       [-1., -1., -2., -3., -1.,  0., -2., -3., -2.,  1.,  2., -1.,  5.,\n",
       "         0., -2., -1., -1., -1., -1.,  1., -3., -1., -1., -4.],\n",
       "       [-2., -3., -3., -3., -2., -3., -3., -3., -1.,  0.,  0., -3.,  0.,\n",
       "         6., -4., -2., -2.,  1.,  3., -1., -3., -3., -1., -4.],\n",
       "       [-1., -2., -2., -1., -3., -1., -1., -2., -2., -3., -3., -1., -2.,\n",
       "        -4.,  7., -1., -1., -4., -3., -2., -2., -1., -2., -4.],\n",
       "       [ 1., -1.,  1.,  0., -1.,  0.,  0.,  0., -1., -2., -2.,  0., -1.,\n",
       "        -2., -1.,  4.,  1., -3., -2., -2.,  0.,  0.,  0., -4.],\n",
       "       [ 0., -1.,  0., -1., -1., -1., -1., -2., -2., -1., -1., -1., -1.,\n",
       "        -2., -1.,  1.,  5., -2., -2.,  0., -1., -1.,  0., -4.],\n",
       "       [-3., -3., -4., -4., -2., -2., -3., -2., -2., -3., -2., -3., -1.,\n",
       "         1., -4., -3., -2., 11.,  2., -3., -4., -3., -2., -4.],\n",
       "       [-2., -2., -2., -3., -2., -1., -2., -3.,  2., -1., -1., -2., -1.,\n",
       "         3., -3., -2., -2.,  2.,  7., -1., -3., -2., -1., -4.],\n",
       "       [ 0., -3., -3., -3., -1., -2., -2., -3., -3.,  3.,  1., -2.,  1.,\n",
       "        -1., -2., -2.,  0., -3., -1.,  4., -3., -2., -1., -4.],\n",
       "       [-2., -1.,  3.,  4., -3.,  0.,  1., -1.,  0., -3., -4.,  0., -3.,\n",
       "        -3., -2.,  0., -1., -4., -3., -3.,  4.,  1., -1., -4.],\n",
       "       [-1.,  0.,  0.,  1., -3.,  3.,  4., -2.,  0., -3., -3.,  1., -1.,\n",
       "        -3., -1.,  0., -1., -3., -2., -2.,  1.,  4., -1., -4.],\n",
       "       [ 0., -1., -1., -1., -2., -1., -1., -1., -1., -1., -1., -1., -1.,\n",
       "        -1., -2.,  0.,  0., -2., -1., -1., -1., -1., -1., -4.],\n",
       "       [-4., -4., -4., -4., -4., -4., -4., -4., -4., -4., -4., -4., -4.,\n",
       "        -4., -4., -4., -4., -4., -4., -4., -4., -4., -4.,  1.]],\n",
       "         alphabet='ARNDCQEGHILKMFPSTWYVBZX*')"
      ]
     },
     "execution_count": 48,
     "metadata": {},
     "output_type": "execute_result"
    }
   ],
   "source": [
    "# Use BLOSUM62 scoring matrix\n",
    "blosum62 = substitution_matrices.load('BLOSUM62')\n",
    "blosum62"
   ]
  },
  {
   "cell_type": "code",
   "execution_count": 49,
   "id": "d49aeb3f",
   "metadata": {},
   "outputs": [],
   "source": [
    "protein_alignments = pairwise2.align.globalds(\n",
    "    human_protein,\n",
    "    mouse_protein,\n",
    "    blosum62,\n",
    "    -10, -0.5,  # gap open, gap extend penalties\n",
    "    one_alignment_only=True\n",
    ")"
   ]
  },
  {
   "cell_type": "code",
   "execution_count": 50,
   "id": "9c62c085",
   "metadata": {},
   "outputs": [
    {
     "name": "stdout",
     "output_type": "stream",
     "text": [
      "Protein Length - Human: 110 aa\n",
      "Protein Length - Mouse: 110 aa\n",
      "Alignment Score: 478.0\n",
      "Protein Identity: 81.82%\n",
      "\n",
      "Protein alignment preview:\n",
      "MALWMRLLPLLALLALWGPDPAAAFVNQHLCGSHLVEALYLVCGERGFFYTPKTRREAEDLQVGQVELGGGPGAGSLQPLALEGSLQKRGIVEQCCTSICSLYQLENYCN\n",
      "||||||.|||||||.||...|..|||.|||||||||||||||||||||||||..|||.||.||.|.|||||||||.||.||||...||||||.|||||||||||||||||\n",
      "MALWMRFLPLLALLFLWESHPTQAFVKQHLCGSHLVEALYLVCGERGFFYTPMSRREVEDPQVAQLELGGGPGAGDLQTLALEVAQQKRGIVDQCCTSICSLYQLENYCN\n",
      "  Score=478\n",
      "\n"
     ]
    }
   ],
   "source": [
    "if protein_alignments:\n",
    "    alignment = protein_alignments[0]\n",
    "\n",
    "    matches = sum(1 for a,b in zip(alignment.seqA, alignment.seqB) if a == b and a != '-')\n",
    "    alignment_length = len(alignment.seqA) - alignment.seqA.count('-') - alignment.seqB.count('-')\n",
    "\n",
    "    identity = (matches / alignment_length) * 100 if alignment_length > 0 else 0\n",
    "\n",
    "    print(f\"Protein Length - Human: {len(human_protein)} aa\")\n",
    "    print(f\"Protein Length - Mouse: {len(mouse_protein)} aa\")\n",
    "    print(f\"Alignment Score: {alignment.score}\")\n",
    "    print(f\"Protein Identity: {identity:.2f}%\")\n",
    "    print(\"\\nProtein alignment preview:\")\n",
    "    print(format_alignment(*alignment, full_sequences=True)[:1500])    "
   ]
  },
  {
   "cell_type": "markdown",
   "id": "235dede7",
   "metadata": {},
   "source": [
    "### Motif Finding - Simple Pattern Search"
   ]
  },
  {
   "cell_type": "code",
   "execution_count": 51,
   "id": "5971669d",
   "metadata": {},
   "outputs": [],
   "source": [
    "import re\n",
    "from Bio.Seq import Seq"
   ]
  },
  {
   "cell_type": "code",
   "execution_count": 52,
   "id": "1fab3071",
   "metadata": {},
   "outputs": [],
   "source": [
    "# Common Protein Motifs\n",
    "motifs = {\n",
    "    'N-glycosylation': r'N[^P][ST][^P]',\n",
    "    'Protein kinase C': r'[ST].[RK]',\n",
    "    'cAMP/cGMP phosphorylation': r'[RK]..[ST]',\n",
    "    'Tyrosine kinase': r'[RK]..[DE]..Y',\n",
    "    'PEST region': r'[PEST]{5,}',\n",
    "}"
   ]
  },
  {
   "cell_type": "code",
   "execution_count": 53,
   "id": "9a8aaef0",
   "metadata": {},
   "outputs": [],
   "source": [
    "def find_motifs(protein_seq, motif_patterns):\n",
    "    \"\"\"Find motif in protein sequence\"\"\"\n",
    "    results = {}\n",
    "    seq_str = str(protein_seq)\n",
    "\n",
    "    for motif_name, pattern in motif_patterns.items():\n",
    "        matches = []\n",
    "        for match in re.finditer(pattern, seq_str):\n",
    "            matches.append({\n",
    "                'start': match.start() + 1,     # 1-index\n",
    "                'end': match.end(),\n",
    "                'sequence': match.group()\n",
    "            })\n",
    "        if matches:\n",
    "            results[motif_name] = matches\n",
    "\n",
    "    return results"
   ]
  },
  {
   "cell_type": "code",
   "execution_count": 54,
   "id": "30ae67d4",
   "metadata": {},
   "outputs": [],
   "source": [
    "# Search for motifs in human insulin protein\n",
    "human_motifs = find_motifs(human_protein, motifs)"
   ]
  },
  {
   "cell_type": "code",
   "execution_count": 55,
   "id": "79443ddc",
   "metadata": {},
   "outputs": [
    {
     "name": "stdout",
     "output_type": "stream",
     "text": [
      "Motifs found in Human Insulin:\n",
      "\n",
      "Protein kinase C:\n",
      "    Position 51-53: TPK\n",
      "    Position 54-56: TRR\n"
     ]
    }
   ],
   "source": [
    "print('Motifs found in Human Insulin:')\n",
    "if human_motifs:\n",
    "    for motif_name, matches in human_motifs.items():\n",
    "        print(f\"\\n{motif_name}:\")\n",
    "        for match in matches:\n",
    "            print(f\"    Position {match['start']}-{match['end']}: {match['sequence']}\")\n",
    "else:\n",
    "    print('No common motif found')"
   ]
  },
  {
   "cell_type": "code",
   "execution_count": 56,
   "id": "8ebe715e",
   "metadata": {},
   "outputs": [
    {
     "name": "stdout",
     "output_type": "stream",
     "text": [
      "Motifs found in Mouse Insulin:\n",
      "\n",
      "Protein kinase C:\n",
      "    Position 54-56: SRR\n"
     ]
    }
   ],
   "source": [
    "# Search for motifs in mouse insulin\n",
    "mouse_motifs = find_motifs(mouse_protein, motifs)\n",
    "\n",
    "print('Motifs found in Mouse Insulin:')\n",
    "if mouse_motifs:\n",
    "    for motif_name, matches in mouse_motifs.items():\n",
    "        print(f\"\\n{motif_name}:\")\n",
    "        for match in matches:\n",
    "            print(f\"    Position {match['start']}-{match['end']}: {match['sequence']}\")\n",
    "else:\n",
    "    print(\"No common motifs found\")"
   ]
  },
  {
   "cell_type": "markdown",
   "id": "a49c8eef",
   "metadata": {},
   "source": [
    "### Conserved Motif Analysis using Bio.motifs"
   ]
  },
  {
   "cell_type": "code",
   "execution_count": 57,
   "id": "62cf385b",
   "metadata": {},
   "outputs": [],
   "source": [
    "from Bio import motifs\n",
    "from Bio.Seq import Seq"
   ]
  },
  {
   "cell_type": "code",
   "execution_count": 58,
   "id": "e0c20503",
   "metadata": {},
   "outputs": [],
   "source": [
    "# Create a sliding window to find conserved regions\n",
    "def find_conserved_regions(seq1, seq2, window_size=10, threshold=0.8):\n",
    "    \"\"\"Find conserved regions between two sequences\"\"\"\n",
    "    conserved_regions = []\n",
    "\n",
    "    min_len = min(len(seq1), len(seq2))\n",
    "\n",
    "    for i in range(min_len - window_size + 1):\n",
    "        window1 = str(seq1[i:i+window_size])\n",
    "        window2 = str(seq2[i:i+window_size])\n",
    "\n",
    "        # Calculate similarity\n",
    "        matches = sum(1 for a, b in zip(window1, window2) if a == b)\n",
    "        similarity = matches / window_size\n",
    "\n",
    "        if similarity >= threshold:\n",
    "            conserved_regions.append({\n",
    "                'position': i + 1,\n",
    "                'sequence': window1,\n",
    "                'similarity': similarity * 100\n",
    "            })\n",
    "    return conserved_regions"
   ]
  },
  {
   "cell_type": "code",
   "execution_count": 59,
   "id": "c9d9cb45",
   "metadata": {},
   "outputs": [],
   "source": [
    "# Find conserved protein regions\n",
    "conserved = find_conserved_regions(human_protein, mouse_protein, window_size=8, threshold=0.75)"
   ]
  },
  {
   "cell_type": "code",
   "execution_count": 60,
   "id": "52dcf924",
   "metadata": {},
   "outputs": [
    {
     "name": "stdout",
     "output_type": "stream",
     "text": [
      "Found 76 conserved regions (>= 75% identity, 8 amino-acid window):\n",
      "1. Position 1: MALWMRLL (87.5%)\n",
      "2. Position 2: ALWMRLLP (87.5%)\n",
      "3. Position 3: LWMRLLPL (87.5%)\n",
      "4. Position 4: WMRLLPLL (87.5%)\n",
      "5. Position 5: MRLLPLLA (87.5%)\n",
      "6. Position 6: RLLPLLAL (87.5%)\n",
      "7. Position 7: LLPLLALL (87.5%)\n",
      "8. Position 8: LPLLALLA (87.5%)\n",
      "9. Position 9: PLLALLAL (87.5%)\n",
      "10. Position 10: LLALLALW (87.5%)\n"
     ]
    }
   ],
   "source": [
    "print(f\"Found {len(conserved)} conserved regions (>= 75% identity, 8 amino-acid window):\")\n",
    "for i, region in enumerate(conserved[:10], 1):  # Show first 10\n",
    "    print(f\"{i}. Position {region['position']}: {region['sequence']} ({region['similarity']}%)\")"
   ]
  },
  {
   "cell_type": "code",
   "execution_count": 61,
   "id": "f9cc934a",
   "metadata": {},
   "outputs": [],
   "source": [
    "import matplotlib.pyplot as plt\n",
    "import numpy as np"
   ]
  },
  {
   "cell_type": "code",
   "execution_count": 62,
   "id": "02a0dba6",
   "metadata": {},
   "outputs": [],
   "source": [
    "# Calculate similarity across the sequence\n",
    "def calculate_sliding_similarity(seq1, seq2, window_size=10):\n",
    "    \"\"\"Calculate sliding window similarity\"\"\"\n",
    "    similarities = []\n",
    "    positions = []\n",
    "\n",
    "    min_len = min(len(seq1), len(seq2))\n",
    "\n",
    "    for i in range(min_len - window_size + 1):\n",
    "        window1 = str(seq1[i:i+window_size])\n",
    "        window2 = str(seq2[i:i+window_size])\n",
    "\n",
    "        matches = sum(1 for a,b in zip(window1, window2) if a == b)\n",
    "        similarity = (matches / window_size) * 100\n",
    "\n",
    "        similarities.append(similarity)\n",
    "        positions.append(i + window_size // 2)\n",
    "\n",
    "    return positions, similarities"
   ]
  },
  {
   "cell_type": "code",
   "execution_count": 67,
   "id": "10ee4800",
   "metadata": {},
   "outputs": [
    {
     "data": {
      "image/png": "[encoded data removed]",
      "text/plain": [
       "<Figure size 1400x800 with 2 Axes>"
      ]
     },
     "metadata": {},
     "output_type": "display_data"
    }
   ],
   "source": [
    "# Create visualization\n",
    "fig, (ax1, ax2) = plt.subplots(2, 1, figsize=(14, 8))\n",
    "\n",
    "# DNA similarity plot\n",
    "positions_dna, similarities_dna = calculate_sliding_similarity(human_insulin.seq, mouse_insulin.seq, window_size=20)\n",
    "ax1.plot(positions_dna, similarities_dna, linewidth=1.5, color='#2E86AB')\n",
    "ax1.fill_between(positions_dna, similarities_dna, alpha=0.3, color='#2E86AB')\n",
    "ax1.axhline(y=70, color='red', linestyle='--', alpha=0.5, label='70% threshold')\n",
    "ax1.set_xlabel('Position (bp)')\n",
    "ax1.set_ylabel('Identity (%)')\n",
    "ax1.set_title('DNA sequence Conservation: Human vs Mouse Insulin (20 bp window)')\n",
    "ax1.grid(alpha=0.3)\n",
    "ax1.legend()\n",
    "ax1.set_ylim(0, 105)\n",
    "\n",
    "# Protein similarity plot\n",
    "positions_prot, similarities_prot = calculate_sliding_similarity(human_protein, mouse_protein, window_size=8)\n",
    "ax2.plot(positions_prot, similarities_prot, linewidth=1.5, color='#A23B72')\n",
    "ax2.fill_between(positions_prot, similarities_prot, alpha=0.3, color='#A23B72')\n",
    "ax2.axhline(y=75, color='red', linestyle='--', alpha=0.5, label='75% threshold')\n",
    "ax2.set_xlabel('Position (amino acid)')\n",
    "ax2.set_ylabel('Identity (%)')\n",
    "ax2.set_title('Protein Sequence Conservation: Human vs Mouse Insulin (8 bp window)')\n",
    "ax2.grid(alpha=0.3)\n",
    "ax2.legend()\n",
    "ax2.set_ylim(0, 105)\n",
    "\n",
    "plt.tight_layout()\n",
    "plt.savefig('sequence_conservation_analysis.png', dpi=300)\n",
    "plt.show()"
   ]
  },
  {
   "cell_type": "markdown",
   "id": "4fa5e520",
   "metadata": {},
   "source": [
    "### Blast Search"
   ]
  },
  {
   "cell_type": "code",
   "execution_count": 68,
   "id": "0319c42b",
   "metadata": {},
   "outputs": [],
   "source": [
    "from Bio.Blast import NCBIWWW, NCBIXML\n",
    "import time"
   ]
  },
  {
   "cell_type": "code",
   "execution_count": 70,
   "id": "cead9493",
   "metadata": {},
   "outputs": [],
   "source": [
    "# Take human insulin protein for BLAST search\n",
    "try:\n",
    "    result_handle = NCBIWWW.qblast(\n",
    "        program='blastp',\n",
    "        database='nr',\n",
    "        sequence=str(human_protein),\n",
    "        expect=0.001,\n",
    "        hitlist_size=20\n",
    "    )\n",
    "\n",
    "    # Save raw BLAST results\n",
    "    with open('blast_results.xml', 'w') as file:\n",
    "        file.write(result_handle.read())\n",
    "    result_handle.close()\n",
    "except Exception as e:\n",
    "    print(f\"Error: {e}\")"
   ]
  },
  {
   "cell_type": "code",
   "execution_count": 72,
   "id": "89a6d7af",
   "metadata": {},
   "outputs": [
    {
     "name": "stdout",
     "output_type": "stream",
     "text": [
      "Query: unnamed protein product\n",
      "Query Length: 110 aa\n",
      "Database: nr\n",
      "Number of hits: 20\n",
      "\n",
      "1. gb|QMS45324.1| insulin isoform UB [Homo sapiens]\n",
      "   Length: 153 aa\n",
      "   E-value: 1.03e-73\n",
      "   Score: 577.0\n",
      "   Identity: 110/110 (100.0%)\n",
      "   Positives: 110/110 (100.0%)\n",
      "   Gaps: 0/110\n",
      "   Query coverage: 100.0%\n",
      "\n",
      "2. ref|XP_004050475.2| insulin isoform X1 [Gorilla gorilla gorilla]\n",
      "   Length: 153 aa\n",
      "   E-value: 1.11e-73\n",
      "   Score: 576.0\n",
      "   Identity: 110/110 (100.0%)\n",
      "   Positives: 110/110 (100.0%)\n",
      "   Gaps: 0/110\n",
      "   Query coverage: 100.0%\n",
      "\n",
      "3. gb|AAP36446.1| Homo sapiens insulin, partial [synthetic construct] >gb|AAX29480.\n",
      "   Length: 111 aa\n",
      "   E-value: 2.50e-73\n",
      "   Score: 570.0\n",
      "   Identity: 110/110 (100.0%)\n",
      "   Positives: 110/110 (100.0%)\n",
      "   Gaps: 0/110\n",
      "   Query coverage: 100.0%\n",
      "\n",
      "4. ref|NP_000198.1| insulin preproprotein [Homo sapiens] >ref|NP_001172026.1| insul\n",
      "   Length: 110 aa\n",
      "   E-value: 3.12e-73\n",
      "   Score: 569.0\n",
      "   Identity: 110/110 (100.0%)\n",
      "   Positives: 110/110 (100.0%)\n",
      "   Gaps: 0/110\n",
      "   Query coverage: 100.0%\n",
      "\n",
      "5. ref|XP_024110665.1| insulin isoform X2 [Pongo abelii] >ref|XP_054295337.1| insul\n",
      "   Length: 110 aa\n",
      "   E-value: 1.48e-72\n",
      "   Score: 565.0\n",
      "   Identity: 109/110 (99.1%)\n",
      "   Positives: 109/110 (99.1%)\n",
      "   Gaps: 0/110\n",
      "   Query coverage: 100.0%\n",
      "\n",
      "6. gb|AKI70564.1| INS, partial [synthetic construct]\n",
      "   Length: 110 aa\n",
      "   E-value: 2.06e-72\n",
      "   Score: 564.0\n",
      "   Identity: 109/110 (99.1%)\n",
      "   Positives: 109/110 (99.1%)\n",
      "   Gaps: 0/110\n",
      "   Query coverage: 100.0%\n",
      "\n",
      "7. gb|QMS45321.1| insulin isoform U1 [Homo sapiens]\n",
      "   Length: 204 aa\n",
      "   E-value: 2.10e-72\n",
      "   Score: 573.0\n",
      "   Identity: 110/110 (100.0%)\n",
      "   Positives: 110/110 (100.0%)\n",
      "   Gaps: 0/110\n",
      "   Query coverage: 100.0%\n",
      "\n",
      "8. ref|NP_001008996.1| insulin preproprotein [Pan troglodytes] >sp|P30410.1| RecNam\n",
      "   Length: 110 aa\n",
      "   E-value: 2.23e-72\n",
      "   Score: 564.0\n",
      "   Identity: 108/110 (98.2%)\n",
      "   Positives: 109/110 (99.1%)\n",
      "   Gaps: 0/110\n",
      "   Query coverage: 100.0%\n",
      "\n",
      "9. gb|AKI70566.1| INS, partial [synthetic construct]\n",
      "   Length: 110 aa\n",
      "   E-value: 2.83e-72\n",
      "   Score: 563.0\n",
      "   Identity: 109/110 (99.1%)\n",
      "   Positives: 109/110 (99.1%)\n",
      "   Gaps: 0/110\n",
      "   Query coverage: 100.0%\n",
      "\n",
      "10. ref|XP_034787832.1| insulin [Pan paniscus]\n",
      "   Length: 204 aa\n",
      "   E-value: 4.27e-72\n",
      "   Score: 571.0\n",
      "   Identity: 109/110 (99.1%)\n",
      "   Positives: 110/110 (100.0%)\n",
      "   Gaps: 0/110\n",
      "   Query coverage: 100.0%\n",
      "\n",
      "Query: MALWMRLLPLLALLALWGPDPAAAFVNQHLCGSHLVEALYLVCGERGFFYTPKTRREAEDLQVGQVELGGGPGAGSLQPL\n",
      "       MALWMRLLPLLALLALWGPDPAAAFVNQHLCGSHLVEALYLVCGERGFFYTPKTRREAEDLQVGQVELGGGPGAGSLQPL\n",
      "Sbjct: MALWMRLLPLLALLALWGPDPAAAFVNQHLCGSHLVEALYLVCGERGFFYTPKTRREAEDLQVGQVELGGGPGAGSLQPL\n",
      "       ... (truncated)\n"
     ]
    }
   ],
   "source": [
    "try:\n",
    "    # Parse BLAST Results\n",
    "    with open('blast_results.xml') as result_handle:\n",
    "        blast_records = NCBIXML.parse(result_handle)\n",
    "        blast_record = next(blast_records)\n",
    "\n",
    "    print(f\"Query: {blast_record.query}\")\n",
    "    print(f\"Query Length: {blast_record.query_length} aa\")\n",
    "    print(f\"Database: {blast_record.database}\")\n",
    "    print(f\"Number of hits: {len(blast_record.alignments)}\")\n",
    "\n",
    "    # Analyze top hits\n",
    "    blast_results = []\n",
    "    for i, alignment in enumerate(blast_record.alignments[:10], 1):\n",
    "        hsp = alignment.hsps[0]     # Best high-scoring pair\n",
    "\n",
    "        # Calculate identity percentage\n",
    "        identity_pct = (hsp.identities / hsp.align_length) * 100\n",
    "        coverage = (hsp.align_length / blast_record.query_length) * 100\n",
    "\n",
    "        result = {\n",
    "            'rank': i,\n",
    "            'title': alignment.title[:80],\n",
    "            'length': alignment.length,\n",
    "            'e_value': hsp.expect,\n",
    "            'score': hsp.score,\n",
    "            'identities': hsp.identities,\n",
    "            'positives': hsp.positives,\n",
    "            'gaps': hsp.gaps,\n",
    "            'identity_pct': identity_pct,\n",
    "            'coverage': coverage\n",
    "        }\n",
    "\n",
    "        blast_results.append(result)\n",
    "\n",
    "        print(f\"\\n{i}. {alignment.title[:80]}\")\n",
    "        print(f\"   Length: {alignment.length} aa\")\n",
    "        print(f\"   E-value: {hsp.expect:.2e}\")\n",
    "        print(f\"   Score: {hsp.score}\")\n",
    "        print(f\"   Identity: {hsp.identities}/{hsp.align_length} ({identity_pct:.1f}%)\")\n",
    "        print(f\"   Positives: {hsp.positives}/{hsp.align_length} ({(hsp.positives/hsp.align_length)*100:.1f}%)\")\n",
    "        print(f\"   Gaps: {hsp.gaps}/{hsp.align_length}\")\n",
    "        print(f\"   Query coverage: {coverage:.1f}%\")\n",
    "\n",
    "    # Show alignment for top hit\n",
    "    if blast_record.alignments:\n",
    "        top_alignment = blast_record.alignments[0]\n",
    "        top_hsp = top_alignment.hsps[0]\n",
    "\n",
    "        print(f\"\\nQuery: {top_hsp.query[:80]}\")\n",
    "        print(f\"       {top_hsp.match[:80]}\")\n",
    "        print(f\"Sbjct: {top_hsp.sbjct[:80]}\")\n",
    "\n",
    "        if len(top_hsp.query) > 80:\n",
    "            print(\"       ... (truncated)\")\n",
    "\n",
    "except FileNotFoundError:\n",
    "    print(\"BLAST results file not found\")\n",
    "except Exception as e:\n",
    "    print(f\"Error parsing BLAST results: {e}\")"
   ]
  },
  {
   "cell_type": "code",
   "execution_count": 74,
   "id": "d11d6b47",
   "metadata": {},
   "outputs": [
    {
     "data": {
      "image/png": "[encoded data removed]",
      "text/plain": [
       "<Figure size 1500x600 with 3 Axes>"
      ]
     },
     "metadata": {},
     "output_type": "display_data"
    }
   ],
   "source": [
    "fig, (ax1, ax2) = plt.subplots(1, 2, figsize=(15, 6))\n",
    "\n",
    "# Plot 1: Identity vs E-value\n",
    "identities = [r['identity_pct'] for r in blast_results]\n",
    "e_values = [np.log10(r['e_value']) if r['e_value'] > 0 else -180 for r in blast_results]\n",
    "scores = [r['score'] for r in blast_results]\n",
    "\n",
    "scatter = ax1.scatter(e_values, identities, c=scores, s=150, cmap='viridis', alpha=0.7, edgecolors='black', linewidth=1)\n",
    "ax1.set_xlabel('Log10 (E-value)', fontsize=12)\n",
    "ax1.set_ylabel('Sequence Identity (%)', fontsize=12)\n",
    "ax1.set_title('BLAST Hits: Identity vs E-value', fontsize=14, fontweight='bold')\n",
    "ax1.grid(alpha=0.3)\n",
    "\n",
    "# Add colorbar\n",
    "cbar = plt.colorbar(scatter, ax=ax1)\n",
    "cbar.set_label('Alignment Score:', fontsize=12)\n",
    "\n",
    "# Annotate top 3 hits\n",
    "for i in range(min(3, len(blast_results))):\n",
    "    ax1.annotate(f\"#{i+1}\", (e_values[i], identities[i]), xytext=(5, 5), textcoords='offset points', fontsize=10, fontweight='bold')\n",
    "\n",
    "# Plot 2: COverage vs Identity\n",
    "coverages = [r['coverage'] for r in blast_results]\n",
    "\n",
    "bars = ax2.barh(range(len(blast_results)), identities, color=plt.cm.viridis(np.linspace(0.3, 0.9, len(blast_results))), alpha=0.8, edgecolor='black')\n",
    "\n",
    "ax2.set_yticks(range(len(blast_results)))\n",
    "ax2.set_yticklabels(f\"Hit {i+1}\" for i in range(len(blast_results)))\n",
    "ax2.set_xlabel('Sequence Identity (%)', fontsize=12)\n",
    "ax2.set_title('Top BLAST Hits Identity', fontsize=13, fontweight='bold')\n",
    "ax2.grid(axis='x', alpha=0.3)\n",
    "ax2.set_xlim(0, 105)\n",
    "\n",
    "# Add values on bar\n",
    "for i, (bar, identity) in enumerate(zip(bars, identities)):\n",
    "    ax2.text(identity + 1, i, f'{identity:.1f}%', va='center', fontsize=9)\n",
    "\n",
    "plt.tight_layout()\n",
    "plt.savefig('blast_analysis.png', dpi=300, bbox_inches='tight')\n",
    "plt.show()"
   ]
  },
  {
   "cell_type": "markdown",
   "id": "983cb11f",
   "metadata": {},
   "source": [
    "## Phylogenetic Trees"
   ]
  },
  {
   "cell_type": "markdown",
   "id": "6b287ba9",
   "metadata": {},
   "source": [
    "### Collect Multiple Sequences for Phylogenetic Analysis"
   ]
  },
  {
   "cell_type": "code",
   "execution_count": 75,
   "id": "e0d96828",
   "metadata": {},
   "outputs": [],
   "source": [
    "from Bio import Entrez, SeqIO, AlignIO, Phylo\n",
    "from Bio.Phylo.TreeConstruction import DistanceCalculator, DistanceTreeConstructor"
   ]
  },
  {
   "cell_type": "code",
   "execution_count": 76,
   "id": "4d2db1dd",
   "metadata": {},
   "outputs": [],
   "source": [
    "# Insulin sequences from different species\n",
    "species_data = {\n",
    "    'Human': 'NM_000207',\n",
    "    'Mouse': 'NM_008387',\n",
    "    'Rat': 'NM_019130',\n",
    "    'Dog': 'NM_001003219',\n",
    "    'Cow': 'NM_173979',\n",
    "    'Chicken': 'NM_205222',\n",
    "}"
   ]
  },
  {
   "cell_type": "code",
   "execution_count": 77,
   "id": "44c35ce4",
   "metadata": {},
   "outputs": [
    {
     "name": "stdout",
     "output_type": "stream",
     "text": [
      "Downloading insulin sequences from multiple species...\n",
      "✓ Human: NM_000207 (465 bp)\n",
      "✓ Mouse: NM_008387 (485 bp)\n",
      "✓ Rat: NM_019130 (464 bp)\n",
      "✓ Dog: NM_001003219 (2137 bp)\n",
      "✓ Cow: NM_173979 (1948 bp)\n",
      "✓ Chicken: NM_205222 (525 bp)\n",
      "\n",
      "Saved 6 sequences to 'insulin_sequences.fasta'\n"
     ]
    }
   ],
   "source": [
    "print(\"Downloading insulin sequences from multiple species...\")\n",
    "sequences = {}\n",
    "\n",
    "for species, accession in species_data.items():\n",
    "    try:\n",
    "        handle = Entrez.efetch(db=\"nucleotide\", id=accession, rettype=\"fasta\", retmode=\"text\")\n",
    "        record = SeqIO.read(handle, \"fasta\")\n",
    "        handle.close()\n",
    "        \n",
    "        # Rename for clarity\n",
    "        record.id = species\n",
    "        record.description = f\"{species} insulin\"\n",
    "        sequences[species] = record\n",
    "        \n",
    "        print(f\"✓ {species}: {accession} ({len(record.seq)} bp)\")\n",
    "    except Exception as e:\n",
    "        print(f\"✗ {species}: Error - {e}\")\n",
    "\n",
    "# Save sequences to a single FASTA file\n",
    "SeqIO.write(sequences.values(), \"insulin_sequences.fasta\", \"fasta\")\n",
    "print(f\"\\nSaved {len(sequences)} sequences to 'insulin_sequences.fasta'\")"
   ]
  },
  {
   "cell_type": "code",
   "execution_count": 78,
   "id": "893912cb",
   "metadata": {},
   "outputs": [
    {
     "name": "stdout",
     "output_type": "stream",
     "text": [
      "Human: 110 amino acids\n",
      "Mouse: 110 amino acids\n",
      "Rat: 110 amino acids\n",
      "Dog: 704 amino acids\n",
      "Cow: 375 amino acids\n",
      "Chicken: 107 amino acids\n",
      "\n",
      "Protein sequences saved to insulin_proteins.fasta\n"
     ]
    },
    {
     "name": "stderr",
     "output_type": "stream",
     "text": [
      "c:\\Users\\shres\\Projects\\BioPy\\.venv\\Lib\\site-packages\\Bio\\Seq.py:2879: BiopythonWarning: Partial codon, len(sequence) not a multiple of three. Explicitly trim the sequence or add trailing N before translation. This may become an error in future.\n",
      "  warnings.warn(\n"
     ]
    }
   ],
   "source": [
    "from Bio.SeqRecord import SeqRecord\n",
    "\n",
    "protein_records = []\n",
    "for species, record in sequences.items():\n",
    "    protein = get_longest_orf_protein(record)\n",
    "    if protein:\n",
    "        # Create new record for protein\n",
    "        prot_record = SeqRecord(protein, id=species, description=f\"{species} insulin protein\")\n",
    "        protein_records.append(prot_record)\n",
    "        print(f\"{species}: {len(protein)} amino acids\")\n",
    "\n",
    "# Save protein sequences\n",
    "SeqIO.write(protein_records, \"insulin_proteins.fasta\", \"fasta\")\n",
    "print(\"\\nProtein sequences saved to insulin_proteins.fasta\")"
   ]
  },
  {
   "cell_type": "markdown",
   "id": "2e76f182",
   "metadata": {},
   "source": [
    "### Multiple Sequence Alignment"
   ]
  },
  {
   "cell_type": "code",
   "execution_count": 79,
   "id": "76ab2393",
   "metadata": {},
   "outputs": [],
   "source": [
    "from Bio.Align import MultipleSeqAlignment\n",
    "from Bio import pairwise2"
   ]
  },
  {
   "cell_type": "code",
   "execution_count": 80,
   "id": "838711c1",
   "metadata": {},
   "outputs": [],
   "source": [
    "# Perform progressive alignment (simple implementation)\n",
    "# For production, you'd use MUSCLE, MAFFT or Clustal Omega\n",
    "\n",
    "def progressive_alignment(sequences):\n",
    "    \"\"\"Simple progressive alignments\"\"\"\n",
    "    if len(sequences) < 2:\n",
    "        return sequences\n",
    "    \n",
    "    # Start with first wo sequences\n",
    "    alignments = pairwise2.align.globalxx(sequences[0].seq, sequences[1].seq, one_alignment_only=True)\n",
    "    if not alignments:\n",
    "        return sequences\n",
    "    \n",
    "    aligned = [\n",
    "        SeqRecord(Seq(alignments[0].seqA), id=sequences[0].id, description=\"\"),\n",
    "        SeqRecord(Seq(alignments[0].seqB), id=sequences[1].id, description=\"\"),\n",
    "    ]\n",
    "\n",
    "    # Add remaining sequences one-by-one\n",
    "    for seq_record in sequences[2:]:\n",
    "        # Align to consensus\n",
    "        consensus = str(aligned[0].seq)\n",
    "        new_alignments = pairwise2.align.globalxx(consensus, seq_record.seq, one_alignment_only=True)\n",
    "        if new_alignments:\n",
    "            aligned.append(SeqRecord(Seq(new_alignments[0].seqB), id=seq_record.id, description=\"\"))\n",
    "\n",
    "    return aligned"
   ]
  },
  {
   "cell_type": "code",
   "execution_count": 81,
   "id": "aa5a4307",
   "metadata": {},
   "outputs": [],
   "source": [
    "from Bio.SeqRecord import SeqRecord\n",
    "from Bio.Seq import Seq"
   ]
  },
  {
   "cell_type": "code",
   "execution_count": 82,
   "id": "0a6cb070",
   "metadata": {},
   "outputs": [
    {
     "name": "stdout",
     "output_type": "stream",
     "text": [
      "Aligned 6 sequences\n",
      "\n",
      "Alignment preview (first 80 positions):\n",
      "Human     : MALWMRL-LPLLALLA-LWGPD---PAA--AFVN-QHLCGSHLVEALYLVCGERGFFYTPKT--RREA-EDL-QVG-QV-\n",
      "Mouse     : MALWMR-FLPLLALL-FLW---ESHP--TQAFV-KQHLCGSHLVEALYLVCGERGFFYTP--MSRRE-VED-PQV-AQ-L\n",
      "Rat       : MALW-IR--FLPLLALL--ILW-EP----RP-A--QAFV--KQHLCGSHLVEALYLVCGERGFFYTP----MSRRE--VE\n",
      "Dog       : ----MSPRQPL-VLVFLVLGCCSAAPRPHKPTVVVFPGDLRTNLTDKQLAEEYLFRYGYTQVAELSDDKQSLSRGLRLLQ\n",
      "Cow       : MDDDIAAL-VVDNGSGMCKAGFAGDDAPRAVFPSIVGRPRHQGVMVGMGQKDSYVGDEAQSKRGIL-TLKYP-IEHGIVT\n",
      "Chicken   : MALW-IR--SLPLLA-L--L-VFSG-----PGTSYAA--A--N-QHLCGSHLVEALYLVCGERGFFY-SPK---ARR---\n",
      "\n",
      "Aligned sequences saved to 'insulin_aligned.fasta'\n"
     ]
    }
   ],
   "source": [
    "aligned_sequences = progressive_alignment(protein_records)\n",
    "\n",
    "print(f\"Aligned {len(aligned_sequences)} sequences\")\n",
    "print(\"\\nAlignment preview (first 80 positions):\")\n",
    "for record in aligned_sequences:\n",
    "    print(f\"{record.id:10s}: {str(record.seq)[:80]}\")\n",
    "\n",
    "# Save aligned sequences\n",
    "SeqIO.write(aligned_sequences, \"insulin_aligned.fasta\", \"fasta\")\n",
    "print(\"\\nAligned sequences saved to 'insulin_aligned.fasta'\")"
   ]
  },
  {
   "cell_type": "markdown",
   "id": "97f1188b",
   "metadata": {},
   "source": [
    "### Calculate Distance Matrix"
   ]
  },
  {
   "cell_type": "code",
   "execution_count": 83,
   "id": "90bc845a",
   "metadata": {},
   "outputs": [],
   "source": [
    "def calculate_distance_matrix(aligned_seqs):\n",
    "    \"\"\"Calculate pairwise distance matrix\"\"\"\n",
    "    n = len(aligned_seqs)\n",
    "    matrix = np.zeros((n, n))\n",
    "\n",
    "    for i in range(n):\n",
    "        for j in range(i+1, n):\n",
    "            seq1 = str(aligned_seqs[i].seq).replace('-', '')\n",
    "            seq2 = str(aligned_seqs[j].seq).replace('-', '')\n",
    "\n",
    "            # Calculate identity\n",
    "            min_len = min(len(seq1), len(seq2))\n",
    "            if min_len > 0:\n",
    "                matches = sum(1 for a, b in zip(seq1[:min_len], seq2[:min_len]) if a == b and a != '-')\n",
    "                identity = matches / min_len\n",
    "                distance = 1 - identity\n",
    "            else:\n",
    "                distance = 1.0\n",
    "\n",
    "            matrix[i][j] = distance\n",
    "            matrix[j][i] = distance\n",
    "\n",
    "    return matrix"
   ]
  },
  {
   "cell_type": "code",
   "execution_count": 85,
   "id": "b2872b6c",
   "metadata": {},
   "outputs": [
    {
     "data": {
      "text/plain": [
       "array([[0.        , 0.18181818, 0.17272727, 0.87272727, 0.91818182,\n",
       "        0.53271028],\n",
       "       [0.18181818, 0.        , 0.05454545, 0.90909091, 0.94545455,\n",
       "        0.54205607],\n",
       "       [0.17272727, 0.05454545, 0.        , 0.90909091, 0.92727273,\n",
       "        0.51401869],\n",
       "       [0.87272727, 0.90909091, 0.90909091, 0.        , 0.928     ,\n",
       "        0.92523364],\n",
       "       [0.91818182, 0.94545455, 0.92727273, 0.928     , 0.        ,\n",
       "        0.93457944],\n",
       "       [0.53271028, 0.54205607, 0.51401869, 0.92523364, 0.93457944,\n",
       "        0.        ]])"
      ]
     },
     "execution_count": 85,
     "metadata": {},
     "output_type": "execute_result"
    }
   ],
   "source": [
    "distance_matrix = calculate_distance_matrix(aligned_sequences)\n",
    "distance_matrix"
   ]
  },
  {
   "cell_type": "code",
   "execution_count": 86,
   "id": "476283e5",
   "metadata": {},
   "outputs": [],
   "source": [
    "species_names = [record.id for record in aligned_sequences]"
   ]
  },
  {
   "cell_type": "code",
   "execution_count": 88,
   "id": "c27449fe",
   "metadata": {},
   "outputs": [
    {
     "name": "stdout",
     "output_type": "stream",
     "text": [
      "Pairwise Distance Matrix:\n",
      "          Human     Mouse     Rat       Dog       Cow       Chicken   \n",
      "Human         0.0000    0.1818    0.1727    0.8727    0.9182    0.5327\n",
      "Mouse         0.1818    0.0000    0.0545    0.9091    0.9455    0.5421\n",
      "Rat           0.1727    0.0545    0.0000    0.9091    0.9273    0.5140\n",
      "Dog           0.8727    0.9091    0.9091    0.0000    0.9280    0.9252\n",
      "Cow           0.9182    0.9455    0.9273    0.9280    0.0000    0.9346\n",
      "Chicken       0.5327    0.5421    0.5140    0.9252    0.9346    0.0000\n"
     ]
    }
   ],
   "source": [
    "print(\"Pairwise Distance Matrix:\")\n",
    "print(f\"{'':10s}\", end='')\n",
    "for name in species_names:\n",
    "    print(f\"{name:10s}\", end='')\n",
    "print()\n",
    "\n",
    "for i, name in enumerate(species_names):\n",
    "    print(f\"{name:10s}\", end='')\n",
    "    for j in range(len(species_names)):\n",
    "        print(f\"{distance_matrix[i][j]:10.4f}\", end='')\n",
    "    print()"
   ]
  },
  {
   "cell_type": "code",
   "execution_count": null,
   "id": "3942337b",
   "metadata": {},
   "outputs": [],
   "source": []
  }
 ],
 "metadata": {
  "kernelspec": {
   "display_name": ".venv (3.13.8)",
   "language": "python",
   "name": "python3"
  },
  "language_info": {
   "codemirror_mode": {
    "name": "ipython",
    "version": 3
   },
   "file_extension": ".py",
   "mimetype": "text/x-python",
   "name": "python",
   "nbconvert_exporter": "python",
   "pygments_lexer": "ipython3",
   "version": "3.13.9"
  }
 },
 "nbformat": 4,
 "nbformat_minor": 5
}
