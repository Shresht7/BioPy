{
 "cells": [
  {
   "cell_type": "markdown",
   "id": "97bcb01f",
   "metadata": {},
   "source": [
    "# Analysing DNA Sequences and Finding Protein-Coding Regions\n",
    "\n",
    "Gene: Human Insulin"
   ]
  },
  {
   "cell_type": "markdown",
   "id": "2d013ba5",
   "metadata": {},
   "source": [
    "## Downloading Sequence Data from Entrez Database"
   ]
  },
  {
   "cell_type": "code",
   "execution_count": null,
   "id": "b5cc3e91",
   "metadata": {},
   "outputs": [],
   "source": [
    "# Library\n",
    "from Bio import Entrez, SeqIO\n",
    "from Bio.SeqRecord import SeqRecord"
   ]
  },
  {
   "cell_type": "code",
   "execution_count": null,
   "id": "5c7d91f3",
   "metadata": {},
   "outputs": [],
   "source": [
    "# Always provide your email when using NCBI services\n",
    "Entrez.email = \"<your_email@example.com\""
   ]
  },
  {
   "cell_type": "code",
   "execution_count": null,
   "id": "73ecd707",
   "metadata": {},
   "outputs": [
    {
     "name": "stdout",
     "output_type": "stream",
     "text": [
      "Sequence ID: NM_000207.3\n",
      "Description: NM_000207.3 Homo sapiens insulin (INS), transcript variant 1, mRNA\n",
      "Length: 465 bp\n"
     ]
    }
   ],
   "source": [
    "# Fetch the human insulin gene sequence\n",
    "handle = Entrez.efetch(db=\"nucleotide\", id=\"NM_000207\", rettype=\"fasta\", retmode=\"text\")\n",
    "record: SeqRecord = SeqIO.read(handle, \"fasta\")\n",
    "handle.close()\n",
    "\n",
    "print(f\"Sequence ID: {record.id}\")\n",
    "print(f\"Description: {record.description}\")\n",
    "print(f\"Length: {len(record.seq)} bp\")"
   ]
  },
  {
   "cell_type": "markdown",
   "id": "08fb6cec",
   "metadata": {},
   "source": [
    "## Basic Sequence Analysis"
   ]
  },
  {
   "cell_type": "code",
   "execution_count": 4,
   "id": "f27bf58b",
   "metadata": {},
   "outputs": [
    {
     "data": {
      "text/plain": [
       "Seq('AGCCCTCCAGGACAGGCTGCATCAGAAGAGGCCATCAAGCAGATCACTGTCCTT...AGC')"
      ]
     },
     "execution_count": 4,
     "metadata": {},
     "output_type": "execute_result"
    }
   ],
   "source": [
    "record.seq"
   ]
  },
  {
   "cell_type": "code",
   "execution_count": null,
   "id": "f9d76ff6",
   "metadata": {},
   "outputs": [
    {
     "name": "stdout",
     "output_type": "stream",
     "text": [
      "AGCCCTCCAGGACAGGCTGCATCAGAAGAGGCCATCAAGCAGATCACTGTCCTTCTGCCATGGCCCTGTGGATGCGCCTCCTGCCCCTGCTGGCGCTGCTGGCCCTCTGGGGACCTGACCCAGCCGCAGCCTTTGTGAACCAACACCTGTGCGGCTCACACCTGGTGGAAGCTCTCTACCTAGTGTGCGGGGAACGAGGCTTCTTCTACACACCCAAGACCCGCCGGGAGGCAGAGGACCTGCAGGTGGGGCAGGTGGAGCTGGGCGGGGGCCCTGGTGCAGGCAGCCTGCAGCCCTTGGCCCTGGAGGGGTCCCTGCAGAAGCGTGGCATTGTGGAACAATGCTGTACCAGCATCTGCTCCCTCTACCAGCTGGAGAACTACTGCAACTAGACGCAGCCCGCAGGCAGCCCCACACCCGCCGCCTCCTGCACCGAGAGAGATGGAATAAAGCCCTTGAACCAGC\n"
     ]
    }
   ],
   "source": [
    "print(record.seq)"
   ]
  },
  {
   "cell_type": "markdown",
   "id": "1a62b1a2",
   "metadata": {},
   "source": [
    "### Complement"
   ]
  },
  {
   "cell_type": "code",
   "execution_count": 6,
   "id": "e846bc97",
   "metadata": {},
   "outputs": [
    {
     "data": {
      "text/plain": [
       "Seq('TCGGGAGGTCCTGTCCGACGTAGTCTTCTCCGGTAGTTCGTCTAGTGACAGGAA...TCG')"
      ]
     },
     "execution_count": 6,
     "metadata": {},
     "output_type": "execute_result"
    }
   ],
   "source": [
    "record.seq.complement()"
   ]
  },
  {
   "cell_type": "markdown",
   "id": "b6b1166d",
   "metadata": {},
   "source": [
    "### Reverse Complement"
   ]
  },
  {
   "cell_type": "code",
   "execution_count": 7,
   "id": "eaeb07b1",
   "metadata": {},
   "outputs": [
    {
     "data": {
      "text/plain": [
       "Seq('GCTGGTTCAAGGGCTTTATTCCATCTCTCTCGGTGCAGGAGGCGGCGGGTGTGG...GCT')"
      ]
     },
     "execution_count": 7,
     "metadata": {},
     "output_type": "execute_result"
    }
   ],
   "source": [
    "record.seq.reverse_complement()"
   ]
  },
  {
   "cell_type": "markdown",
   "id": "f968056f",
   "metadata": {},
   "source": [
    "### Nucleotide Count"
   ]
  },
  {
   "cell_type": "code",
   "execution_count": 10,
   "id": "4ac194ff",
   "metadata": {},
   "outputs": [
    {
     "name": "stdout",
     "output_type": "stream",
     "text": [
      "Nucleotide Composition:\n",
      "A: 91 (19.57%)\n",
      "T: 77 (16.56%)\n",
      "G: 141 (30.32%)\n",
      "C: 156 (33.55%)\n"
     ]
    }
   ],
   "source": [
    "a_count = record.seq.count('A')\n",
    "t_count = record.seq.count('T')\n",
    "g_count = record.seq.count('G')\n",
    "c_count = record.seq.count('C')\n",
    "\n",
    "print(f\"Nucleotide Composition:\")\n",
    "print(f\"A: {a_count} ({a_count / len(record.seq):.2%})\")\n",
    "print(f\"T: {t_count} ({t_count / len(record.seq):.2%})\")\n",
    "print(f\"G: {g_count} ({g_count / len(record.seq):.2%})\")\n",
    "print(f\"C: {c_count} ({c_count / len(record.seq):.2%})\")"
   ]
  },
  {
   "cell_type": "code",
   "execution_count": 11,
   "id": "d359d8be",
   "metadata": {},
   "outputs": [],
   "source": [
    "# Data Visualization Libraries\n",
    "import matplotlib.pyplot as plt\n",
    "import seaborn as sns"
   ]
  },
  {
   "cell_type": "code",
   "execution_count": 21,
   "id": "d6601337",
   "metadata": {},
   "outputs": [
    {
     "name": "stderr",
     "output_type": "stream",
     "text": [
      "C:\\Users\\shres\\AppData\\Local\\Temp\\ipykernel_16076\\1269310117.py:1: FutureWarning: \n",
      "\n",
      "Passing `palette` without assigning `hue` is deprecated and will be removed in v0.14.0. Assign the `y` variable to `hue` and set `legend=False` for the same effect.\n",
      "\n",
      "  sns.barplot(x=[a_count, t_count, g_count, c_count], y=['A', 'T', 'G', 'C'], palette=\"viridis\")\n"
     ]
    },
    {
     "data": {
      "text/plain": [
       "<Axes: >"
      ]
     },
     "execution_count": 21,
     "metadata": {},
     "output_type": "execute_result"
    },
    {
     "data": {
      "image/png": "[encoded data removed]",
      "text/plain": [
       "<Figure size 640x480 with 1 Axes>"
      ]
     },
     "metadata": {},
     "output_type": "display_data"
    }
   ],
   "source": [
    "sns.barplot(x=[a_count, t_count, g_count, c_count], y=['A', 'T', 'G', 'C'], palette=\"viridis\")"
   ]
  },
  {
   "cell_type": "markdown",
   "id": "24ff5b9c",
   "metadata": {},
   "source": [
    "### Calculate GC Content"
   ]
  },
  {
   "cell_type": "code",
   "execution_count": 9,
   "id": "dadde2aa",
   "metadata": {},
   "outputs": [
    {
     "name": "stdout",
     "output_type": "stream",
     "text": [
      "GC Content: 63.87%\n"
     ]
    }
   ],
   "source": [
    "from Bio.SeqUtils import gc_fraction\n",
    "\n",
    "gc_content = gc_fraction(record.seq)\n",
    "\n",
    "print(f\"GC Content: {gc_content:.2%}\")"
   ]
  },
  {
   "cell_type": "markdown",
   "id": "b7faff99",
   "metadata": {},
   "source": [
    "## Finding Open Reading Frames (ORFs)"
   ]
  },
  {
   "cell_type": "code",
   "execution_count": 23,
   "id": "c2b79ec5",
   "metadata": {},
   "outputs": [],
   "source": [
    "def find_orfs(sequence, min_protein_length=100):\n",
    "    \"\"\"Find all ORFs in a DNA sequence\"\"\"\n",
    "    orfs = []\n",
    "\n",
    "    # Check all three reading frames\n",
    "    for frame in range(3):\n",
    "        # Get the sequence for this frame\n",
    "        seq_frame = sequence[frame:]\n",
    "\n",
    "        # Translate to protein\n",
    "        protein = seq_frame.translate(to_stop=False)\n",
    "        \n",
    "        # Find all start codons\n",
    "        start = 0\n",
    "        while True:\n",
    "            start = str(protein).find('M', start)\n",
    "            if start == -1:\n",
    "                break\n",
    "\n",
    "            # Find the next stop codon\n",
    "            stop = start + 1\n",
    "            while stop < len(protein) and protein[stop] != '*':\n",
    "                stop += 1\n",
    "\n",
    "            # If we found a complete ORF\n",
    "            if stop < len(protein):\n",
    "                orf_length = stop - start\n",
    "                if orf_length >= min_protein_length:\n",
    "                    orfs.append({\n",
    "                        'frame': frame,\n",
    "                        'start': frame + start * 3,\n",
    "                        'stop': frame + stop * 3,\n",
    "                        'length': orf_length,\n",
    "                        'protein': str(protein[start:stop])\n",
    "                    })\n",
    "\n",
    "            start += 1\n",
    "            \n",
    "    return orfs"
   ]
  },
  {
   "cell_type": "code",
   "execution_count": 24,
   "id": "d8704db5",
   "metadata": {},
   "outputs": [
    {
     "name": "stderr",
     "output_type": "stream",
     "text": [
      "c:\\Users\\shres\\Projects\\BioPy\\.venv\\Lib\\site-packages\\Bio\\Seq.py:2879: BiopythonWarning: Partial codon, len(sequence) not a multiple of three. Explicitly trim the sequence or add trailing N before translation. This may become an error in future.\n",
      "  warnings.warn(\n"
     ]
    },
    {
     "data": {
      "text/plain": [
       "[{'frame': 2,\n",
       "  'start': 59,\n",
       "  'stop': 389,\n",
       "  'length': 110,\n",
       "  'protein': 'MALWMRLLPLLALLALWGPDPAAAFVNQHLCGSHLVEALYLVCGERGFFYTPKTRREAEDLQVGQVELGGGPGAGSLQPLALEGSLQKRGIVEQCCTSICSLYQLENYCN'},\n",
       " {'frame': 2,\n",
       "  'start': 71,\n",
       "  'stop': 389,\n",
       "  'length': 106,\n",
       "  'protein': 'MRLLPLLALLALWGPDPAAAFVNQHLCGSHLVEALYLVCGERGFFYTPKTRREAEDLQVGQVELGGGPGAGSLQPLALEGSLQKRGIVEQCCTSICSLYQLENYCN'}]"
      ]
     },
     "execution_count": 24,
     "metadata": {},
     "output_type": "execute_result"
    }
   ],
   "source": [
    "# Find ORFs\n",
    "orfs = find_orfs(record.seq, min_protein_length=50)\n",
    "orfs"
   ]
  },
  {
   "cell_type": "code",
   "execution_count": 28,
   "id": "e28958a4",
   "metadata": {},
   "outputs": [
    {
     "name": "stdout",
     "output_type": "stream",
     "text": [
      "Found 2 ORFs (minimum 50 amino-acids)\n",
      "\n",
      "ORF 1:\n",
      "    Frame: 2\n",
      "    Position: 59 - 389\n",
      "    Protein Length: 110 aa\n",
      "    Protein Sequence: MALWMRLLPLLALLALWGPDPAAAFVNQHLCGSHLVEALYLVCGERGFFY...\n",
      "\n",
      "ORF 2:\n",
      "    Frame: 2\n",
      "    Position: 71 - 389\n",
      "    Protein Length: 106 aa\n",
      "    Protein Sequence: MRLLPLLALLALWGPDPAAAFVNQHLCGSHLVEALYLVCGERGFFYTPKT...\n"
     ]
    }
   ],
   "source": [
    "print(f\"Found {len(orfs)} ORFs (minimum 50 amino-acids)\")\n",
    "for i, orf in enumerate(orfs[:3], 1):\n",
    "    print(f\"\\nORF {i}:\")\n",
    "    print(f\"    Frame: {orf['frame']}\")\n",
    "    print(f\"    Position: {orf['start']} - {orf['stop']}\")\n",
    "    print(f\"    Protein Length: {orf['length']} aa\")\n",
    "    print(f\"    Protein Sequence: {orf['protein'][:50]}...\")"
   ]
  },
  {
   "cell_type": "markdown",
   "id": "26417b64",
   "metadata": {},
   "source": [
    "## Visualize ORF Locations"
   ]
  },
  {
   "cell_type": "code",
   "execution_count": null,
   "id": "8a8e4f50",
   "metadata": {},
   "outputs": [
    {
     "data": {
      "image/png": "[encoded data removed]",
      "text/plain": [
       "<Figure size 1200x400 with 1 Axes>"
      ]
     },
     "metadata": {},
     "output_type": "display_data"
    }
   ],
   "source": [
    "import matplotlib.pyplot as plt\n",
    "\n",
    "if orfs:\n",
    "    plt.figure(figsize=(12, 4))\n",
    "\n",
    "    for orf in orfs:\n",
    "        y_pos = orf['frame']\n",
    "        plt.barh(y_pos, orf['stop'] - orf['start'], left=orf['start'], height=3)\n",
    "\n",
    "    plt.xlabel('Position (bp)')\n",
    "    plt.ylabel('Reading Frame')\n",
    "    plt.title('Open Reading Frames Distribution')\n",
    "    plt.yticks([0, 1, 2])\n",
    "    plt.grid(axis='x', alpha=0.3)\n",
    "    plt.tight_layout()\n",
    "    plt.savefig('orf_distribution.png')\n",
    "    plt.show()"
   ]
  },
  {
   "cell_type": "markdown",
   "id": "f3b9218d",
   "metadata": {},
   "source": [
    "## Protein Analysis"
   ]
  },
  {
   "cell_type": "code",
   "execution_count": 29,
   "id": "93b07432",
   "metadata": {},
   "outputs": [
    {
     "name": "stdout",
     "output_type": "stream",
     "text": [
      "\n",
      "Protein Analysis for longest ORF:\n",
      "Molecular Weight: 11980.79 Da\n",
      "Theoretical pI: 5.22\n",
      "Instability Index: 40.33\n",
      "Aromaticity: 0.082\n",
      "\n",
      "Top 5 amino acids:\n",
      "    L: 18.18%%\n",
      "    G: 10.91%%\n",
      "    A: 9.09%%\n",
      "    E: 7.27%%\n",
      "    Q: 6.36%%\n"
     ]
    },
    {
     "name": "stderr",
     "output_type": "stream",
     "text": [
      "c:\\Users\\shres\\Projects\\BioPy\\.venv\\Lib\\site-packages\\Bio\\SeqUtils\\ProtParam.py:106: BiopythonDeprecationWarning: The get_amino_acids_percent method has been deprecated and will likely be removed from Biopython in the near future. Please use the amino_acids_percent attribute instead.\n",
      "  warnings.warn(\n"
     ]
    }
   ],
   "source": [
    "from Bio.SeqUtils.ProtParam import ProteinAnalysis\n",
    "\n",
    "# Analyze the longest ORF\n",
    "if orfs:\n",
    "    longest_orf = max(orfs, key=lambda x: x['length'])\n",
    "    protein_seq = longest_orf['protein']\n",
    "\n",
    "    analyzer = ProteinAnalysis(protein_seq)\n",
    "\n",
    "    print(f\"\\nProtein Analysis for longest ORF:\")\n",
    "    print(f\"Molecular Weight: {analyzer.molecular_weight():.2f} Da\")\n",
    "    print(f\"Theoretical pI: {analyzer.isoelectric_point():.2f}\")\n",
    "    print(f\"Instability Index: {analyzer.instability_index():.2f}\")\n",
    "    print(f\"Aromaticity: {analyzer.aromaticity():.3f}\")\n",
    "\n",
    "    # Amino Acid Composition\n",
    "    aa_comp = analyzer.get_amino_acids_percent()\n",
    "    print(\"\\nTop 5 amino acids:\")\n",
    "    for aa, percent in sorted(aa_comp.items(), key=lambda x: x[1], reverse=True)[:5]:\n",
    "        print(f\"    {aa}: {percent:.2%}%\")"
   ]
  },
  {
   "cell_type": "markdown",
   "id": "fd33b556",
   "metadata": {},
   "source": [
    "## Save Results"
   ]
  },
  {
   "cell_type": "code",
   "execution_count": 30,
   "id": "454eee8c",
   "metadata": {},
   "outputs": [
    {
     "name": "stdout",
     "output_type": "stream",
     "text": [
      "\n",
      "Protein sequence saved to protein_sequence.fasta\n"
     ]
    }
   ],
   "source": [
    "# Save the longest protein sequence to a file\n",
    "if orfs:\n",
    "    with open('protein_sequence.fasta', 'w') as file:\n",
    "        file.write(f\">Longest_ORF|Length_{longest_orf['length']}\\n\")\n",
    "        file.write(f\"{protein_seq}\\n\")\n",
    "\n",
    "    print(\"\\nProtein sequence saved to protein_sequence.fasta\")"
   ]
  },
  {
   "cell_type": "code",
   "execution_count": null,
   "id": "abe48e2c",
   "metadata": {},
   "outputs": [],
   "source": []
  }
 ],
 "metadata": {
  "kernelspec": {
   "display_name": ".venv (3.13.8)",
   "language": "python",
   "name": "python3"
  },
  "language_info": {
   "codemirror_mode": {
    "name": "ipython",
    "version": 3
   },
   "file_extension": ".py",
   "mimetype": "text/x-python",
   "name": "python",
   "nbconvert_exporter": "python",
   "pygments_lexer": "ipython3",
   "version": "3.13.9"
  }
 },
 "nbformat": 4,
 "nbformat_minor": 5
}
