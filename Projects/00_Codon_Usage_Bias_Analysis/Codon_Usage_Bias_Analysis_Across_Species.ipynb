{
 "cells": [
  {
   "cell_type": "markdown",
   "id": "f6bc8b4b",
   "metadata": {},
   "source": [
    "# Codon Usage Bias Analysis Across Species"
   ]
  },
  {
   "cell_type": "markdown",
   "id": "8a20aaa1",
   "metadata": {},
   "source": [
    "## Introduction and Setup\n",
    "\n",
    "**Codon usage bias** refers to the phenomenon where synonymous codons (codons encoding the same amino acid) are used with different frequencies. This bias varies across:\n",
    "- Different species\n",
    "- Different genes within the same organism\n",
    "- Highly vs. lowly expressed genes\n",
    "\n",
    "Why is this important?\n",
    "1. Gene expression optimization\n",
    "2. Heterologous protein expression\n",
    "3. Evolutionary analysis\n",
    "4. Gene origin prediction\n",
    "5. Synthetic biology application"
   ]
  },
  {
   "cell_type": "code",
   "execution_count": null,
   "id": "768c10f2",
   "metadata": {},
   "outputs": [],
   "source": [
    "# Library\n",
    "import pandas as pd\n",
    "import numpy as np\n",
    "\n",
    "# Data Visualization\n",
    "import matplotlib.pyplot as plt\n",
    "import seaborn as sns\n",
    "\n",
    "# BioPython\n",
    "from Bio import SeqIO"
   ]
  },
  {
   "cell_type": "code",
   "execution_count": null,
   "id": "86e8205f",
   "metadata": {},
   "outputs": [],
   "source": [
    "# Set style for better visualizations\n",
    "plt.style.use('seaborn-v0_8-darkgrid')\n",
    "sns.set_palette('husl')"
   ]
  },
  {
   "cell_type": "markdown",
   "id": "13ae9f65",
   "metadata": {},
   "source": [
    "## Codons"
   ]
  },
  {
   "cell_type": "markdown",
   "id": "7eebb79d",
   "metadata": {},
   "source": [
    "### Codon Table"
   ]
  },
  {
   "cell_type": "code",
   "execution_count": 1,
   "id": "1ecad29a",
   "metadata": {},
   "outputs": [],
   "source": [
    "# Standard genetic code (codon to amino acid mapping)\n",
    "CODON_TABLE = {\n",
    "    'TTT': 'F', 'TTC': 'F', 'TTA': 'L', 'TTG': 'L',\n",
    "    'TCT': 'S', 'TCC': 'S', 'TCA': 'S', 'TCG': 'S',\n",
    "    'TAT': 'Y', 'TAC': 'Y', 'TAA': '*', 'TAG': '*',\n",
    "    'TGT': 'C', 'TGC': 'C', 'TGA': '*', 'TGG': 'W',\n",
    "    'CTT': 'L', 'CTC': 'L', 'CTA': 'L', 'CTG': 'L',\n",
    "    'CCT': 'P', 'CCC': 'P', 'CCA': 'P', 'CCG': 'P',\n",
    "    'CAT': 'H', 'CAC': 'H', 'CAA': 'Q', 'CAG': 'Q',\n",
    "    'CGT': 'R', 'CGC': 'R', 'CGA': 'R', 'CGG': 'R',\n",
    "    'ATT': 'I', 'ATC': 'I', 'ATA': 'I', 'ATG': 'M',\n",
    "    'ACT': 'T', 'ACC': 'T', 'ACA': 'T', 'ACG': 'T',\n",
    "    'AAT': 'N', 'AAC': 'N', 'AAA': 'K', 'AAG': 'K',\n",
    "    'AGT': 'S', 'AGC': 'S', 'AGA': 'R', 'AGG': 'R',\n",
    "    'GTT': 'V', 'GTC': 'V', 'GTA': 'V', 'GTG': 'V',\n",
    "    'GCT': 'A', 'GCC': 'A', 'GCA': 'A', 'GCG': 'A',\n",
    "    'GAT': 'D', 'GAC': 'D', 'GAA': 'E', 'GAG': 'E',\n",
    "    'GGT': 'G', 'GGC': 'G', 'GGA': 'G', 'GGG': 'G'\n",
    "}"
   ]
  },
  {
   "cell_type": "code",
   "execution_count": 2,
   "id": "efb22254",
   "metadata": {},
   "outputs": [],
   "source": [
    "from collections import defaultdict\n",
    "\n",
    "# Group codons by amino acids\n",
    "def get_synonymous_codons():\n",
    "    \"\"\"Return dictionary of amino acids and their synonymous codons\"\"\"\n",
    "    aa_codons = defaultdict(list)\n",
    "    for codon, aa in CODON_TABLE.items():\n",
    "        if aa != '*':       # Exclude stop codons\n",
    "            aa_codons[aa].append(codon)\n",
    "    return dict(aa_codons)"
   ]
  },
  {
   "cell_type": "code",
   "execution_count": 4,
   "id": "eb9678f2",
   "metadata": {},
   "outputs": [
    {
     "data": {
      "text/plain": [
       "{'F': ['TTT', 'TTC'],\n",
       " 'L': ['TTA', 'TTG', 'CTT', 'CTC', 'CTA', 'CTG'],\n",
       " 'S': ['TCT', 'TCC', 'TCA', 'TCG', 'AGT', 'AGC'],\n",
       " 'Y': ['TAT', 'TAC'],\n",
       " 'C': ['TGT', 'TGC'],\n",
       " 'W': ['TGG'],\n",
       " 'P': ['CCT', 'CCC', 'CCA', 'CCG'],\n",
       " 'H': ['CAT', 'CAC'],\n",
       " 'Q': ['CAA', 'CAG'],\n",
       " 'R': ['CGT', 'CGC', 'CGA', 'CGG', 'AGA', 'AGG'],\n",
       " 'I': ['ATT', 'ATC', 'ATA'],\n",
       " 'M': ['ATG'],\n",
       " 'T': ['ACT', 'ACC', 'ACA', 'ACG'],\n",
       " 'N': ['AAT', 'AAC'],\n",
       " 'K': ['AAA', 'AAG'],\n",
       " 'V': ['GTT', 'GTC', 'GTA', 'GTG'],\n",
       " 'A': ['GCT', 'GCC', 'GCA', 'GCG'],\n",
       " 'D': ['GAT', 'GAC'],\n",
       " 'E': ['GAA', 'GAG'],\n",
       " 'G': ['GGT', 'GGC', 'GGA', 'GGG']}"
      ]
     },
     "execution_count": 4,
     "metadata": {},
     "output_type": "execute_result"
    }
   ],
   "source": [
    "SYNONYMOUS_CODONS = get_synonymous_codons()\n",
    "SYNONYMOUS_CODONS"
   ]
  },
  {
   "cell_type": "markdown",
   "id": "09c305b6",
   "metadata": {},
   "source": [
    "### Count Codons"
   ]
  },
  {
   "cell_type": "code",
   "execution_count": 5,
   "id": "12b039de",
   "metadata": {},
   "outputs": [],
   "source": [
    "from collections import Counter\n",
    "\n",
    "# Codon Counting Function\n",
    "def count_codons(sequence):\n",
    "    \"\"\"Count codon frequencies in a DNA sequence\"\"\"\n",
    "    sequence = sequence.upper().replace('U', 'T')\n",
    "\n",
    "    # Ensure sequence length is divisible by 3\n",
    "    if len(sequence) % 3 != 0:\n",
    "        sequence = sequence[:(len(sequence) % 3)]\n",
    "\n",
    "    # Collect the codons\n",
    "    codons = [sequence[i:i+3] for i in range(0, len(sequence), 3)]\n",
    "\n",
    "    # Filter valid codons\n",
    "    valid_codons = [c for c in codons if c in CODON_TABLE and CODON_TABLE[c] != '*']\n",
    "\n",
    "    return Counter(valid_codons)\n"
   ]
  },
  {
   "cell_type": "markdown",
   "id": "52118b49",
   "metadata": {},
   "source": [
    "### Calculate Relative Synonymous Codon Usage (RSCU)"
   ]
  },
  {
   "cell_type": "code",
   "execution_count": 6,
   "id": "c76dabef",
   "metadata": {},
   "outputs": [],
   "source": [
    "def calculate_rscu(codon_counts):\n",
    "    \"\"\"\n",
    "    Calculate Relative Synonymous Codon Usage (RSCU)\n",
    "\n",
    "    RSCU = (observed frequency of codon) / (expected frequency if all synonymous codon used equally)\n",
    "    RSCU = 1 means no bias\n",
    "    RSCU > 1.0 means codon is used more than expected\n",
    "    RSCU < 1.0 means codon is used less than expected\n",
    "\n",
    "    Parameters:\n",
    "    -----------\n",
    "    codon_counts: Counter\n",
    "        Codon Frequencies\n",
    "\n",
    "    Returns:\n",
    "    --------\n",
    "    dict: RSCU values for each codon\n",
    "    \"\"\"\n",
    "    rscu_values = {}\n",
    "\n",
    "    for aa, codons in SYNONYMOUS_CODONS.items():\n",
    "        # Count total usage of all synonymous codons for this amino acid\n",
    "        total_aa_count = sum(codon_counts.get(codon, 0) for codon in codons)\n",
    "\n",
    "        if total_aa_count == 0:\n",
    "            continue\n",
    "\n",
    "        # Calculate RSCU for each synonymous codon\n",
    "        num_synonymous = len(codons)\n",
    "        for codon in codons:\n",
    "            observed = codon_counts.get(codon, 0)\n",
    "            expected = total_aa_count / num_synonymous\n",
    "            rscu_values[codon] = (observed / expected) if expected > 0 else 0\n",
    "\n",
    "    return rscu_values"
   ]
  },
  {
   "cell_type": "markdown",
   "id": "b5f9502a",
   "metadata": {},
   "source": [
    "### Calculate Effective Number of Codons (ENC)"
   ]
  },
  {
   "cell_type": "code",
   "execution_count": 8,
   "id": "87964a90",
   "metadata": {},
   "outputs": [],
   "source": [
    "def calculate_enc(codon_counts):\n",
    "    \"\"\"\n",
    "    Calculate Effective Number of Codons (ENC)\n",
    "\n",
    "    ENC measures the overall codon usage bias in a gene\n",
    "    Range: 20 (maximum bias) to 61 (no bias)\n",
    "\n",
    "    Parameters:\n",
    "    -----------\n",
    "    codon_counts: Counter\n",
    "        Codon Frequencies\n",
    "\n",
    "    Returns:\n",
    "    --------\n",
    "    float: ENC Value\n",
    "    \"\"\"\n",
    "    \n",
    "    # Group amino acids by degeneracy\n",
    "    two_fold = ['D', 'E', 'F', 'H', 'K', 'N', 'Q', 'Y', 'C']\n",
    "    three_fold = ['I']\n",
    "    four_fold = ['A', 'G', 'P', 'T', 'V']\n",
    "    six_fold = ['L', 'R', 'S']\n",
    "\n",
    "    def homozygosity(codons, codon_counts):\n",
    "        \"\"\"Calculate homozygosity for a group of synonymous codons\"\"\"\n",
    "        total = sum(codon_counts.get(c, 0) for c in codons)\n",
    "        if total == 0:\n",
    "            return 0\n",
    "        return sum((codon_counts.get(c, 0) / total) ** 2 for c in codons)\n",
    "\n",
    "    # Calculate F values for each degeneracy class\n",
    "    F2 = np.mean([homozygosity(SYNONYMOUS_CODONS[aa], codon_counts) for aa in two_fold if aa in SYNONYMOUS_CODONS])\n",
    "    F3 = np.mean([homozygosity(SYNONYMOUS_CODONS['I'], codon_counts)])\n",
    "    F4 = np.mean([homozygosity(SYNONYMOUS_CODONS[aa], codon_counts) for aa in four_fold if aa in SYNONYMOUS_CODONS])\n",
    "    F6 = np.mean([homozygosity(SYNONYMOUS_CODONS[aa], codon_counts) for aa in six_fold if aa in SYNONYMOUS_CODONS])\n",
    "\n",
    "    # Calculate ENC\n",
    "    enc = 2 + 9/F2 + 1/F3 + 5/F4 + 3/F6 if all([F2, F3, F4, F6]) else 61\n",
    "\n",
    "    return min(enc, 61) # Cap at 61"
   ]
  },
  {
   "cell_type": "markdown",
   "id": "7c7b043e",
   "metadata": {},
   "source": [
    "### Calculate Codon Adaptation Index (CAI)"
   ]
  },
  {
   "cell_type": "code",
   "execution_count": 9,
   "id": "f7a582c8",
   "metadata": {},
   "outputs": [],
   "source": [
    "def calculate_cai(codon_counts, reference_counts):\n",
    "    \"\"\"\n",
    "    Calculate Codon Adaptation Index (CAI)\n",
    "\n",
    "    CAI measures how similar a gene's codon usage is to highly expressed genes\n",
    "    Range: 0 to 1 (higher = more similar to reference set)\n",
    "\n",
    "    Parameters:\n",
    "    -----------\n",
    "    codon_counts: Counter\n",
    "        Codon Frequencies in Gene\n",
    "    reference_counts: Counter\n",
    "        Codon Frequencies in reference set\n",
    "\n",
    "    Returns:\n",
    "    --------\n",
    "    float: CAI Value\n",
    "    \"\"\"\n",
    "\n",
    "    # Calculate relative adaptiveness (w) for each codon\n",
    "    w_values = {}\n",
    "    for aa, codons in SYNONYMOUS_CODONS.items():\n",
    "        max_usage = max(reference_counts.get(c, 0) for c in codons)\n",
    "        if max_usage == 0:\n",
    "            continue\n",
    "        for codon in codons:\n",
    "            w_values[codon] = reference_counts.get(codon, 0) / max_usage\n",
    "\n",
    "    # Calculate geometric mean of w values\n",
    "    w_products = []\n",
    "    for codon, count in codon_counts.items():\n",
    "        if codon in w_values and count > 0:\n",
    "            w_products.extend([w_values[codon]] * count)\n",
    "\n",
    "    if not w_products:\n",
    "        return 0\n",
    "    \n",
    "    cai = np.exp(np.mean(np.log(np.array(w_products) + 1e-10)))\n",
    "    return cai"
   ]
  },
  {
   "cell_type": "markdown",
   "id": "1581d822",
   "metadata": {},
   "source": [
    "## Multi-Species Analysis"
   ]
  },
  {
   "cell_type": "code",
   "execution_count": null,
   "id": "21aa55b0",
   "metadata": {},
   "outputs": [],
   "source": []
  }
 ],
 "metadata": {
  "kernelspec": {
   "display_name": ".venv (3.13.9)",
   "language": "python",
   "name": "python3"
  },
  "language_info": {
   "codemirror_mode": {
    "name": "ipython",
    "version": 3
   },
   "file_extension": ".py",
   "mimetype": "text/x-python",
   "name": "python",
   "nbconvert_exporter": "python",
   "pygments_lexer": "ipython3",
   "version": "3.13.9"
  }
 },
 "nbformat": 4,
 "nbformat_minor": 5
}
