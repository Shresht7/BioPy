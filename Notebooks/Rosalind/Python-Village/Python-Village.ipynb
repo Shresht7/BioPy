{
 "cells": [
  {
   "cell_type": "markdown",
   "id": "c28dd86d",
   "metadata": {},
   "source": [
    "# Rosalind - Python Village\n",
    "\n",
    "https://rosalind.info/problems/list-view/?location=python-village"
   ]
  },
  {
   "cell_type": "markdown",
   "id": "a9c9e9c7",
   "metadata": {},
   "source": [
    "## Installing Python\n",
    "\n",
    "https://rosalind.info/problems/ini1/"
   ]
  },
  {
   "cell_type": "code",
   "execution_count": 1,
   "id": "72cd13db",
   "metadata": {},
   "outputs": [
    {
     "name": "stdout",
     "output_type": "stream",
     "text": [
      "The Zen of Python, by Tim Peters\n",
      "\n",
      "Beautiful is better than ugly.\n",
      "Explicit is better than implicit.\n",
      "Simple is better than complex.\n",
      "Complex is better than complicated.\n",
      "Flat is better than nested.\n",
      "Sparse is better than dense.\n",
      "Readability counts.\n",
      "Special cases aren't special enough to break the rules.\n",
      "Although practicality beats purity.\n",
      "Errors should never pass silently.\n",
      "Unless explicitly silenced.\n",
      "In the face of ambiguity, refuse the temptation to guess.\n",
      "There should be one-- and preferably only one --obvious way to do it.\n",
      "Although that way may not be obvious at first unless you're Dutch.\n",
      "Now is better than never.\n",
      "Although never is often better than *right* now.\n",
      "If the implementation is hard to explain, it's a bad idea.\n",
      "If the implementation is easy to explain, it may be a good idea.\n",
      "Namespaces are one honking great idea -- let's do more of those!\n"
     ]
    }
   ],
   "source": [
    "import this"
   ]
  },
  {
   "cell_type": "markdown",
   "id": "1c539fdb",
   "metadata": {},
   "source": [
    "## Variables and Some Arithmetic\n",
    "\n",
    "https://rosalind.info/problems/ini2/"
   ]
  },
  {
   "cell_type": "code",
   "execution_count": 2,
   "id": "abaae548",
   "metadata": {},
   "outputs": [],
   "source": [
    "def problem(a: int, b: int) -> int:\n",
    "    return a ** 2 + b ** 2"
   ]
  },
  {
   "cell_type": "code",
   "execution_count": 3,
   "id": "69da1769",
   "metadata": {},
   "outputs": [
    {
     "data": {
      "text/plain": [
       "34"
      ]
     },
     "execution_count": 3,
     "metadata": {},
     "output_type": "execute_result"
    }
   ],
   "source": [
    "problem(3, 5)"
   ]
  },
  {
   "cell_type": "markdown",
   "id": "4d50a3aa",
   "metadata": {},
   "source": [
    "## Strings and Lists\n",
    "\n",
    "https://rosalind.info/problems/ini3/"
   ]
  },
  {
   "cell_type": "code",
   "execution_count": 7,
   "id": "40cf9385",
   "metadata": {},
   "outputs": [],
   "source": [
    "def problem(s: str, a: int, b: int, c: int, d:int) -> list[str]:\n",
    "    return s[a:b+1] + \" \" + s[c:d+1]"
   ]
  },
  {
   "cell_type": "code",
   "execution_count": 8,
   "id": "7b655827",
   "metadata": {},
   "outputs": [
    {
     "data": {
      "text/plain": [
       "'Humpty Dumpty'"
      ]
     },
     "execution_count": 8,
     "metadata": {},
     "output_type": "execute_result"
    }
   ],
   "source": [
    "problem(\"HumptyDumptysatonawallHumptyDumptyhadagreatfallAlltheKingshorsesandalltheKingsmenCouldntputHumptyDumptyinhisplaceagain.\", 22, 27, 97, 102)"
   ]
  },
  {
   "cell_type": "markdown",
   "id": "a988f428",
   "metadata": {},
   "source": [
    "## Conditions and Loops\n",
    "\n",
    "https://rosalind.info/problems/ini4/"
   ]
  },
  {
   "cell_type": "code",
   "execution_count": 9,
   "id": "606cf987",
   "metadata": {},
   "outputs": [],
   "source": [
    "def problem(a: int, b: int) -> int:\n",
    "    return sum(i for i in range(a, b) if i % 2 != 0)"
   ]
  },
  {
   "cell_type": "code",
   "execution_count": 10,
   "id": "94607592",
   "metadata": {},
   "outputs": [
    {
     "data": {
      "text/plain": [
       "7500"
      ]
     },
     "execution_count": 10,
     "metadata": {},
     "output_type": "execute_result"
    }
   ],
   "source": [
    "problem(100, 200)"
   ]
  },
  {
   "cell_type": "markdown",
   "id": "35fe17fd",
   "metadata": {},
   "source": [
    "## Working with Files\n",
    "\n",
    "https://rosalind.info/problems/ini5/"
   ]
  },
  {
   "cell_type": "code",
   "execution_count": 15,
   "id": "4ac21b57",
   "metadata": {},
   "outputs": [],
   "source": [
    "def problem(source: str, dest: str) -> str:\n",
    "    s = \"\"\n",
    "    with open(source, 'r') as file:\n",
    "        for i, line in enumerate(file):\n",
    "            if i % 2 == 0:\n",
    "                s += line\n",
    "    with open(dest, 'w') as file:\n",
    "        file.write(s)\n"
   ]
  },
  {
   "cell_type": "code",
   "execution_count": 16,
   "id": "892796cc",
   "metadata": {},
   "outputs": [],
   "source": [
    "problem(\"source.txt\", \"dest.txt\")"
   ]
  },
  {
   "cell_type": "markdown",
   "id": "2b973249",
   "metadata": {},
   "source": [
    "## Dictionaries\n",
    "\n",
    "https://rosalind.info/problems/ini6/"
   ]
  },
  {
   "cell_type": "code",
   "execution_count": 19,
   "id": "ed667a86",
   "metadata": {},
   "outputs": [],
   "source": [
    "def problem(s: str) -> dict[str, int]:\n",
    "    ret = {}\n",
    "    for word in s.split():\n",
    "        if word in ret:\n",
    "            ret[word] += 1\n",
    "        else:\n",
    "            ret[word] = 1\n",
    "    return ret"
   ]
  },
  {
   "cell_type": "code",
   "execution_count": 21,
   "id": "b648ee50",
   "metadata": {},
   "outputs": [
    {
     "name": "stdout",
     "output_type": "stream",
     "text": [
      "We 1\n",
      "tried 3\n",
      "list 1\n",
      "and 1\n",
      "we 2\n",
      "dicts 1\n",
      "also 1\n",
      "Zen 1\n"
     ]
    }
   ],
   "source": [
    "res = problem(\"We tried list and we tried dicts also we tried Zen\")\n",
    "for k, v in res.items():\n",
    "    print(f\"{k} {v}\")"
   ]
  },
  {
   "cell_type": "code",
   "execution_count": null,
   "id": "f81110c5",
   "metadata": {},
   "outputs": [],
   "source": []
  }
 ],
 "metadata": {
  "kernelspec": {
   "display_name": ".venv (3.13.9)",
   "language": "python",
   "name": "python3"
  },
  "language_info": {
   "codemirror_mode": {
    "name": "ipython",
    "version": 3
   },
   "file_extension": ".py",
   "mimetype": "text/x-python",
   "name": "python",
   "nbconvert_exporter": "python",
   "pygments_lexer": "ipython3",
   "version": "3.13.9"
  }
 },
 "nbformat": 4,
 "nbformat_minor": 5
}
