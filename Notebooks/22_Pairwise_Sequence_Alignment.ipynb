{
 "cells": [
  {
   "cell_type": "markdown",
   "id": "96bd7aeb",
   "metadata": {},
   "source": [
    "# Pairwise Sequence Alignment\n",
    "\n",
    "**Pairwise Sequence Alignment** is used to identify regions of similarity that may indicate functional, structural and/or evolutionary relationships between two biologic sequences (protein or nucleic acid)\n",
    "\n",
    "Identifying the similar region enables us to infer a lot of information like what traits are conserved between species, how close different species genetically are, how species evolve, etc.\n",
    "\n",
    "## Types of Pairwise Alignments\n",
    "\n",
    "1. **Global Alignments**: This method finds the best alignment over the entire lengths of the 2 sequences. What is the maximum similarity between sequence X and Y?\n",
    "2. **Local Alignments**: This method finds the most similar subsequence among the 2 sequences. What is the maximum similarity between a subsequence of X and a subsequence of Y?\n",
    "\n",
    "When doing alignments, you can specify the match score and gap penalties.\n",
    "\n",
    "1. The **match score** indicates the compatibility between an alignment of two characters in the sequences. Highly compatible characters should be given positive scores, and incompatible ones should be given negative scores or 0\n",
    "2. The **gap penalties** should be negative\n",
    "\n",
    "## `Bio.pairwise2`\n",
    "\n",
    "Biopython includes two built-in pairwise aligners: `Bio.pairwise2` module and `PairwiseAligner` class within the `Bio.Align` module. Both can perform global and local alignments. The names of the alignment functions in the `pairwise2` module follow the convention **alignmenttypeXY** where **alignmenttype** is either \"global\" or \"local\" and **XY** is a 2 character code indicating the parameters it takes. The first character **X** indicates the parameters for matches (and mismatches), and the second **Y** indicates the parameters for gap penalties.\n",
    "\n",
    "The match parameters are:\n",
    "1. x - No parameters. Identical characters have score of 1, otherwise 0\n",
    "2. m - A match score is the score of identical chars, otherwise mismatch score. Keywords: **match**, **mismatch**\n",
    "3. d - A dictionary returns the score of any pair of characters. Keyword: **match_dict**\n",
    "4. c - A callback function returns scores. Keyword: **match_fn**\n",
    "\n",
    "The gap penalty parameters are:\n",
    "1. x - No gap penalties\n",
    "2. s - Same open and extend gap penalties for both sequences. Keywords: **open**, **extend**\n",
    "3. d - The sequences have different open and extend gap penalties. Keywords: **openA**, **extendA**, **openB** and **extendB**\n",
    "4. c - A callback function returns the gap penalties. Keywords **gap_A_fn**, **gap_B_fn**\n",
    "\n",
    "For local alignment we use the same function and parameters, just instead of calling global we call local.\n",
    "\n",
    "### Examples of Global Alignment"
   ]
  },
  {
   "cell_type": "code",
   "execution_count": 1,
   "id": "7e641bd8",
   "metadata": {},
   "outputs": [
    {
     "name": "stderr",
     "output_type": "stream",
     "text": [
      "c:\\Users\\shres\\Projects\\Learning-BioPy\\.venv\\Lib\\site-packages\\Bio\\pairwise2.py:278: BiopythonDeprecationWarning: Bio.pairwise2 has been deprecated, and we intend to remove it in a future release of Biopython. As an alternative, please consider using Bio.Align.PairwiseAligner as a replacement, and contact the Biopython developers if you still need the Bio.pairwise2 module.\n",
      "  warnings.warn(\n"
     ]
    }
   ],
   "source": [
    "from Bio import pairwise2"
   ]
  },
  {
   "cell_type": "code",
   "execution_count": 2,
   "id": "4497f8dd",
   "metadata": {},
   "outputs": [
    {
     "name": "stdout",
     "output_type": "stream",
     "text": [
      "ACCGGT\n",
      "| | ||\n",
      "A-C-GT\n",
      "  Score=4\n",
      "\n",
      "ACCGGT\n",
      "||  ||\n",
      "AC--GT\n",
      "  Score=4\n",
      "\n",
      "ACCGGT\n",
      "| || |\n",
      "A-CG-T\n",
      "  Score=4\n",
      "\n",
      "ACCGGT\n",
      "|| | |\n",
      "AC-G-T\n",
      "  Score=4\n",
      "\n"
     ]
    }
   ],
   "source": [
    "# globalxx - matches score 1, mismatches 0 and no gap penalty\n",
    "alignments = pairwise2.align.globalxx('ACCGGT', \"ACGT\")\n",
    "for alignment in alignments:\n",
    "    print(pairwise2.format_alignment(*alignment))"
   ]
  },
  {
   "cell_type": "code",
   "execution_count": 3,
   "id": "3e731495",
   "metadata": {},
   "outputs": [
    {
     "name": "stdout",
     "output_type": "stream",
     "text": [
      "ACCGGT\n",
      "| | ||\n",
      "A-C-GT\n",
      "  Score=8\n",
      "\n",
      "ACCGGT\n",
      "||  ||\n",
      "AC--GT\n",
      "  Score=8\n",
      "\n",
      "ACCGGT\n",
      "| || |\n",
      "A-CG-T\n",
      "  Score=8\n",
      "\n",
      "ACCGGT\n",
      "|| | |\n",
      "AC-G-T\n",
      "  Score=8\n",
      "\n"
     ]
    }
   ],
   "source": [
    "# globalmx - # matches score 2, mismatches -1. No gap penalty\n",
    "alignments = pairwise2.align.globalmx(\"ACCGGT\", \"ACGT\", match=2, mismatch=-1)\n",
    "for alignment in alignments:\n",
    "    print(pairwise2.format_alignment(*alignment))"
   ]
  },
  {
   "cell_type": "markdown",
   "id": "393c8ab2",
   "metadata": {},
   "source": []
  },
  {
   "cell_type": "code",
   "execution_count": 4,
   "id": "67664fd3",
   "metadata": {},
   "outputs": [
    {
     "name": "stdout",
     "output_type": "stream",
     "text": [
      "ACCGGT\n",
      "||  ||\n",
      "AC--GT\n",
      "  Score=1\n",
      "\n"
     ]
    }
   ],
   "source": [
    "# globalxs - matches score 1, mismatches 0, opening gap -2, extended gap -1\n",
    "alignments = pairwise2.align.globalxs(\"ACCGGT\", \"ACGT\", open=-2, extend=-1)\n",
    "for alignment in alignments:\n",
    "    print(pairwise2.format_alignment(*alignment))"
   ]
  },
  {
   "cell_type": "code",
   "execution_count": 6,
   "id": "18edfb87",
   "metadata": {},
   "outputs": [
    {
     "name": "stdout",
     "output_type": "stream",
     "text": [
      "KEVLA\n",
      " ||| \n",
      "-EVL-\n",
      "  Score=13\n",
      "\n"
     ]
    }
   ],
   "source": [
    "# globadx - matching/mismatching scores read from blosum62 matrix, no gap penalty\n",
    "from Bio.Align import substitution_matrices\n",
    "\n",
    "matrix = substitution_matrices.load(\"BLOSUM62\") # blosum62 scoring matrix for sequence alignment\n",
    "alignments = pairwise2.align.globaldx(\"KEVLA\", \"EVL\", match_dict=matrix)\n",
    "for alignment in alignments:\n",
    "    print(pairwise2.format_alignment(*alignment))"
   ]
  },
  {
   "cell_type": "code",
   "execution_count": 7,
   "id": "22414e70",
   "metadata": {},
   "outputs": [
    {
     "name": "stdout",
     "output_type": "stream",
     "text": [
      "ACCCCCGT\n",
      "|    || \n",
      "A----CG-\n",
      "  Score=9.30685\n",
      "\n",
      "ACCCCCGT\n",
      "||    | \n",
      "AC----G-\n",
      "  Score=9.30685\n",
      "\n"
     ]
    }
   ],
   "source": [
    "# globalmc - matches score 5, mismatches -4, gap penalty defined through function gap_function\n",
    "from math import log\n",
    "\n",
    "def gap_function(x, y):     # x is gap position in seq, y is gap length\n",
    "    if y == 0:              # No gap\n",
    "        return 0\n",
    "    elif y == 1:            # Gap open penalty\n",
    "        return -2\n",
    "    return - (2 + y/4.0 + log(y) / 2.0)\n",
    "\n",
    "alignments = pairwise2.align.globalmc(\"ACCCCCGT\", \"ACG\", match=5, mismatch=-4, gap_A_fn=gap_function, gap_B_fn=gap_function)\n",
    "for alignment in alignments:\n",
    "    print(pairwise2.format_alignment(*alignment))\n"
   ]
  },
  {
   "cell_type": "code",
   "execution_count": null,
   "id": "e6723fd5",
   "metadata": {},
   "outputs": [],
   "source": []
  }
 ],
 "metadata": {
  "kernelspec": {
   "display_name": ".venv (3.13.9)",
   "language": "python",
   "name": "python3"
  },
  "language_info": {
   "codemirror_mode": {
    "name": "ipython",
    "version": 3
   },
   "file_extension": ".py",
   "mimetype": "text/x-python",
   "name": "python",
   "nbconvert_exporter": "python",
   "pygments_lexer": "ipython3",
   "version": "3.13.9"
  }
 },
 "nbformat": 4,
 "nbformat_minor": 5
}
