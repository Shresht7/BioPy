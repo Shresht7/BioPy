{
 "cells": [
  {
   "cell_type": "markdown",
   "id": "2e8b8e35",
   "metadata": {},
   "source": [
    "# Protein Structure and Codon Usage Bias\n",
    "\n",
    "Proteins are made up of chains of amino acis. Each amino acid can be encoded by more than one codon, this is known as the **degeneracy of the genetic code**.\n",
    "\n",
    "Example:\n",
    "```yaml\n",
    "Amino Acid: Leucine (Leu)\n",
    "Codons: UUA, UUG, CUU, CUC, CUA, CUG\n",
    "```\n",
    "\n",
    "Different organisms prefer certain codons even when they encode the same amino acid, this is called **codon usage bias**. It affects how proteins are made."
   ]
  },
  {
   "cell_type": "code",
   "execution_count": 17,
   "id": "42c5629b",
   "metadata": {},
   "outputs": [],
   "source": [
    "from dna import DNASequence, transcribe, CODON_TABLE"
   ]
  },
  {
   "cell_type": "code",
   "execution_count": 18,
   "id": "b4a2bfdf",
   "metadata": {},
   "outputs": [],
   "source": [
    "from collections import Counter\n",
    "\n",
    "def codon_usage(seq: str):\n",
    "    \"\"\"Return frequency of each codon in the DNA sequence\"\"\"\n",
    "    rna = transcribe(seq)\n",
    "    codons = [rna[i:i+3] for i in range(0, len(rna) - 2, 3)]\n",
    "    counts = Counter(codons)\n",
    "    total = sum(counts.values())\n",
    "    usage = {codon: count / total for codon, count in counts.items()}\n",
    "    return usage"
   ]
  },
  {
   "cell_type": "code",
   "execution_count": 19,
   "id": "0da8fb1b",
   "metadata": {},
   "outputs": [
    {
     "data": {
      "text/plain": [
       "<DNASequence(length=512)?"
      ]
     },
     "execution_count": 19,
     "metadata": {},
     "output_type": "execute_result"
    }
   ],
   "source": [
    "seq = DNASequence.random(512)\n",
    "seq"
   ]
  },
  {
   "cell_type": "code",
   "execution_count": 20,
   "id": "5bd579a3",
   "metadata": {},
   "outputs": [
    {
     "name": "stdout",
     "output_type": "stream",
     "text": [
      "CGA: 1.76%\n",
      "UGU: 2.35%\n",
      "GGU: 2.94%\n",
      "CGG: 1.18%\n",
      "UUU: 1.76%\n",
      "CGU: 0.59%\n",
      "GUG: 2.94%\n",
      "GAA: 2.94%\n",
      "CUC: 1.18%\n",
      "UAU: 1.18%\n",
      "ACC: 2.35%\n",
      "AUU: 0.59%\n",
      "AAG: 3.53%\n",
      "AGU: 2.94%\n",
      "CCC: 2.35%\n",
      "GAG: 1.18%\n",
      "CAA: 1.18%\n",
      "GGG: 1.76%\n",
      "GGA: 1.18%\n",
      "AUG: 3.53%\n",
      "GUU: 2.94%\n",
      "GAC: 1.76%\n",
      "CCG: 1.76%\n",
      "UGA: 2.94%\n",
      "UGG: 2.94%\n",
      "CAU: 0.59%\n",
      "CAC: 2.35%\n",
      "CUA: 1.18%\n",
      "GCG: 1.18%\n",
      "UUC: 0.59%\n",
      "AAA: 0.59%\n",
      "CCA: 1.18%\n",
      "CGC: 2.35%\n",
      "ACU: 2.35%\n",
      "CAG: 1.76%\n",
      "AAC: 1.76%\n",
      "CUG: 2.35%\n",
      "GAU: 1.18%\n",
      "GCA: 1.76%\n",
      "AGA: 0.59%\n",
      "GCU: 2.35%\n",
      "GCC: 2.35%\n",
      "GUA: 1.18%\n",
      "UUG: 1.18%\n",
      "UAG: 1.18%\n",
      "GGC: 1.76%\n",
      "ACG: 1.18%\n",
      "AGC: 1.76%\n",
      "UCC: 1.76%\n",
      "AAU: 0.59%\n",
      "UCA: 1.18%\n",
      "AUA: 1.18%\n",
      "UUA: 1.18%\n",
      "UAA: 1.18%\n",
      "CUU: 1.18%\n",
      "UCU: 1.76%\n",
      "AGG: 1.18%\n",
      "UCG: 0.59%\n",
      "CCU: 0.59%\n",
      "ACA: 1.18%\n"
     ]
    }
   ],
   "source": [
    "usage = codon_usage(seq.sequence)\n",
    "\n",
    "for codon, freq in usage.items():\n",
    "    print(f'{codon}: {freq:.2%}')"
   ]
  },
  {
   "cell_type": "markdown",
   "id": "7768b4c3",
   "metadata": {},
   "source": [
    "## Visualize Codon Usage"
   ]
  },
  {
   "cell_type": "code",
   "execution_count": 21,
   "id": "ea613cbe",
   "metadata": {},
   "outputs": [],
   "source": [
    "import plotly.graph_objects as go"
   ]
  },
  {
   "cell_type": "code",
   "execution_count": 22,
   "id": "ffe005a8",
   "metadata": {},
   "outputs": [],
   "source": [
    "def plot_codon_usage(usage):\n",
    "    codons = list(usage.keys())\n",
    "    freqs = list(usage.values())\n",
    "\n",
    "    fig = go.Figure(data=[go.Bar(x=codons, y=freqs)])\n",
    "    fig.update_layout(\n",
    "        title = \"Codon Usage Frequency\",\n",
    "        xaxis_title = \"Codon\",\n",
    "        yaxis_title = \"Frequency\",\n",
    "        height = 400\n",
    "    )\n",
    "\n",
    "    fig.show()"
   ]
  },
  {
   "cell_type": "code",
   "execution_count": 23,
   "id": "4a8161a6",
   "metadata": {},
   "outputs": [
    {
     "data": {
      "application/vnd.plotly.v1+json": {
       "config": {
        "plotlyServerURL": "https://plot.ly"
       },
       "data": [
        {
         "type": "bar",
         "x": [
          "CGA",
          "UGU",
          "GGU",
          "CGG",
          "UUU",
          "CGU",
          "GUG",
          "GAA",
          "CUC",
          "UAU",
          "ACC",
          "AUU",
          "AAG",
          "AGU",
          "CCC",
          "GAG",
          "CAA",
          "GGG",
          "GGA",
          "AUG",
          "GUU",
          "GAC",
          "CCG",
          "UGA",
          "UGG",
          "CAU",
          "CAC",
          "CUA",
          "GCG",
          "UUC",
          "AAA",
          "CCA",
          "CGC",
          "ACU",
          "CAG",
          "AAC",
          "CUG",
          "GAU",
          "GCA",
          "AGA",
          "GCU",
          "GCC",
          "GUA",
          "UUG",
          "UAG",
          "GGC",
          "ACG",
          "AGC",
          "UCC",
          "AAU",
          "UCA",
          "AUA",
          "UUA",
          "UAA",
          "CUU",
          "UCU",
          "AGG",
          "UCG",
          "CCU",
          "ACA"
         ],
         "y": [
          0.01764705882352941,
          0.023529411764705882,
          0.029411764705882353,
          0.011764705882352941,
          0.01764705882352941,
          0.0058823529411764705,
          0.029411764705882353,
          0.029411764705882353,
          0.011764705882352941,
          0.011764705882352941,
          0.023529411764705882,
          0.0058823529411764705,
          0.03529411764705882,
          0.029411764705882353,
          0.023529411764705882,
          0.011764705882352941,
          0.011764705882352941,
          0.01764705882352941,
          0.011764705882352941,
          0.03529411764705882,
          0.029411764705882353,
          0.01764705882352941,
          0.01764705882352941,
          0.029411764705882353,
          0.029411764705882353,
          0.0058823529411764705,
          0.023529411764705882,
          0.011764705882352941,
          0.011764705882352941,
          0.0058823529411764705,
          0.0058823529411764705,
          0.011764705882352941,
          0.023529411764705882,
          0.023529411764705882,
          0.01764705882352941,
          0.01764705882352941,
          0.023529411764705882,
          0.011764705882352941,
          0.01764705882352941,
          0.0058823529411764705,
          0.023529411764705882,
          0.023529411764705882,
          0.011764705882352941,
          0.011764705882352941,
          0.011764705882352941,
          0.01764705882352941,
          0.011764705882352941,
          0.01764705882352941,
          0.01764705882352941,
          0.0058823529411764705,
          0.011764705882352941,
          0.011764705882352941,
          0.011764705882352941,
          0.011764705882352941,
          0.011764705882352941,
          0.01764705882352941,
          0.011764705882352941,
          0.0058823529411764705,
          0.0058823529411764705,
          0.011764705882352941
         ]
        }
       ],
       "layout": {
        "height": 400,
        "template": {
         "data": {
          "bar": [
           {
            "error_x": {
             "color": "#2a3f5f"
            },
            "error_y": {
             "color": "#2a3f5f"
            },
            "marker": {
             "line": {
              "color": "#E5ECF6",
              "width": 0.5
             },
             "pattern": {
              "fillmode": "overlay",
              "size": 10,
              "solidity": 0.2
             }
            },
            "type": "bar"
           }
          ],
          "barpolar": [
           {
            "marker": {
             "line": {
              "color": "#E5ECF6",
              "width": 0.5
             },
             "pattern": {
              "fillmode": "overlay",
              "size": 10,
              "solidity": 0.2
             }
            },
            "type": "barpolar"
           }
          ],
          "carpet": [
           {
            "aaxis": {
             "endlinecolor": "#2a3f5f",
             "gridcolor": "white",
             "linecolor": "white",
             "minorgridcolor": "white",
             "startlinecolor": "#2a3f5f"
            },
            "baxis": {
             "endlinecolor": "#2a3f5f",
             "gridcolor": "white",
             "linecolor": "white",
             "minorgridcolor": "white",
             "startlinecolor": "#2a3f5f"
            },
            "type": "carpet"
           }
          ],
          "choropleth": [
           {
            "colorbar": {
             "outlinewidth": 0,
             "ticks": ""
            },
            "type": "choropleth"
           }
          ],
          "contour": [
           {
            "colorbar": {
             "outlinewidth": 0,
             "ticks": ""
            },
            "colorscale": [
             [
              0,
              "#0d0887"
             ],
             [
              0.1111111111111111,
              "#46039f"
             ],
             [
              0.2222222222222222,
              "#7201a8"
             ],
             [
              0.3333333333333333,
              "#9c179e"
             ],
             [
              0.4444444444444444,
              "#bd3786"
             ],
             [
              0.5555555555555556,
              "#d8576b"
             ],
             [
              0.6666666666666666,
              "#ed7953"
             ],
             [
              0.7777777777777778,
              "#fb9f3a"
             ],
             [
              0.8888888888888888,
              "#fdca26"
             ],
             [
              1,
              "#f0f921"
             ]
            ],
            "type": "contour"
           }
          ],
          "contourcarpet": [
           {
            "colorbar": {
             "outlinewidth": 0,
             "ticks": ""
            },
            "type": "contourcarpet"
           }
          ],
          "heatmap": [
           {
            "colorbar": {
             "outlinewidth": 0,
             "ticks": ""
            },
            "colorscale": [
             [
              0,
              "#0d0887"
             ],
             [
              0.1111111111111111,
              "#46039f"
             ],
             [
              0.2222222222222222,
              "#7201a8"
             ],
             [
              0.3333333333333333,
              "#9c179e"
             ],
             [
              0.4444444444444444,
              "#bd3786"
             ],
             [
              0.5555555555555556,
              "#d8576b"
             ],
             [
              0.6666666666666666,
              "#ed7953"
             ],
             [
              0.7777777777777778,
              "#fb9f3a"
             ],
             [
              0.8888888888888888,
              "#fdca26"
             ],
             [
              1,
              "#f0f921"
             ]
            ],
            "type": "heatmap"
           }
          ],
          "histogram": [
           {
            "marker": {
             "pattern": {
              "fillmode": "overlay",
              "size": 10,
              "solidity": 0.2
             }
            },
            "type": "histogram"
           }
          ],
          "histogram2d": [
           {
            "colorbar": {
             "outlinewidth": 0,
             "ticks": ""
            },
            "colorscale": [
             [
              0,
              "#0d0887"
             ],
             [
              0.1111111111111111,
              "#46039f"
             ],
             [
              0.2222222222222222,
              "#7201a8"
             ],
             [
              0.3333333333333333,
              "#9c179e"
             ],
             [
              0.4444444444444444,
              "#bd3786"
             ],
             [
              0.5555555555555556,
              "#d8576b"
             ],
             [
              0.6666666666666666,
              "#ed7953"
             ],
             [
              0.7777777777777778,
              "#fb9f3a"
             ],
             [
              0.8888888888888888,
              "#fdca26"
             ],
             [
              1,
              "#f0f921"
             ]
            ],
            "type": "histogram2d"
           }
          ],
          "histogram2dcontour": [
           {
            "colorbar": {
             "outlinewidth": 0,
             "ticks": ""
            },
            "colorscale": [
             [
              0,
              "#0d0887"
             ],
             [
              0.1111111111111111,
              "#46039f"
             ],
             [
              0.2222222222222222,
              "#7201a8"
             ],
             [
              0.3333333333333333,
              "#9c179e"
             ],
             [
              0.4444444444444444,
              "#bd3786"
             ],
             [
              0.5555555555555556,
              "#d8576b"
             ],
             [
              0.6666666666666666,
              "#ed7953"
             ],
             [
              0.7777777777777778,
              "#fb9f3a"
             ],
             [
              0.8888888888888888,
              "#fdca26"
             ],
             [
              1,
              "#f0f921"
             ]
            ],
            "type": "histogram2dcontour"
           }
          ],
          "mesh3d": [
           {
            "colorbar": {
             "outlinewidth": 0,
             "ticks": ""
            },
            "type": "mesh3d"
           }
          ],
          "parcoords": [
           {
            "line": {
             "colorbar": {
              "outlinewidth": 0,
              "ticks": ""
             }
            },
            "type": "parcoords"
           }
          ],
          "pie": [
           {
            "automargin": true,
            "type": "pie"
           }
          ],
          "scatter": [
           {
            "fillpattern": {
             "fillmode": "overlay",
             "size": 10,
             "solidity": 0.2
            },
            "type": "scatter"
           }
          ],
          "scatter3d": [
           {
            "line": {
             "colorbar": {
              "outlinewidth": 0,
              "ticks": ""
             }
            },
            "marker": {
             "colorbar": {
              "outlinewidth": 0,
              "ticks": ""
             }
            },
            "type": "scatter3d"
           }
          ],
          "scattercarpet": [
           {
            "marker": {
             "colorbar": {
              "outlinewidth": 0,
              "ticks": ""
             }
            },
            "type": "scattercarpet"
           }
          ],
          "scattergeo": [
           {
            "marker": {
             "colorbar": {
              "outlinewidth": 0,
              "ticks": ""
             }
            },
            "type": "scattergeo"
           }
          ],
          "scattergl": [
           {
            "marker": {
             "colorbar": {
              "outlinewidth": 0,
              "ticks": ""
             }
            },
            "type": "scattergl"
           }
          ],
          "scattermap": [
           {
            "marker": {
             "colorbar": {
              "outlinewidth": 0,
              "ticks": ""
             }
            },
            "type": "scattermap"
           }
          ],
          "scattermapbox": [
           {
            "marker": {
             "colorbar": {
              "outlinewidth": 0,
              "ticks": ""
             }
            },
            "type": "scattermapbox"
           }
          ],
          "scatterpolar": [
           {
            "marker": {
             "colorbar": {
              "outlinewidth": 0,
              "ticks": ""
             }
            },
            "type": "scatterpolar"
           }
          ],
          "scatterpolargl": [
           {
            "marker": {
             "colorbar": {
              "outlinewidth": 0,
              "ticks": ""
             }
            },
            "type": "scatterpolargl"
           }
          ],
          "scatterternary": [
           {
            "marker": {
             "colorbar": {
              "outlinewidth": 0,
              "ticks": ""
             }
            },
            "type": "scatterternary"
           }
          ],
          "surface": [
           {
            "colorbar": {
             "outlinewidth": 0,
             "ticks": ""
            },
            "colorscale": [
             [
              0,
              "#0d0887"
             ],
             [
              0.1111111111111111,
              "#46039f"
             ],
             [
              0.2222222222222222,
              "#7201a8"
             ],
             [
              0.3333333333333333,
              "#9c179e"
             ],
             [
              0.4444444444444444,
              "#bd3786"
             ],
             [
              0.5555555555555556,
              "#d8576b"
             ],
             [
              0.6666666666666666,
              "#ed7953"
             ],
             [
              0.7777777777777778,
              "#fb9f3a"
             ],
             [
              0.8888888888888888,
              "#fdca26"
             ],
             [
              1,
              "#f0f921"
             ]
            ],
            "type": "surface"
           }
          ],
          "table": [
           {
            "cells": {
             "fill": {
              "color": "#EBF0F8"
             },
             "line": {
              "color": "white"
             }
            },
            "header": {
             "fill": {
              "color": "#C8D4E3"
             },
             "line": {
              "color": "white"
             }
            },
            "type": "table"
           }
          ]
         },
         "layout": {
          "annotationdefaults": {
           "arrowcolor": "#2a3f5f",
           "arrowhead": 0,
           "arrowwidth": 1
          },
          "autotypenumbers": "strict",
          "coloraxis": {
           "colorbar": {
            "outlinewidth": 0,
            "ticks": ""
           }
          },
          "colorscale": {
           "diverging": [
            [
             0,
             "#8e0152"
            ],
            [
             0.1,
             "#c51b7d"
            ],
            [
             0.2,
             "#de77ae"
            ],
            [
             0.3,
             "#f1b6da"
            ],
            [
             0.4,
             "#fde0ef"
            ],
            [
             0.5,
             "#f7f7f7"
            ],
            [
             0.6,
             "#e6f5d0"
            ],
            [
             0.7,
             "#b8e186"
            ],
            [
             0.8,
             "#7fbc41"
            ],
            [
             0.9,
             "#4d9221"
            ],
            [
             1,
             "#276419"
            ]
           ],
           "sequential": [
            [
             0,
             "#0d0887"
            ],
            [
             0.1111111111111111,
             "#46039f"
            ],
            [
             0.2222222222222222,
             "#7201a8"
            ],
            [
             0.3333333333333333,
             "#9c179e"
            ],
            [
             0.4444444444444444,
             "#bd3786"
            ],
            [
             0.5555555555555556,
             "#d8576b"
            ],
            [
             0.6666666666666666,
             "#ed7953"
            ],
            [
             0.7777777777777778,
             "#fb9f3a"
            ],
            [
             0.8888888888888888,
             "#fdca26"
            ],
            [
             1,
             "#f0f921"
            ]
           ],
           "sequentialminus": [
            [
             0,
             "#0d0887"
            ],
            [
             0.1111111111111111,
             "#46039f"
            ],
            [
             0.2222222222222222,
             "#7201a8"
            ],
            [
             0.3333333333333333,
             "#9c179e"
            ],
            [
             0.4444444444444444,
             "#bd3786"
            ],
            [
             0.5555555555555556,
             "#d8576b"
            ],
            [
             0.6666666666666666,
             "#ed7953"
            ],
            [
             0.7777777777777778,
             "#fb9f3a"
            ],
            [
             0.8888888888888888,
             "#fdca26"
            ],
            [
             1,
             "#f0f921"
            ]
           ]
          },
          "colorway": [
           "#636efa",
           "#EF553B",
           "#00cc96",
           "#ab63fa",
           "#FFA15A",
           "#19d3f3",
           "#FF6692",
           "#B6E880",
           "#FF97FF",
           "#FECB52"
          ],
          "font": {
           "color": "#2a3f5f"
          },
          "geo": {
           "bgcolor": "white",
           "lakecolor": "white",
           "landcolor": "#E5ECF6",
           "showlakes": true,
           "showland": true,
           "subunitcolor": "white"
          },
          "hoverlabel": {
           "align": "left"
          },
          "hovermode": "closest",
          "mapbox": {
           "style": "light"
          },
          "paper_bgcolor": "white",
          "plot_bgcolor": "#E5ECF6",
          "polar": {
           "angularaxis": {
            "gridcolor": "white",
            "linecolor": "white",
            "ticks": ""
           },
           "bgcolor": "#E5ECF6",
           "radialaxis": {
            "gridcolor": "white",
            "linecolor": "white",
            "ticks": ""
           }
          },
          "scene": {
           "xaxis": {
            "backgroundcolor": "#E5ECF6",
            "gridcolor": "white",
            "gridwidth": 2,
            "linecolor": "white",
            "showbackground": true,
            "ticks": "",
            "zerolinecolor": "white"
           },
           "yaxis": {
            "backgroundcolor": "#E5ECF6",
            "gridcolor": "white",
            "gridwidth": 2,
            "linecolor": "white",
            "showbackground": true,
            "ticks": "",
            "zerolinecolor": "white"
           },
           "zaxis": {
            "backgroundcolor": "#E5ECF6",
            "gridcolor": "white",
            "gridwidth": 2,
            "linecolor": "white",
            "showbackground": true,
            "ticks": "",
            "zerolinecolor": "white"
           }
          },
          "shapedefaults": {
           "line": {
            "color": "#2a3f5f"
           }
          },
          "ternary": {
           "aaxis": {
            "gridcolor": "white",
            "linecolor": "white",
            "ticks": ""
           },
           "baxis": {
            "gridcolor": "white",
            "linecolor": "white",
            "ticks": ""
           },
           "bgcolor": "#E5ECF6",
           "caxis": {
            "gridcolor": "white",
            "linecolor": "white",
            "ticks": ""
           }
          },
          "title": {
           "x": 0.05
          },
          "xaxis": {
           "automargin": true,
           "gridcolor": "white",
           "linecolor": "white",
           "ticks": "",
           "title": {
            "standoff": 15
           },
           "zerolinecolor": "white",
           "zerolinewidth": 2
          },
          "yaxis": {
           "automargin": true,
           "gridcolor": "white",
           "linecolor": "white",
           "ticks": "",
           "title": {
            "standoff": 15
           },
           "zerolinecolor": "white",
           "zerolinewidth": 2
          }
         }
        },
        "title": {
         "text": "Codon Usage Frequency"
        },
        "xaxis": {
         "title": {
          "text": "Codon"
         }
        },
        "yaxis": {
         "title": {
          "text": "Frequency"
         }
        }
       }
      }
     },
     "metadata": {},
     "output_type": "display_data"
    }
   ],
   "source": [
    "plot_codon_usage(usage)"
   ]
  },
  {
   "cell_type": "markdown",
   "id": "2393916f",
   "metadata": {},
   "source": [
    "A codon usage bias indicates which codons are \"preferred\" by a species.\n",
    "\n",
    "Scientists use this information to:\n",
    "- Optimize genes for expression in another organism (e.g. bacteria producing human insulin)\n",
    "- Study evolutionary relationships\n",
    "- Identify genes with abnormal codon patterns (potentially horizontal gene transfer)"
   ]
  },
  {
   "cell_type": "markdown",
   "id": "fd216160",
   "metadata": {},
   "source": [
    "## Visualize Codon Usage by Amino Acids\n",
    "\n",
    "Each amino acid can be represented by 1-6 codons.\n",
    "\n",
    "For example:\n",
    "|Amino Acid|Codons|\n",
    "|---|---|\n",
    "|Leucine (Leu)| UUA, UUG, CUU, CUC, CUA, CUG|\n",
    "|Serine (Ser)|UCU, UCC, UCA, UCG, AGU, AGC|\n",
    "|Methionine (Met)|AUG|\n",
    "\n",
    "If an organism prefers one codon (say, CUG for Leucine), it may indicate optimization for specific tRNAs and expression efficiency."
   ]
  },
  {
   "cell_type": "code",
   "execution_count": 24,
   "id": "ae52cff4",
   "metadata": {},
   "outputs": [],
   "source": [
    "from collections import defaultdict\n",
    "import plotly.graph_objects as go"
   ]
  },
  {
   "cell_type": "code",
   "execution_count": 25,
   "id": "05b8bf07",
   "metadata": {},
   "outputs": [],
   "source": [
    "def codon_usage_by_amino_acid(seq: str):\n",
    "    \"\"\"Returns a mapping of amino acid -> {codon: frequency}\"\"\"\n",
    "    usage = codon_usage(seq)\n",
    "    aa_usage = defaultdict(dict)\n",
    "\n",
    "    for codon, freq in usage.items():\n",
    "        aa = CODON_TABLE.get(codon, \"Unknown\")\n",
    "        aa_usage[aa][codon] = freq\n",
    "\n",
    "    return aa_usage"
   ]
  },
  {
   "cell_type": "code",
   "execution_count": 26,
   "id": "8ba48536",
   "metadata": {},
   "outputs": [],
   "source": [
    "def plot_codon_usage_by_amino_acid(seq: str):\n",
    "    \"\"\"Visualize codon usage grouped by amino acids\"\"\"\n",
    "    aa_usage = codon_usage_by_amino_acid(seq)\n",
    "\n",
    "    amino_acids = []\n",
    "    codon_labels = []\n",
    "    freqs = []\n",
    "\n",
    "    # Flatten grouped data\n",
    "    for aa, codons in aa_usage.items():\n",
    "        for codon, freq in codons.items():\n",
    "            amino_acids.append(aa)\n",
    "            codon_labels.append(codon)\n",
    "            freqs.append(freq)\n",
    "\n",
    "    fig = go.Figure(data=[go.Bar(\n",
    "        x = amino_acids,\n",
    "        y = freqs,\n",
    "        text = codon_labels,\n",
    "        hovertemplate = \"Amino Acid: %{x}<br>Codon: %{text}<br>Frequency: %{y}\",\n",
    "        marker=dict(color=\"rgba(0, 123, 255, 0.6)\")\n",
    "    )])\n",
    "\n",
    "    fig.update_layout(\n",
    "        title = \"Codon Usage Grouped by Amino Acids\",\n",
    "        xaxis_title = \"Amino Acid\",\n",
    "        yaxis_title = \"Codon Frequency\",\n",
    "        height = 500\n",
    "    )\n",
    "\n",
    "    fig.show()"
   ]
  },
  {
   "cell_type": "code",
   "execution_count": 27,
   "id": "57f8ec7f",
   "metadata": {},
   "outputs": [
    {
     "data": {
      "application/vnd.plotly.v1+json": {
       "config": {
        "plotlyServerURL": "https://plot.ly"
       },
       "data": [
        {
         "hovertemplate": "Amino Acid: %{x}<br>Codon: %{text}<br>Frequency: %{y}",
         "marker": {
          "color": "rgba(0, 123, 255, 0.6)"
         },
         "text": [
          "CGA",
          "CGG",
          "CGU",
          "CGC",
          "AGA",
          "AGG",
          "UGU",
          "GGU",
          "GGG",
          "GGA",
          "GGC",
          "UUU",
          "UUC",
          "GUG",
          "GUU",
          "GUA",
          "GAA",
          "GAG",
          "CUC",
          "CUA",
          "CUG",
          "UUG",
          "UUA",
          "CUU",
          "UAU",
          "ACC",
          "ACU",
          "ACG",
          "ACA",
          "AUU",
          "AUA",
          "AAG",
          "AAA",
          "AGU",
          "AGC",
          "UCC",
          "UCA",
          "UCU",
          "UCG",
          "CCC",
          "CCG",
          "CCA",
          "CCU",
          "CAA",
          "CAG",
          "AUG",
          "GAC",
          "GAU",
          "UGA",
          "UAG",
          "UAA",
          "UGG",
          "CAU",
          "CAC",
          "GCG",
          "GCA",
          "GCU",
          "GCC",
          "AAC",
          "AAU"
         ],
         "type": "bar",
         "x": [
          "R",
          "R",
          "R",
          "R",
          "R",
          "R",
          "C",
          "G",
          "G",
          "G",
          "G",
          "F",
          "F",
          "V",
          "V",
          "V",
          "E",
          "E",
          "L",
          "L",
          "L",
          "L",
          "L",
          "L",
          "Y",
          "T",
          "T",
          "T",
          "T",
          "I",
          "I",
          "K",
          "K",
          "S",
          "S",
          "S",
          "S",
          "S",
          "S",
          "P",
          "P",
          "P",
          "P",
          "Q",
          "Q",
          "M",
          "D",
          "D",
          "*",
          "*",
          "*",
          "W",
          "H",
          "H",
          "A",
          "A",
          "A",
          "A",
          "N",
          "N"
         ],
         "y": [
          0.01764705882352941,
          0.011764705882352941,
          0.0058823529411764705,
          0.023529411764705882,
          0.0058823529411764705,
          0.011764705882352941,
          0.023529411764705882,
          0.029411764705882353,
          0.01764705882352941,
          0.011764705882352941,
          0.01764705882352941,
          0.01764705882352941,
          0.0058823529411764705,
          0.029411764705882353,
          0.029411764705882353,
          0.011764705882352941,
          0.029411764705882353,
          0.011764705882352941,
          0.011764705882352941,
          0.011764705882352941,
          0.023529411764705882,
          0.011764705882352941,
          0.011764705882352941,
          0.011764705882352941,
          0.011764705882352941,
          0.023529411764705882,
          0.023529411764705882,
          0.011764705882352941,
          0.011764705882352941,
          0.0058823529411764705,
          0.011764705882352941,
          0.03529411764705882,
          0.0058823529411764705,
          0.029411764705882353,
          0.01764705882352941,
          0.01764705882352941,
          0.011764705882352941,
          0.01764705882352941,
          0.0058823529411764705,
          0.023529411764705882,
          0.01764705882352941,
          0.011764705882352941,
          0.0058823529411764705,
          0.011764705882352941,
          0.01764705882352941,
          0.03529411764705882,
          0.01764705882352941,
          0.011764705882352941,
          0.029411764705882353,
          0.011764705882352941,
          0.011764705882352941,
          0.029411764705882353,
          0.0058823529411764705,
          0.023529411764705882,
          0.011764705882352941,
          0.01764705882352941,
          0.023529411764705882,
          0.023529411764705882,
          0.01764705882352941,
          0.0058823529411764705
         ]
        }
       ],
       "layout": {
        "height": 500,
        "template": {
         "data": {
          "bar": [
           {
            "error_x": {
             "color": "#2a3f5f"
            },
            "error_y": {
             "color": "#2a3f5f"
            },
            "marker": {
             "line": {
              "color": "#E5ECF6",
              "width": 0.5
             },
             "pattern": {
              "fillmode": "overlay",
              "size": 10,
              "solidity": 0.2
             }
            },
            "type": "bar"
           }
          ],
          "barpolar": [
           {
            "marker": {
             "line": {
              "color": "#E5ECF6",
              "width": 0.5
             },
             "pattern": {
              "fillmode": "overlay",
              "size": 10,
              "solidity": 0.2
             }
            },
            "type": "barpolar"
           }
          ],
          "carpet": [
           {
            "aaxis": {
             "endlinecolor": "#2a3f5f",
             "gridcolor": "white",
             "linecolor": "white",
             "minorgridcolor": "white",
             "startlinecolor": "#2a3f5f"
            },
            "baxis": {
             "endlinecolor": "#2a3f5f",
             "gridcolor": "white",
             "linecolor": "white",
             "minorgridcolor": "white",
             "startlinecolor": "#2a3f5f"
            },
            "type": "carpet"
           }
          ],
          "choropleth": [
           {
            "colorbar": {
             "outlinewidth": 0,
             "ticks": ""
            },
            "type": "choropleth"
           }
          ],
          "contour": [
           {
            "colorbar": {
             "outlinewidth": 0,
             "ticks": ""
            },
            "colorscale": [
             [
              0,
              "#0d0887"
             ],
             [
              0.1111111111111111,
              "#46039f"
             ],
             [
              0.2222222222222222,
              "#7201a8"
             ],
             [
              0.3333333333333333,
              "#9c179e"
             ],
             [
              0.4444444444444444,
              "#bd3786"
             ],
             [
              0.5555555555555556,
              "#d8576b"
             ],
             [
              0.6666666666666666,
              "#ed7953"
             ],
             [
              0.7777777777777778,
              "#fb9f3a"
             ],
             [
              0.8888888888888888,
              "#fdca26"
             ],
             [
              1,
              "#f0f921"
             ]
            ],
            "type": "contour"
           }
          ],
          "contourcarpet": [
           {
            "colorbar": {
             "outlinewidth": 0,
             "ticks": ""
            },
            "type": "contourcarpet"
           }
          ],
          "heatmap": [
           {
            "colorbar": {
             "outlinewidth": 0,
             "ticks": ""
            },
            "colorscale": [
             [
              0,
              "#0d0887"
             ],
             [
              0.1111111111111111,
              "#46039f"
             ],
             [
              0.2222222222222222,
              "#7201a8"
             ],
             [
              0.3333333333333333,
              "#9c179e"
             ],
             [
              0.4444444444444444,
              "#bd3786"
             ],
             [
              0.5555555555555556,
              "#d8576b"
             ],
             [
              0.6666666666666666,
              "#ed7953"
             ],
             [
              0.7777777777777778,
              "#fb9f3a"
             ],
             [
              0.8888888888888888,
              "#fdca26"
             ],
             [
              1,
              "#f0f921"
             ]
            ],
            "type": "heatmap"
           }
          ],
          "histogram": [
           {
            "marker": {
             "pattern": {
              "fillmode": "overlay",
              "size": 10,
              "solidity": 0.2
             }
            },
            "type": "histogram"
           }
          ],
          "histogram2d": [
           {
            "colorbar": {
             "outlinewidth": 0,
             "ticks": ""
            },
            "colorscale": [
             [
              0,
              "#0d0887"
             ],
             [
              0.1111111111111111,
              "#46039f"
             ],
             [
              0.2222222222222222,
              "#7201a8"
             ],
             [
              0.3333333333333333,
              "#9c179e"
             ],
             [
              0.4444444444444444,
              "#bd3786"
             ],
             [
              0.5555555555555556,
              "#d8576b"
             ],
             [
              0.6666666666666666,
              "#ed7953"
             ],
             [
              0.7777777777777778,
              "#fb9f3a"
             ],
             [
              0.8888888888888888,
              "#fdca26"
             ],
             [
              1,
              "#f0f921"
             ]
            ],
            "type": "histogram2d"
           }
          ],
          "histogram2dcontour": [
           {
            "colorbar": {
             "outlinewidth": 0,
             "ticks": ""
            },
            "colorscale": [
             [
              0,
              "#0d0887"
             ],
             [
              0.1111111111111111,
              "#46039f"
             ],
             [
              0.2222222222222222,
              "#7201a8"
             ],
             [
              0.3333333333333333,
              "#9c179e"
             ],
             [
              0.4444444444444444,
              "#bd3786"
             ],
             [
              0.5555555555555556,
              "#d8576b"
             ],
             [
              0.6666666666666666,
              "#ed7953"
             ],
             [
              0.7777777777777778,
              "#fb9f3a"
             ],
             [
              0.8888888888888888,
              "#fdca26"
             ],
             [
              1,
              "#f0f921"
             ]
            ],
            "type": "histogram2dcontour"
           }
          ],
          "mesh3d": [
           {
            "colorbar": {
             "outlinewidth": 0,
             "ticks": ""
            },
            "type": "mesh3d"
           }
          ],
          "parcoords": [
           {
            "line": {
             "colorbar": {
              "outlinewidth": 0,
              "ticks": ""
             }
            },
            "type": "parcoords"
           }
          ],
          "pie": [
           {
            "automargin": true,
            "type": "pie"
           }
          ],
          "scatter": [
           {
            "fillpattern": {
             "fillmode": "overlay",
             "size": 10,
             "solidity": 0.2
            },
            "type": "scatter"
           }
          ],
          "scatter3d": [
           {
            "line": {
             "colorbar": {
              "outlinewidth": 0,
              "ticks": ""
             }
            },
            "marker": {
             "colorbar": {
              "outlinewidth": 0,
              "ticks": ""
             }
            },
            "type": "scatter3d"
           }
          ],
          "scattercarpet": [
           {
            "marker": {
             "colorbar": {
              "outlinewidth": 0,
              "ticks": ""
             }
            },
            "type": "scattercarpet"
           }
          ],
          "scattergeo": [
           {
            "marker": {
             "colorbar": {
              "outlinewidth": 0,
              "ticks": ""
             }
            },
            "type": "scattergeo"
           }
          ],
          "scattergl": [
           {
            "marker": {
             "colorbar": {
              "outlinewidth": 0,
              "ticks": ""
             }
            },
            "type": "scattergl"
           }
          ],
          "scattermap": [
           {
            "marker": {
             "colorbar": {
              "outlinewidth": 0,
              "ticks": ""
             }
            },
            "type": "scattermap"
           }
          ],
          "scattermapbox": [
           {
            "marker": {
             "colorbar": {
              "outlinewidth": 0,
              "ticks": ""
             }
            },
            "type": "scattermapbox"
           }
          ],
          "scatterpolar": [
           {
            "marker": {
             "colorbar": {
              "outlinewidth": 0,
              "ticks": ""
             }
            },
            "type": "scatterpolar"
           }
          ],
          "scatterpolargl": [
           {
            "marker": {
             "colorbar": {
              "outlinewidth": 0,
              "ticks": ""
             }
            },
            "type": "scatterpolargl"
           }
          ],
          "scatterternary": [
           {
            "marker": {
             "colorbar": {
              "outlinewidth": 0,
              "ticks": ""
             }
            },
            "type": "scatterternary"
           }
          ],
          "surface": [
           {
            "colorbar": {
             "outlinewidth": 0,
             "ticks": ""
            },
            "colorscale": [
             [
              0,
              "#0d0887"
             ],
             [
              0.1111111111111111,
              "#46039f"
             ],
             [
              0.2222222222222222,
              "#7201a8"
             ],
             [
              0.3333333333333333,
              "#9c179e"
             ],
             [
              0.4444444444444444,
              "#bd3786"
             ],
             [
              0.5555555555555556,
              "#d8576b"
             ],
             [
              0.6666666666666666,
              "#ed7953"
             ],
             [
              0.7777777777777778,
              "#fb9f3a"
             ],
             [
              0.8888888888888888,
              "#fdca26"
             ],
             [
              1,
              "#f0f921"
             ]
            ],
            "type": "surface"
           }
          ],
          "table": [
           {
            "cells": {
             "fill": {
              "color": "#EBF0F8"
             },
             "line": {
              "color": "white"
             }
            },
            "header": {
             "fill": {
              "color": "#C8D4E3"
             },
             "line": {
              "color": "white"
             }
            },
            "type": "table"
           }
          ]
         },
         "layout": {
          "annotationdefaults": {
           "arrowcolor": "#2a3f5f",
           "arrowhead": 0,
           "arrowwidth": 1
          },
          "autotypenumbers": "strict",
          "coloraxis": {
           "colorbar": {
            "outlinewidth": 0,
            "ticks": ""
           }
          },
          "colorscale": {
           "diverging": [
            [
             0,
             "#8e0152"
            ],
            [
             0.1,
             "#c51b7d"
            ],
            [
             0.2,
             "#de77ae"
            ],
            [
             0.3,
             "#f1b6da"
            ],
            [
             0.4,
             "#fde0ef"
            ],
            [
             0.5,
             "#f7f7f7"
            ],
            [
             0.6,
             "#e6f5d0"
            ],
            [
             0.7,
             "#b8e186"
            ],
            [
             0.8,
             "#7fbc41"
            ],
            [
             0.9,
             "#4d9221"
            ],
            [
             1,
             "#276419"
            ]
           ],
           "sequential": [
            [
             0,
             "#0d0887"
            ],
            [
             0.1111111111111111,
             "#46039f"
            ],
            [
             0.2222222222222222,
             "#7201a8"
            ],
            [
             0.3333333333333333,
             "#9c179e"
            ],
            [
             0.4444444444444444,
             "#bd3786"
            ],
            [
             0.5555555555555556,
             "#d8576b"
            ],
            [
             0.6666666666666666,
             "#ed7953"
            ],
            [
             0.7777777777777778,
             "#fb9f3a"
            ],
            [
             0.8888888888888888,
             "#fdca26"
            ],
            [
             1,
             "#f0f921"
            ]
           ],
           "sequentialminus": [
            [
             0,
             "#0d0887"
            ],
            [
             0.1111111111111111,
             "#46039f"
            ],
            [
             0.2222222222222222,
             "#7201a8"
            ],
            [
             0.3333333333333333,
             "#9c179e"
            ],
            [
             0.4444444444444444,
             "#bd3786"
            ],
            [
             0.5555555555555556,
             "#d8576b"
            ],
            [
             0.6666666666666666,
             "#ed7953"
            ],
            [
             0.7777777777777778,
             "#fb9f3a"
            ],
            [
             0.8888888888888888,
             "#fdca26"
            ],
            [
             1,
             "#f0f921"
            ]
           ]
          },
          "colorway": [
           "#636efa",
           "#EF553B",
           "#00cc96",
           "#ab63fa",
           "#FFA15A",
           "#19d3f3",
           "#FF6692",
           "#B6E880",
           "#FF97FF",
           "#FECB52"
          ],
          "font": {
           "color": "#2a3f5f"
          },
          "geo": {
           "bgcolor": "white",
           "lakecolor": "white",
           "landcolor": "#E5ECF6",
           "showlakes": true,
           "showland": true,
           "subunitcolor": "white"
          },
          "hoverlabel": {
           "align": "left"
          },
          "hovermode": "closest",
          "mapbox": {
           "style": "light"
          },
          "paper_bgcolor": "white",
          "plot_bgcolor": "#E5ECF6",
          "polar": {
           "angularaxis": {
            "gridcolor": "white",
            "linecolor": "white",
            "ticks": ""
           },
           "bgcolor": "#E5ECF6",
           "radialaxis": {
            "gridcolor": "white",
            "linecolor": "white",
            "ticks": ""
           }
          },
          "scene": {
           "xaxis": {
            "backgroundcolor": "#E5ECF6",
            "gridcolor": "white",
            "gridwidth": 2,
            "linecolor": "white",
            "showbackground": true,
            "ticks": "",
            "zerolinecolor": "white"
           },
           "yaxis": {
            "backgroundcolor": "#E5ECF6",
            "gridcolor": "white",
            "gridwidth": 2,
            "linecolor": "white",
            "showbackground": true,
            "ticks": "",
            "zerolinecolor": "white"
           },
           "zaxis": {
            "backgroundcolor": "#E5ECF6",
            "gridcolor": "white",
            "gridwidth": 2,
            "linecolor": "white",
            "showbackground": true,
            "ticks": "",
            "zerolinecolor": "white"
           }
          },
          "shapedefaults": {
           "line": {
            "color": "#2a3f5f"
           }
          },
          "ternary": {
           "aaxis": {
            "gridcolor": "white",
            "linecolor": "white",
            "ticks": ""
           },
           "baxis": {
            "gridcolor": "white",
            "linecolor": "white",
            "ticks": ""
           },
           "bgcolor": "#E5ECF6",
           "caxis": {
            "gridcolor": "white",
            "linecolor": "white",
            "ticks": ""
           }
          },
          "title": {
           "x": 0.05
          },
          "xaxis": {
           "automargin": true,
           "gridcolor": "white",
           "linecolor": "white",
           "ticks": "",
           "title": {
            "standoff": 15
           },
           "zerolinecolor": "white",
           "zerolinewidth": 2
          },
          "yaxis": {
           "automargin": true,
           "gridcolor": "white",
           "linecolor": "white",
           "ticks": "",
           "title": {
            "standoff": 15
           },
           "zerolinecolor": "white",
           "zerolinewidth": 2
          }
         }
        },
        "title": {
         "text": "Codon Usage Grouped by Amino Acids"
        },
        "xaxis": {
         "title": {
          "text": "Amino Acid"
         }
        },
        "yaxis": {
         "title": {
          "text": "Codon Frequency"
         }
        }
       }
      }
     },
     "metadata": {},
     "output_type": "display_data"
    }
   ],
   "source": [
    "plot_codon_usage_by_amino_acid(seq.sequence)"
   ]
  },
  {
   "cell_type": "code",
   "execution_count": null,
   "id": "71a994cd",
   "metadata": {},
   "outputs": [],
   "source": []
  }
 ],
 "metadata": {
  "kernelspec": {
   "display_name": ".venv",
   "language": "python",
   "name": "python3"
  },
  "language_info": {
   "codemirror_mode": {
    "name": "ipython",
    "version": 3
   },
   "file_extension": ".py",
   "mimetype": "text/x-python",
   "name": "python",
   "nbconvert_exporter": "python",
   "pygments_lexer": "ipython3",
   "version": "3.13.7"
  }
 },
 "nbformat": 4,
 "nbformat_minor": 5
}
