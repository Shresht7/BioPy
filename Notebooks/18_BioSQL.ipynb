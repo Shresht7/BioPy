{
 "cells": [
  {
   "cell_type": "markdown",
   "id": "a8e51356",
   "metadata": {},
   "source": [
    "# BioSQL\n",
    "\n",
    "**BioSQL** is a generic database schema designed mainly to store sequences and its related data for all RDBMS engine. It is designed in such a way that it holds data from all popular bioinformatics databases like GenBank, Swissprot etc. BioPython provides a very simple, easy and advanced ORM capability to with BioSQL based databases.\n",
    "\n",
    "- Create/Remove a BioSQL database\n",
    "- Connect to a BioSQL database\n",
    "- Parse a sequence database like GenBank, Swisprot, BLAST, Entrez etc directly and load it into BioSQL database\n",
    "- Fetch the sequence data from BioSQL database\n",
    "- Fetch taxonomy data from NCBI BLAST and store it in the BioSQL database.\n",
    "- Run any SQL query against the BioSQL database.\n",
    "\n",
    "TODO:"
   ]
  }
 ],
 "metadata": {
  "kernelspec": {
   "display_name": ".venv (3.13.8)",
   "language": "python",
   "name": "python3"
  },
  "language_info": {
   "name": "python",
   "version": "3.13.8"
  }
 },
 "nbformat": 4,
 "nbformat_minor": 5
}
