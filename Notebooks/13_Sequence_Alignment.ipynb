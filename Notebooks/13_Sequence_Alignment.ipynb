{
 "cells": [
  {
   "cell_type": "markdown",
   "id": "88668658",
   "metadata": {},
   "source": [
    "# Sequence Alignment\n",
    "\n",
    "Sequence alignment is the process of arranging two or more sequences (of DNA, RNA or protein sequences) in a specific order identifying the region of similarity between them.\n",
    "\n",
    "Identifying the similar region enables us to infer a lof of information like what traits are conserved between species, how close different species genetically are, how species evolve etc. BioPython provides extensive support for sequence alignment."
   ]
  },
  {
   "cell_type": "markdown",
   "id": "67bdd1da",
   "metadata": {},
   "source": [
    "## Parsing Sequence Alignment\n",
    "\n",
    "BioPython provides a module, `Bio.AlignIO` to read and write sequence alignments."
   ]
  },
  {
   "cell_type": "code",
   "execution_count": 2,
   "id": "0032baa8",
   "metadata": {},
   "outputs": [
    {
     "name": "stdout",
     "output_type": "stream",
     "text": [
      "Alignment with 5 rows and 65 columns\n",
      "AINRNTQQLTQDLRAMPNWSLRFVYIVDRNNQDLLKRPLPPGIM...NRK B3PFT7_CELJU/62-126\n",
      "AVNATEREFTERIRTLPHWARRNVFVLDSQGFEIFDRELPSPVA...NRT K4KEM7_SIMAS/61-125\n",
      "MQNTPAERLPAIIEKAKSKHDINVWLLDRQGRDLLEQRVPAKVA...EGP B7RZ31_9GAMM/59-123\n",
      "ARRHGQEYFQQWLERQPKKVKEQVFAVDQFGRELLGRPLPEDMA...KKP A0A143HL37_MICTH/57-121\n",
      "TRRHGPESFRFWLERQPVEARDRIYAIDRSGAEILDRPIPRGMA...NKP A0A0X3UC67_9GAMM/57-121\n"
     ]
    }
   ],
   "source": [
    "from Bio.AlignIO import read\n",
    "with open('PF18225.alignment.seed', 'r') as file:\n",
    "    alignment = read(file, 'stockholm')\n",
    "    print(alignment)"
   ]
  },
  {
   "cell_type": "markdown",
   "id": "a1120dc3",
   "metadata": {},
   "source": [
    "We can also check the sequences (`SeqRecord`) available in the alignment"
   ]
  },
  {
   "cell_type": "code",
   "execution_count": 3,
   "id": "bf409beb",
   "metadata": {},
   "outputs": [
    {
     "name": "stdout",
     "output_type": "stream",
     "text": [
      "AINRNTQQLTQDLRAMPNWSLRFVYIVDRNNQDLLKRPLPPGIMVLAPRLTAKHPYDKVQDRNRK\n",
      "AVNATEREFTERIRTLPHWARRNVFVLDSQGFEIFDRELPSPVADLMRKLDLDRPFKKLERKNRT\n",
      "MQNTPAERLPAIIEKAKSKHDINVWLLDRQGRDLLEQRVPAKVATVANQLRGRKRRAFARHREGP\n",
      "ARRHGQEYFQQWLERQPKKVKEQVFAVDQFGRELLGRPLPEDMAPMLIALNYRNRESHAQVDKKP\n",
      "TRRHGPESFRFWLERQPVEARDRIYAIDRSGAEILDRPIPRGMAPLFKVLSFRNREDQGLVNNKP\n"
     ]
    }
   ],
   "source": [
    "for align in alignment:\n",
    "    print(align.seq)"
   ]
  },
  {
   "cell_type": "markdown",
   "id": "c78b1363",
   "metadata": {},
   "source": [
    "## Multiple Alignments\n",
    "\n",
    "In general, most of the sequence alignment files contain single alignment data and it is enough to use **read** method to parse it. If the input sequence alignment format contains more than one sequence alignment, then we need to use **parse** method instead "
   ]
  },
  {
   "cell_type": "code",
   "execution_count": 4,
   "id": "68fa60ca",
   "metadata": {},
   "outputs": [
    {
     "name": "stdout",
     "output_type": "stream",
     "text": [
      "<generator object parse at 0x0000028C20E3AAC0>\n",
      "Alignment with 5 rows and 65 columns\n",
      "AINRNTQQLTQDLRAMPNWSLRFVYIVDRNNQDLLKRPLPPGIM...NRK B3PFT7_CELJU/62-126\n",
      "AVNATEREFTERIRTLPHWARRNVFVLDSQGFEIFDRELPSPVA...NRT K4KEM7_SIMAS/61-125\n",
      "MQNTPAERLPAIIEKAKSKHDINVWLLDRQGRDLLEQRVPAKVA...EGP B7RZ31_9GAMM/59-123\n",
      "ARRHGQEYFQQWLERQPKKVKEQVFAVDQFGRELLGRPLPEDMA...KKP A0A143HL37_MICTH/57-121\n",
      "TRRHGPESFRFWLERQPVEARDRIYAIDRSGAEILDRPIPRGMA...NKP A0A0X3UC67_9GAMM/57-121\n"
     ]
    }
   ],
   "source": [
    "from Bio.AlignIO import parse\n",
    "with open('PF18225.alignment.seed', 'r') as file:\n",
    "    alignments = parse(file, 'stockholm')\n",
    "    print(alignments)\n",
    "    for alignment in alignments:\n",
    "        print(alignment)"
   ]
  },
  {
   "cell_type": "markdown",
   "id": "043fe443",
   "metadata": {},
   "source": [
    "## Pairwise Sequence Alignment\n",
    "\n",
    "**Pairwise sequence alignment** compares only to sequences at a time and provides best possible sequence alignments. **Pairwise** is easy to understand and exceptional to infer from resulting sequence alignment. BioPython provides a special module `Bio.pairwise2` to identify alignment sequence using pairwise method. BioPython applies the best algorithm to find the alignment sequence and it is on par with other software."
   ]
  },
  {
   "cell_type": "code",
   "execution_count": 5,
   "id": "7446565f",
   "metadata": {},
   "outputs": [
    {
     "name": "stderr",
     "output_type": "stream",
     "text": [
      "c:\\Users\\shres\\Projects\\BioPy\\.venv\\Lib\\site-packages\\Bio\\pairwise2.py:278: BiopythonDeprecationWarning: Bio.pairwise2 has been deprecated, and we intend to remove it in a future release of Biopython. As an alternative, please consider using Bio.Align.PairwiseAligner as a replacement, and contact the Biopython developers if you still need the Bio.pairwise2 module.\n",
      "  warnings.warn(\n"
     ]
    }
   ],
   "source": [
    "from Bio import pairwise2\n",
    "from Bio.Seq import Seq\n",
    "seq1 = Seq(\"ACCGGT\")\n",
    "seq2 = Seq(\"ACGT\")"
   ]
  },
  {
   "cell_type": "code",
   "execution_count": 6,
   "id": "891615fb",
   "metadata": {},
   "outputs": [
    {
     "data": {
      "text/plain": [
       "[Alignment(seqA='ACCGGT', seqB='A-C-GT', score=4.0, start=0, end=6),\n",
       " Alignment(seqA='ACCGGT', seqB='AC--GT', score=4.0, start=0, end=6),\n",
       " Alignment(seqA='ACCGGT', seqB='A-CG-T', score=4.0, start=0, end=6),\n",
       " Alignment(seqA='ACCGGT', seqB='AC-G-T', score=4.0, start=0, end=6)]"
      ]
     },
     "execution_count": 6,
     "metadata": {},
     "output_type": "execute_result"
    }
   ],
   "source": [
    "alignments = pairwise2.align.globalxx(seq1, seq2)\n",
    "alignments"
   ]
  },
  {
   "cell_type": "markdown",
   "id": "a359a8fc",
   "metadata": {},
   "source": [
    "Here **globalxx** method performs the actual work and finds all the best possible alignments in the given sequence."
   ]
  },
  {
   "cell_type": "markdown",
   "id": "c3c6fb28",
   "metadata": {},
   "source": [
    "`Bio.pairwise2` module provides a formatting method `format_alignment` to better visualize the result"
   ]
  },
  {
   "cell_type": "code",
   "execution_count": 7,
   "id": "9df23142",
   "metadata": {},
   "outputs": [
    {
     "name": "stdout",
     "output_type": "stream",
     "text": [
      "ACCGGT\n",
      "| | ||\n",
      "A-C-GT\n",
      "  Score=4\n",
      "\n",
      "ACCGGT\n",
      "||  ||\n",
      "AC--GT\n",
      "  Score=4\n",
      "\n",
      "ACCGGT\n",
      "| || |\n",
      "A-CG-T\n",
      "  Score=4\n",
      "\n",
      "ACCGGT\n",
      "|| | |\n",
      "AC-G-T\n",
      "  Score=4\n",
      "\n"
     ]
    }
   ],
   "source": [
    "from Bio.pairwise2 import format_alignment\n",
    "alignments = pairwise2.align.globalxx(seq1, seq2)\n",
    "for alignment in alignments:\n",
    "    print(format_alignment(*alignment))"
   ]
  },
  {
   "cell_type": "markdown",
   "id": "ccc7d995",
   "metadata": {},
   "source": [
    "BioPython provides an interface for a lot of sequence alignment tools through `Bio.Align.Applications` module like:\n",
    "- ClustalW\n",
    "- MUSCLE\n",
    "- EMBOSS needle and water"
   ]
  },
  {
   "cell_type": "code",
   "execution_count": null,
   "id": "b10c69c9",
   "metadata": {},
   "outputs": [],
   "source": []
  }
 ],
 "metadata": {
  "kernelspec": {
   "display_name": ".venv (3.13.8)",
   "language": "python",
   "name": "python3"
  },
  "language_info": {
   "codemirror_mode": {
    "name": "ipython",
    "version": 3
   },
   "file_extension": ".py",
   "mimetype": "text/x-python",
   "name": "python",
   "nbconvert_exporter": "python",
   "pygments_lexer": "ipython3",
   "version": "3.13.9"
  }
 },
 "nbformat": 4,
 "nbformat_minor": 5
}
