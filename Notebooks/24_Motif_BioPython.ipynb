{
 "cells": [
  {
   "cell_type": "markdown",
   "id": "4274b927",
   "metadata": {},
   "source": [
    "# Motif Objects in BioPython\n",
    "\n",
    "A sequence motif is a nucleotide or amino-acid sequence pattern. Sequence motifs are formed by three-dimensional arrangement of amino acids which may not be adjacent. BioPython provides a module `Bio.motifs` to access the functionalities of sequence motifs."
   ]
  },
  {
   "cell_type": "code",
   "execution_count": 1,
   "id": "43d572f0",
   "metadata": {},
   "outputs": [],
   "source": [
    "from Bio import motifs"
   ]
  },
  {
   "cell_type": "markdown",
   "id": "b9b52b10",
   "metadata": {},
   "source": [
    "## Creating a simple DNA Motif"
   ]
  },
  {
   "cell_type": "code",
   "execution_count": 2,
   "id": "f37ea525",
   "metadata": {},
   "outputs": [],
   "source": [
    "from Bio.Seq import Seq"
   ]
  },
  {
   "cell_type": "code",
   "execution_count": 3,
   "id": "c50f9800",
   "metadata": {},
   "outputs": [],
   "source": [
    "instances = [\n",
    "    Seq(\"TACAA\"),\n",
    "    Seq(\"TACGC\"),\n",
    "    Seq(\"TACAC\"),\n",
    "    Seq(\"TACCC\"),\n",
    "    Seq(\"AACCC\"),\n",
    "    Seq(\"AATGC\"),\n",
    "    Seq(\"AATGC\"),\n",
    "]"
   ]
  },
  {
   "cell_type": "code",
   "execution_count": 4,
   "id": "5c988939",
   "metadata": {},
   "outputs": [
    {
     "data": {
      "text/plain": [
       "<Bio.motifs.Motif at 0x19e26e56a50>"
      ]
     },
     "execution_count": 4,
     "metadata": {},
     "output_type": "execute_result"
    }
   ],
   "source": [
    "m = motifs.create(instances)\n",
    "m"
   ]
  },
  {
   "cell_type": "markdown",
   "id": "db634be9",
   "metadata": {},
   "source": [
    "The instances are saved in an attribute `.instances`"
   ]
  },
  {
   "cell_type": "code",
   "execution_count": 5,
   "id": "ee827834",
   "metadata": {},
   "outputs": [
    {
     "name": "stderr",
     "output_type": "stream",
     "text": [
      "c:\\Users\\shres\\Projects\\Learning-BioInformatics\\.venv\\Lib\\site-packages\\Bio\\motifs\\__init__.py:500: BiopythonDeprecationWarning: The instances attribute has been deprecated. Instead of mymotif.instances, please use mymotif.alignment.sequences.\n",
      "  warnings.warn(\n"
     ]
    },
    {
     "data": {
      "text/plain": [
       "[Seq('TACAA'),\n",
       " Seq('TACGC'),\n",
       " Seq('TACAC'),\n",
       " Seq('TACCC'),\n",
       " Seq('AACCC'),\n",
       " Seq('AATGC'),\n",
       " Seq('AATGC')]"
      ]
     },
     "execution_count": 5,
     "metadata": {},
     "output_type": "execute_result"
    }
   ],
   "source": [
    "m.instances"
   ]
  },
  {
   "cell_type": "markdown",
   "id": "907bb8e3",
   "metadata": {},
   "source": [
    "The Motif object has an attribute `.counts` containing the counts of each nucleotide at each position."
   ]
  },
  {
   "cell_type": "code",
   "execution_count": 6,
   "id": "bc537ceb",
   "metadata": {},
   "outputs": [
    {
     "data": {
      "text/plain": [
       "{'A': [3.0, 7.0, 0.0, 2.0, 1.0],\n",
       " 'C': [0.0, 0.0, 5.0, 2.0, 6.0],\n",
       " 'G': [0.0, 0.0, 0.0, 3.0, 0.0],\n",
       " 'T': [4.0, 0.0, 2.0, 0.0, 0.0]}"
      ]
     },
     "execution_count": 6,
     "metadata": {},
     "output_type": "execute_result"
    }
   ],
   "source": [
    "m.counts"
   ]
  },
  {
   "cell_type": "code",
   "execution_count": 7,
   "id": "575512e0",
   "metadata": {},
   "outputs": [
    {
     "data": {
      "text/plain": [
       "[3.0, 7.0, 0.0, 2.0, 1.0]"
      ]
     },
     "execution_count": 7,
     "metadata": {},
     "output_type": "execute_result"
    }
   ],
   "source": [
    "m.counts['A']"
   ]
  },
  {
   "cell_type": "code",
   "execution_count": 8,
   "id": "2a79a96e",
   "metadata": {},
   "outputs": [
    {
     "data": {
      "text/plain": [
       "{'A': 2.0, 'C': 2.0, 'G': 3.0, 'T': 0.0}"
      ]
     },
     "execution_count": 8,
     "metadata": {},
     "output_type": "execute_result"
    }
   ],
   "source": [
    "m.counts[:, 3]"
   ]
  },
  {
   "cell_type": "markdown",
   "id": "6ed262c2",
   "metadata": {},
   "source": [
    "As well as **anticonsensus** sequence, corresponding to the smallest value in the columns of the `.counts` matrix"
   ]
  },
  {
   "cell_type": "code",
   "execution_count": 9,
   "id": "19ffac98",
   "metadata": {},
   "outputs": [
    {
     "data": {
      "text/plain": [
       "Seq('CCATG')"
      ]
     },
     "execution_count": 9,
     "metadata": {},
     "output_type": "execute_result"
    }
   ],
   "source": [
    "m.anticonsensus"
   ]
  },
  {
   "cell_type": "markdown",
   "id": "a673bc64",
   "metadata": {},
   "source": [
    "Note that there is some ambigiuty in the definition of the consensus and anticonsensus sequence if in some columns multiple nucleotides have the maximum or minimum count. You can also ask for a degenerate consensus sequence, in which ambiguous nucleotides are used for positions where there are multiple nucleotides with high counts"
   ]
  },
  {
   "cell_type": "code",
   "execution_count": 10,
   "id": "8d5be411",
   "metadata": {},
   "outputs": [
    {
     "data": {
      "text/plain": [
       "Seq('WACVC')"
      ]
     },
     "execution_count": 10,
     "metadata": {},
     "output_type": "execute_result"
    }
   ],
   "source": [
    "m.degenerate_consensus"
   ]
  },
  {
   "cell_type": "markdown",
   "id": "26327771",
   "metadata": {},
   "source": [
    "Here W and V follow the IUPAC nucleotide ambiguity codes: W is either A or T, and V is A, C or G"
   ]
  }
 ],
 "metadata": {
  "kernelspec": {
   "display_name": ".venv (3.13.9)",
   "language": "python",
   "name": "python3"
  },
  "language_info": {
   "codemirror_mode": {
    "name": "ipython",
    "version": 3
   },
   "file_extension": ".py",
   "mimetype": "text/x-python",
   "name": "python",
   "nbconvert_exporter": "python",
   "pygments_lexer": "ipython3",
   "version": "3.13.9"
  }
 },
 "nbformat": 4,
 "nbformat_minor": 5
}
