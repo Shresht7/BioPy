{
 "cells": [
  {
   "cell_type": "markdown",
   "id": "39307c25",
   "metadata": {},
   "source": [
    "# BioPython"
   ]
  },
  {
   "cell_type": "markdown",
   "id": "c34de9fe",
   "metadata": {},
   "source": [
    "## Introduction\n",
    "\n",
    "BioPython is an open-source python library used in bioinformatics. It consists of a variety of sub-modules for common bioinformatics tasks. It is a collection of python modules that provide functions to deal with DNA, RNA & Protein sequence operations such as reverse-complementing, finding motifs etc. It supports a variety of genetic databases like GenBank, SwissProt, FASTA etc."
   ]
  },
  {
   "cell_type": "markdown",
   "id": "09ca52ea",
   "metadata": {},
   "source": [
    "## Installation\n",
    "\n",
    "```sh\n",
    "pip install biopython\n",
    "```\n",
    "\n",
    "To upgrade an old version:\n",
    "\n",
    "```sh\n",
    "pip install --upgrade biopython\n",
    "```"
   ]
  }
 ],
 "metadata": {
  "language_info": {
   "name": "python"
  }
 },
 "nbformat": 4,
 "nbformat_minor": 5
}
