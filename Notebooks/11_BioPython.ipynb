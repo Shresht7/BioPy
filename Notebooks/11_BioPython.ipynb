{
 "cells": [
  {
   "cell_type": "markdown",
   "id": "39307c25",
   "metadata": {},
   "source": [
    "# BioPython"
   ]
  },
  {
   "cell_type": "markdown",
   "id": "c34de9fe",
   "metadata": {},
   "source": [
    "## Introduction\n",
    "\n",
    "BioPython is an open-source python library used in bioinformatics. It consists of a variety of sub-modules for common bioinformatics tasks. It is a collection of python modules that provide functions to deal with DNA, RNA & Protein sequence operations such as reverse-complementing, finding motifs etc. It supports a variety of genetic databases like GenBank, SwissProt, FASTA etc."
   ]
  },
  {
   "cell_type": "markdown",
   "id": "09ca52ea",
   "metadata": {},
   "source": [
    "## Installation\n",
    "\n",
    "```sh\n",
    "pip install biopython\n",
    "```\n",
    "\n",
    "To upgrade an old version:\n",
    "\n",
    "```sh\n",
    "pip install --upgrade biopython\n",
    "```"
   ]
  },
  {
   "cell_type": "markdown",
   "id": "339aa2fd",
   "metadata": {},
   "source": [
    "## Sequence"
   ]
  },
  {
   "cell_type": "code",
   "execution_count": 1,
   "id": "7d75bb9a",
   "metadata": {},
   "outputs": [],
   "source": [
    "from Bio.SeqIO import parse\n",
    "from Bio.SeqRecord import SeqRecord\n",
    "from Bio.Seq import Seq"
   ]
  },
  {
   "cell_type": "code",
   "execution_count": 4,
   "id": "09dcfb41",
   "metadata": {},
   "outputs": [
    {
     "name": "stdout",
     "output_type": "stream",
     "text": [
      "Id: HBB\n",
      "Name: HBB\n",
      "Description: HBB | Human beta-globin gene\n",
      "Annotations: {}\n",
      "Sequence Data: ATGGTGCACCTGACTCCTGAGGAGAAGTCTGCCGTTACTGCCCTGTGGGGCAAGGTGAACGTGGATGAAGTTGGTGGTGAGGCCCTGGGCAGGTTGGTATCAAGGTTACAAGACAGGTTTAAGGAGACCAATAGAAACTGGGCATGTGGAGACAGAGAAGACTCTTGGGTTTCTGATAGGCACTGACTCTCTCTGCCTATTGGTCTATTTTCCCACCCTTAGGCTGCTGGTGGTCTACCCTTGGACCCAGAGGTTCTTTGAGTCCTTTGGGGATCTGTCCACTCCTGATGCTGTTATGGGCAACCCTAAGGTGAAGGCTCATGGCAAGAAAGTGCTCGGTGCCTTTAGTGATGGCCTGGCTCACCTGGACAACCTCAAGGGCACCTTTGCCACACTGAGTGAGCTGCACTGTGACAAGCTGCACGTGGATCCTGAGAACTTCAGGGTGAGTCTATGGGACGCTTGATGTTTTCTTTCCCCTTCTTTTCTATGGTTAAGTTCATGTCATAGGAAGGGGAGAAGTAACAGGGTACAGTTTAGAATGGGAAACAGACGAATGATTGCATCAGTGTGGAAGTCTCAGGATCGTTTTAGTTTCTTTTATTTGCTGTTCATAACAATTGTTTTCTTTTGGTTATTTCTGTTCTTTTTTTTTTCTTCTCCGCAATTTTTACTATTATACTTAATGCCTTAACATTGTGTATAACAAAAGGAAATATCTCTGAGATACATTAAGTAACTTAAAAAAAAACTTTACACAGTCTGCCTAGTACATTACTATTTGGAATATATGTGTGCTTATTTGCATATTCATAATCTCCCTACTTTATTTTCTTTTATTTTTAATTGATACATAATCATTATACATATTTATGGGTTAAAGTGTAATGTTTTAATATGTGTACACATATTGACCAAATCAGGGTAATTTTGCATTTGTAATTTTAAAAAATGCTTTCTTCTTTTAATATACTTTTTTGTTTATCTTATTTCTAATACTTTCCCTAATCTCTTTCTTTCAGGGCAATAATGATACAATGTATCATGCCTCTTTGCACCATTCTAAAGAATAACAGTGATAATTTCTGGGTTAAGGCAATAGCAATATTTCTGCATATAAATATTTCTGCATATAAATTGTAACTGATGTTAAGAGGTTTCATATTGCTAATAGCAGCTACAATCCAGCTACCATTCTGCTTTTATTTTATGGTTGGGATAAGGCTGGATTATTCTGAGTCCAAGCTAGGCCCTTTTGCTAATCATGTTCATACCTCTTATCTTCCTCCCACAGCTCCTGGGCAACGTGCTGGTCTGTGTGCTGGCCCATCACTTTGGCAAAGAATTCACCCCACCAGTGCAGGCTGCCTATCAGAAAGTGGTGGCTGGTGTGGCTAATGCCCTGGCCCACAAGTATCACTAA\n",
      "\n",
      "Id: 4D2I_1|Chains\n",
      "Name: 4D2I_1|Chains\n",
      "Description: 4D2I_1|Chains A, B|HERA|SULFOLOBUS SOLFATARICUS (273057)\n",
      "Annotations: {}\n",
      "Sequence Data: MIIGYVIGQATTQEALILAERPVRLGTYVVLEYDNVKALGLITNVTRGSPLLDDNMNDIEIVQRLKQFNNSIPVYTKAKVKLLCDMNNHFLMPDIPPFAGTPAREAEDEELKSIYSQDGQIRIGSLIGKNVEVKLNINSFARHLAILAATGSGKSNTVAVLSQRISELGGSVLIFDYHGEYYDSDIKNLNRIEPKLNPLYMTPREFSTLLEIRENAIIQYRILRRAFIKVTNGIRAALAAGQIPFSTLNSQFYELMADALETQGNSDKKSSAKDEVLNKFEEFMDRYSNVIDLTSSDIIEKVKRGKVNVVSLTQLDEDSMDAVVSHYLRRILDSRKDFKRSKNSGLKFPIIAVIEEAHVFLSKNENTLTKYWASRIAREGRKFGVGLTIVSQRPKGLDENILSQMTNKIILKIIEPTDKKYILESSDNLSEDLAEQLSSLDVGEAIIIGKIVKLPAVVKIDMFEGKLLGSDPDMIGEWKKVAASEKIAKGFADFGTEIGD\n",
      "\n",
      "Id: 4CS4_1|Chain\n",
      "Name: 4CS4_1|Chain\n",
      "Description: 4CS4_1|Chain A|PYRROLYSYL-TRNA SYNTHETASE|METHANOSARCINA MAZEI (2209)\n",
      "Annotations: {}\n",
      "Sequence Data: MPALTKSQTDRLEVLLNPKDEISLNSGKPFRELESELLSRRKKDLQQIYAEERENYLGKLEREITRFFVDRGFLEIKSPILIPLEYIERMGIDNDTELSKQIFRVDKNFCLRPMLAPNLANYLRKLDRALPDPIKIFEIGPCYRKESDGKEHLEEFTMLNFCQMGSGCTRENLESIITDFLNHLGIDFKIVGDSCMVFGDTLDVMHGDLELSSAVVGPIPLDREWGIDKPWIGAGFGLERLLKVKHDFKNIKRAARSESYYNGISTNLHHHHHH\n",
      "\n"
     ]
    }
   ],
   "source": [
    "with open(\"example.fasta\", \"r\") as file:\n",
    "    records = parse(file, 'fasta')\n",
    "    for record in records:\n",
    "        print(f\"Id: {record.id}\")\n",
    "        print(f\"Name: {record.name}\")\n",
    "        print(f\"Description: {record.description}\")\n",
    "        print(f\"Annotations: {record.annotations}\")\n",
    "        print(f\"Sequence Data: {record.seq}\")\n",
    "        print(\"\")"
   ]
  },
  {
   "cell_type": "markdown",
   "id": "65660f56",
   "metadata": {},
   "source": [
    "A sequence is a series of letters used to represent an organism protein, DNA or RNA. It is represented by `Seq` class defined in the `Bio.Seq` module."
   ]
  },
  {
   "cell_type": "code",
   "execution_count": 5,
   "id": "29c0d4f8",
   "metadata": {},
   "outputs": [
    {
     "data": {
      "text/plain": [
       "Seq('AGCT')"
      ]
     },
     "execution_count": 5,
     "metadata": {},
     "output_type": "execute_result"
    }
   ],
   "source": [
    "from Bio.Seq import Seq\n",
    "\n",
    "# A super simple sequence\n",
    "seq = Seq('AGCT')\n",
    "seq"
   ]
  },
  {
   "cell_type": "markdown",
   "id": "777ade22",
   "metadata": {},
   "source": [
    "Biopython exposes all the bioinformatics related configuration data through `Bio.Data` module. For example, `IUPACData.protein_letters` has the following possible letters"
   ]
  },
  {
   "cell_type": "code",
   "execution_count": 7,
   "id": "f40739a9",
   "metadata": {},
   "outputs": [
    {
     "data": {
      "text/plain": [
       "'ACDEFGHIKLMNPQRSTVWY'"
      ]
     },
     "execution_count": 7,
     "metadata": {},
     "output_type": "execute_result"
    }
   ],
   "source": [
    "from Bio.Data import IUPACData\n",
    "IUPACData.protein_letters"
   ]
  },
  {
   "cell_type": "markdown",
   "id": "64493bf8",
   "metadata": {},
   "source": [
    "## Basic Operations"
   ]
  },
  {
   "cell_type": "code",
   "execution_count": 8,
   "id": "6465052f",
   "metadata": {},
   "outputs": [
    {
     "data": {
      "text/plain": [
       "'A'"
      ]
     },
     "execution_count": 8,
     "metadata": {},
     "output_type": "execute_result"
    }
   ],
   "source": [
    "# To get the first value in the sequence\n",
    "seq = Seq(\"AGCTAGCT\")\n",
    "seq[0]"
   ]
  },
  {
   "cell_type": "code",
   "execution_count": 9,
   "id": "ef34eb50",
   "metadata": {},
   "outputs": [
    {
     "data": {
      "text/plain": [
       "Seq('AG')"
      ]
     },
     "execution_count": 9,
     "metadata": {},
     "output_type": "execute_result"
    }
   ],
   "source": [
    "# To print the first two letters\n",
    "seq[0:2]"
   ]
  },
  {
   "cell_type": "code",
   "execution_count": 10,
   "id": "56dfc75e",
   "metadata": {},
   "outputs": [
    {
     "data": {
      "text/plain": [
       "8"
      ]
     },
     "execution_count": 10,
     "metadata": {},
     "output_type": "execute_result"
    }
   ],
   "source": [
    "# To get the length of the sequence\n",
    "len(seq)"
   ]
  },
  {
   "cell_type": "code",
   "execution_count": 11,
   "id": "ea4c865d",
   "metadata": {},
   "outputs": [
    {
     "data": {
      "text/plain": [
       "2"
      ]
     },
     "execution_count": 11,
     "metadata": {},
     "output_type": "execute_result"
    }
   ],
   "source": [
    "# To count a particular nucleotide\n",
    "seq.count('A')"
   ]
  },
  {
   "cell_type": "code",
   "execution_count": 13,
   "id": "7b35523a",
   "metadata": {},
   "outputs": [
    {
     "data": {
      "text/plain": [
       "1"
      ]
     },
     "execution_count": 13,
     "metadata": {},
     "output_type": "execute_result"
    }
   ],
   "source": [
    "# To find a single letter or sequence of letters inside the given sequence\n",
    "seq = Seq(\"AGUAGCACUGGU\")\n",
    "seq.find('G')"
   ]
  },
  {
   "cell_type": "code",
   "execution_count": 14,
   "id": "11b172e4",
   "metadata": {},
   "outputs": [
    {
     "data": {
      "text/plain": [
       "9"
      ]
     },
     "execution_count": 14,
     "metadata": {},
     "output_type": "execute_result"
    }
   ],
   "source": [
    "seq.find('GG')"
   ]
  },
  {
   "cell_type": "markdown",
   "id": "d37f01b7",
   "metadata": {},
   "source": [
    "## Advanced Operations"
   ]
  },
  {
   "cell_type": "markdown",
   "id": "3127be66",
   "metadata": {},
   "source": [
    "Nucleotide sequences can be reverse complimented to get new sequence. Also, the complemented sequence can be reverse complemented to get the original sequence. Biopython provides two methods to do this functionally - **complement** and **reverse-complement**."
   ]
  },
  {
   "cell_type": "code",
   "execution_count": 15,
   "id": "33acbf14",
   "metadata": {},
   "outputs": [
    {
     "data": {
      "text/plain": [
       "Seq('AGCTTCAGTCAG')"
      ]
     },
     "execution_count": 15,
     "metadata": {},
     "output_type": "execute_result"
    }
   ],
   "source": [
    "seq = Seq(\"TCGAAGTCAGTC\")\n",
    "seq.complement()"
   ]
  },
  {
   "cell_type": "code",
   "execution_count": 17,
   "id": "30e95240",
   "metadata": {},
   "outputs": [
    {
     "data": {
      "text/plain": [
       "Seq('GACTGACTTCGA')"
      ]
     },
     "execution_count": 17,
     "metadata": {},
     "output_type": "execute_result"
    }
   ],
   "source": [
    "rev = seq.reverse_complement()\n",
    "rev"
   ]
  },
  {
   "cell_type": "code",
   "execution_count": 18,
   "id": "a33b931f",
   "metadata": {},
   "outputs": [
    {
     "data": {
      "text/plain": [
       "True"
      ]
     },
     "execution_count": 18,
     "metadata": {},
     "output_type": "execute_result"
    }
   ],
   "source": [
    "rev.reverse_complement() == seq"
   ]
  },
  {
   "cell_type": "markdown",
   "id": "8c1a9b40",
   "metadata": {},
   "source": [
    "Genomic DNA base composition (GC content), is predicted to significantly affect genome functionality and species ecology. The GC content is the number of GC nucleotides divided by the total number of nucleotides. To get the GC nucleotide content"
   ]
  },
  {
   "cell_type": "code",
   "execution_count": 20,
   "id": "4107ebeb",
   "metadata": {},
   "outputs": [
    {
     "data": {
      "text/plain": [
       "0.47058823529411764"
      ]
     },
     "execution_count": 20,
     "metadata": {},
     "output_type": "execute_result"
    }
   ],
   "source": [
    "from Bio.SeqUtils import gc_fraction\n",
    "seq = Seq(\"GACTGACTTCGAATAGC\")\n",
    "gc_fraction(seq)"
   ]
  },
  {
   "cell_type": "markdown",
   "id": "c348466e",
   "metadata": {},
   "source": [
    "Transcription is the process of changing DNA sequence into RNA sequence. The actual biological transcription process is performing a reverse complement to get the mRNA considering the DNA as template strand. However, in bioinformatics, we typically work directly with the coding strand and we can get the mRNA sequence by changing the letter T to U"
   ]
  },
  {
   "cell_type": "code",
   "execution_count": 21,
   "id": "4340b53c",
   "metadata": {},
   "outputs": [
    {
     "data": {
      "text/plain": [
       "Seq('AUGCCGAUCGUAU')"
      ]
     },
     "execution_count": 21,
     "metadata": {},
     "output_type": "execute_result"
    }
   ],
   "source": [
    "from Bio.Seq import Seq\n",
    "from Bio.Seq import transcribe\n",
    "seq = Seq(\"ATGCCGATCGTAT\")\n",
    "transcribe(seq)"
   ]
  },
  {
   "cell_type": "markdown",
   "id": "b5c9e841",
   "metadata": {},
   "source": [
    "To reverse the transcription. U is changed back to T"
   ]
  },
  {
   "cell_type": "code",
   "execution_count": 22,
   "id": "78236527",
   "metadata": {},
   "outputs": [
    {
     "data": {
      "text/plain": [
       "Seq('ATGCCGATCGTAT')"
      ]
     },
     "execution_count": 22,
     "metadata": {},
     "output_type": "execute_result"
    }
   ],
   "source": [
    "rna = transcribe(seq)\n",
    "rna.back_transcribe()"
   ]
  },
  {
   "cell_type": "markdown",
   "id": "3f211e8d",
   "metadata": {},
   "source": [
    "To get the DNA template strand, `reverse_complement` the back transcribed RNA"
   ]
  },
  {
   "cell_type": "code",
   "execution_count": 23,
   "id": "4bc7471f",
   "metadata": {},
   "outputs": [
    {
     "data": {
      "text/plain": [
       "Seq('ATACGATCGGCAT')"
      ]
     },
     "execution_count": 23,
     "metadata": {},
     "output_type": "execute_result"
    }
   ],
   "source": [
    "rna.back_transcribe().reverse_complement()"
   ]
  },
  {
   "cell_type": "markdown",
   "id": "79d246ad",
   "metadata": {},
   "source": [
    "Translation is the process of translating RNA sequences to protein sequence. Considering a RNA sequence"
   ]
  },
  {
   "cell_type": "code",
   "execution_count": 25,
   "id": "6d30afb9",
   "metadata": {},
   "outputs": [
    {
     "name": "stderr",
     "output_type": "stream",
     "text": [
      "c:\\Users\\shres\\Projects\\BioPy\\.venv\\Lib\\site-packages\\Bio\\Seq.py:2879: BiopythonWarning: Partial codon, len(sequence) not a multiple of three. Explicitly trim the sequence or add trailing N before translation. This may become an error in future.\n",
      "  warnings.warn(\n"
     ]
    },
    {
     "data": {
      "text/plain": [
       "Seq('MAIV')"
      ]
     },
     "execution_count": 25,
     "metadata": {},
     "output_type": "execute_result"
    }
   ],
   "source": [
    "rna_seq = Seq(\"AUGGCCAUUGUAAU\")\n",
    "rna_seq.translate()"
   ]
  },
  {
   "cell_type": "code",
   "execution_count": 26,
   "id": "fe6e1b9f",
   "metadata": {},
   "outputs": [
    {
     "name": "stderr",
     "output_type": "stream",
     "text": [
      "c:\\Users\\shres\\Projects\\BioPy\\.venv\\Lib\\site-packages\\Bio\\Seq.py:2879: BiopythonWarning: Partial codon, len(sequence) not a multiple of three. Explicitly trim the sequence or add trailing N before translation. This may become an error in future.\n",
      "  warnings.warn(\n"
     ]
    },
    {
     "data": {
      "text/plain": [
       "Seq('MAIVMGRLKGCP')"
      ]
     },
     "execution_count": 26,
     "metadata": {},
     "output_type": "execute_result"
    }
   ],
   "source": [
    "rna = Seq(\"AUGGCCAUUGUAAUGGGCCGGCUGAAAGGGUGCCCGA\")\n",
    "rna.translate()"
   ]
  },
  {
   "cell_type": "markdown",
   "id": "820e6013",
   "metadata": {},
   "source": [
    "The Genetic Codes page of NCBI provides full list of translation tables used by BioPython"
   ]
  },
  {
   "cell_type": "code",
   "execution_count": 28,
   "id": "72c8dcef",
   "metadata": {},
   "outputs": [
    {
     "name": "stdout",
     "output_type": "stream",
     "text": [
      "Table 1 Standard, SGC0\n",
      "\n",
      "  |  T      |  C      |  A      |  G      |\n",
      "--+---------+---------+---------+---------+--\n",
      "T | TTT F   | TCT S   | TAT Y   | TGT C   | T\n",
      "T | TTC F   | TCC S   | TAC Y   | TGC C   | C\n",
      "T | TTA L   | TCA S   | TAA Stop| TGA Stop| A\n",
      "T | TTG L(s)| TCG S   | TAG Stop| TGG W   | G\n",
      "--+---------+---------+---------+---------+--\n",
      "C | CTT L   | CCT P   | CAT H   | CGT R   | T\n",
      "C | CTC L   | CCC P   | CAC H   | CGC R   | C\n",
      "C | CTA L   | CCA P   | CAA Q   | CGA R   | A\n",
      "C | CTG L(s)| CCG P   | CAG Q   | CGG R   | G\n",
      "--+---------+---------+---------+---------+--\n",
      "A | ATT I   | ACT T   | AAT N   | AGT S   | T\n",
      "A | ATC I   | ACC T   | AAC N   | AGC S   | C\n",
      "A | ATA I   | ACA T   | AAA K   | AGA R   | A\n",
      "A | ATG M(s)| ACG T   | AAG K   | AGG R   | G\n",
      "--+---------+---------+---------+---------+--\n",
      "G | GTT V   | GCT A   | GAT D   | GGT G   | T\n",
      "G | GTC V   | GCC A   | GAC D   | GGC G   | C\n",
      "G | GTA V   | GCA A   | GAA E   | GGA G   | A\n",
      "G | GTG V   | GCG A   | GAG E   | GGG G   | G\n",
      "--+---------+---------+---------+---------+--\n"
     ]
    }
   ],
   "source": [
    "from Bio.Data import CodonTable\n",
    "table = CodonTable.unambiguous_dna_by_name[\"Standard\"]\n",
    "print(table)"
   ]
  },
  {
   "cell_type": "code",
   "execution_count": null,
   "id": "6579fa8a",
   "metadata": {},
   "outputs": [],
   "source": []
  }
 ],
 "metadata": {
  "kernelspec": {
   "display_name": ".venv (3.13.8)",
   "language": "python",
   "name": "python3"
  },
  "language_info": {
   "codemirror_mode": {
    "name": "ipython",
    "version": 3
   },
   "file_extension": ".py",
   "mimetype": "text/x-python",
   "name": "python",
   "nbconvert_exporter": "python",
   "pygments_lexer": "ipython3",
   "version": "3.13.9"
  }
 },
 "nbformat": 4,
 "nbformat_minor": 5
}
