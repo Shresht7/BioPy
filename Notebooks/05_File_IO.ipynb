{
 "cells": [
  {
   "cell_type": "markdown",
   "id": "5efa1faf",
   "metadata": {},
   "source": [
    "# File IO\n",
    "\n",
    "When scientists share or store DNA sequences, they store it using standard file formats like `FASTA`.\n"
   ]
  },
  {
   "cell_type": "markdown",
   "id": "a152bb46",
   "metadata": {},
   "source": [
    "## FASTA\n",
    "\n",
    "Here's what a simple FASTA file looks like:\n",
    "\n",
    "```shell\n",
    "> seq1 | Human beta-globin gene\n",
    "ATGGTGCACCTGACTCCTGAGGAGAAGTCTGCCGTTACTGCCCTGTGGGGCAAGGTGAACGTGGATGAAGTTGGTGGTGAGGCCCTGGGCAG\n",
    "```\n",
    "\n",
    "- The first line starts with `>` and contains a description and ID.\n",
    "- The next line contains the sequence (usually wrapped at 60-80 characters).\n"
   ]
  },
  {
   "cell_type": "markdown",
   "id": "be72f016",
   "metadata": {},
   "source": [
    "FASTA is the universal format for biological sequences (DNA, RNA and proteins). It's simple, human-readable plain-text, and supported by every bio-informatics tool.\n",
    "\n",
    "FASTA often contains **many** sequences, e.g. whole genomes or protein databases.\n",
    "\n",
    "```shell\n",
    "> geneA\n",
    "ATGGCCATTGTAATGGGCCGCTGAAAGGGTGCCCGATAG\n",
    "> geneB\n",
    "ATGACCATGATTACGGATTCAAGGAGGACGACGAGCGTA\n",
    "```"
   ]
  },
  {
   "cell_type": "markdown",
   "id": "e8b8c8c2",
   "metadata": {},
   "source": [
    "Let's start by creating a class to hold the sequence along with the metadata."
   ]
  },
  {
   "cell_type": "code",
   "execution_count": 9,
   "id": "9bd06f49",
   "metadata": {},
   "outputs": [],
   "source": [
    "from dataclasses import dataclass, field\n",
    "from typing import Dict, Optional, Union\n",
    "from dna import DNASequence\n",
    "\n",
    "@dataclass\n",
    "class SeqRecord:\n",
    "    \"\"\"Data Structure to represent a single biological sequence (DNA, RNA or Protein) along with its metadata\"\"\"\n",
    "    seq: DNASequence # The sequence object\n",
    "    id: str # A unique identifier (often from FASTA header)\n",
    "    name: Optional[str] = \"\" # A short name or label\n",
    "    description: Optional[str] = \"\" # A human readable line of information\n",
    "    annotations: Dict[str, Union[str, float, int]] = field(default_factory=dict) # Optional dict for extra info\n",
    "\n",
    "    def __len__(self):\n",
    "        return len(self.seq.sequence)\n",
    "\n",
    "    def __getitem__(self, key):\n",
    "        \"\"\"Allow slicing like record[0:10] -> returns a new SeqRecord\"\"\"\n",
    "        sliced_seq = DNASequence(self.seq.sequence[key])\n",
    "        return SeqRecord(\n",
    "            seq = sliced_seq,\n",
    "            id = self.id,\n",
    "            name = self.name,\n",
    "            description = f\"{self.description} (slice)\",\n",
    "            annotations = self.annotations.copy()\n",
    "        )\n",
    "\n",
    "    def __str__(self):\n",
    "        seq_str = self.seq.sequence\n",
    "        # Split into 60 character lines (FASTA standard)\n",
    "        wrapped_seq = \"\\n\".join([seq_str[i:i+60] for i in range (0, len(seq_str), 60)])\n",
    "        return f\">{self.id} {self.description}\\n{wrapped_seq}\"\n",
    "\n",
    "    def __repr__(self):\n",
    "        return f\"<SeqRecord(id='{self.id}', length={len(self)})>\""
   ]
  },
  {
   "cell_type": "code",
   "execution_count": 10,
   "id": "370dc741",
   "metadata": {},
   "outputs": [
    {
     "data": {
      "text/plain": [
       "<DNASequence(length=24)?"
      ]
     },
     "execution_count": 10,
     "metadata": {},
     "output_type": "execute_result"
    }
   ],
   "source": [
    "seq = DNASequence.random(24)\n",
    "seq"
   ]
  },
  {
   "cell_type": "code",
   "execution_count": 11,
   "id": "aee91552",
   "metadata": {},
   "outputs": [
    {
     "name": "stdout",
     "output_type": "stream",
     "text": [
      ">seq1 Test gene sequence\n",
      "TTGTGAATTTCAAGAACTGACTAG\n",
      "Length: 24\n",
      "Slice: TTGTG\n"
     ]
    }
   ],
   "source": [
    "record = SeqRecord(seq, id=\"seq1\", description=\"Test gene sequence\")\n",
    "print(record)\n",
    "print(\"Length:\", len(record))\n",
    "print(\"Slice:\", record[0:5].seq.sequence)"
   ]
  },
  {
   "cell_type": "markdown",
   "id": "2bcaa303",
   "metadata": {},
   "source": [
    "## Parser"
   ]
  },
  {
   "cell_type": "code",
   "execution_count": null,
   "id": "f001f8d1",
   "metadata": {},
   "outputs": [],
   "source": [
    "from typing import Iterator\n",
    "from dna import DNASequence\n",
    "\n",
    "class SeqIO:\n",
    "    @staticmethod\n",
    "    def parse(filepath: str, format: str = \"fasta\") -> Iterator[SeqRecord]:\n",
    "        \"\"\"Parse a FASTA file and yield SeqRecord objects\"\"\"\n",
    "        if format.lower() != \"fasta\":\n",
    "            raise ValueError(\"Only FASTA format is currently supported\")\n",
    "\n",
    "        with open(filepath, 'r') as file:\n",
    "            seq_id = None\n",
    "            description = \"\"\n",
    "            seq_lines = []\n",
    "\n",
    "            for line in file:\n",
    "                line = line.strip()\n",
    "                print(line)\n",
    "                if not line:\n",
    "                    continue\n",
    "\n",
    "            if line.startswith('>'):\n",
    "                print('here')\n",
    "                # If there's an existing sequence, yield it\n",
    "                if seq_id:\n",
    "                    yield SeqRecord(\n",
    "                        seq = DNASequence(\"\".join(seq_lines)),\n",
    "                        id = seq_id,\n",
    "                        description = description\n",
    "                    )\n",
    "                # Otherwise, start a new record\n",
    "                header = line[1:].strip()\n",
    "                parts = header.split(maxsplit=1)\n",
    "                seq_id = parts[0]\n",
    "                description = parts[1] if len(parts) > 1 else \"\"\n",
    "            else:\n",
    "                seq_lines.append(line)\n",
    "\n",
    "        # Don't forget the last record\n",
    "        if seq_id:\n",
    "            yield SeqRecord(\n",
    "                seq = DNASequence(\"\".join(seq_lines)),\n",
    "                id = seq_id,\n",
    "                description = description\n",
    "            )"
   ]
  },
  {
   "cell_type": "markdown",
   "id": "0f59c196",
   "metadata": {},
   "source": [
    "Let's create a small FASTA file for testing"
   ]
  },
  {
   "cell_type": "code",
   "execution_count": 30,
   "id": "5db4193f",
   "metadata": {},
   "outputs": [
    {
     "name": "stdout",
     "output_type": "stream",
     "text": [
      "Overwriting test_sequences.fasta\n"
     ]
    }
   ],
   "source": [
    "%%writefile test_sequences.fasta\n",
    ">seq1 Example sequence 1\n",
    "ATGCGTACGTAG\n",
    ">seq2 Example sequence 2\n",
    "TTGGCATAGCTA "
   ]
  },
  {
   "cell_type": "code",
   "execution_count": 31,
   "id": "76c84cef",
   "metadata": {},
   "outputs": [],
   "source": [
    "for record in SeqIO.parse(\"test_sequences.fasta\", \"fasta\"):\n",
    "    print(record)"
   ]
  },
  {
   "cell_type": "code",
   "execution_count": null,
   "id": "05f88036",
   "metadata": {},
   "outputs": [],
   "source": []
  }
 ],
 "metadata": {
  "kernelspec": {
   "display_name": ".venv",
   "language": "python",
   "name": "python3"
  },
  "language_info": {
   "codemirror_mode": {
    "name": "ipython",
    "version": 3
   },
   "file_extension": ".py",
   "mimetype": "text/x-python",
   "name": "python",
   "nbconvert_exporter": "python",
   "pygments_lexer": "ipython3",
   "version": "3.13.7"
  }
 },
 "nbformat": 4,
 "nbformat_minor": 5
}
