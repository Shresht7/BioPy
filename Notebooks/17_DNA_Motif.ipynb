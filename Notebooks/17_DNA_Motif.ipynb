{
 "cells": [
  {
   "cell_type": "markdown",
   "id": "3b9b8da6",
   "metadata": {},
   "source": [
    "# DNA Motif\n",
    "\n",
    "A sequence motif is a nucleotide or amino-acid sequence pattern. Sequence motifs are formed by three-dimensional arrangements of amino-acids which may not be adjacent. BioPython provides a separate module, `Bio.motifs` to access the functionalities of sequence motifs"
   ]
  },
  {
   "cell_type": "code",
   "execution_count": 1,
   "id": "7b157c35",
   "metadata": {},
   "outputs": [],
   "source": [
    "from Bio import motifs"
   ]
  },
  {
   "cell_type": "markdown",
   "id": "c0fbd888",
   "metadata": {},
   "source": [
    "## Creating Simple DNA Motifs"
   ]
  },
  {
   "cell_type": "code",
   "execution_count": 4,
   "id": "68293286",
   "metadata": {},
   "outputs": [
    {
     "name": "stdout",
     "output_type": "stream",
     "text": [
      "AGCT\n",
      "TCGA\n",
      "AACT\n"
     ]
    }
   ],
   "source": [
    "from Bio import motifs\n",
    "from Bio.Seq import Seq\n",
    "DNA_Motif = [\n",
    "    Seq(\"AGCT\"),\n",
    "    Seq(\"TCGA\"),\n",
    "    Seq(\"AACT\")\n",
    "]\n",
    "seq = motifs.create(DNA_Motif)\n",
    "print(seq)"
   ]
  },
  {
   "cell_type": "code",
   "execution_count": 5,
   "id": "2373dbeb",
   "metadata": {},
   "outputs": [
    {
     "name": "stdout",
     "output_type": "stream",
     "text": [
      "        0      1      2      3\n",
      "A:   2.00   1.00   0.00   1.00\n",
      "C:   0.00   1.00   2.00   0.00\n",
      "G:   0.00   1.00   1.00   0.00\n",
      "T:   1.00   0.00   0.00   2.00\n",
      "\n"
     ]
    }
   ],
   "source": [
    "# To count the sequence values\n",
    "print(seq.counts)"
   ]
  },
  {
   "cell_type": "code",
   "execution_count": 6,
   "id": "1e60fcd9",
   "metadata": {},
   "outputs": [
    {
     "data": {
      "text/plain": [
       "(2.0, 1.0, 0.0, 1.0)"
      ]
     },
     "execution_count": 6,
     "metadata": {},
     "output_type": "execute_result"
    }
   ],
   "source": [
    "# To count A in the sequence\n",
    "seq.counts[\"A\", :]"
   ]
  },
  {
   "cell_type": "code",
   "execution_count": null,
   "id": "7d6dbd9e",
   "metadata": {},
   "outputs": [
    {
     "data": {
      "text/plain": [
       "{'A': 1.0, 'C': 0.0, 'G': 0.0, 'T': 2.0}"
      ]
     },
     "execution_count": 7,
     "metadata": {},
     "output_type": "execute_result"
    }
   ],
   "source": [
    "# To access a column of counts\n",
    "seq.counts[:, 3]"
   ]
  },
  {
   "cell_type": "markdown",
   "id": "31f94cad",
   "metadata": {},
   "source": [
    "## JASPAR Database\n",
    "\n",
    "JASPAR is one of the most popular databases. It provides facilities of any of the motif formats for reading, writing and scanning sequences. It stores meta-information for each motif. The module `Bio.motifs` contains a specialized class `jarpar.Motif` to represent meta-information attributes\n",
    "\n",
    "It has the following attributes:\n",
    "- `matrix_id`: Unique JASPAR motif ID\n",
    "- `name`: Name of the motif\n",
    "- `tf_family`: The family of motif, e.g. Helix-Loop-Helix\n",
    "- `data_type`: The type of data used in motif"
   ]
  },
  {
   "cell_type": "code",
   "execution_count": null,
   "id": "45366f4f",
   "metadata": {},
   "outputs": [],
   "source": []
  }
 ],
 "metadata": {
  "kernelspec": {
   "display_name": ".venv (3.13.8)",
   "language": "python",
   "name": "python3"
  },
  "language_info": {
   "codemirror_mode": {
    "name": "ipython",
    "version": 3
   },
   "file_extension": ".py",
   "mimetype": "text/x-python",
   "name": "python",
   "nbconvert_exporter": "python",
   "pygments_lexer": "ipython3",
   "version": "3.13.9"
  }
 },
 "nbformat": 4,
 "nbformat_minor": 5
}
