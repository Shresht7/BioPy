{
 "cells": [
  {
   "cell_type": "markdown",
   "id": "e8064536",
   "metadata": {},
   "source": [
    "# DNA Transcription and Translation"
   ]
  },
  {
   "cell_type": "markdown",
   "id": "e88f7f81",
   "metadata": {},
   "source": [
    "## Import DNA Sequence"
   ]
  },
  {
   "cell_type": "code",
   "execution_count": 1,
   "id": "d460e441",
   "metadata": {},
   "outputs": [],
   "source": [
    "from dna import DNASequence"
   ]
  },
  {
   "cell_type": "markdown",
   "id": "184d4a32",
   "metadata": {},
   "source": [
    "## DNA Transcription\n",
    "\n",
    "DNA stores the genetic instructions of living organisms in the sequence of bases `A`, `T`, `C` and `G`.\n",
    "\n",
    "To make proteins, DNA is first **transcribed** into RNA (ribonucleic acid), where the base `T (Thymine)` is replaced by `U (Uracil)`.\n",
    "\n",
    "For example:\n",
    "`DNA`: `ATGCGT`\n",
    "`RNA`: `AUGCGU`\n",
    "\n",
    "Transcription is the process by which a segment of DNA is copied into RNA - specifically messenger RNA (mRNA) - by enzyme RNA polymerase.\n",
    "\n",
    "Transcription is performed by RNA polymerase in cells, that we will simulate with Python.\n",
    "\n",
    "DNA -> RNA is the first step in protein synthesis. We replace `T` -> `U` to mimic this biological process."
   ]
  },
  {
   "cell_type": "code",
   "execution_count": 2,
   "id": "a8ed58a4",
   "metadata": {},
   "outputs": [],
   "source": [
    "class DNASequence(DNASequence): # We extend the existing class to make out lives easier\n",
    "    def transcribe(self):\n",
    "        \"\"\"Transcribes this DNA Sequence into RNA\"\"\"\n",
    "        return self.sequence.replace('T', 'U')"
   ]
  },
  {
   "cell_type": "code",
   "execution_count": 3,
   "id": "f0492869",
   "metadata": {},
   "outputs": [
    {
     "data": {
      "text/plain": [
       "'AUGCGUACGAUAC'"
      ]
     },
     "execution_count": 3,
     "metadata": {},
     "output_type": "execute_result"
    }
   ],
   "source": [
    "seq = DNASequence(\"ATGCGTACGATAC\")\n",
    "seq.transcribe()"
   ]
  },
  {
   "cell_type": "markdown",
   "id": "4e7c789f",
   "metadata": {},
   "source": [
    "## Translation\n",
    "\n",
    "We've seen how DNA (A, T, G, C) is transcribed into RNA (A, U, G, C).\n",
    "\n",
    "Now we move to **translation**, where RNA is decoded into a **protein** - a sequence of amino acids."
   ]
  },
  {
   "cell_type": "markdown",
   "id": "722fc9f3",
   "metadata": {},
   "source": [
    "## The Genetic Code\n",
    "\n",
    "Each _set of 3 RNA bases_ is called a **codon**.\n",
    "\n",
    "For example:\n",
    "`AUG` -> Methionine (M)\n",
    "`UUU` -> Phenylalanine (F)\n",
    "`UGA` -> Stop\n",
    "\n",
    "There are 64 (4^3) possible combinations -- 4 bases that can repeat 3 times for a single combination.\n",
    "\n",
    "Of these, 61 are for amino acids and 3 are designated as **stop codons** (`UUA`, `UAG`, `UGA`)"
   ]
  },
  {
   "cell_type": "markdown",
   "id": "90c3bc86",
   "metadata": {},
   "source": [
    "Translations usually begins at `AUG` (start codon), which codes for `Methionine (M)`, and ends when a _stop codon_ is encountered.\n",
    "\n",
    "So for this RNA: `AUGUUUUAA`\n",
    "\n",
    "The resulting protein is: `MF`\n",
    "\n",
    "and stops at the `UAA` codon."
   ]
  },
  {
   "cell_type": "code",
   "execution_count": 4,
   "id": "70e93f1b",
   "metadata": {},
   "outputs": [],
   "source": [
    "CODON_TABLE = {\n",
    "    # Phenylalanine (F)\n",
    "    \"UUU\": \"F\", \"UUC\": \"F\",\n",
    "    # Leucine (L)\n",
    "    \"UUA\": \"L\", \"UUG\": \"L\", \"CUU\": \"L\", \"CUC\": \"L\", \"CUA\": \"L\", \"CUG\": \"L\",\n",
    "    # Isoleucine (I)\n",
    "    \"AUU\": \"I\", \"AUC\": \"I\", \"AUA\": \"I\",\n",
    "    # Methionine (M) - Start codon\n",
    "    \"AUG\": \"M\",\n",
    "    # Valine (V)\n",
    "    \"GUU\": \"V\", \"GUC\": \"V\", \"GUA\": \"V\", \"GUG\": \"V\",\n",
    "    # Serine (S)\n",
    "    \"UCU\": \"S\", \"UCC\": \"S\", \"UCA\": \"S\", \"UCG\": \"S\", \"AGU\": \"S\", \"AGC\": \"S\",\n",
    "    # Proline (P)\n",
    "    \"CCU\": \"P\", \"CCC\": \"P\", \"CCA\": \"P\", \"CCG\": \"P\",\n",
    "    # Threonine (T)\n",
    "    \"ACU\": \"T\", \"ACC\": \"T\", \"ACA\": \"T\", \"ACG\": \"T\",\n",
    "    # Alanine (A)\n",
    "    \"GCU\": \"A\", \"GCC\": \"A\", \"GCA\": \"A\", \"GCG\": \"A\",\n",
    "    # Tyrosine (Y)\n",
    "    \"UAU\": \"Y\", \"UAC\": \"Y\",\n",
    "    # Histidine (H)\n",
    "    \"CAU\": \"H\", \"CAC\": \"H\",\n",
    "    # Glutamine (Q)\n",
    "    \"CAA\": \"Q\", \"CAG\": \"Q\",\n",
    "    # Asparagine (N)\n",
    "    \"AAU\": \"N\", \"AAC\": \"N\",\n",
    "    # Lysine (K)\n",
    "    \"AAA\": \"K\", \"AAG\": \"K\",\n",
    "    # Aspartic Acid (D)\n",
    "    \"GAU\": \"D\", \"GAC\": \"D\",\n",
    "    # Glutamic Acid (E)\n",
    "    \"GAA\": \"E\", \"GAG\": \"E\",\n",
    "    # Cysteine (C)\n",
    "    \"UGU\": \"C\", \"UGC\": \"C\",\n",
    "    # Tryptophan (W)\n",
    "    \"UGG\": \"W\",\n",
    "    # Arginine (R)\n",
    "    \"CGU\": \"R\", \"CGC\": \"R\", \"CGA\": \"R\", \"CGG\": \"R\", \"AGA\": \"R\", \"AGG\": \"R\",\n",
    "    # Glycine (G)\n",
    "    \"GGU\": \"G\", \"GGC\": \"G\", \"GGA\": \"G\", \"GGG\": \"G\",\n",
    "    # Stop codons\n",
    "    \"UAA\": \"*\", \"UAG\": \"*\", \"UGA\": \"*\"\n",
    "}\n"
   ]
  },
  {
   "cell_type": "markdown",
   "id": "41370d92",
   "metadata": {},
   "source": [
    "Each key is a codon (3 RNA bases). Each value is a single-letter amino acid code.\n",
    "\n",
    "The stop codons (`UAA`, `UAG`, `UGA`) map to `*` -- we'll use this symbol to mark where the translation should end.\n",
    "\n",
    "`AUG` (Methionine) is the *start codon** -- translation often begins here."
   ]
  },
  {
   "cell_type": "markdown",
   "id": "e01606e9",
   "metadata": {},
   "source": [
    "Translation happens in the *ribosome* - the cell's protein factory.\n",
    "- The `mRNA` sequence is read in groups of three bases called **codons**.\n",
    "- Each codon corresponds to one **amino acid** (the building block of proteins)\n",
    "- Translation starts at a start codon (AUG) and continues until a stop codon is encountered"
   ]
  },
  {
   "cell_type": "code",
   "execution_count": 5,
   "id": "3be4a86c",
   "metadata": {},
   "outputs": [],
   "source": [
    "def translate_rna(rna_seq: str) -> str:\n",
    "    \"\"\"\n",
    "    Translate an RNA sequence into a protein sequence.\n",
    "    Translation starts at AUG and stops at the first STOP codon (*)\n",
    "    \"\"\"\n",
    "    protein = \"\"\n",
    "    started = False\n",
    "\n",
    "    # Iterate through the RNA sequence in triplets (codons)\n",
    "    for i in range(0, len(rna_seq) - 2, 3):\n",
    "        codon = rna_seq[i:i+3].upper()\n",
    "        if codon not in CODON_TABLE:\n",
    "            continue # Skip invalid codons\n",
    "\n",
    "        amino_acid = CODON_TABLE[codon]\n",
    "\n",
    "        if amino_acid == \"*\": # Stop Codon\n",
    "            if started:\n",
    "                break # Stop translation\n",
    "            else:\n",
    "                continue\n",
    "\n",
    "        if codon == \"AUG\" and not started:\n",
    "            started = True # Start translation\n",
    "\n",
    "        if started:\n",
    "            protein += amino_acid\n",
    "\n",
    "    return protein\n"
   ]
  },
  {
   "cell_type": "code",
   "execution_count": 6,
   "id": "e6fac2fe",
   "metadata": {},
   "outputs": [
    {
     "name": "stdout",
     "output_type": "stream",
     "text": [
      "RNA: AUGUUUUAA -> Protein: MF\n"
     ]
    }
   ],
   "source": [
    "rna = \"AUGUUUUAA\"\n",
    "protein = translate_rna(rna)\n",
    "print(f\"RNA: {rna} -> Protein: {protein}\")"
   ]
  },
  {
   "cell_type": "code",
   "execution_count": 7,
   "id": "28a337ca",
   "metadata": {},
   "outputs": [
    {
     "data": {
      "text/plain": [
       "<DNASequence(length=256)?"
      ]
     },
     "execution_count": 7,
     "metadata": {},
     "output_type": "execute_result"
    }
   ],
   "source": [
    "random_dna = DNASequence.random(256)\n",
    "random_dna"
   ]
  },
  {
   "cell_type": "code",
   "execution_count": 8,
   "id": "1719f47c",
   "metadata": {},
   "outputs": [
    {
     "data": {
      "text/plain": [
       "'CUACAGACUUUCACCUAUCAUGACGAACACUGUGCUUGUCGCGCGAAGGUUGACCACCAAUUUUUUCUUCUAGCAGCGAACGAACCGUCGGUGAACAUAUCACUGGAAUUCGCAGCGAAUGCCCGCGCGACUGUUCAGGCCAUGUGCUUUUAUACGAAUAGCUUAUGAUAGUGGUCAGCAAGAUCACAACCUCACAAAGAUCAACCGCAGAAAUAAUCUUUGAUGUAUGUGGUGCGCGAAUACACAGGAUGGACCG'"
      ]
     },
     "execution_count": 8,
     "metadata": {},
     "output_type": "execute_result"
    }
   ],
   "source": [
    "rna = random_dna.transcribe()\n",
    "rna"
   ]
  },
  {
   "cell_type": "code",
   "execution_count": 9,
   "id": "2520ac59",
   "metadata": {},
   "outputs": [
    {
     "data": {
      "text/plain": [
       "'MCFYTNSL'"
      ]
     },
     "execution_count": 9,
     "metadata": {},
     "output_type": "execute_result"
    }
   ],
   "source": [
    "protein = translate_rna(rna)\n",
    "protein"
   ]
  },
  {
   "cell_type": "markdown",
   "id": "36e59d84",
   "metadata": {},
   "source": [
    "Now let's extend our class."
   ]
  },
  {
   "cell_type": "code",
   "execution_count": 10,
   "id": "3bf9f13d",
   "metadata": {},
   "outputs": [],
   "source": [
    "class DNASequence(DNASequence):\n",
    "    def translate(self):\n",
    "        \"\"\"Translates an mRNA sequence into a list of amino acids\"\"\"\n",
    "        amino_acids = []\n",
    "        mrna = mrna.upper()\n",
    "\n",
    "        # Find the start codon\n",
    "        start_index = mrna.find(\"AUG\")\n",
    "        if start_index == -1:\n",
    "            return [] # No start codon found.\n",
    "        \n",
    "        # Read codons in triplets from the start\n",
    "        for i in range(start_index, len(mrna), 3):\n",
    "            codon = mrna[i:i+3]\n",
    "            if len(codon) < 3:\n",
    "                break # Incomplete codon at the end?\n",
    "            amino_acid = CODON_TABLE.get(codon, '???')\n",
    "            if amino_acid == \"*\":\n",
    "                break\n",
    "\n",
    "            amino_acids.append(amino_acid)\n",
    "        \n",
    "        return \"\".join(amino_acids)"
   ]
  },
  {
   "cell_type": "code",
   "execution_count": 14,
   "id": "fda484fd",
   "metadata": {},
   "outputs": [
    {
     "data": {
      "text/plain": [
       "'MGSDDSETGSDSGSRSMCYIFV'"
      ]
     },
     "execution_count": 14,
     "metadata": {},
     "output_type": "execute_result"
    }
   ],
   "source": [
    "dna = DNASequence.random(1024)\n",
    "dna.translate()"
   ]
  },
  {
   "cell_type": "code",
   "execution_count": null,
   "id": "575279c2",
   "metadata": {},
   "outputs": [],
   "source": []
  }
 ],
 "metadata": {
  "kernelspec": {
   "display_name": ".venv",
   "language": "python",
   "name": "python3"
  },
  "language_info": {
   "codemirror_mode": {
    "name": "ipython",
    "version": 3
   },
   "file_extension": ".py",
   "mimetype": "text/x-python",
   "name": "python",
   "nbconvert_exporter": "python",
   "pygments_lexer": "ipython3",
   "version": "3.13.7"
  }
 },
 "nbformat": 4,
 "nbformat_minor": 5
}
