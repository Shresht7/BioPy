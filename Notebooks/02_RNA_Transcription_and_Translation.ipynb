{
 "cells": [
  {
   "cell_type": "markdown",
   "id": "e8064536",
   "metadata": {},
   "source": [
    "# DNA Transcription and Translation"
   ]
  },
  {
   "cell_type": "markdown",
   "id": "e88f7f81",
   "metadata": {},
   "source": [
    "## Import DNA Sequence"
   ]
  },
  {
   "cell_type": "code",
   "execution_count": null,
   "id": "d460e441",
   "metadata": {},
   "outputs": [],
   "source": [
    "from dna import DNASequence"
   ]
  },
  {
   "cell_type": "markdown",
   "id": "184d4a32",
   "metadata": {},
   "source": [
    "## DNA Transcription\n",
    "\n",
    "DNA stores the genetic instructions of living organisms in the sequence of bases `A`, `T`, `C` and `G`.\n",
    "\n",
    "To make proteins, DNA is first **transcribed** into RNA (ribonucleic acid), where the base `T (Thymine)` is replaced by `U (Uracil)`.\n",
    "\n",
    "For example:\n",
    "`DNA`: `ATGCGT`\n",
    "`RNA`: `AUGCGU`\n",
    "\n",
    "Transcription is performed by RNA polymerase in cells, that we will simulate with Python.\n",
    "\n",
    "DNA -> RNA is the first step in protein synthesis. We replace `T` -> `U` to mimic this biological process."
   ]
  },
  {
   "cell_type": "code",
   "execution_count": null,
   "id": "a8ed58a4",
   "metadata": {},
   "outputs": [],
   "source": [
    "class DNASequence(DNASequence): # We extend the existing class to make out lives easier\n",
    "    def transcribe(self):\n",
    "        \"\"\"Transcribes this DNA Sequence into RNA\"\"\"\n",
    "        return self.sequence.replace('T', 'U')"
   ]
  },
  {
   "cell_type": "code",
   "execution_count": null,
   "id": "f0492869",
   "metadata": {},
   "outputs": [
    {
     "data": {
      "text/plain": [
       "'AUGCGUACGAUAC'"
      ]
     },
     "metadata": {},
     "output_type": "display_data"
    }
   ],
   "source": [
    "seq = DNASequence(\"ATGCGTACGATAC\")\n",
    "seq.transcribe()"
   ]
  }
 ],
 "metadata": {
  "kernelspec": {
   "display_name": ".venv",
   "language": "python",
   "name": "python3"
  },
  "language_info": {
   "name": "python",
   "version": "3.13.7"
  }
 },
 "nbformat": 4,
 "nbformat_minor": 5
}
