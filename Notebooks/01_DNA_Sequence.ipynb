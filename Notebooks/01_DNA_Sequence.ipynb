{
 "cells": [
  {
   "cell_type": "markdown",
   "id": "037459f0",
   "metadata": {},
   "source": [
    "# DNA Sequence 101\n",
    "\n",
    "Understanding DNA Sequences with Python"
   ]
  },
  {
   "cell_type": "markdown",
   "id": "a6a75f98",
   "metadata": {},
   "source": [
    "## Objectives\n",
    "\n",
    "In this lesson, we'll:\n",
    "- Learn what DNA is and what it's made of\n",
    "- Represent DNA sequences in Python\n",
    "- Implement basic operations (length, counting nucleotide bases, complement, reverse complement)\n",
    "- Build a `DNASequence` python class"
   ]
  },
  {
   "cell_type": "markdown",
   "id": "67350665",
   "metadata": {},
   "source": [
    "## Deoxyribonucleic Acid (DNA)\n",
    "\n",
    "DNA (Deoxyribonucleic Acid) is made up of **four bases**:\n",
    "- `A`: Adenine\n",
    "- `T`: Thymine\n",
    "- `G`: Guanine\n",
    "- `C`: Cytosine\n",
    "\n",
    "Each base pairs with it's **complement**:\n",
    "|Base|Complement|\n",
    "|---|---|\n",
    "|A|T|\n",
    "|T|A|\n",
    "|G|C|\n",
    "|C|G|\n",
    "\n",
    "Sp a DMA strand like `A T G C` pairs with `T A C G`\n",
    "\n",
    "DNA Sequences are written as strings of these letters:\n",
    "`ATGCGTACGTTAGC`"
   ]
  },
  {
   "cell_type": "code",
   "execution_count": null,
   "id": "c7116573",
   "metadata": {
    "vscode": {
     "languageId": "plaintext"
    }
   },
   "outputs": [],
   "source": [
    "# Since DNA is just a sequence of these nucleotides, it can simply be represented as a string (which is essentially a list of characters) in Python\n",
    "dna_sequence = \"ATGCGTACGTTAGC\"\n",
    "\n",
    "print(\"DNA Sequence:\", dna_sequence)\n",
    "print(\"Length:\", len(dna_sequence))\n",
    "print(\"Bases:\", set(dna_sequence))"
   ]
  },
  {
   "cell_type": "code",
   "execution_count": null,
   "id": "ab318c41",
   "metadata": {
    "vscode": {
     "languageId": "plaintext"
    }
   },
   "outputs": [],
   "source": []
  }
 ],
 "metadata": {
  "language_info": {
   "name": "python"
  }
 },
 "nbformat": 4,
 "nbformat_minor": 5
}
