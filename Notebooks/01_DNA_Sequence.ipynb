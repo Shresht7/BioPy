{
 "cells": [
  {
   "cell_type": "markdown",
   "id": "037459f0",
   "metadata": {},
   "source": [
    "# DNA Sequence 101\n",
    "\n",
    "Understanding DNA Sequences with Python"
   ]
  },
  {
   "cell_type": "markdown",
   "id": "a6a75f98",
   "metadata": {},
   "source": [
    "## Objectives\n",
    "\n",
    "In this lesson, we'll:\n",
    "- Learn what DNA is and what it's made of\n",
    "- Represent DNA sequences in Python\n",
    "- Implement basic operations (length, counting nucleotide bases, complement, reverse complement)\n",
    "- Build a `DNASequence` python class"
   ]
  },
  {
   "cell_type": "markdown",
   "id": "67350665",
   "metadata": {},
   "source": [
    "## Deoxyribonucleic Acid (DNA)\n",
    "\n",
    "DNA (Deoxyribonucleic Acid) is made up of **four bases**:\n",
    "- `A`: Adenine\n",
    "- `T`: Thymine\n",
    "- `G`: Guanine\n",
    "- `C`: Cytosine\n",
    "\n",
    "Each base pairs with it's **complement**:\n",
    "|Base|Complement|\n",
    "|---|---|\n",
    "|A|T|\n",
    "|T|A|\n",
    "|G|C|\n",
    "|C|G|\n",
    "\n",
    "Sp a DNA strand like `A T G C` pairs with `T A C G`\n",
    "\n",
    "DNA Sequences are written as strings of these letters:\n",
    "`ATGCGTACGTTAGC`"
   ]
  },
  {
   "cell_type": "code",
   "execution_count": 1,
   "id": "c7116573",
   "metadata": {},
   "outputs": [
    {
     "name": "stdout",
     "output_type": "stream",
     "text": [
      "DNA Sequence: ATGCGTACGTTAGC\n",
      "Length: 14\n",
      "Bases: {'A', 'C', 'G', 'T'}\n"
     ]
    }
   ],
   "source": [
    "# Since DNA is just a sequence of these nucleotides, it can simply be represented as a string (which is essentially a list of characters) in Python\n",
    "dna_sequence = \"ATGCGTACGTTAGC\"\n",
    "\n",
    "print(\"DNA Sequence:\", dna_sequence)\n",
    "print(\"Length:\", len(dna_sequence))\n",
    "print(\"Bases:\", set(dna_sequence))"
   ]
  },
  {
   "cell_type": "code",
   "execution_count": 2,
   "id": "5e975169",
   "metadata": {},
   "outputs": [],
   "source": [
    "BASES = ['A', 'T', 'G', 'C']"
   ]
  },
  {
   "cell_type": "markdown",
   "id": "01485c92",
   "metadata": {},
   "source": [
    "## Counting Nucleotides"
   ]
  },
  {
   "cell_type": "code",
   "execution_count": 3,
   "id": "7d3ab53b",
   "metadata": {},
   "outputs": [],
   "source": [
    "def count_nucleotides(seq: str) -> dict[str, int]:\n",
    "    \"\"\"Count the number of nucleotides in the given DNA sequence\"\"\"\n",
    "    counts = { base: seq.count(base) for base in BASES }\n",
    "    return counts"
   ]
  },
  {
   "cell_type": "markdown",
   "id": "d7a03cc0",
   "metadata": {},
   "source": [
    "Alternatively, if Python comprehensions are too much magic, you can simply do it like:\n",
    "\n",
    "```py\n",
    "def count_nucleotides(seq: str) -> dict[str, int]:\n",
    "    \"\"\"Count the number of nucleotides in the given DNA sequence\"\"\"\n",
    "    counts = {\"A\": 0, \"T\": 0, \"G\": 0, \"C\": 0}\n",
    "    for base in BASES:\n",
    "        counts[base] = seq.count(base)\n",
    "    return counts\n",
    "```"
   ]
  },
  {
   "cell_type": "markdown",
   "id": "ff8a3f54",
   "metadata": {},
   "source": [
    "### What is this `: str` and `-> dict[str, int]` stuff in my Python?\n",
    "\n",
    "These are type annotations. They are a (relatively) recent addition to Python. \n",
    "// TODO: Explain this better. Dynamic vs Strict Typing."
   ]
  },
  {
   "cell_type": "code",
   "execution_count": 4,
   "id": "0fb03ed8",
   "metadata": {},
   "outputs": [
    {
     "data": {
      "text/plain": [
       "{'A': 3, 'T': 4, 'G': 4, 'C': 3}"
      ]
     },
     "execution_count": 4,
     "metadata": {},
     "output_type": "execute_result"
    }
   ],
   "source": [
    "count_nucleotides('ATGCGTACGTTAGC')"
   ]
  },
  {
   "cell_type": "markdown",
   "id": "c04480a4",
   "metadata": {},
   "source": [
    "## Generating Random DNA Sequences\n",
    "\n",
    "Turns out that the only requirement for a valid DNA sequence is to only have these nucleotides. The order does not matter. Since we will need a lot of DNA sequences in the following lessons, let's create a simple helper function to generate random DNA sequences"
   ]
  },
  {
   "cell_type": "code",
   "execution_count": 5,
   "id": "60c7f640",
   "metadata": {},
   "outputs": [],
   "source": [
    "# We'll need to import the `random` module from the Python standard library to be able to select bases randomly\n",
    "import random"
   ]
  },
  {
   "cell_type": "code",
   "execution_count": 6,
   "id": "c4f53563",
   "metadata": {},
   "outputs": [],
   "source": [
    "def generate_random_sequence(length: int = 12) -> str:\n",
    "    \"\"\"Generates a random DNA sequence of given length\"\"\"\n",
    "    seq = [random.choice(BASES) for _ in range(length)]\n",
    "    return \"\".join(seq)"
   ]
  },
  {
   "cell_type": "code",
   "execution_count": null,
   "id": "c9d35d87",
   "metadata": {},
   "outputs": [
    {
     "data": {
      "text/plain": [
       "'TCCCCATCGTGC'"
      ]
     },
     "execution_count": 7,
     "metadata": {},
     "output_type": "execute_result"
    }
   ],
   "source": [
    "# Generate a random DNA sequence of length 12 (default)\n",
    "seq = generate_random_sequence()\n",
    "seq"
   ]
  },
  {
   "cell_type": "code",
   "execution_count": 8,
   "id": "96dd4563",
   "metadata": {},
   "outputs": [
    {
     "data": {
      "text/plain": [
       "'TAAACTATTGCGGTATTCTGATCGGAAGCGTTCCGCAGGATTCTGAACCATACGGCAGCCGCTTAGGCTAGGGTGCCTGTTGAAAACCACCCAACTGAGTTTGCAGATTCGCAAGCGGGCACAAGCCCTATCGCGAGTGATTCGGAATTACATGAACTGCCAGCGAGGGTTCCCGCCCGGCTTCGACCCCAGACCTTCAAAATCATTGTTTGTTGGCAGTTACCTGGCTGAGTTGCGATCTGTTCTTCTGGTCCTTCCGCCGGATAAAAGGATTGTCCGTCATGCAGAATACGCGTCAGTAGTAGGACGGTAAGATCTGGCATTTTCTAGAGGGAACCCCATTGAGCCGGCTGCTATCCCTTTTTTAACCATAAGCCAGGTAGACTTGGCCTGTATCGGCAATCACGGGGCGGCGCACAGAAAAAGTGTACCATGATGGCGCTCATAGCCCCAGTGCGGAATGAATTTTCGTACTGTTTGAGCCTTTCCTCGTCGGGTGTGCCGGGGACCGTATTCCGCGCCGATCCTTGGGACTACAAACCAACCCATCTATATGTCGGCCCAAGTTAGGCCACACCTACAAGGCATCAACACCTTGAACGCGAAAGGTTATTTCACGGAGATGTCAGCCGCAGGTCTCGGCCTCCGGGTTTAAGTTAAACTCAAGTTCGGTTTTATTGAATATGCAGTTGCGCCTGTGAACGGACCCCAGCGGTGCAACTGTCTCACTACAGTGATTGGCTAGATGGTATTAACATTGTACATGGGGTTAGGTAAAATCTTGACCACATTATGCCGAGGCGTGACGGGGCCTACGTAGGTTAATGCTGTTATACAGTCGCCGTGCGATCCTTTGGGGTTAACGTCCATATACTAAACCTGGCTTAAGGCTATCAAATGCAAAGAACTTCATGTACGGGCCGACCTGATTTTCCTTTGGTGCTACCGTGCCCTGTACTATTCACATAGTTTAGGGAAAGCAATTGTGGTCTCTCTAATA'"
      ]
     },
     "execution_count": 8,
     "metadata": {},
     "output_type": "execute_result"
    }
   ],
   "source": [
    "# Generate a much larger sequence\n",
    "seq = generate_random_sequence(1000)\n",
    "seq"
   ]
  },
  {
   "cell_type": "markdown",
   "id": "bec531e0",
   "metadata": {},
   "source": [
    "Nice. Now that we have a way to generate (reasonably large) DNA sequences, we can performing operations on them. Let's start by revisiting the `count_nucleotides` function"
   ]
  },
  {
   "cell_type": "code",
   "execution_count": 9,
   "id": "bb98e38f",
   "metadata": {},
   "outputs": [
    {
     "data": {
      "text/plain": [
       "{'A': 235, 'T': 262, 'G': 255, 'C': 248}"
      ]
     },
     "execution_count": 9,
     "metadata": {},
     "output_type": "execute_result"
    }
   ],
   "source": [
    "bases = count_nucleotides(seq)\n",
    "bases"
   ]
  },
  {
   "cell_type": "code",
   "execution_count": 16,
   "id": "3175beda",
   "metadata": {},
   "outputs": [
    {
     "name": "stdout",
     "output_type": "stream",
     "text": [
      "==== Nucleotide Counts ====\n",
      "Adenine \t\t235\n",
      "Thymine \t\t262\n",
      "Guanine \t\t255\n",
      "Cytosine\t\t248\n"
     ]
    }
   ],
   "source": [
    "print(\"=\" * 4, \"Nucleotide Counts\", \"=\" * 4)\n",
    "print(\"Adenine \", bases['A'], sep='\\t\\t')\n",
    "print(\"Thymine \", bases['T'], sep='\\t\\t')\n",
    "print(\"Guanine \", bases['G'], sep='\\t\\t')\n",
    "print(\"Cytosine\", bases['C'], sep='\\t\\t')"
   ]
  },
  {
   "cell_type": "markdown",
   "id": "fe103d92",
   "metadata": {},
   "source": [
    "We can see that out randomly generated DNA sequence has an almost uniform spread of the 4 bases. On a side note, we will need the full-names of the bases from time-to-time, so let's create a helper function to translate between the short-code and the full-name."
   ]
  },
  {
   "cell_type": "code",
   "execution_count": 17,
   "id": "5b03709a",
   "metadata": {},
   "outputs": [],
   "source": [
    "BASE_NAMES = {\n",
    "    \"A\": \"Adenine\",\n",
    "    \"T\": \"Thymine\",\n",
    "    \"G\": \"Guanine\",\n",
    "    \"C\": \"Cytosine\"\n",
    "}"
   ]
  },
  {
   "cell_type": "markdown",
   "id": "a9ea5357",
   "metadata": {},
   "source": [
    "## Validating DNA Sequences\n",
    "\n",
    "Now that we have a way to generate DNA sequences, we should also create a function to check if a given sequence is a valid DNA or not. This is easy enough as the only check we need to perform is to make sure that sequence only contains the four bases and nothing else."
   ]
  },
  {
   "cell_type": "code",
   "execution_count": 30,
   "id": "c3ef0b35",
   "metadata": {},
   "outputs": [],
   "source": [
    "def is_valid(seq: str) -> bool:\n",
    "    \"\"\"Checks whether the given sequence is a valid DNA sequence or not\"\"\"\n",
    "    return all(base in BASES for base in seq)"
   ]
  },
  {
   "cell_type": "code",
   "execution_count": 31,
   "id": "e2aee054",
   "metadata": {},
   "outputs": [
    {
     "data": {
      "text/plain": [
       "True"
      ]
     },
     "execution_count": 31,
     "metadata": {},
     "output_type": "execute_result"
    }
   ],
   "source": [
    "is_valid(seq)"
   ]
  },
  {
   "cell_type": "code",
   "execution_count": 32,
   "id": "f839a2cd",
   "metadata": {},
   "outputs": [
    {
     "data": {
      "text/plain": [
       "False"
      ]
     },
     "execution_count": 32,
     "metadata": {},
     "output_type": "execute_result"
    }
   ],
   "source": [
    "is_valid(\"NOTAVALIDDNA\")"
   ]
  },
  {
   "cell_type": "markdown",
   "id": "ba3477b0",
   "metadata": {},
   "source": [
    "## Complement\n",
    "\n",
    "Each DNA strand pairs with a complementary strand."
   ]
  },
  {
   "cell_type": "code",
   "execution_count": 33,
   "id": "a3b758a9",
   "metadata": {},
   "outputs": [],
   "source": [
    "BASE_COMPLEMENTS = {\n",
    "    \"A\": \"T\",\n",
    "    \"T\": \"A\",\n",
    "    \"G\": \"C\",\n",
    "    \"C\": \"G\"\n",
    "}"
   ]
  },
  {
   "cell_type": "code",
   "execution_count": 34,
   "id": "f41baa31",
   "metadata": {},
   "outputs": [],
   "source": [
    "def complement(seq: str) -> str:\n",
    "    \"\"\"Generates the complement for the given DNA sequence\"\"\"\n",
    "    complement = [BASE_COMPLEMENTS[base] for base in seq]\n",
    "    return \"\".join(complement)"
   ]
  },
  {
   "cell_type": "code",
   "execution_count": 35,
   "id": "5c60880c",
   "metadata": {},
   "outputs": [
    {
     "data": {
      "text/plain": [
       "'TGCACTG'"
      ]
     },
     "execution_count": 35,
     "metadata": {},
     "output_type": "execute_result"
    }
   ],
   "source": [
    "complement(\"ACGTGAC\")"
   ]
  },
  {
   "cell_type": "code",
   "execution_count": 36,
   "id": "3aa90716",
   "metadata": {},
   "outputs": [
    {
     "data": {
      "text/plain": [
       "'ATTTGATAACGCCATAAGACTAGCCTTCGCAAGGCGTCCTAAGACTTGGTATGCCGTCGGCGAATCCGATCCCACGGACAACTTTTGGTGGGTTGACTCAAACGTCTAAGCGTTCGCCCGTGTTCGGGATAGCGCTCACTAAGCCTTAATGTACTTGACGGTCGCTCCCAAGGGCGGGCCGAAGCTGGGGTCTGGAAGTTTTAGTAACAAACAACCGTCAATGGACCGACTCAACGCTAGACAAGAAGACCAGGAAGGCGGCCTATTTTCCTAACAGGCAGTACGTCTTATGCGCAGTCATCATCCTGCCATTCTAGACCGTAAAAGATCTCCCTTGGGGTAACTCGGCCGACGATAGGGAAAAAATTGGTATTCGGTCCATCTGAACCGGACATAGCCGTTAGTGCCCCGCCGCGTGTCTTTTTCACATGGTACTACCGCGAGTATCGGGGTCACGCCTTACTTAAAAGCATGACAAACTCGGAAAGGAGCAGCCCACACGGCCCCTGGCATAAGGCGCGGCTAGGAACCCTGATGTTTGGTTGGGTAGATATACAGCCGGGTTCAATCCGGTGTGGATGTTCCGTAGTTGTGGAACTTGCGCTTTCCAATAAAGTGCCTCTACAGTCGGCGTCCAGAGCCGGAGGCCCAAATTCAATTTGAGTTCAAGCCAAAATAACTTATACGTCAACGCGGACACTTGCCTGGGGTCGCCACGTTGACAGAGTGATGTCACTAACCGATCTACCATAATTGTAACATGTACCCCAATCCATTTTAGAACTGGTGTAATACGGCTCCGCACTGCCCCGGATGCATCCAATTACGACAATATGTCAGCGGCACGCTAGGAAACCCCAATTGCAGGTATATGATTTGGACCGAATTCCGATAGTTTACGTTTCTTGAAGTACATGCCCGGCTGGACTAAAAGGAAACCACGATGGCACGGGACATGATAAGTGTATCAAATCCCTTTCGTTAACACCAGAGAGATTAT'"
      ]
     },
     "execution_count": 36,
     "metadata": {},
     "output_type": "execute_result"
    }
   ],
   "source": [
    "complement(seq)"
   ]
  },
  {
   "cell_type": "code",
   "execution_count": null,
   "id": "a8abc85f",
   "metadata": {},
   "outputs": [],
   "source": []
  }
 ],
 "metadata": {
  "kernelspec": {
   "display_name": ".venv",
   "language": "python",
   "name": "python3"
  },
  "language_info": {
   "codemirror_mode": {
    "name": "ipython",
    "version": 3
   },
   "file_extension": ".py",
   "mimetype": "text/x-python",
   "name": "python",
   "nbconvert_exporter": "python",
   "pygments_lexer": "ipython3",
   "version": "3.13.7"
  }
 },
 "nbformat": 4,
 "nbformat_minor": 5
}
