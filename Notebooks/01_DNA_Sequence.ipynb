{
 "cells": [
  {
   "cell_type": "markdown",
   "id": "037459f0",
   "metadata": {},
   "source": [
    "# DNA Sequence 101\n",
    "\n",
    "Understanding DNA Sequences with Python"
   ]
  },
  {
   "cell_type": "markdown",
   "id": "a6a75f98",
   "metadata": {},
   "source": [
    "## Objectives\n",
    "\n",
    "In this lesson, we'll:\n",
    "- Learn what DNA is and what it's made of\n",
    "- Represent DNA sequences in Python\n",
    "- Implement basic operations (length, counting nucleotide bases, complement, reverse complement)\n",
    "- Build a `DNASequence` python class"
   ]
  },
  {
   "cell_type": "markdown",
   "id": "67350665",
   "metadata": {},
   "source": [
    "## Deoxyribonucleic Acid (DNA)\n",
    "\n",
    "DNA (Deoxyribonucleic Acid) is made up of **four bases**:\n",
    "- `A`: Adenine\n",
    "- `T`: Thymine\n",
    "- `G`: Guanine\n",
    "- `C`: Cytosine\n",
    "\n",
    "Each base pairs with it's **complement**:\n",
    "|Base|Complement|\n",
    "|---|---|\n",
    "|A|T|\n",
    "|T|A|\n",
    "|G|C|\n",
    "|C|G|\n",
    "\n",
    "Sp a DNA strand like `A T G C` pairs with `T A C G`\n",
    "\n",
    "DNA Sequences are written as strings of these letters:\n",
    "`ATGCGTACGTTAGC`"
   ]
  },
  {
   "cell_type": "code",
   "execution_count": 1,
   "id": "c7116573",
   "metadata": {},
   "outputs": [
    {
     "name": "stdout",
     "output_type": "stream",
     "text": [
      "DNA Sequence: ATGCGTACGTTAGC\n",
      "Length: 14\n",
      "Bases: {'A', 'C', 'G', 'T'}\n"
     ]
    }
   ],
   "source": [
    "# Since DNA is just a sequence of these nucleotides, it can simply be represented as a string (which is essentially a list of characters) in Python\n",
    "dna_sequence = \"ATGCGTACGTTAGC\"\n",
    "\n",
    "print(\"DNA Sequence:\", dna_sequence)\n",
    "print(\"Length:\", len(dna_sequence))\n",
    "print(\"Bases:\", set(dna_sequence))"
   ]
  },
  {
   "cell_type": "code",
   "execution_count": 2,
   "id": "5e975169",
   "metadata": {},
   "outputs": [],
   "source": [
    "BASES = ['A', 'T', 'G', 'C']"
   ]
  },
  {
   "cell_type": "markdown",
   "id": "01485c92",
   "metadata": {},
   "source": [
    "## Counting Nucleotides"
   ]
  },
  {
   "cell_type": "code",
   "execution_count": 3,
   "id": "7d3ab53b",
   "metadata": {},
   "outputs": [],
   "source": [
    "def count_nucleotides(seq: str) -> dict[str, int]:\n",
    "    \"\"\"Count the number of nucleotides in the given DNA sequence\"\"\"\n",
    "    counts = { base: seq.count(base) for base in BASES }\n",
    "    return counts"
   ]
  },
  {
   "cell_type": "markdown",
   "id": "d7a03cc0",
   "metadata": {},
   "source": [
    "Alternatively, if Python comprehensions are too much magic, you can simply do it like:\n",
    "\n",
    "```py\n",
    "def count_nucleotides(seq: str) -> dict[str, int]:\n",
    "    \"\"\"Count the number of nucleotides in the given DNA sequence\"\"\"\n",
    "    counts = {\"A\": 0, \"T\": 0, \"G\": 0, \"C\": 0}\n",
    "    for base in BASES:\n",
    "        counts[base] = seq.count(base)\n",
    "    return counts\n",
    "```"
   ]
  },
  {
   "cell_type": "markdown",
   "id": "ff8a3f54",
   "metadata": {},
   "source": [
    "### What is this `: str` and `-> dict[str, int]` stuff in my Python?\n",
    "\n",
    "These are type annotations. They are a (relatively) recent addition to Python. \n",
    "// TODO: Explain this better. Dynamic vs Strict Typing."
   ]
  },
  {
   "cell_type": "code",
   "execution_count": 4,
   "id": "0fb03ed8",
   "metadata": {},
   "outputs": [
    {
     "data": {
      "text/plain": [
       "{'A': 3, 'T': 4, 'G': 4, 'C': 3}"
      ]
     },
     "execution_count": 4,
     "metadata": {},
     "output_type": "execute_result"
    }
   ],
   "source": [
    "count_nucleotides('ATGCGTACGTTAGC')"
   ]
  },
  {
   "cell_type": "markdown",
   "id": "c04480a4",
   "metadata": {},
   "source": [
    "## Generating Random DNA Sequences\n",
    "\n",
    "Turns out that the only requirement for a valid DNA sequence is to only have these nucleotides. The order does not matter. Since we will need a lot of DNA sequences in the following lessons, let's create a simple helper function to generate random DNA sequences"
   ]
  },
  {
   "cell_type": "code",
   "execution_count": 5,
   "id": "60c7f640",
   "metadata": {},
   "outputs": [],
   "source": [
    "# We'll need to import the `random` module from the Python standard library to be able to select bases randomly\n",
    "import random"
   ]
  },
  {
   "cell_type": "code",
   "execution_count": 6,
   "id": "c4f53563",
   "metadata": {},
   "outputs": [],
   "source": [
    "def generate_random_sequence(length: int = 12) -> str:\n",
    "    \"\"\"Generates a random DNA sequence of given length\"\"\"\n",
    "    seq = [random.choice(BASES) for _ in range(length)]\n",
    "    return \"\".join(seq)"
   ]
  },
  {
   "cell_type": "code",
   "execution_count": null,
   "id": "c9d35d87",
   "metadata": {},
   "outputs": [
    {
     "data": {
      "text/plain": [
       "'TCCCCATCGTGC'"
      ]
     },
     "execution_count": 7,
     "metadata": {},
     "output_type": "execute_result"
    }
   ],
   "source": [
    "# Generate a random DNA sequence of length 12 (default)\n",
    "seq = generate_random_sequence()\n",
    "seq"
   ]
  },
  {
   "cell_type": "code",
   "execution_count": 8,
   "id": "96dd4563",
   "metadata": {},
   "outputs": [
    {
     "data": {
      "text/plain": [
       "'TAAACTATTGCGGTATTCTGATCGGAAGCGTTCCGCAGGATTCTGAACCATACGGCAGCCGCTTAGGCTAGGGTGCCTGTTGAAAACCACCCAACTGAGTTTGCAGATTCGCAAGCGGGCACAAGCCCTATCGCGAGTGATTCGGAATTACATGAACTGCCAGCGAGGGTTCCCGCCCGGCTTCGACCCCAGACCTTCAAAATCATTGTTTGTTGGCAGTTACCTGGCTGAGTTGCGATCTGTTCTTCTGGTCCTTCCGCCGGATAAAAGGATTGTCCGTCATGCAGAATACGCGTCAGTAGTAGGACGGTAAGATCTGGCATTTTCTAGAGGGAACCCCATTGAGCCGGCTGCTATCCCTTTTTTAACCATAAGCCAGGTAGACTTGGCCTGTATCGGCAATCACGGGGCGGCGCACAGAAAAAGTGTACCATGATGGCGCTCATAGCCCCAGTGCGGAATGAATTTTCGTACTGTTTGAGCCTTTCCTCGTCGGGTGTGCCGGGGACCGTATTCCGCGCCGATCCTTGGGACTACAAACCAACCCATCTATATGTCGGCCCAAGTTAGGCCACACCTACAAGGCATCAACACCTTGAACGCGAAAGGTTATTTCACGGAGATGTCAGCCGCAGGTCTCGGCCTCCGGGTTTAAGTTAAACTCAAGTTCGGTTTTATTGAATATGCAGTTGCGCCTGTGAACGGACCCCAGCGGTGCAACTGTCTCACTACAGTGATTGGCTAGATGGTATTAACATTGTACATGGGGTTAGGTAAAATCTTGACCACATTATGCCGAGGCGTGACGGGGCCTACGTAGGTTAATGCTGTTATACAGTCGCCGTGCGATCCTTTGGGGTTAACGTCCATATACTAAACCTGGCTTAAGGCTATCAAATGCAAAGAACTTCATGTACGGGCCGACCTGATTTTCCTTTGGTGCTACCGTGCCCTGTACTATTCACATAGTTTAGGGAAAGCAATTGTGGTCTCTCTAATA'"
      ]
     },
     "execution_count": 8,
     "metadata": {},
     "output_type": "execute_result"
    }
   ],
   "source": [
    "# Generate a much larger sequence\n",
    "seq = generate_random_sequence(1000)\n",
    "seq"
   ]
  },
  {
   "cell_type": "markdown",
   "id": "bec531e0",
   "metadata": {},
   "source": [
    "Nice. Now that we have a way to generate (reasonably large) DNA sequences, we can performing operations on them. Let's start by revisiting the `count_nucleotides` function"
   ]
  },
  {
   "cell_type": "code",
   "execution_count": 9,
   "id": "bb98e38f",
   "metadata": {},
   "outputs": [
    {
     "data": {
      "text/plain": [
       "{'A': 235, 'T': 262, 'G': 255, 'C': 248}"
      ]
     },
     "execution_count": 9,
     "metadata": {},
     "output_type": "execute_result"
    }
   ],
   "source": [
    "bases = count_nucleotides(seq)\n",
    "bases"
   ]
  },
  {
   "cell_type": "code",
   "execution_count": 16,
   "id": "3175beda",
   "metadata": {},
   "outputs": [
    {
     "name": "stdout",
     "output_type": "stream",
     "text": [
      "==== Nucleotide Counts ====\n",
      "Adenine \t\t235\n",
      "Thymine \t\t262\n",
      "Guanine \t\t255\n",
      "Cytosine\t\t248\n"
     ]
    }
   ],
   "source": [
    "print(\"=\" * 4, \"Nucleotide Counts\", \"=\" * 4)\n",
    "print(\"Adenine \", bases['A'], sep='\\t\\t')\n",
    "print(\"Thymine \", bases['T'], sep='\\t\\t')\n",
    "print(\"Guanine \", bases['G'], sep='\\t\\t')\n",
    "print(\"Cytosine\", bases['C'], sep='\\t\\t')"
   ]
  },
  {
   "cell_type": "markdown",
   "id": "fe103d92",
   "metadata": {},
   "source": [
    "We can see that out randomly generated DNA sequence has an almost uniform spread of the 4 bases. On a side note, we will need the full-names of the bases from time-to-time, so let's create a helper function to translate between the short-code and the full-name."
   ]
  },
  {
   "cell_type": "code",
   "execution_count": 17,
   "id": "5b03709a",
   "metadata": {},
   "outputs": [],
   "source": [
    "BASE_NAMES = {\n",
    "    \"A\": \"Adenine\",\n",
    "    \"T\": \"Thymine\",\n",
    "    \"G\": \"Guanine\",\n",
    "    \"C\": \"Cytosine\"\n",
    "}"
   ]
  },
  {
   "cell_type": "markdown",
   "id": "a9ea5357",
   "metadata": {},
   "source": [
    "## Validating DNA Sequences\n",
    "\n",
    "Now that we have a way to generate DNA sequences, we should also create a function to check if a given sequence is a valid DNA or not. This is easy enough as the only check we need to perform is to make sure that sequence only contains the four bases and nothing else."
   ]
  },
  {
   "cell_type": "code",
   "execution_count": 30,
   "id": "c3ef0b35",
   "metadata": {},
   "outputs": [],
   "source": [
    "def is_valid(seq: str) -> bool:\n",
    "    \"\"\"Checks whether the given sequence is a valid DNA sequence or not\"\"\"\n",
    "    return all(base in BASES for base in seq)"
   ]
  },
  {
   "cell_type": "code",
   "execution_count": 31,
   "id": "e2aee054",
   "metadata": {},
   "outputs": [
    {
     "data": {
      "text/plain": [
       "True"
      ]
     },
     "execution_count": 31,
     "metadata": {},
     "output_type": "execute_result"
    }
   ],
   "source": [
    "is_valid(seq)"
   ]
  },
  {
   "cell_type": "code",
   "execution_count": 32,
   "id": "f839a2cd",
   "metadata": {},
   "outputs": [
    {
     "data": {
      "text/plain": [
       "False"
      ]
     },
     "execution_count": 32,
     "metadata": {},
     "output_type": "execute_result"
    }
   ],
   "source": [
    "is_valid(\"NOTAVALIDDNA\")"
   ]
  },
  {
   "cell_type": "markdown",
   "id": "ba3477b0",
   "metadata": {},
   "source": [
    "## Complement\n",
    "\n",
    "Each DNA strand pairs with a complementary strand."
   ]
  },
  {
   "cell_type": "code",
   "execution_count": 33,
   "id": "a3b758a9",
   "metadata": {},
   "outputs": [],
   "source": [
    "BASE_COMPLEMENTS = {\n",
    "    \"A\": \"T\",\n",
    "    \"T\": \"A\",\n",
    "    \"G\": \"C\",\n",
    "    \"C\": \"G\"\n",
    "}"
   ]
  },
  {
   "cell_type": "code",
   "execution_count": 34,
   "id": "f41baa31",
   "metadata": {},
   "outputs": [],
   "source": [
    "def complement(seq: str) -> str:\n",
    "    \"\"\"Generates the complement for the given DNA sequence\"\"\"\n",
    "    complement = [BASE_COMPLEMENTS[base] for base in seq]\n",
    "    return \"\".join(complement)"
   ]
  },
  {
   "cell_type": "code",
   "execution_count": 35,
   "id": "5c60880c",
   "metadata": {},
   "outputs": [
    {
     "data": {
      "text/plain": [
       "'TGCACTG'"
      ]
     },
     "execution_count": 35,
     "metadata": {},
     "output_type": "execute_result"
    }
   ],
   "source": [
    "complement(\"ACGTGAC\")"
   ]
  },
  {
   "cell_type": "code",
   "execution_count": 36,
   "id": "3aa90716",
   "metadata": {},
   "outputs": [
    {
     "data": {
      "text/plain": [
       "'ATTTGATAACGCCATAAGACTAGCCTTCGCAAGGCGTCCTAAGACTTGGTATGCCGTCGGCGAATCCGATCCCACGGACAACTTTTGGTGGGTTGACTCAAACGTCTAAGCGTTCGCCCGTGTTCGGGATAGCGCTCACTAAGCCTTAATGTACTTGACGGTCGCTCCCAAGGGCGGGCCGAAGCTGGGGTCTGGAAGTTTTAGTAACAAACAACCGTCAATGGACCGACTCAACGCTAGACAAGAAGACCAGGAAGGCGGCCTATTTTCCTAACAGGCAGTACGTCTTATGCGCAGTCATCATCCTGCCATTCTAGACCGTAAAAGATCTCCCTTGGGGTAACTCGGCCGACGATAGGGAAAAAATTGGTATTCGGTCCATCTGAACCGGACATAGCCGTTAGTGCCCCGCCGCGTGTCTTTTTCACATGGTACTACCGCGAGTATCGGGGTCACGCCTTACTTAAAAGCATGACAAACTCGGAAAGGAGCAGCCCACACGGCCCCTGGCATAAGGCGCGGCTAGGAACCCTGATGTTTGGTTGGGTAGATATACAGCCGGGTTCAATCCGGTGTGGATGTTCCGTAGTTGTGGAACTTGCGCTTTCCAATAAAGTGCCTCTACAGTCGGCGTCCAGAGCCGGAGGCCCAAATTCAATTTGAGTTCAAGCCAAAATAACTTATACGTCAACGCGGACACTTGCCTGGGGTCGCCACGTTGACAGAGTGATGTCACTAACCGATCTACCATAATTGTAACATGTACCCCAATCCATTTTAGAACTGGTGTAATACGGCTCCGCACTGCCCCGGATGCATCCAATTACGACAATATGTCAGCGGCACGCTAGGAAACCCCAATTGCAGGTATATGATTTGGACCGAATTCCGATAGTTTACGTTTCTTGAAGTACATGCCCGGCTGGACTAAAAGGAAACCACGATGGCACGGGACATGATAAGTGTATCAAATCCCTTTCGTTAACACCAGAGAGATTAT'"
      ]
     },
     "execution_count": 36,
     "metadata": {},
     "output_type": "execute_result"
    }
   ],
   "source": [
    "complement(seq)"
   ]
  },
  {
   "cell_type": "markdown",
   "id": "17918a05",
   "metadata": {},
   "source": [
    "## Reverse Compliment"
   ]
  },
  {
   "cell_type": "code",
   "execution_count": 37,
   "id": "a8abc85f",
   "metadata": {},
   "outputs": [],
   "source": [
    "def reverse_complement(seq: str) -> str:\n",
    "    \"\"\"Returns the reverse complement of the given DNA sequence\"\"\"\n",
    "    return complement(seq)[::-1]"
   ]
  },
  {
   "cell_type": "code",
   "execution_count": 38,
   "id": "30cf1789",
   "metadata": {},
   "outputs": [
    {
     "data": {
      "text/plain": [
       "'GTCACGT'"
      ]
     },
     "execution_count": 38,
     "metadata": {},
     "output_type": "execute_result"
    }
   ],
   "source": [
    "reverse_complement(\"ACGTGAC\")"
   ]
  },
  {
   "cell_type": "code",
   "execution_count": 39,
   "id": "7fa6e842",
   "metadata": {},
   "outputs": [
    {
     "data": {
      "text/plain": [
       "'TATTAGAGAGACCACAATTGCTTTCCCTAAACTATGTGAATAGTACAGGGCACGGTAGCACCAAAGGAAAATCAGGTCGGCCCGTACATGAAGTTCTTTGCATTTGATAGCCTTAAGCCAGGTTTAGTATATGGACGTTAACCCCAAAGGATCGCACGGCGACTGTATAACAGCATTAACCTACGTAGGCCCCGTCACGCCTCGGCATAATGTGGTCAAGATTTTACCTAACCCCATGTACAATGTTAATACCATCTAGCCAATCACTGTAGTGAGACAGTTGCACCGCTGGGGTCCGTTCACAGGCGCAACTGCATATTCAATAAAACCGAACTTGAGTTTAACTTAAACCCGGAGGCCGAGACCTGCGGCTGACATCTCCGTGAAATAACCTTTCGCGTTCAAGGTGTTGATGCCTTGTAGGTGTGGCCTAACTTGGGCCGACATATAGATGGGTTGGTTTGTAGTCCCAAGGATCGGCGCGGAATACGGTCCCCGGCACACCCGACGAGGAAAGGCTCAAACAGTACGAAAATTCATTCCGCACTGGGGCTATGAGCGCCATCATGGTACACTTTTTCTGTGCGCCGCCCCGTGATTGCCGATACAGGCCAAGTCTACCTGGCTTATGGTTAAAAAAGGGATAGCAGCCGGCTCAATGGGGTTCCCTCTAGAAAATGCCAGATCTTACCGTCCTACTACTGACGCGTATTCTGCATGACGGACAATCCTTTTATCCGGCGGAAGGACCAGAAGAACAGATCGCAACTCAGCCAGGTAACTGCCAACAAACAATGATTTTGAAGGTCTGGGGTCGAAGCCGGGCGGGAACCCTCGCTGGCAGTTCATGTAATTCCGAATCACTCGCGATAGGGCTTGTGCCCGCTTGCGAATCTGCAAACTCAGTTGGGTGGTTTTCAACAGGCACCCTAGCCTAAGCGGCTGCCGTATGGTTCAGAATCCTGCGGAACGCTTCCGATCAGAATACCGCAATAGTTTA'"
      ]
     },
     "execution_count": 39,
     "metadata": {},
     "output_type": "execute_result"
    }
   ],
   "source": [
    "reverse_complement(seq)"
   ]
  },
  {
   "cell_type": "markdown",
   "id": "c59ff5e2",
   "metadata": {},
   "source": [
    "## Basic Text Visualization\n",
    "\n",
    "Let's do some basic visualization of the DNA sequences, because these long strings are ugly to look at."
   ]
  },
  {
   "cell_type": "code",
   "execution_count": 42,
   "id": "75a52dec",
   "metadata": {},
   "outputs": [],
   "source": [
    "def visualize(seq: str, reverse: bool = False):\n",
    "    \"\"\"Prints a simple text-based visualization of the DNA strand\"\"\"\n",
    "    top = seq\n",
    "    connector = \"\".join(\"|\" for _ in range(len(top)))\n",
    "    bottom = reverse_complement(seq) if reverse else complement(seq)\n",
    "    print(f\"5' {top} 3'\")\n",
    "    print(f\"   {connector}   \")\n",
    "    print(f\"3' {bottom} 5'\")"
   ]
  },
  {
   "cell_type": "code",
   "execution_count": 43,
   "id": "5e2ffa76",
   "metadata": {},
   "outputs": [
    {
     "name": "stdout",
     "output_type": "stream",
     "text": [
      "5' ACGTGACTTAC 3'\n",
      "   |||||||||||   \n",
      "3' TGCACTGAATG 5'\n"
     ]
    }
   ],
   "source": [
    "visualize(\"ACGTGACTTAC\")"
   ]
  },
  {
   "cell_type": "code",
   "execution_count": 44,
   "id": "e8915cd4",
   "metadata": {},
   "outputs": [
    {
     "name": "stdout",
     "output_type": "stream",
     "text": [
      "5' TAAACTATTGCGGTATTCTGATCGGAAGCGTTCCGCAGGATTCTGAACCATACGGCAGCCGCTTAGGCTAGGGTGCCTGTTGAAAACCACCCAACTGAGTTTGCAGATTCGCAAGCGGGCACAAGCCCTATCGCGAGTGATTCGGAATTACATGAACTGCCAGCGAGGGTTCCCGCCCGGCTTCGACCCCAGACCTTCAAAATCATTGTTTGTTGGCAGTTACCTGGCTGAGTTGCGATCTGTTCTTCTGGTCCTTCCGCCGGATAAAAGGATTGTCCGTCATGCAGAATACGCGTCAGTAGTAGGACGGTAAGATCTGGCATTTTCTAGAGGGAACCCCATTGAGCCGGCTGCTATCCCTTTTTTAACCATAAGCCAGGTAGACTTGGCCTGTATCGGCAATCACGGGGCGGCGCACAGAAAAAGTGTACCATGATGGCGCTCATAGCCCCAGTGCGGAATGAATTTTCGTACTGTTTGAGCCTTTCCTCGTCGGGTGTGCCGGGGACCGTATTCCGCGCCGATCCTTGGGACTACAAACCAACCCATCTATATGTCGGCCCAAGTTAGGCCACACCTACAAGGCATCAACACCTTGAACGCGAAAGGTTATTTCACGGAGATGTCAGCCGCAGGTCTCGGCCTCCGGGTTTAAGTTAAACTCAAGTTCGGTTTTATTGAATATGCAGTTGCGCCTGTGAACGGACCCCAGCGGTGCAACTGTCTCACTACAGTGATTGGCTAGATGGTATTAACATTGTACATGGGGTTAGGTAAAATCTTGACCACATTATGCCGAGGCGTGACGGGGCCTACGTAGGTTAATGCTGTTATACAGTCGCCGTGCGATCCTTTGGGGTTAACGTCCATATACTAAACCTGGCTTAAGGCTATCAAATGCAAAGAACTTCATGTACGGGCCGACCTGATTTTCCTTTGGTGCTACCGTGCCCTGTACTATTCACATAGTTTAGGGAAAGCAATTGTGGTCTCTCTAATA 3'\n",
      "   ||||||||||||||||||||||||||||||||||||||||||||||||||||||||||||||||||||||||||||||||||||||||||||||||||||||||||||||||||||||||||||||||||||||||||||||||||||||||||||||||||||||||||||||||||||||||||||||||||||||||||||||||||||||||||||||||||||||||||||||||||||||||||||||||||||||||||||||||||||||||||||||||||||||||||||||||||||||||||||||||||||||||||||||||||||||||||||||||||||||||||||||||||||||||||||||||||||||||||||||||||||||||||||||||||||||||||||||||||||||||||||||||||||||||||||||||||||||||||||||||||||||||||||||||||||||||||||||||||||||||||||||||||||||||||||||||||||||||||||||||||||||||||||||||||||||||||||||||||||||||||||||||||||||||||||||||||||||||||||||||||||||||||||||||||||||||||||||||||||||||||||||||||||||||||||||||||||||||||||||||||||||||||||||||||||||||||||||||||||||||||||||||||||||||||||||||||||||||||||||||||||||||||||||||||||||||||||||||||||||||||||||||||||||||||||||||||||||||||||||||||||||||||||||||||||||||||||||||||||||||||||||||||||||||||||||||||||||||||||||||||||||||||||||||||||||||||||||||||||||||   \n",
      "3' ATTTGATAACGCCATAAGACTAGCCTTCGCAAGGCGTCCTAAGACTTGGTATGCCGTCGGCGAATCCGATCCCACGGACAACTTTTGGTGGGTTGACTCAAACGTCTAAGCGTTCGCCCGTGTTCGGGATAGCGCTCACTAAGCCTTAATGTACTTGACGGTCGCTCCCAAGGGCGGGCCGAAGCTGGGGTCTGGAAGTTTTAGTAACAAACAACCGTCAATGGACCGACTCAACGCTAGACAAGAAGACCAGGAAGGCGGCCTATTTTCCTAACAGGCAGTACGTCTTATGCGCAGTCATCATCCTGCCATTCTAGACCGTAAAAGATCTCCCTTGGGGTAACTCGGCCGACGATAGGGAAAAAATTGGTATTCGGTCCATCTGAACCGGACATAGCCGTTAGTGCCCCGCCGCGTGTCTTTTTCACATGGTACTACCGCGAGTATCGGGGTCACGCCTTACTTAAAAGCATGACAAACTCGGAAAGGAGCAGCCCACACGGCCCCTGGCATAAGGCGCGGCTAGGAACCCTGATGTTTGGTTGGGTAGATATACAGCCGGGTTCAATCCGGTGTGGATGTTCCGTAGTTGTGGAACTTGCGCTTTCCAATAAAGTGCCTCTACAGTCGGCGTCCAGAGCCGGAGGCCCAAATTCAATTTGAGTTCAAGCCAAAATAACTTATACGTCAACGCGGACACTTGCCTGGGGTCGCCACGTTGACAGAGTGATGTCACTAACCGATCTACCATAATTGTAACATGTACCCCAATCCATTTTAGAACTGGTGTAATACGGCTCCGCACTGCCCCGGATGCATCCAATTACGACAATATGTCAGCGGCACGCTAGGAAACCCCAATTGCAGGTATATGATTTGGACCGAATTCCGATAGTTTACGTTTCTTGAAGTACATGCCCGGCTGGACTAAAAGGAAACCACGATGGCACGGGACATGATAAGTGTATCAAATCCCTTTCGTTAACACCAGAGAGATTAT 5'\n"
     ]
    }
   ],
   "source": [
    "visualize(seq)"
   ]
  },
  {
   "cell_type": "markdown",
   "id": "ed046068",
   "metadata": {},
   "source": [
    "## GC Content\n",
    "\n",
    "G and C have stronger bonds? and thus are more stable than A and T. The quantity of GC content in a strand can indicate its stability"
   ]
  },
  {
   "cell_type": "code",
   "execution_count": null,
   "id": "6e6bda22",
   "metadata": {},
   "outputs": [],
   "source": [
    "def gc_content(seq: str) -> float:\n",
    "    \"\"\"Calculate the ratio of GC content in the DNA sequence\"\"\"\n",
    "    gc_count = seq.count('G') + seq.count('C')\n",
    "    return gc_count / len(seq)"
   ]
  },
  {
   "cell_type": "code",
   "execution_count": 46,
   "id": "858bf9ba",
   "metadata": {},
   "outputs": [
    {
     "data": {
      "text/plain": [
       "0.503"
      ]
     },
     "execution_count": 46,
     "metadata": {},
     "output_type": "execute_result"
    }
   ],
   "source": [
    "gc_content(seq)"
   ]
  },
  {
   "cell_type": "markdown",
   "id": "cf21276a",
   "metadata": {},
   "source": [
    "We may want this as a percentage, so let's add that as an option"
   ]
  },
  {
   "cell_type": "code",
   "execution_count": 47,
   "id": "9e0c9bef",
   "metadata": {},
   "outputs": [],
   "source": [
    "def gc_content(seq: str, as_percentage: bool = False) -> float:\n",
    "    \"\"\"Calculate the ratio of GC content in the DNA sequence\"\"\"\n",
    "    gc_count = seq.count('G') + seq.count('C')\n",
    "    gc_content = gc_count / len(seq)\n",
    "    return gc_content * 100 if as_percentage else gc_content"
   ]
  },
  {
   "cell_type": "code",
   "execution_count": 48,
   "id": "895dd3e8",
   "metadata": {},
   "outputs": [
    {
     "data": {
      "text/plain": [
       "50.3"
      ]
     },
     "execution_count": 48,
     "metadata": {},
     "output_type": "execute_result"
    }
   ],
   "source": [
    "gc_content(seq, as_percentage=True)"
   ]
  },
  {
   "cell_type": "markdown",
   "id": "afb49cbf",
   "metadata": {},
   "source": [
    "## DNA Sequence Class\n",
    "\n",
    "Let's combine all this into a single DNA class"
   ]
  },
  {
   "cell_type": "code",
   "execution_count": null,
   "id": "092d8c8f",
   "metadata": {},
   "outputs": [],
   "source": [
    "class DNASequence:\n",
    "    def __init__(self, sequence: str):\n",
    "        self.sequence = sequence.upper() # Transform all the letters to uppercase\n",
    "        self.validate() # Ensure that the DNA sequence is valid\n",
    "\n",
    "    @classmember\n",
    "    def clean(seq: str) -> str:\n",
    "        return seq.replace()\n",
    "\n",
    "    def validate(self) -> bool:\n",
    "        \"\"\"Ensure that the DNA sequence is valid\"\"\"\n",
    "        for base in self.sequence:\n",
    "            if base not in BASES:\n",
    "                raise ValueError(f\"Invalid base: {base}\")\n",
    "        return True\n",
    "\n",
    "    def count_nucleotides(self) -> dict[str, int]:\n",
    "        \"\"\"Counts the number of nucleotides in the DNA sequence\"\"\"\n",
    "        return {base: self.sequence.count(base) for base in BASES}\n",
    "\n",
    "    def count_bases(self) -> dict[str, int]:\n",
    "        \"\"\"Alias for `count_nucleotides`\"\"\"\n",
    "        return self.count_nucleotides()\n",
    "\n",
    "    def complement(self, reverse: bool = False):\n",
    "        \"\"\"Returns the complement or reverse-complement of the DNA sequence\"\"\"\n",
    "        seq = self.sequence.translate(str.maketrans(\"ATGC\", \"TACG\"))\n",
    "        if reverse:\n",
    "            seq = seq[::-1]\n",
    "        return DNASequence(seq)\n",
    "\n",
    "    def count(self, base: str) -> int:\n",
    "        \"\"\"Returns the count of the given base in the DNA sequence\"\"\"\n",
    "        return self.sequence.count(base)\n",
    "\n",
    "    def gc_content(self, as_percentage: bool = False) -> float:\n",
    "        \"\"\"Calculate the ratio of GC content in the DNA sequence\"\"\"\n",
    "        gc_count = self.count('G') + self.count('C')\n",
    "        gc_content = gc_count / len(seq)\n",
    "        return gc_content * 100 if as_percentage else gc_content\n",
    "\n",
    "    def __len__(self):\n",
    "        \"\"\"Returns the length of the DNA Sequence\"\"\"\n",
    "        return len(self.sequence)\n",
    "\n",
    "    def __repr__(self):\n",
    "        return f\"<DNASequence(length={len(self.sequence)})?\""
   ]
  },
  {
   "cell_type": "code",
   "execution_count": null,
   "id": "1c2c1f89",
   "metadata": {},
   "outputs": [],
   "source": []
  }
 ],
 "metadata": {
  "kernelspec": {
   "display_name": ".venv",
   "language": "python",
   "name": "python3"
  },
  "language_info": {
   "codemirror_mode": {
    "name": "ipython",
    "version": 3
   },
   "file_extension": ".py",
   "mimetype": "text/x-python",
   "name": "python",
   "nbconvert_exporter": "python",
   "pygments_lexer": "ipython3",
   "version": "3.13.7"
  }
 },
 "nbformat": 4,
 "nbformat_minor": 5
}
