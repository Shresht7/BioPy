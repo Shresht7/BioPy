{
 "cells": [
  {
   "cell_type": "markdown",
   "id": "037459f0",
   "metadata": {},
   "source": [
    "# DNA Sequence 101\n",
    "\n",
    "Understanding DNA Sequences with Python"
   ]
  },
  {
   "cell_type": "markdown",
   "id": "a6a75f98",
   "metadata": {},
   "source": [
    "## Objectives\n",
    "\n",
    "In this lesson, we'll:\n",
    "- Learn what DNA is and what it's made of\n",
    "- Represent DNA sequences in Python\n",
    "- Implement basic operations (length, counting nucleotide bases, complement, reverse complement)\n",
    "- Build a `DNASequence` python class"
   ]
  },
  {
   "cell_type": "markdown",
   "id": "67350665",
   "metadata": {},
   "source": [
    "## Deoxyribonucleic Acid (DNA)\n",
    "\n",
    "DNA (Deoxyribonucleic Acid) is made up of **four bases**:\n",
    "- `A`: Adenine\n",
    "- `T`: Thymine\n",
    "- `G`: Guanine\n",
    "- `C`: Cytosine\n",
    "\n",
    "Each base pairs with it's **complement**:\n",
    "|Base|Complement|\n",
    "|---|---|\n",
    "|A|T|\n",
    "|T|A|\n",
    "|G|C|\n",
    "|C|G|\n",
    "\n",
    "Sp a DNA strand like `A T G C` pairs with `T A C G`\n",
    "\n",
    "DNA Sequences are written as strings of these letters:\n",
    "`ATGCGTACGTTAGC`"
   ]
  },
  {
   "cell_type": "code",
   "execution_count": 56,
   "id": "c7116573",
   "metadata": {},
   "outputs": [
    {
     "name": "stdout",
     "output_type": "stream",
     "text": [
      "DNA Sequence: ATGCGTACGTTAGC\n",
      "Length: 14\n",
      "Bases: {'A', 'C', 'G', 'T'}\n"
     ]
    }
   ],
   "source": [
    "# Since DNA is just a sequence of these nucleotides, it can simply be represented as a string (which is essentially a list of characters) in Python\n",
    "dna_sequence = \"ATGCGTACGTTAGC\"\n",
    "\n",
    "print(\"DNA Sequence:\", dna_sequence)\n",
    "print(\"Length:\", len(dna_sequence))\n",
    "print(\"Bases:\", set(dna_sequence))"
   ]
  },
  {
   "cell_type": "code",
   "execution_count": 57,
   "id": "5e975169",
   "metadata": {},
   "outputs": [],
   "source": [
    "BASES = ['A', 'T', 'G', 'C']"
   ]
  },
  {
   "cell_type": "markdown",
   "id": "01485c92",
   "metadata": {},
   "source": [
    "## Counting Nucleotides\n",
    "\n",
    "Counting each base is useful for **sequence analysis**, detecting motifs, or computing composition."
   ]
  },
  {
   "cell_type": "code",
   "execution_count": 58,
   "id": "7d3ab53b",
   "metadata": {},
   "outputs": [],
   "source": [
    "def count_nucleotides(seq: str) -> dict[str, int]:\n",
    "    \"\"\"Count the number of nucleotides in the given DNA sequence\"\"\"\n",
    "    counts = { base: seq.count(base) for base in BASES }\n",
    "    return counts"
   ]
  },
  {
   "cell_type": "markdown",
   "id": "d7a03cc0",
   "metadata": {},
   "source": [
    "Alternatively, if Python comprehensions are too much magic, you can simply do it like:\n",
    "\n",
    "```py\n",
    "def count_nucleotides(seq: str) -> dict[str, int]:\n",
    "    \"\"\"Count the number of nucleotides in the given DNA sequence\"\"\"\n",
    "    counts = {\"A\": 0, \"T\": 0, \"G\": 0, \"C\": 0}\n",
    "    for base in BASES:\n",
    "        counts[base] = seq.count(base)\n",
    "    return counts\n",
    "```"
   ]
  },
  {
   "cell_type": "markdown",
   "id": "ff8a3f54",
   "metadata": {},
   "source": [
    "### What is this `: str` and `-> dict[str, int]` stuff in my Python?\n",
    "\n",
    "These are type annotations. They are a (relatively) recent addition to Python. \n",
    "// TODO: Explain this better. Dynamic vs Strict Typing."
   ]
  },
  {
   "cell_type": "code",
   "execution_count": 59,
   "id": "0fb03ed8",
   "metadata": {},
   "outputs": [
    {
     "data": {
      "text/plain": [
       "{'A': 3, 'T': 4, 'G': 4, 'C': 3}"
      ]
     },
     "execution_count": 59,
     "metadata": {},
     "output_type": "execute_result"
    }
   ],
   "source": [
    "count_nucleotides('ATGCGTACGTTAGC')"
   ]
  },
  {
   "cell_type": "markdown",
   "id": "c04480a4",
   "metadata": {},
   "source": [
    "## Generating Random DNA Sequences\n",
    "\n",
    "Turns out that the only requirement for a valid DNA sequence is to only have these nucleotides. The order does not matter. Since we will need a lot of DNA sequences in the following lessons, let's create a simple helper function to generate random DNA sequences"
   ]
  },
  {
   "cell_type": "code",
   "execution_count": 60,
   "id": "60c7f640",
   "metadata": {},
   "outputs": [],
   "source": [
    "# We'll need to import the `random` module from the Python standard library to be able to select bases randomly\n",
    "import random"
   ]
  },
  {
   "cell_type": "code",
   "execution_count": 61,
   "id": "c4f53563",
   "metadata": {},
   "outputs": [],
   "source": [
    "def generate_random_sequence(length: int = 12) -> str:\n",
    "    \"\"\"Generates a random DNA sequence of given length\"\"\"\n",
    "    seq = [random.choice(BASES) for _ in range(length)]\n",
    "    return \"\".join(seq)"
   ]
  },
  {
   "cell_type": "code",
   "execution_count": 62,
   "id": "c9d35d87",
   "metadata": {},
   "outputs": [
    {
     "data": {
      "text/plain": [
       "'CTGCGGGAAATG'"
      ]
     },
     "execution_count": 62,
     "metadata": {},
     "output_type": "execute_result"
    }
   ],
   "source": [
    "# Generate a random DNA sequence of length 12 (default)\n",
    "seq = generate_random_sequence()\n",
    "seq"
   ]
  },
  {
   "cell_type": "code",
   "execution_count": 63,
   "id": "96dd4563",
   "metadata": {},
   "outputs": [
    {
     "data": {
      "text/plain": [
       "'GAGTCGGGGGGAGCGGACGGGTCCAGCTGAGCCCTATCTCAATGCCGATCAGATTGGTTTACCATTCGAGTTCTACGGTCTACGGCCCTCTATGGTTCGTGGTACGGGGCTTGCCCAGACGCTTTGATTGGCAACGCCATAACGCATCATTCCATTGAGCGGTGACACGTTTAGTTCGCCACCTCTGTAGGAGGAATAACCGAATCGTCTAAGAGACGGGGGATTATCATTTCTACCCTAGACAGTTGTTGATTAGCTACCTTGTGAGTTTAGGGTACGCGGAAGTCCCGATGTTATTAAACTAGACAGGGAATTACGGGCTTCGGTATGCTACAGCGGAGTGAAGTTGTCCCGTCACTAGAGAGTCGGTTGTACGTTCGGTCCCTATTACAATCCCCTAGCATATCCGCCGGGCGCTGTGACAGTGGCTAGAGCCCTTCCTCTCTCGCCGGTCATAATGAAAAGCGTTAGAACAAGACAGGCCCGAAGTAGGCTTGAGGAAGCTTGCCGTCTCGAGAGTCGCTCGCAGAGAGTGTCGCGTAGCCAGAATGGTAAATCCACTCTTAAAGTTTCGGATCCTTGAGAACCGCCGCGCCCGGAGGGCCGTGCGGCCCAGGCATGAAGGGACATGCGCGCGCGAGGTCGACAAGGTCCTCGTCCCTCGTGGGGTCCGGCACAGCAATAATTAGAGGGGATGCTTGCACAAAGCCCCTCGGCTCGAACCGGGCACTGCGACGAAATGGTTTTCCGCATTCAAAACGGTTTGAGGTAAAATCCCAATGTAAGTCTCCCCCTGAAACGCAAATACTCTCAAGTGCTGCCCACGGCAGGTCGGAGCTATTTCATTGGGTAGAAGCAATCAACGACCCGTCTATTATGTGGAGATGTTAGTGCCATTCTTTCCCAAGGGATGCTAATTACGTAAATAGACAGCAGCCACCTACCCCGGACACATACACAGACCCCGAACCATCGGTAGTTCCACATTATGGGAGGGCTC'"
      ]
     },
     "execution_count": 63,
     "metadata": {},
     "output_type": "execute_result"
    }
   ],
   "source": [
    "# Generate a much larger sequence\n",
    "seq = generate_random_sequence(1000)\n",
    "seq"
   ]
  },
  {
   "cell_type": "markdown",
   "id": "bec531e0",
   "metadata": {},
   "source": [
    "Nice. Now that we have a way to generate (reasonably large) DNA sequences, we can performing operations on them. Let's start by revisiting the `count_nucleotides` function"
   ]
  },
  {
   "cell_type": "code",
   "execution_count": 64,
   "id": "bb98e38f",
   "metadata": {},
   "outputs": [
    {
     "data": {
      "text/plain": [
       "{'A': 237, 'T': 228, 'G': 275, 'C': 260}"
      ]
     },
     "execution_count": 64,
     "metadata": {},
     "output_type": "execute_result"
    }
   ],
   "source": [
    "bases = count_nucleotides(seq)\n",
    "bases"
   ]
  },
  {
   "cell_type": "code",
   "execution_count": 65,
   "id": "3175beda",
   "metadata": {},
   "outputs": [
    {
     "name": "stdout",
     "output_type": "stream",
     "text": [
      "==== Nucleotide Counts ====\n",
      "Adenine \t\t237\n",
      "Thymine \t\t228\n",
      "Guanine \t\t275\n",
      "Cytosine\t\t260\n"
     ]
    }
   ],
   "source": [
    "print(\"=\" * 4, \"Nucleotide Counts\", \"=\" * 4)\n",
    "print(\"Adenine \", bases['A'], sep='\\t\\t')\n",
    "print(\"Thymine \", bases['T'], sep='\\t\\t')\n",
    "print(\"Guanine \", bases['G'], sep='\\t\\t')\n",
    "print(\"Cytosine\", bases['C'], sep='\\t\\t')"
   ]
  },
  {
   "cell_type": "markdown",
   "id": "fe103d92",
   "metadata": {},
   "source": [
    "We can see that out randomly generated DNA sequence has an almost uniform spread of the 4 bases. On a side note, we will need the full-names of the bases from time-to-time, so let's create a helper function to translate between the short-code and the full-name."
   ]
  },
  {
   "cell_type": "code",
   "execution_count": 66,
   "id": "5b03709a",
   "metadata": {},
   "outputs": [],
   "source": [
    "BASE_NAMES = {\n",
    "    \"A\": \"Adenine\",\n",
    "    \"T\": \"Thymine\",\n",
    "    \"G\": \"Guanine\",\n",
    "    \"C\": \"Cytosine\"\n",
    "}"
   ]
  },
  {
   "cell_type": "markdown",
   "id": "a9ea5357",
   "metadata": {},
   "source": [
    "## Validating DNA Sequences\n",
    "\n",
    "Now that we have a way to generate DNA sequences, we should also create a function to check if a given sequence is a valid DNA or not. This is easy enough as the only check we need to perform is to make sure that sequence only contains the four bases and nothing else."
   ]
  },
  {
   "cell_type": "code",
   "execution_count": 67,
   "id": "c3ef0b35",
   "metadata": {},
   "outputs": [],
   "source": [
    "def is_valid(seq: str) -> bool:\n",
    "    \"\"\"Checks whether the given sequence is a valid DNA sequence or not\"\"\"\n",
    "    return all(base in BASES for base in seq)"
   ]
  },
  {
   "cell_type": "code",
   "execution_count": 68,
   "id": "e2aee054",
   "metadata": {},
   "outputs": [
    {
     "data": {
      "text/plain": [
       "True"
      ]
     },
     "execution_count": 68,
     "metadata": {},
     "output_type": "execute_result"
    }
   ],
   "source": [
    "is_valid(seq)"
   ]
  },
  {
   "cell_type": "code",
   "execution_count": 69,
   "id": "f839a2cd",
   "metadata": {},
   "outputs": [
    {
     "data": {
      "text/plain": [
       "False"
      ]
     },
     "execution_count": 69,
     "metadata": {},
     "output_type": "execute_result"
    }
   ],
   "source": [
    "is_valid(\"NOTAVALIDDNA\")"
   ]
  },
  {
   "cell_type": "markdown",
   "id": "ba3477b0",
   "metadata": {},
   "source": [
    "## Complement\n",
    "\n",
    "Each DNA strand pairs with a complementary strand."
   ]
  },
  {
   "cell_type": "code",
   "execution_count": 70,
   "id": "a3b758a9",
   "metadata": {},
   "outputs": [],
   "source": [
    "BASE_COMPLEMENTS = {\n",
    "    \"A\": \"T\",\n",
    "    \"T\": \"A\",\n",
    "    \"G\": \"C\",\n",
    "    \"C\": \"G\"\n",
    "}"
   ]
  },
  {
   "cell_type": "code",
   "execution_count": 71,
   "id": "f41baa31",
   "metadata": {},
   "outputs": [],
   "source": [
    "def complement(seq: str) -> str:\n",
    "    \"\"\"Generates the complement for the given DNA sequence\"\"\"\n",
    "    complement = [BASE_COMPLEMENTS[base] for base in seq]\n",
    "    return \"\".join(complement)"
   ]
  },
  {
   "cell_type": "code",
   "execution_count": 72,
   "id": "5c60880c",
   "metadata": {},
   "outputs": [
    {
     "data": {
      "text/plain": [
       "'TGCACTG'"
      ]
     },
     "execution_count": 72,
     "metadata": {},
     "output_type": "execute_result"
    }
   ],
   "source": [
    "complement(\"ACGTGAC\")"
   ]
  },
  {
   "cell_type": "code",
   "execution_count": 73,
   "id": "3aa90716",
   "metadata": {},
   "outputs": [
    {
     "data": {
      "text/plain": [
       "'CTCAGCCCCCCTCGCCTGCCCAGGTCGACTCGGGATAGAGTTACGGCTAGTCTAACCAAATGGTAAGCTCAAGATGCCAGATGCCGGGAGATACCAAGCACCATGCCCCGAACGGGTCTGCGAAACTAACCGTTGCGGTATTGCGTAGTAAGGTAACTCGCCACTGTGCAAATCAAGCGGTGGAGACATCCTCCTTATTGGCTTAGCAGATTCTCTGCCCCCTAATAGTAAAGATGGGATCTGTCAACAACTAATCGATGGAACACTCAAATCCCATGCGCCTTCAGGGCTACAATAATTTGATCTGTCCCTTAATGCCCGAAGCCATACGATGTCGCCTCACTTCAACAGGGCAGTGATCTCTCAGCCAACATGCAAGCCAGGGATAATGTTAGGGGATCGTATAGGCGGCCCGCGACACTGTCACCGATCTCGGGAAGGAGAGAGCGGCCAGTATTACTTTTCGCAATCTTGTTCTGTCCGGGCTTCATCCGAACTCCTTCGAACGGCAGAGCTCTCAGCGAGCGTCTCTCACAGCGCATCGGTCTTACCATTTAGGTGAGAATTTCAAAGCCTAGGAACTCTTGGCGGCGCGGGCCTCCCGGCACGCCGGGTCCGTACTTCCCTGTACGCGCGCGCTCCAGCTGTTCCAGGAGCAGGGAGCACCCCAGGCCGTGTCGTTATTAATCTCCCCTACGAACGTGTTTCGGGGAGCCGAGCTTGGCCCGTGACGCTGCTTTACCAAAAGGCGTAAGTTTTGCCAAACTCCATTTTAGGGTTACATTCAGAGGGGGACTTTGCGTTTATGAGAGTTCACGACGGGTGCCGTCCAGCCTCGATAAAGTAACCCATCTTCGTTAGTTGCTGGGCAGATAATACACCTCTACAATCACGGTAAGAAAGGGTTCCCTACGATTAATGCATTTATCTGTCGTCGGTGGATGGGGCCTGTGTATGTGTCTGGGGCTTGGTAGCCATCAAGGTGTAATACCCTCCCGAG'"
      ]
     },
     "execution_count": 73,
     "metadata": {},
     "output_type": "execute_result"
    }
   ],
   "source": [
    "complement(seq)"
   ]
  },
  {
   "cell_type": "markdown",
   "id": "17918a05",
   "metadata": {},
   "source": [
    "## Reverse Compliment"
   ]
  },
  {
   "cell_type": "code",
   "execution_count": 74,
   "id": "a8abc85f",
   "metadata": {},
   "outputs": [],
   "source": [
    "def reverse_complement(seq: str) -> str:\n",
    "    \"\"\"Returns the reverse complement of the given DNA sequence\"\"\"\n",
    "    return complement(seq)[::-1]"
   ]
  },
  {
   "cell_type": "code",
   "execution_count": 75,
   "id": "30cf1789",
   "metadata": {},
   "outputs": [
    {
     "data": {
      "text/plain": [
       "'GTCACGT'"
      ]
     },
     "execution_count": 75,
     "metadata": {},
     "output_type": "execute_result"
    }
   ],
   "source": [
    "reverse_complement(\"ACGTGAC\")"
   ]
  },
  {
   "cell_type": "code",
   "execution_count": 76,
   "id": "7fa6e842",
   "metadata": {},
   "outputs": [
    {
     "data": {
      "text/plain": [
       "'GAGCCCTCCCATAATGTGGAACTACCGATGGTTCGGGGTCTGTGTATGTGTCCGGGGTAGGTGGCTGCTGTCTATTTACGTAATTAGCATCCCTTGGGAAAGAATGGCACTAACATCTCCACATAATAGACGGGTCGTTGATTGCTTCTACCCAATGAAATAGCTCCGACCTGCCGTGGGCAGCACTTGAGAGTATTTGCGTTTCAGGGGGAGACTTACATTGGGATTTTACCTCAAACCGTTTTGAATGCGGAAAACCATTTCGTCGCAGTGCCCGGTTCGAGCCGAGGGGCTTTGTGCAAGCATCCCCTCTAATTATTGCTGTGCCGGACCCCACGAGGGACGAGGACCTTGTCGACCTCGCGCGCGCATGTCCCTTCATGCCTGGGCCGCACGGCCCTCCGGGCGCGGCGGTTCTCAAGGATCCGAAACTTTAAGAGTGGATTTACCATTCTGGCTACGCGACACTCTCTGCGAGCGACTCTCGAGACGGCAAGCTTCCTCAAGCCTACTTCGGGCCTGTCTTGTTCTAACGCTTTTCATTATGACCGGCGAGAGAGGAAGGGCTCTAGCCACTGTCACAGCGCCCGGCGGATATGCTAGGGGATTGTAATAGGGACCGAACGTACAACCGACTCTCTAGTGACGGGACAACTTCACTCCGCTGTAGCATACCGAAGCCCGTAATTCCCTGTCTAGTTTAATAACATCGGGACTTCCGCGTACCCTAAACTCACAAGGTAGCTAATCAACAACTGTCTAGGGTAGAAATGATAATCCCCCGTCTCTTAGACGATTCGGTTATTCCTCCTACAGAGGTGGCGAACTAAACGTGTCACCGCTCAATGGAATGATGCGTTATGGCGTTGCCAATCAAAGCGTCTGGGCAAGCCCCGTACCACGAACCATAGAGGGCCGTAGACCGTAGAACTCGAATGGTAAACCAATCTGATCGGCATTGAGATAGGGCTCAGCTGGACCCGTCCGCTCCCCCCGACTC'"
      ]
     },
     "execution_count": 76,
     "metadata": {},
     "output_type": "execute_result"
    }
   ],
   "source": [
    "reverse_complement(seq)"
   ]
  },
  {
   "cell_type": "markdown",
   "id": "c59ff5e2",
   "metadata": {},
   "source": [
    "## Basic Text Visualization\n",
    "\n",
    "Let's do some basic visualization of the DNA sequences, because these long strings are ugly to look at."
   ]
  },
  {
   "cell_type": "code",
   "execution_count": 77,
   "id": "75a52dec",
   "metadata": {},
   "outputs": [],
   "source": [
    "def visualize(seq: str, reverse: bool = False):\n",
    "    \"\"\"Prints a simple text-based visualization of the DNA strand\"\"\"\n",
    "    top = seq\n",
    "    connector = \"\".join(\"|\" for _ in range(len(top)))\n",
    "    bottom = reverse_complement(seq) if reverse else complement(seq)\n",
    "    print(f\"5' {top} 3'\")\n",
    "    print(f\"   {connector}   \")\n",
    "    print(f\"3' {bottom} 5'\")"
   ]
  },
  {
   "cell_type": "code",
   "execution_count": 78,
   "id": "5e2ffa76",
   "metadata": {},
   "outputs": [
    {
     "name": "stdout",
     "output_type": "stream",
     "text": [
      "5' ACGTGACTTAC 3'\n",
      "   |||||||||||   \n",
      "3' TGCACTGAATG 5'\n"
     ]
    }
   ],
   "source": [
    "visualize(\"ACGTGACTTAC\")"
   ]
  },
  {
   "cell_type": "code",
   "execution_count": 79,
   "id": "e8915cd4",
   "metadata": {},
   "outputs": [
    {
     "name": "stdout",
     "output_type": "stream",
     "text": [
      "5' GAGTCGGGGGGAGCGGACGGGTCCAGCTGAGCCCTATCTCAATGCCGATCAGATTGGTTTACCATTCGAGTTCTACGGTCTACGGCCCTCTATGGTTCGTGGTACGGGGCTTGCCCAGACGCTTTGATTGGCAACGCCATAACGCATCATTCCATTGAGCGGTGACACGTTTAGTTCGCCACCTCTGTAGGAGGAATAACCGAATCGTCTAAGAGACGGGGGATTATCATTTCTACCCTAGACAGTTGTTGATTAGCTACCTTGTGAGTTTAGGGTACGCGGAAGTCCCGATGTTATTAAACTAGACAGGGAATTACGGGCTTCGGTATGCTACAGCGGAGTGAAGTTGTCCCGTCACTAGAGAGTCGGTTGTACGTTCGGTCCCTATTACAATCCCCTAGCATATCCGCCGGGCGCTGTGACAGTGGCTAGAGCCCTTCCTCTCTCGCCGGTCATAATGAAAAGCGTTAGAACAAGACAGGCCCGAAGTAGGCTTGAGGAAGCTTGCCGTCTCGAGAGTCGCTCGCAGAGAGTGTCGCGTAGCCAGAATGGTAAATCCACTCTTAAAGTTTCGGATCCTTGAGAACCGCCGCGCCCGGAGGGCCGTGCGGCCCAGGCATGAAGGGACATGCGCGCGCGAGGTCGACAAGGTCCTCGTCCCTCGTGGGGTCCGGCACAGCAATAATTAGAGGGGATGCTTGCACAAAGCCCCTCGGCTCGAACCGGGCACTGCGACGAAATGGTTTTCCGCATTCAAAACGGTTTGAGGTAAAATCCCAATGTAAGTCTCCCCCTGAAACGCAAATACTCTCAAGTGCTGCCCACGGCAGGTCGGAGCTATTTCATTGGGTAGAAGCAATCAACGACCCGTCTATTATGTGGAGATGTTAGTGCCATTCTTTCCCAAGGGATGCTAATTACGTAAATAGACAGCAGCCACCTACCCCGGACACATACACAGACCCCGAACCATCGGTAGTTCCACATTATGGGAGGGCTC 3'\n",
      "   ||||||||||||||||||||||||||||||||||||||||||||||||||||||||||||||||||||||||||||||||||||||||||||||||||||||||||||||||||||||||||||||||||||||||||||||||||||||||||||||||||||||||||||||||||||||||||||||||||||||||||||||||||||||||||||||||||||||||||||||||||||||||||||||||||||||||||||||||||||||||||||||||||||||||||||||||||||||||||||||||||||||||||||||||||||||||||||||||||||||||||||||||||||||||||||||||||||||||||||||||||||||||||||||||||||||||||||||||||||||||||||||||||||||||||||||||||||||||||||||||||||||||||||||||||||||||||||||||||||||||||||||||||||||||||||||||||||||||||||||||||||||||||||||||||||||||||||||||||||||||||||||||||||||||||||||||||||||||||||||||||||||||||||||||||||||||||||||||||||||||||||||||||||||||||||||||||||||||||||||||||||||||||||||||||||||||||||||||||||||||||||||||||||||||||||||||||||||||||||||||||||||||||||||||||||||||||||||||||||||||||||||||||||||||||||||||||||||||||||||||||||||||||||||||||||||||||||||||||||||||||||||||||||||||||||||||||||||||||||||||||||||||||||||||||||||||||||||||||||||||   \n",
      "3' CTCAGCCCCCCTCGCCTGCCCAGGTCGACTCGGGATAGAGTTACGGCTAGTCTAACCAAATGGTAAGCTCAAGATGCCAGATGCCGGGAGATACCAAGCACCATGCCCCGAACGGGTCTGCGAAACTAACCGTTGCGGTATTGCGTAGTAAGGTAACTCGCCACTGTGCAAATCAAGCGGTGGAGACATCCTCCTTATTGGCTTAGCAGATTCTCTGCCCCCTAATAGTAAAGATGGGATCTGTCAACAACTAATCGATGGAACACTCAAATCCCATGCGCCTTCAGGGCTACAATAATTTGATCTGTCCCTTAATGCCCGAAGCCATACGATGTCGCCTCACTTCAACAGGGCAGTGATCTCTCAGCCAACATGCAAGCCAGGGATAATGTTAGGGGATCGTATAGGCGGCCCGCGACACTGTCACCGATCTCGGGAAGGAGAGAGCGGCCAGTATTACTTTTCGCAATCTTGTTCTGTCCGGGCTTCATCCGAACTCCTTCGAACGGCAGAGCTCTCAGCGAGCGTCTCTCACAGCGCATCGGTCTTACCATTTAGGTGAGAATTTCAAAGCCTAGGAACTCTTGGCGGCGCGGGCCTCCCGGCACGCCGGGTCCGTACTTCCCTGTACGCGCGCGCTCCAGCTGTTCCAGGAGCAGGGAGCACCCCAGGCCGTGTCGTTATTAATCTCCCCTACGAACGTGTTTCGGGGAGCCGAGCTTGGCCCGTGACGCTGCTTTACCAAAAGGCGTAAGTTTTGCCAAACTCCATTTTAGGGTTACATTCAGAGGGGGACTTTGCGTTTATGAGAGTTCACGACGGGTGCCGTCCAGCCTCGATAAAGTAACCCATCTTCGTTAGTTGCTGGGCAGATAATACACCTCTACAATCACGGTAAGAAAGGGTTCCCTACGATTAATGCATTTATCTGTCGTCGGTGGATGGGGCCTGTGTATGTGTCTGGGGCTTGGTAGCCATCAAGGTGTAATACCCTCCCGAG 5'\n"
     ]
    }
   ],
   "source": [
    "visualize(seq)"
   ]
  },
  {
   "cell_type": "markdown",
   "id": "ed046068",
   "metadata": {},
   "source": [
    "## GC Content\n",
    "\n",
    "GC content measures the percentage of **Guanine (G)** and **Cytosine (C)** in a DNA sequence. High GC content affects **DNA Stability** and **melting temperature**.\n",
    "\n",
    "G-C pairs have 3 hydrogen bonds vs 2 for A-T pairs, which is why they are more stable and have higher melting point. The quantity of GC content in a strand can indicate its stability"
   ]
  },
  {
   "cell_type": "code",
   "execution_count": 80,
   "id": "6e6bda22",
   "metadata": {},
   "outputs": [],
   "source": [
    "def gc_content(seq: str) -> float:\n",
    "    \"\"\"Calculate the ratio of GC content in the DNA sequence\"\"\"\n",
    "    gc_count = seq.count('G') + seq.count('C')\n",
    "    return gc_count / len(seq)"
   ]
  },
  {
   "cell_type": "code",
   "execution_count": 81,
   "id": "858bf9ba",
   "metadata": {},
   "outputs": [
    {
     "data": {
      "text/plain": [
       "0.535"
      ]
     },
     "execution_count": 81,
     "metadata": {},
     "output_type": "execute_result"
    }
   ],
   "source": [
    "gc_content(seq)"
   ]
  },
  {
   "cell_type": "markdown",
   "id": "cf21276a",
   "metadata": {},
   "source": [
    "We may want this as a percentage, so let's add that as an option"
   ]
  },
  {
   "cell_type": "code",
   "execution_count": 82,
   "id": "9e0c9bef",
   "metadata": {},
   "outputs": [],
   "source": [
    "def gc_content(seq: str, as_percentage: bool = False) -> float:\n",
    "    \"\"\"Calculate the ratio of GC content in the DNA sequence\"\"\"\n",
    "    gc_count = seq.count('G') + seq.count('C')\n",
    "    gc_content = gc_count / len(seq)\n",
    "    return gc_content * 100 if as_percentage else gc_content"
   ]
  },
  {
   "cell_type": "code",
   "execution_count": 83,
   "id": "895dd3e8",
   "metadata": {},
   "outputs": [
    {
     "data": {
      "text/plain": [
       "53.5"
      ]
     },
     "execution_count": 83,
     "metadata": {},
     "output_type": "execute_result"
    }
   ],
   "source": [
    "gc_content(seq, as_percentage=True)"
   ]
  },
  {
   "cell_type": "markdown",
   "id": "afb49cbf",
   "metadata": {},
   "source": [
    "## DNA Sequence Class\n",
    "\n",
    "Let's combine all this into a single DNA class"
   ]
  },
  {
   "cell_type": "code",
   "execution_count": 84,
   "id": "092d8c8f",
   "metadata": {},
   "outputs": [],
   "source": [
    "class DNASequence:\n",
    "    def __init__(self, sequence: str):\n",
    "        self.sequence = DNASequence.clean(sequence)\n",
    "        self.validate() # Ensure that the DNA sequence is valid\n",
    "\n",
    "    @staticmethod\n",
    "    def clean(seq: str) -> str:\n",
    "        seq = seq.replace(\"\\n\", \"\")\n",
    "        seq = seq.replace(\" \", \"\")\n",
    "        seq = seq.upper()\n",
    "        return seq\n",
    "    \n",
    "    @staticmethod\n",
    "    def random(length: int = 12):\n",
    "        \"\"\"Generates a random DNA sequence of given length\"\"\"\n",
    "        seq = [random.choice(BASES) for _ in range(length)]\n",
    "        return DNASequence(\"\".join(seq))\n",
    "\n",
    "    def validate(self) -> bool:\n",
    "        \"\"\"Ensure that the DNA sequence is valid\"\"\"\n",
    "        for base in self.sequence:\n",
    "            if base not in BASES:\n",
    "                raise ValueError(f\"Invalid base: {base}\")\n",
    "        return True\n",
    "\n",
    "    def count_nucleotides(self) -> dict[str, int]:\n",
    "        \"\"\"Counts the number of nucleotides in the DNA sequence\"\"\"\n",
    "        return {base: self.sequence.count(base) for base in BASES}\n",
    "\n",
    "    def count_bases(self) -> dict[str, int]:\n",
    "        \"\"\"Alias for `count_nucleotides`\"\"\"\n",
    "        return self.count_nucleotides()\n",
    "\n",
    "    def complement(self, reverse: bool = False):\n",
    "        \"\"\"Returns the complement or reverse-complement of the DNA sequence\"\"\"\n",
    "        seq = self.sequence.translate(str.maketrans(\"ATGC\", \"TACG\"))\n",
    "        if reverse:\n",
    "            seq = seq[::-1]\n",
    "        return DNASequence(seq)\n",
    "\n",
    "    def count(self, base: str) -> int:\n",
    "        \"\"\"Returns the count of the given base in the DNA sequence\"\"\"\n",
    "        return self.sequence.count(base)\n",
    "\n",
    "    def gc_content(self, as_percentage: bool = False) -> float:\n",
    "        \"\"\"Calculate the ratio of GC content in the DNA sequence\"\"\"\n",
    "        gc_count = self.count('G') + self.count('C')\n",
    "        gc_content = gc_count / len(self)\n",
    "        return gc_content * 100 if as_percentage else gc_content\n",
    "\n",
    "    def visualize(self, reverse: bool = False):\n",
    "        \"\"\"Prints a simple text-based visualization of the DNA strand\"\"\"\n",
    "        top = self.sequence\n",
    "        connector = \"\".join(\"|\" for _ in range(len(top)))\n",
    "        bottom = self.complement(reverse)\n",
    "        print(f\"5' {top} 3'\")\n",
    "        print(f\"   {connector}   \")\n",
    "        print(f\"3' {bottom} 5'\")\n",
    "\n",
    "    def __len__(self):\n",
    "        \"\"\"Returns the length of the DNA Sequence\"\"\"\n",
    "        return len(self.sequence)\n",
    "\n",
    "    def __repr__(self):\n",
    "        return f\"<DNASequence(length={len(self.sequence)})?\"\n",
    "\n",
    "    def __str__(self):\n",
    "        return self.sequence"
   ]
  },
  {
   "cell_type": "code",
   "execution_count": 85,
   "id": "1c2c1f89",
   "metadata": {},
   "outputs": [
    {
     "data": {
      "text/plain": [
       "<DNASequence(length=17)?"
      ]
     },
     "execution_count": 85,
     "metadata": {},
     "output_type": "execute_result"
    }
   ],
   "source": [
    "seq = DNASequence('ACGTGCTACGATAACGT')\n",
    "seq"
   ]
  },
  {
   "cell_type": "code",
   "execution_count": 86,
   "id": "faef53ea",
   "metadata": {},
   "outputs": [
    {
     "data": {
      "text/plain": [
       "{'A': 5, 'T': 4, 'G': 4, 'C': 4}"
      ]
     },
     "execution_count": 86,
     "metadata": {},
     "output_type": "execute_result"
    }
   ],
   "source": [
    "seq.count_nucleotides()"
   ]
  },
  {
   "cell_type": "code",
   "execution_count": 87,
   "id": "6ec1d06e",
   "metadata": {},
   "outputs": [
    {
     "data": {
      "text/plain": [
       "17"
      ]
     },
     "execution_count": 87,
     "metadata": {},
     "output_type": "execute_result"
    }
   ],
   "source": [
    "len(seq)"
   ]
  },
  {
   "cell_type": "code",
   "execution_count": 88,
   "id": "f6862a5c",
   "metadata": {},
   "outputs": [
    {
     "name": "stdout",
     "output_type": "stream",
     "text": [
      "TGCACGATGCTATTGCA\n"
     ]
    }
   ],
   "source": [
    "print(seq.complement())"
   ]
  },
  {
   "cell_type": "code",
   "execution_count": 89,
   "id": "f562fb82",
   "metadata": {},
   "outputs": [
    {
     "name": "stdout",
     "output_type": "stream",
     "text": [
      "ACGTTATCGTAGCACGT\n"
     ]
    }
   ],
   "source": [
    "print(seq.complement(reverse=True))"
   ]
  },
  {
   "cell_type": "code",
   "execution_count": 90,
   "id": "17d76ddd",
   "metadata": {},
   "outputs": [
    {
     "name": "stdout",
     "output_type": "stream",
     "text": [
      "5' ACGTGCTACGATAACGT 3'\n",
      "   |||||||||||||||||   \n",
      "3' TGCACGATGCTATTGCA 5'\n"
     ]
    }
   ],
   "source": [
    "seq.visualize()"
   ]
  },
  {
   "cell_type": "code",
   "execution_count": 91,
   "id": "41fffa60",
   "metadata": {},
   "outputs": [
    {
     "data": {
      "text/plain": [
       "0.47058823529411764"
      ]
     },
     "execution_count": 91,
     "metadata": {},
     "output_type": "execute_result"
    }
   ],
   "source": [
    "seq.gc_content()"
   ]
  },
  {
   "cell_type": "code",
   "execution_count": 92,
   "id": "b9dc6d6c",
   "metadata": {},
   "outputs": [
    {
     "data": {
      "text/plain": [
       "47.05882352941176"
      ]
     },
     "execution_count": 92,
     "metadata": {},
     "output_type": "execute_result"
    }
   ],
   "source": [
    "seq.gc_content(as_percentage=True)"
   ]
  },
  {
   "cell_type": "code",
   "execution_count": 93,
   "id": "b49b4dcb",
   "metadata": {},
   "outputs": [
    {
     "name": "stdout",
     "output_type": "stream",
     "text": [
      "ATCGACTA\n"
     ]
    }
   ],
   "source": [
    "print(DNASequence('at\\ncGA cta')) # Should automatically convert to uppercase and handle whitespace"
   ]
  },
  {
   "cell_type": "markdown",
   "id": "2c19d9ce",
   "metadata": {},
   "source": [
    "## Visualization\n",
    "\n",
    "Time to do visualization justice"
   ]
  },
  {
   "cell_type": "code",
   "execution_count": 94,
   "id": "35664aec",
   "metadata": {},
   "outputs": [],
   "source": [
    "import svgwrite\n",
    "from IPython.display import SVG, display"
   ]
  },
  {
   "cell_type": "code",
   "execution_count": 95,
   "id": "8c8ecf09",
   "metadata": {},
   "outputs": [],
   "source": [
    "def to_svg(seq: DNASequence, filename: str = None):\n",
    "    \"\"\"Generate a simple 2D SVG visualization of the DNA double strand\"\"\"\n",
    "    dwg = svgwrite.Drawing(size=(len(seq) * 40 + 120, 120))\n",
    "    base_colors = {\"A\": \"#1f77b4\", \"T\": \"#ff7f0e\", \"G\": \"#2ca02c\", \"C\": \"#d62728\"}\n",
    "\n",
    "    complement = seq.complement()\n",
    "    for i, (top, bottom) in enumerate(zip(seq.sequence, complement.sequence)):\n",
    "        x = 60 + i * 40\n",
    "        y1, y2 = 30, 90\n",
    "\n",
    "        # Base letters\n",
    "        dwg.add(dwg.text(top, insert=(x, y1), fill=base_colors[top], font_size=\"20px\", text_anchor=\"middle\"))\n",
    "        dwg.add(dwg.text(bottom, insert=(x, y2), fill=base_colors[bottom], font_size=\"20px\", text_anchor=\"middle\"))\n",
    "\n",
    "        # Connecting Line\n",
    "        dwg.add(dwg.line(start=(x, y1+10), end=(x, y2 - 20), stroke=\"gray\", stroke_width=1.5))\n",
    "\n",
    "    # 5' and 3' labels\n",
    "    dwg.add(dwg.text(\"5'\", insert=(10, y1), font_size=\"16px\"))\n",
    "    dwg.add(dwg.text(\"3'\", insert=(x+40, y1), font_size=\"16px\"))\n",
    "    dwg.add(dwg.text(\"3'\", insert=(10, y2), font_size=\"16px\"))\n",
    "    dwg.add(dwg.text(\"5'\", insert=(x+40, y2), font_size=\"16px\"))\n",
    "\n",
    "    # Save as filename, if specified\n",
    "    if filename:\n",
    "        dwg.saveas(filename)\n",
    "\n",
    "    return dwg\n",
    "\n"
   ]
  },
  {
   "cell_type": "code",
   "execution_count": 96,
   "id": "dca5c0cf",
   "metadata": {},
   "outputs": [
    {
     "data": {
      "image/svg+xml": [
       "<svg baseProfile=\"full\" height=\"120\" version=\"1.1\" width=\"680\" xmlns=\"http://www.w3.org/2000/svg\" xmlns:ev=\"http://www.w3.org/2001/xml-events\" xmlns:xlink=\"http://www.w3.org/1999/xlink\"><defs /><text fill=\"#1f77b4\" font-size=\"20px\" text-anchor=\"middle\" x=\"60\" y=\"30\">A</text><text fill=\"#ff7f0e\" font-size=\"20px\" text-anchor=\"middle\" x=\"60\" y=\"90\">T</text><line stroke=\"gray\" stroke-width=\"1.5\" x1=\"60\" x2=\"60\" y1=\"40\" y2=\"70\" /><text fill=\"#ff7f0e\" font-size=\"20px\" text-anchor=\"middle\" x=\"100\" y=\"30\">T</text><text fill=\"#1f77b4\" font-size=\"20px\" text-anchor=\"middle\" x=\"100\" y=\"90\">A</text><line stroke=\"gray\" stroke-width=\"1.5\" x1=\"100\" x2=\"100\" y1=\"40\" y2=\"70\" /><text fill=\"#2ca02c\" font-size=\"20px\" text-anchor=\"middle\" x=\"140\" y=\"30\">G</text><text fill=\"#d62728\" font-size=\"20px\" text-anchor=\"middle\" x=\"140\" y=\"90\">C</text><line stroke=\"gray\" stroke-width=\"1.5\" x1=\"140\" x2=\"140\" y1=\"40\" y2=\"70\" /><text fill=\"#d62728\" font-size=\"20px\" text-anchor=\"middle\" x=\"180\" y=\"30\">C</text><text fill=\"#2ca02c\" font-size=\"20px\" text-anchor=\"middle\" x=\"180\" y=\"90\">G</text><line stroke=\"gray\" stroke-width=\"1.5\" x1=\"180\" x2=\"180\" y1=\"40\" y2=\"70\" /><text fill=\"#2ca02c\" font-size=\"20px\" text-anchor=\"middle\" x=\"220\" y=\"30\">G</text><text fill=\"#d62728\" font-size=\"20px\" text-anchor=\"middle\" x=\"220\" y=\"90\">C</text><line stroke=\"gray\" stroke-width=\"1.5\" x1=\"220\" x2=\"220\" y1=\"40\" y2=\"70\" /><text fill=\"#ff7f0e\" font-size=\"20px\" text-anchor=\"middle\" x=\"260\" y=\"30\">T</text><text fill=\"#1f77b4\" font-size=\"20px\" text-anchor=\"middle\" x=\"260\" y=\"90\">A</text><line stroke=\"gray\" stroke-width=\"1.5\" x1=\"260\" x2=\"260\" y1=\"40\" y2=\"70\" /><text fill=\"#1f77b4\" font-size=\"20px\" text-anchor=\"middle\" x=\"300\" y=\"30\">A</text><text fill=\"#ff7f0e\" font-size=\"20px\" text-anchor=\"middle\" x=\"300\" y=\"90\">T</text><line stroke=\"gray\" stroke-width=\"1.5\" x1=\"300\" x2=\"300\" y1=\"40\" y2=\"70\" /><text fill=\"#d62728\" font-size=\"20px\" text-anchor=\"middle\" x=\"340\" y=\"30\">C</text><text fill=\"#2ca02c\" font-size=\"20px\" text-anchor=\"middle\" x=\"340\" y=\"90\">G</text><line stroke=\"gray\" stroke-width=\"1.5\" x1=\"340\" x2=\"340\" y1=\"40\" y2=\"70\" /><text fill=\"#2ca02c\" font-size=\"20px\" text-anchor=\"middle\" x=\"380\" y=\"30\">G</text><text fill=\"#d62728\" font-size=\"20px\" text-anchor=\"middle\" x=\"380\" y=\"90\">C</text><line stroke=\"gray\" stroke-width=\"1.5\" x1=\"380\" x2=\"380\" y1=\"40\" y2=\"70\" /><text fill=\"#ff7f0e\" font-size=\"20px\" text-anchor=\"middle\" x=\"420\" y=\"30\">T</text><text fill=\"#1f77b4\" font-size=\"20px\" text-anchor=\"middle\" x=\"420\" y=\"90\">A</text><line stroke=\"gray\" stroke-width=\"1.5\" x1=\"420\" x2=\"420\" y1=\"40\" y2=\"70\" /><text fill=\"#ff7f0e\" font-size=\"20px\" text-anchor=\"middle\" x=\"460\" y=\"30\">T</text><text fill=\"#1f77b4\" font-size=\"20px\" text-anchor=\"middle\" x=\"460\" y=\"90\">A</text><line stroke=\"gray\" stroke-width=\"1.5\" x1=\"460\" x2=\"460\" y1=\"40\" y2=\"70\" /><text fill=\"#1f77b4\" font-size=\"20px\" text-anchor=\"middle\" x=\"500\" y=\"30\">A</text><text fill=\"#ff7f0e\" font-size=\"20px\" text-anchor=\"middle\" x=\"500\" y=\"90\">T</text><line stroke=\"gray\" stroke-width=\"1.5\" x1=\"500\" x2=\"500\" y1=\"40\" y2=\"70\" /><text fill=\"#2ca02c\" font-size=\"20px\" text-anchor=\"middle\" x=\"540\" y=\"30\">G</text><text fill=\"#d62728\" font-size=\"20px\" text-anchor=\"middle\" x=\"540\" y=\"90\">C</text><line stroke=\"gray\" stroke-width=\"1.5\" x1=\"540\" x2=\"540\" y1=\"40\" y2=\"70\" /><text fill=\"#d62728\" font-size=\"20px\" text-anchor=\"middle\" x=\"580\" y=\"30\">C</text><text fill=\"#2ca02c\" font-size=\"20px\" text-anchor=\"middle\" x=\"580\" y=\"90\">G</text><line stroke=\"gray\" stroke-width=\"1.5\" x1=\"580\" x2=\"580\" y1=\"40\" y2=\"70\" /><text font-size=\"16px\" x=\"10\" y=\"30\">5'</text><text font-size=\"16px\" x=\"620\" y=\"30\">3'</text><text font-size=\"16px\" x=\"10\" y=\"90\">3'</text><text font-size=\"16px\" x=\"620\" y=\"90\">5'</text></svg>"
      ],
      "text/plain": [
       "<svgwrite.drawing.Drawing at 0x7fc8548e0190>"
      ]
     },
     "metadata": {},
     "output_type": "display_data"
    }
   ],
   "source": [
    "seq = DNASequence(\"ATGCGTACGTTAGC\")\n",
    "svg = to_svg(seq)\n",
    "display(svg)"
   ]
  },
  {
   "cell_type": "code",
   "execution_count": 97,
   "id": "cd06f57a",
   "metadata": {},
   "outputs": [],
   "source": [
    "import numpy as np\n",
    "import plotly.graph_objects as go"
   ]
  },
  {
   "cell_type": "code",
   "execution_count": 98,
   "id": "17552c21",
   "metadata": {},
   "outputs": [],
   "source": [
    "def show_double_helix_3d(seq: DNASequence, turns=2, radius=1.0, height_per_turn=3.4, rotate=True):\n",
    "    \"\"\"\n",
    "    Visualize a 3D DNA double helix using Plotly.\n",
    "    turns: number of helical turns to show\n",
    "    radius: radius of the helix\n",
    "    height_per_turn: height per helical twist (in arbitrary units)\n",
    "    rotate: if True, creates a slow rotation animation\n",
    "    \"\"\"\n",
    "    bases = list(seq.sequence)\n",
    "    n = len(bases)\n",
    "    theta = np.linspace(0, 2 * np.pi * turns, n)\n",
    "\n",
    "    # Create two helices (offset by pi)\n",
    "    x1 = radius * np.cos(theta)\n",
    "    y1 = radius * np.sin(theta)\n",
    "    z1 = np.linspace(0, turns * height_per_turn, n)\n",
    "\n",
    "    x2 = radius * np.cos(theta + np.pi)\n",
    "    y2 = radius * np.sin(theta + np.pi)\n",
    "    z2 = z1 # Same height\n",
    "\n",
    "    # Connector base pairs\n",
    "    connectors = []\n",
    "    for i in range(n):\n",
    "        connectors.append(go.Scatter3d(\n",
    "            x = [x1[i], x2[i]],\n",
    "            y = [y1[i], y2[i]],\n",
    "            z = [z1[i], z2[i]],\n",
    "            mode = \"lines\",\n",
    "            line = dict(color=\"gray\", width=3),\n",
    "            showlegend = False\n",
    "        ))\n",
    "\n",
    "\n",
    "    # Strands\n",
    "    strand1 = go.Scatter3d(\n",
    "        x = x1, y = y1, z = z1,\n",
    "        mode = \"lines+markers+text\",\n",
    "        line = dict(color=\"blue\", width=12),\n",
    "        text = bases,\n",
    "        textposition = \"top center\",\n",
    "        name = \"Strand 1\"\n",
    "    )\n",
    "\n",
    "    strand2 = go.Scatter3d(\n",
    "        x = x2, y = y2, z = z2,\n",
    "        mode = \"lines+markers\",\n",
    "        line = dict(color=\"red\", width=12),\n",
    "        name = \"Strand 2\"\n",
    "    )\n",
    "\n",
    "    side_camera = dict(\n",
    "        eye=dict(x=2, y=0, z=0) # Move along the x-axis facing the helix sideways\n",
    "    )\n",
    "\n",
    "    fig = go.Figure(data=[strand1, strand2] + connectors)\n",
    "    fig.update_layout(\n",
    "        title = \"3D DNA Double Helix\",\n",
    "        scene = dict(\n",
    "            xaxis = dict(visible=False),\n",
    "            yaxis = dict(visible=False),\n",
    "            zaxis = dict(visible=False),\n",
    "        ),\n",
    "        scene_camera=side_camera,\n",
    "        showlegend = False,\n",
    "        height = 800\n",
    "    )\n",
    "\n",
    "    if rotate:\n",
    "        # Create frames for rotation\n",
    "        frames = []\n",
    "        for angle in np.linspace(0, 2 * np.pi, 360): # 360 frames for full rotation\n",
    "            camera = dict(\n",
    "                eye = dict(\n",
    "                    x = 2 * np.cos(angle),\n",
    "                    y = 2 * np.sin(angle),\n",
    "                    z = 0.5, # Small tilt for better perspective\n",
    "                )\n",
    "            )\n",
    "            frames.append(go.Frame(layout=dict(scene_camera=camera)))\n",
    "\n",
    "        fig.frames = frames\n",
    "        \n",
    "        fig.update_layout(\n",
    "            updatemenus=[dict(\n",
    "                type=\"buttons\",\n",
    "                showactive=False,\n",
    "                buttons=[\n",
    "                    dict(\n",
    "                        label=\"Play\",\n",
    "                        method=\"animate\",\n",
    "                        args=[None, dict(frame=dict(duration=60, redraw=True))]\n",
    "                    ),\n",
    "                    dict(\n",
    "                        label=\"Pause\",\n",
    "                        method=\"animate\",\n",
    "                        args=[[None], dict(mode=\"immediate\", frame=dict(duration=0, redraw=False))]\n",
    "                    )\n",
    "                ]\n",
    "            )]\n",
    "        )\n",
    "\n",
    "    fig.show()"
   ]
  },
  {
   "cell_type": "code",
   "execution_count": null,
   "id": "3454e41d",
   "metadata": {},
   "outputs": [],
   "source": []
  },
  {
   "cell_type": "code",
   "execution_count": 99,
   "id": "4dfb3d9f",
   "metadata": {},
   "outputs": [
    {
     "data": {
      "application/vnd.plotly.v1+json": {
       "config": {
        "plotlyServerURL": "https://plot.ly"
       },
       "data": [
        {
         "line": {
          "color": "blue",
          "width": 12
         },
         "mode": "lines+markers+text",
         "name": "Strand 1",
         "text": [
          "A",
          "T",
          "G",
          "C",
          "G",
          "T",
          "A",
          "C",
          "G",
          "T",
          "T",
          "A",
          "G",
          "C"
         ],
         "textposition": "top center",
         "type": "scatter3d",
         "x": {
          "bdata": "AAAAAAAA8D8aEaceli3iP55dNrLYsda//zwFk/QR778OLgPQzPPnv6Q+qut9274/5kAH4KdV7D/sQAfgp1XsPwY/qut9274/CC4D0Mzz578DPQWT9BHvv6pdNrLYsda/DhGnHpYt4j8AAAAAAADwPw==",
          "dtype": "f8"
         },
         "y": {
          "bdata": "AAAAAAAAAADSw6RC4lXqP0cB8i6n6+0/y43ES+Whzj+CL0wCTTjlv2pnlmZFxO+/h8RnQga+3b9xxGdCBr7dP2hnlmZFxO8/iC9MAk045T+MjcRL5aHOv0UB8i6n6+2/2sOkQuJV6r8HXBQzJqbBvA==",
          "dtype": "f8"
         },
         "z": {
          "bdata": "AAAAAAAAAADRC73QC73gP9ELvdALvfA/upEbuZEb+T/RC73QC70AQMVO7MRO7ARAupEbuZEbCUCu1Eqt1EoNQNELvdALvRBAS63USq3UEkDFTuzETuwUQD/wAz/wAxdAupEbuZEbGUAzMzMzMzMbQA==",
          "dtype": "f8"
         }
        },
        {
         "line": {
          "color": "red",
          "width": 12
         },
         "mode": "lines+markers",
         "name": "Strand 2",
         "type": "scatter3d",
         "x": {
          "bdata": "AAAAAAAA8L8aEaceli3iv6BdNrLYsdY//jwFk/QR7z8MLgPQzPPnP5s+qut9276/4kAH4KdV7L/sQAfgp1Xsv9A+qut9276/CC4D0Mzz5z8EPQWT9BHvP6xdNrLYsdY/DhGnHpYt4r8AAAAAAADwvw==",
          "dtype": "f8"
         },
         "y": {
          "bdata": "B1wUMyamoTzSw6RC4lXqv0cB8i6n6+2/343ES+Whzr+EL0wCTTjlP2pnlmZFxO8/l8RnQga+3T9vxGdCBr7dv2lnlmZFxO+/iS9MAk045b+HjcRL5aHOP0UB8i6n6+0/2sOkQuJV6j8Jc9m/rw/GPA==",
          "dtype": "f8"
         },
         "z": {
          "bdata": "AAAAAAAAAADRC73QC73gP9ELvdALvfA/upEbuZEb+T/RC73QC70AQMVO7MRO7ARAupEbuZEbCUCu1Eqt1EoNQNELvdALvRBAS63USq3UEkDFTuzETuwUQD/wAz/wAxdAupEbuZEbGUAzMzMzMzMbQA==",
          "dtype": "f8"
         }
        },
        {
         "line": {
          "color": "gray",
          "width": 3
         },
         "mode": "lines",
         "showlegend": false,
         "type": "scatter3d",
         "x": [
          1,
          -1
         ],
         "y": [
          0,
          1.2246467991473532e-16
         ],
         "z": [
          0,
          0
         ]
        },
        {
         "line": {
          "color": "gray",
          "width": 3
         },
         "mode": "lines",
         "showlegend": false,
         "type": "scatter3d",
         "x": [
          0.5680647467311559,
          -0.5680647467311559
         ],
         "y": [
          0.8229838658936564,
          -0.8229838658936564
         ],
         "z": [
          0.5230769230769231,
          0.5230769230769231
         ]
        },
        {
         "line": {
          "color": "gray",
          "width": 3
         },
         "mode": "lines",
         "showlegend": false,
         "type": "scatter3d",
         "x": [
          -0.35460488704253545,
          0.35460488704253557
         ],
         "y": [
          0.9350162426854148,
          -0.9350162426854148
         ],
         "z": [
          1.0461538461538462,
          1.0461538461538462
         ]
        },
        {
         "line": {
          "color": "gray",
          "width": 3
         },
         "mode": "lines",
         "showlegend": false,
         "type": "scatter3d",
         "x": [
          -0.9709418174260519,
          0.9709418174260518
         ],
         "y": [
          0.2393156642875581,
          -0.23931566428755865
         ],
         "z": [
          1.5692307692307694,
          1.5692307692307694
         ]
        },
        {
         "line": {
          "color": "gray",
          "width": 3
         },
         "mode": "lines",
         "showlegend": false,
         "type": "scatter3d",
         "x": [
          -0.7485107481711013,
          0.7485107481711011
         ],
         "y": [
          -0.663122658240795,
          0.6631226582407952
         ],
         "z": [
          2.0923076923076924,
          2.0923076923076924
         ]
        },
        {
         "line": {
          "color": "gray",
          "width": 3
         },
         "mode": "lines",
         "showlegend": false,
         "type": "scatter3d",
         "x": [
          0.12053668025532233,
          -0.1205366802553222
         ],
         "y": [
          -0.9927088740980541,
          0.9927088740980541
         ],
         "z": [
          2.6153846153846154,
          2.6153846153846154
         ]
        },
        {
         "line": {
          "color": "gray",
          "width": 3
         },
         "mode": "lines",
         "showlegend": false,
         "type": "scatter3d",
         "x": [
          0.8854560256532096,
          -0.8854560256532091
         ],
         "y": [
          -0.4647231720437692,
          0.46472317204377006
         ],
         "z": [
          3.138461538461539,
          3.138461538461539
         ]
        },
        {
         "line": {
          "color": "gray",
          "width": 3
         },
         "mode": "lines",
         "showlegend": false,
         "type": "scatter3d",
         "x": [
          0.8854560256532102,
          -0.8854560256532102
         ],
         "y": [
          0.46472317204376795,
          -0.46472317204376784
         ],
         "z": [
          3.661538461538462,
          3.661538461538462
         ]
        },
        {
         "line": {
          "color": "gray",
          "width": 3
         },
         "mode": "lines",
         "showlegend": false,
         "type": "scatter3d",
         "x": [
          0.12053668025532369,
          -0.12053668025532294
         ],
         "y": [
          0.9927088740980539,
          -0.992708874098054
         ],
         "z": [
          4.184615384615385,
          4.184615384615385
         ]
        },
        {
         "line": {
          "color": "gray",
          "width": 3
         },
         "mode": "lines",
         "showlegend": false,
         "type": "scatter3d",
         "x": [
          -0.7485107481711006,
          0.7485107481711006
         ],
         "y": [
          0.6631226582407956,
          -0.6631226582407957
         ],
         "z": [
          4.707692307692308,
          4.707692307692308
         ]
        },
        {
         "line": {
          "color": "gray",
          "width": 3
         },
         "mode": "lines",
         "showlegend": false,
         "type": "scatter3d",
         "x": [
          -0.9709418174260523,
          0.9709418174260525
         ],
         "y": [
          -0.23931566428755635,
          0.2393156642875562
         ],
         "z": [
          5.230769230769231,
          5.230769230769231
         ]
        },
        {
         "line": {
          "color": "gray",
          "width": 3
         },
         "mode": "lines",
         "showlegend": false,
         "type": "scatter3d",
         "x": [
          -0.3546048870425361,
          0.35460488704253623
         ],
         "y": [
          -0.9350162426854146,
          0.9350162426854146
         ],
         "z": [
          5.753846153846154,
          5.753846153846154
         ]
        },
        {
         "line": {
          "color": "gray",
          "width": 3
         },
         "mode": "lines",
         "showlegend": false,
         "type": "scatter3d",
         "x": [
          0.5680647467311546,
          -0.5680647467311546
         ],
         "y": [
          -0.8229838658936572,
          0.8229838658936572
         ],
         "z": [
          6.276923076923078,
          6.276923076923078
         ]
        },
        {
         "line": {
          "color": "gray",
          "width": 3
         },
         "mode": "lines",
         "showlegend": false,
         "type": "scatter3d",
         "x": [
          1,
          -1
         ],
         "y": [
          -4.898587196589413e-16,
          6.123233995736766e-16
         ],
         "z": [
          6.8,
          6.8
         ]
        }
       ],
       "frames": [
        {
         "layout": {
          "scene": {
           "camera": {
            "eye": {
             "x": 2,
             "y": 0,
             "z": 0.5
            }
           }
          }
         }
        },
        {
         "layout": {
          "scene": {
           "camera": {
            "eye": {
             "x": 1.9996936910027645,
             "y": 0.035002030851657574,
             "z": 0.5
            }
           }
          }
         }
        },
        {
         "layout": {
          "scene": {
           "camera": {
            "eye": {
             "x": 1.9987748578362596,
             "y": 0.06999334026634377,
             "z": 0.5
            }
           }
          }
         }
        },
        {
         "layout": {
          "scene": {
           "camera": {
            "eye": {
             "x": 1.9972437819473514,
             "y": 0.10496321009115982,
             "z": 0.5
            }
           }
          }
         }
        },
        {
         "layout": {
          "scene": {
           "camera": {
            "eye": {
             "x": 1.9951009323183597,
             "y": 0.1399009287403462,
             "z": 0.5
            }
           }
          }
         }
        },
        {
         "layout": {
          "scene": {
           "camera": {
            "eye": {
             "x": 1.9923469653234063,
             "y": 0.1747957944763378,
             "z": 0.5
            }
           }
          }
         }
        },
        {
         "layout": {
          "scene": {
           "camera": {
            "eye": {
             "x": 1.988982724527359,
             "y": 0.2096371186878024,
             "z": 0.5
            }
           }
          }
         }
        },
        {
         "layout": {
          "scene": {
           "camera": {
            "eye": {
             "x": 1.985009240427443,
             "y": 0.2444142291636584,
             "z": 0.5
            }
           }
          }
         }
        },
        {
         "layout": {
          "scene": {
           "camera": {
            "eye": {
             "x": 1.9804277301375885,
             "y": 0.27911647336206913,
             "z": 0.5
            }
           }
          }
         }
        },
        {
         "layout": {
          "scene": {
           "camera": {
            "eye": {
             "x": 1.975239597015618,
             "y": 0.31373322167341244,
             "z": 0.5
            }
           }
          }
         }
        },
        {
         "layout": {
          "scene": {
           "camera": {
            "eye": {
             "x": 1.9694464302333858,
             "y": 0.34825387067622543,
             "z": 0.5
            }
           }
          }
         }
        },
        {
         "layout": {
          "scene": {
           "camera": {
            "eye": {
             "x": 1.9630500042899997,
             "y": 0.3826678463851283,
             "z": 0.5
            }
           }
          }
         }
        },
        {
         "layout": {
          "scene": {
           "camera": {
            "eye": {
             "x": 1.9560522784682763,
             "y": 0.4169646074897306,
             "z": 0.5
            }
           }
          }
         }
        },
        {
         "layout": {
          "scene": {
           "camera": {
            "eye": {
             "x": 1.948455396234595,
             "y": 0.45113364858352994,
             "z": 0.5
            }
           }
          }
         }
        },
        {
         "layout": {
          "scene": {
           "camera": {
            "eye": {
             "x": 1.9402616845823346,
             "y": 0.48516450338181255,
             "z": 0.5
            }
           }
          }
         }
        },
        {
         "layout": {
          "scene": {
           "camera": {
            "eye": {
             "x": 1.9314736533190955,
             "y": 0.5190467479275699,
             "z": 0.5
            }
           }
          }
         }
        },
        {
         "layout": {
          "scene": {
           "camera": {
            "eye": {
             "x": 1.9220939942979214,
             "y": 0.5527700037844513,
             "z": 0.5
            }
           }
          }
         }
        },
        {
         "layout": {
          "scene": {
           "camera": {
            "eye": {
             "x": 1.9121255805927613,
             "y": 0.5863239412157716,
             "z": 0.5
            }
           }
          }
         }
        },
        {
         "layout": {
          "scene": {
           "camera": {
            "eye": {
             "x": 1.9015714656184215,
             "y": 0.6196982823486027,
             "z": 0.5
            }
           }
          }
         }
        },
        {
         "layout": {
          "scene": {
           "camera": {
            "eye": {
             "x": 1.8904348821952763,
             "y": 0.6528828043219792,
             "z": 0.5
            }
           }
          }
         }
        },
        {
         "layout": {
          "scene": {
           "camera": {
            "eye": {
             "x": 1.8787192415590268,
             "y": 0.6858673424182514,
             "z": 0.5
            }
           }
          }
         }
        },
        {
         "layout": {
          "scene": {
           "camera": {
            "eye": {
             "x": 1.8664281323158083,
             "y": 0.718641793176631,
             "z": 0.5
            }
           }
          }
         }
        },
        {
         "layout": {
          "scene": {
           "camera": {
            "eye": {
             "x": 1.8535653193429678,
             "y": 0.751196117487971,
             "z": 0.5
            }
           }
          }
         }
        },
        {
         "layout": {
          "scene": {
           "camera": {
            "eye": {
             "x": 1.840134742635849,
             "y": 0.783520343669836,
             "z": 0.5
            }
           }
          }
         }
        },
        {
         "layout": {
          "scene": {
           "camera": {
            "eye": {
             "x": 1.826140516100935,
             "y": 0.815604570520918,
             "z": 0.5
            }
           }
          }
         }
        },
        {
         "layout": {
          "scene": {
           "camera": {
            "eye": {
             "x": 1.8115869262957227,
             "y": 0.847438970353863,
             "z": 0.5
            }
           }
          }
         }
        },
        {
         "layout": {
          "scene": {
           "camera": {
            "eye": {
             "x": 1.796478431115712,
             "y": 0.8790137920055804,
             "z": 0.5
            }
           }
          }
         }
        },
        {
         "layout": {
          "scene": {
           "camera": {
            "eye": {
             "x": 1.7808196584289109,
             "y": 0.9103193638241125,
             "z": 0.5
            }
           }
          }
         }
        },
        {
         "layout": {
          "scene": {
           "camera": {
            "eye": {
             "x": 1.7646154046582792,
             "y": 0.9413460966311474,
             "z": 0.5
            }
           }
          }
         }
        },
        {
         "layout": {
          "scene": {
           "camera": {
            "eye": {
             "x": 1.74787063331254,
             "y": 0.9720844866592718,
             "z": 0.5
            }
           }
          }
         }
        },
        {
         "layout": {
          "scene": {
           "camera": {
            "eye": {
             "x": 1.7305904734658137,
             "y": 1.002525118463059,
             "z": 0.5
            }
           }
          }
         }
        },
        {
         "layout": {
          "scene": {
           "camera": {
            "eye": {
             "x": 1.7127802181865346,
             "y": 1.0326586678031069,
             "z": 0.5
            }
           }
          }
         }
        },
        {
         "layout": {
          "scene": {
           "camera": {
            "eye": {
             "x": 1.6944453229161378,
             "y": 1.062475904502133,
             "z": 0.5
            }
           }
          }
         }
        },
        {
         "layout": {
          "scene": {
           "camera": {
            "eye": {
             "x": 1.675591403798008,
             "y": 1.0919676952722643,
             "z": 0.5
            }
           }
          }
         }
        },
        {
         "layout": {
          "scene": {
           "camera": {
            "eye": {
             "x": 1.6562242359572044,
             "y": 1.1211250065126432,
             "z": 0.5
            }
           }
          }
         }
        },
        {
         "layout": {
          "scene": {
           "camera": {
            "eye": {
             "x": 1.6363497517314878,
             "y": 1.1499389070765014,
             "z": 0.5
            }
           }
          }
         }
        },
        {
         "layout": {
          "scene": {
           "camera": {
            "eye": {
             "x": 1.6159740388541914,
             "y": 1.1784005710068508,
             "z": 0.5
            }
           }
          }
         }
        },
        {
         "layout": {
          "scene": {
           "camera": {
            "eye": {
             "x": 1.595103338589495,
             "y": 1.2065012802399535,
             "z": 0.5
            }
           }
          }
         }
        },
        {
         "layout": {
          "scene": {
           "camera": {
            "eye": {
             "x": 1.5737440438206682,
             "y": 1.2342324272757423,
             "z": 0.5
            }
           }
          }
         }
        },
        {
         "layout": {
          "scene": {
           "camera": {
            "eye": {
             "x": 1.5519026970918732,
             "y": 1.2615855178143769,
             "z": 0.5
            }
           }
          }
         }
        },
        {
         "layout": {
          "scene": {
           "camera": {
            "eye": {
             "x": 1.529585988604125,
             "y": 1.2885521733581227,
             "z": 0.5
            }
           }
          }
         }
        },
        {
         "layout": {
          "scene": {
           "camera": {
            "eye": {
             "x": 1.5068007541660218,
             "y": 1.3151241337777615,
             "z": 0.5
            }
           }
          }
         }
        },
        {
         "layout": {
          "scene": {
           "camera": {
            "eye": {
             "x": 1.4835539730998764,
             "y": 1.3412932598427427,
             "z": 0.5
            }
           }
          }
         }
        },
        {
         "layout": {
          "scene": {
           "camera": {
            "eye": {
             "x": 1.4598527661038858,
             "y": 1.3670515357143027,
             "z": 0.5
            }
           }
          }
         }
        },
        {
         "layout": {
          "scene": {
           "camera": {
            "eye": {
             "x": 1.4357043930709985,
             "y": 1.3923910714007885,
             "z": 0.5
            }
           }
          }
         }
        },
        {
         "layout": {
          "scene": {
           "camera": {
            "eye": {
             "x": 1.4111162508651427,
             "y": 1.4173041051744342,
             "z": 0.5
            }
           }
          }
         }
        },
        {
         "layout": {
          "scene": {
           "camera": {
            "eye": {
             "x": 1.386095871055502,
             "y": 1.4417830059488457,
             "z": 0.5
            }
           }
          }
         }
        },
        {
         "layout": {
          "scene": {
           "camera": {
            "eye": {
             "x": 1.3606509176095258,
             "y": 1.465820275616474,
             "z": 0.5
            }
           }
          }
         }
        },
        {
         "layout": {
          "scene": {
           "camera": {
            "eye": {
             "x": 1.334789184545389,
             "y": 1.4894085513453506,
             "z": 0.5
            }
           }
          }
         }
        },
        {
         "layout": {
          "scene": {
           "camera": {
            "eye": {
             "x": 1.308518593544613,
             "y": 1.5125406078343906,
             "z": 0.5
            }
           }
          }
         }
        },
        {
         "layout": {
          "scene": {
           "camera": {
            "eye": {
             "x": 1.2818471915255847,
             "y": 1.5352093595265668,
             "z": 0.5
            }
           }
          }
         }
        },
        {
         "layout": {
          "scene": {
           "camera": {
            "eye": {
             "x": 1.2547831481787108,
             "y": 1.5574078627792796,
             "z": 0.5
            }
           }
          }
         }
        },
        {
         "layout": {
          "scene": {
           "camera": {
            "eye": {
             "x": 1.2273347534639703,
             "y": 1.5791293179912578,
             "z": 0.5
            }
           }
          }
         }
        },
        {
         "layout": {
          "scene": {
           "camera": {
            "eye": {
             "x": 1.1995104150716238,
             "y": 1.600367071685337,
             "z": 0.5
            }
           }
          }
         }
        },
        {
         "layout": {
          "scene": {
           "camera": {
            "eye": {
             "x": 1.1713186558468631,
             "y": 1.6211146185464795,
             "z": 0.5
            }
           }
          }
         }
        },
        {
         "layout": {
          "scene": {
           "camera": {
            "eye": {
             "x": 1.1427681111791868,
             "y": 1.641365603414411,
             "z": 0.5
            }
           }
          }
         }
        },
        {
         "layout": {
          "scene": {
           "camera": {
            "eye": {
             "x": 1.1138675263573024,
             "y": 1.6611138232302638,
             "z": 0.5
            }
           }
          }
         }
        },
        {
         "layout": {
          "scene": {
           "camera": {
            "eye": {
             "x": 1.0846257538903663,
             "y": 1.6803532289366288,
             "z": 0.5
            }
           }
          }
         }
        },
        {
         "layout": {
          "scene": {
           "camera": {
            "eye": {
             "x": 1.05505175079638,
             "y": 1.6990779273304368,
             "z": 0.5
            }
           }
          }
         }
        },
        {
         "layout": {
          "scene": {
           "camera": {
            "eye": {
             "x": 1.025154575858576,
             "y": 1.7172821828680989,
             "z": 0.5
            }
           }
          }
         }
        },
        {
         "layout": {
          "scene": {
           "camera": {
            "eye": {
             "x": 0.9949433868506292,
             "y": 1.7349604194223565,
             "z": 0.5
            }
           }
          }
         }
        },
        {
         "layout": {
          "scene": {
           "camera": {
            "eye": {
             "x": 0.96442743773155,
             "y": 1.7521072219902973,
             "z": 0.5
            }
           }
          }
         }
        },
        {
         "layout": {
          "scene": {
           "camera": {
            "eye": {
             "x": 0.9336160758111127,
             "y": 1.7687173383520214,
             "z": 0.5
            }
           }
          }
         }
        },
        {
         "layout": {
          "scene": {
           "camera": {
            "eye": {
             "x": 0.9025187388866908,
             "y": 1.7847856806794415,
             "z": 0.5
            }
           }
          }
         }
        },
        {
         "layout": {
          "scene": {
           "camera": {
            "eye": {
             "x": 0.8711449523523742,
             "y": 1.8003073270947323,
             "z": 0.5
            }
           }
          }
         }
        },
        {
         "layout": {
          "scene": {
           "camera": {
            "eye": {
             "x": 0.8395043262812557,
             "y": 1.815277523177945,
             "z": 0.5
            }
           }
          }
         }
        },
        {
         "layout": {
          "scene": {
           "camera": {
            "eye": {
             "x": 0.8076065524817791,
             "y": 1.829691683423329,
             "z": 0.5
            }
           }
          }
         }
        },
        {
         "layout": {
          "scene": {
           "camera": {
            "eye": {
             "x": 0.775461401529051,
             "y": 1.8435453926439132,
             "z": 0.5
            }
           }
          }
         }
        },
        {
         "layout": {
          "scene": {
           "camera": {
            "eye": {
             "x": 0.7430787197720257,
             "y": 1.8568344073239185,
             "z": 0.5
            }
           }
          }
         }
        },
        {
         "layout": {
          "scene": {
           "camera": {
            "eye": {
             "x": 0.7104684263174799,
             "y": 1.869554656918584,
             "z": 0.5
            }
           }
          }
         }
        },
        {
         "layout": {
          "scene": {
           "camera": {
            "eye": {
             "x": 0.6776405099917017,
             "y": 1.8817022451010113,
             "z": 0.5
            }
           }
          }
         }
        },
        {
         "layout": {
          "scene": {
           "camera": {
            "eye": {
             "x": 0.6446050262808213,
             "y": 1.8932734509556461,
             "z": 0.5
            }
           }
          }
         }
        },
        {
         "layout": {
          "scene": {
           "camera": {
            "eye": {
             "x": 0.6113720942507278,
             "y": 1.9042647301180262,
             "z": 0.5
            }
           }
          }
         }
        },
        {
         "layout": {
          "scene": {
           "camera": {
            "eye": {
             "x": 0.5779518934475066,
             "y": 1.9146727158604526,
             "z": 0.5
            }
           }
          }
         }
        },
        {
         "layout": {
          "scene": {
           "camera": {
            "eye": {
             "x": 0.5443546607793531,
             "y": 1.9244942201232498,
             "z": 0.5
            }
           }
          }
         }
        },
        {
         "layout": {
          "scene": {
           "camera": {
            "eye": {
             "x": 0.5105906873809158,
             "y": 1.9337262344912953,
             "z": 0.5
            }
           }
          }
         }
        },
        {
         "layout": {
          "scene": {
           "camera": {
            "eye": {
             "x": 0.47667031546102917,
             "y": 1.9423659311155257,
             "z": 0.5
            }
           }
          }
         }
        },
        {
         "layout": {
          "scene": {
           "camera": {
            "eye": {
             "x": 0.4426039351348016,
             "y": 1.9504106635791316,
             "z": 0.5
            }
           }
          }
         }
        },
        {
         "layout": {
          "scene": {
           "camera": {
            "eye": {
             "x": 0.4084019812410304,
             "y": 1.957857967708179,
             "z": 0.5
            }
           }
          }
         }
        },
        {
         "layout": {
          "scene": {
           "camera": {
            "eye": {
             "x": 0.37407493014591625,
             "y": 1.9647055623264083,
             "z": 0.5
            }
           }
          }
         }
        },
        {
         "layout": {
          "scene": {
           "camera": {
            "eye": {
             "x": 0.33963329653405855,
             "y": 1.970951349953978,
             "z": 0.5
            }
           }
          }
         }
        },
        {
         "layout": {
          "scene": {
           "camera": {
            "eye": {
             "x": 0.3050876301877113,
             "y": 1.9765934174499433,
             "z": 0.5
            }
           }
          }
         }
        },
        {
         "layout": {
          "scene": {
           "camera": {
            "eye": {
             "x": 0.2704485127552923,
             "y": 1.9816300365982673,
             "z": 0.5
            }
           }
          }
         }
        },
        {
         "layout": {
          "scene": {
           "camera": {
            "eye": {
             "x": 0.23572655451012733,
             "y": 1.986059664637189,
             "z": 0.5
            }
           }
          }
         }
        },
        {
         "layout": {
          "scene": {
           "camera": {
            "eye": {
             "x": 0.20093239110042863,
             "y": 1.9898809447317858,
             "z": 0.5
            }
           }
          }
         }
        },
        {
         "layout": {
          "scene": {
           "camera": {
            "eye": {
             "x": 0.16607668029149977,
             "y": 1.9930927063895836,
             "z": 0.5
            }
           }
          }
         }
        },
        {
         "layout": {
          "scene": {
           "camera": {
            "eye": {
             "x": 0.13117009870116664,
             "y": 1.9956939658190898,
             "z": 0.5
            }
           }
          }
         }
        },
        {
         "layout": {
          "scene": {
           "camera": {
            "eye": {
             "x": 0.09622333852943306,
             "y": 1.9976839262311368,
             "z": 0.5
            }
           }
          }
         }
        },
        {
         "layout": {
          "scene": {
           "camera": {
            "eye": {
             "x": 0.06124710428336388,
             "y": 1.9990619780829464,
             "z": 0.5
            }
           }
          }
         }
        },
        {
         "layout": {
          "scene": {
           "camera": {
            "eye": {
             "x": 0.026252109498198076,
             "y": 1.9998276992648378,
             "z": 0.5
            }
           }
          }
         }
        },
        {
         "layout": {
          "scene": {
           "camera": {
            "eye": {
             "x": -0.00875092654430344,
             "y": 1.9999808552295235,
             "z": 0.5
            }
           }
          }
         }
        },
        {
         "layout": {
          "scene": {
           "camera": {
            "eye": {
             "x": -0.043751282099269845,
             "y": 1.9995213990639535,
             "z": 0.5
            }
           }
          }
         }
        },
        {
         "layout": {
          "scene": {
           "camera": {
            "eye": {
             "x": -0.0787382362428891,
             "y": 1.9984494715036853,
             "z": 0.5
            }
           }
          }
         }
        },
        {
         "layout": {
          "scene": {
           "camera": {
            "eye": {
             "x": -0.11370107215632069,
             "y": 1.9967654008897748,
             "z": 0.5
            }
           }
          }
         }
        },
        {
         "layout": {
          "scene": {
           "camera": {
            "eye": {
             "x": -0.14862908040835549,
             "y": 1.9944697030682033,
             "z": 0.5
            }
           }
          }
         }
        },
        {
         "layout": {
          "scene": {
           "camera": {
            "eye": {
             "x": -0.18351156223581033,
             "y": 1.991563081231868,
             "z": 0.5
            }
           }
          }
         }
        },
        {
         "layout": {
          "scene": {
           "camera": {
            "eye": {
             "x": -0.2183378328206556,
             "y": 1.9880464257051895,
             "z": 0.5
            }
           }
          }
         }
        },
        {
         "layout": {
          "scene": {
           "camera": {
            "eye": {
             "x": -0.25309722456287104,
             "y": 1.9839208136713955,
             "z": 0.5
            }
           }
          }
         }
        },
        {
         "layout": {
          "scene": {
           "camera": {
            "eye": {
             "x": -0.28777909034802746,
             "y": 1.979187508842571,
             "z": 0.5
            }
           }
          }
         }
        },
        {
         "layout": {
          "scene": {
           "camera": {
            "eye": {
             "x": -0.3223728068085941,
             "y": 1.9738479610725719,
             "z": 0.5
            }
           }
          }
         }
        },
        {
         "layout": {
          "scene": {
           "camera": {
            "eye": {
             "x": -0.3568677775779711,
             "y": 1.967903805912921,
             "z": 0.5
            }
           }
          }
         }
        },
        {
         "layout": {
          "scene": {
           "camera": {
            "eye": {
             "x": -0.39125343653625255,
             "y": 1.961356864111825,
             "z": 0.5
            }
           }
          }
         }
        },
        {
         "layout": {
          "scene": {
           "camera": {
            "eye": {
             "x": -0.4255192510467232,
             "y": 1.9542091410564622,
             "z": 0.5
            }
           }
          }
         }
        },
        {
         "layout": {
          "scene": {
           "camera": {
            "eye": {
             "x": -0.45965472518210176,
             "y": 1.9464628261587136,
             "z": 0.5
            }
           }
          }
         }
        },
        {
         "layout": {
          "scene": {
           "camera": {
            "eye": {
             "x": -0.4936494029395352,
             "y": 1.938120292184528,
             "z": 0.5
            }
           }
          }
         }
        },
        {
         "layout": {
          "scene": {
           "camera": {
            "eye": {
             "x": -0.5274928714433683,
             "y": 1.9291840945271217,
             "z": 0.5
            }
           }
          }
         }
        },
        {
         "layout": {
          "scene": {
           "camera": {
            "eye": {
             "x": -0.5611747641347007,
             "y": 1.9196569704242379,
             "z": 0.5
            }
           }
          }
         }
        },
        {
         "layout": {
          "scene": {
           "camera": {
            "eye": {
             "x": -0.5946847639467571,
             "y": 1.9095418381197071,
             "z": 0.5
            }
           }
          }
         }
        },
        {
         "layout": {
          "scene": {
           "camera": {
            "eye": {
             "x": -0.6280126064650976,
             "y": 1.8988417959695627,
             "z": 0.5
            }
           }
          }
         }
        },
        {
         "layout": {
          "scene": {
           "camera": {
            "eye": {
             "x": -0.6611480830717006,
             "y": 1.8875601214929858,
             "z": 0.5
            }
           }
          }
         }
        },
        {
         "layout": {
          "scene": {
           "camera": {
            "eye": {
             "x": -0.6940810440719537,
             "y": 1.8757002703683727,
             "z": 0.5
            }
           }
          }
         }
        },
        {
         "layout": {
          "scene": {
           "camera": {
            "eye": {
             "x": -0.726801401803597,
             "y": 1.8632658753748286,
             "z": 0.5
            }
           }
          }
         }
        },
        {
         "layout": {
          "scene": {
           "camera": {
            "eye": {
             "x": -0.7592991337266644,
             "y": 1.8502607452794153,
             "z": 0.5
            }
           }
          }
         }
        },
        {
         "layout": {
          "scene": {
           "camera": {
            "eye": {
             "x": -0.7915642854934777,
             "y": 1.8366888636704912,
             "z": 0.5
            }
           }
          }
         }
        },
        {
         "layout": {
          "scene": {
           "camera": {
            "eye": {
             "x": -0.8235869739977544,
             "y": 1.8225543877375023,
             "z": 0.5
            }
           }
          }
         }
        },
        {
         "layout": {
          "scene": {
           "camera": {
            "eye": {
             "x": -0.8553573904018896,
             "y": 1.8078616469975985,
             "z": 0.5
            }
           }
          }
         }
        },
        {
         "layout": {
          "scene": {
           "camera": {
            "eye": {
             "x": -0.8868658031414933,
             "y": 1.7926151419694618,
             "z": 0.5
            }
           }
          }
         }
        },
        {
         "layout": {
          "scene": {
           "camera": {
            "eye": {
             "x": -0.9181025609062533,
             "y": 1.7768195427947597,
             "z": 0.5
            }
           }
          }
         }
        },
        {
         "layout": {
          "scene": {
           "camera": {
            "eye": {
             "x": -0.9490580955962229,
             "y": 1.7604796878076359,
             "z": 0.5
            }
           }
          }
         }
        },
        {
         "layout": {
          "scene": {
           "camera": {
            "eye": {
             "x": -0.9797229252526127,
             "y": 1.7436005820526854,
             "z": 0.5
            }
           }
          }
         }
        },
        {
         "layout": {
          "scene": {
           "camera": {
            "eye": {
             "x": -1.010087656962199,
             "y": 1.7261873957518676,
             "z": 0.5
            }
           }
          }
         }
        },
        {
         "layout": {
          "scene": {
           "camera": {
            "eye": {
             "x": -1.040142989734462,
             "y": 1.708245462720816,
             "z": 0.5
            }
           }
          }
         }
        },
        {
         "layout": {
          "scene": {
           "camera": {
            "eye": {
             "x": -1.0698797173505572,
             "y": 1.6897802787350467,
             "z": 0.5
            }
           }
          }
         }
        },
        {
         "layout": {
          "scene": {
           "camera": {
            "eye": {
             "x": -1.0992887311832689,
             "y": 1.670797499846549,
             "z": 0.5
            }
           }
          }
         }
        },
        {
         "layout": {
          "scene": {
           "camera": {
            "eye": {
             "x": -1.1283610229870586,
             "y": 1.6513029406512902,
             "z": 0.5
            }
           }
          }
         }
        },
        {
         "layout": {
          "scene": {
           "camera": {
            "eye": {
             "x": -1.1570876876573781,
             "y": 1.631302572508148,
             "z": 0.5
            }
           }
          }
         }
        },
        {
         "layout": {
          "scene": {
           "camera": {
            "eye": {
             "x": -1.1854599259583771,
             "y": 1.6108025217098336,
             "z": 0.5
            }
           }
          }
         }
        },
        {
         "layout": {
          "scene": {
           "camera": {
            "eye": {
             "x": -1.2134690472181937,
             "y": 1.5898090676063492,
             "z": 0.5
            }
           }
          }
         }
        },
        {
         "layout": {
          "scene": {
           "camera": {
            "eye": {
             "x": -1.2411064719909797,
             "y": 1.5683286406815709,
             "z": 0.5
            }
           }
          }
         }
        },
        {
         "layout": {
          "scene": {
           "camera": {
            "eye": {
             "x": -1.2683637346848675,
             "y": 1.5463678205835294,
             "z": 0.5
            }
           }
          }
         }
        },
        {
         "layout": {
          "scene": {
           "camera": {
            "eye": {
             "x": -1.295232486155055,
             "y": 1.5239333341090073,
             "z": 0.5
            }
           }
          }
         }
        },
        {
         "layout": {
          "scene": {
           "camera": {
            "eye": {
             "x": -1.3217044962612206,
             "y": 1.501032053143061,
             "z": 0.5
            }
           }
          }
         }
        },
        {
         "layout": {
          "scene": {
           "camera": {
            "eye": {
             "x": -1.3477716563884954,
             "y": 1.4776709925540976,
             "z": 0.5
            }
           }
          }
         }
        },
        {
         "layout": {
          "scene": {
           "camera": {
            "eye": {
             "x": -1.3734259819311987,
             "y": 1.4538573080451613,
             "z": 0.5
            }
           }
          }
         }
        },
        {
         "layout": {
          "scene": {
           "camera": {
            "eye": {
             "x": -1.3986596147386,
             "y": 1.4295982939620735,
             "z": 0.5
            }
           }
          }
         }
        },
        {
         "layout": {
          "scene": {
           "camera": {
            "eye": {
             "x": -1.4234648255219362,
             "y": 1.4049013810591133,
             "z": 0.5
            }
           }
          }
         }
        },
        {
         "layout": {
          "scene": {
           "camera": {
            "eye": {
             "x": -1.4478340162219674,
             "y": 1.3797741342229053,
             "z": 0.5
            }
           }
          }
         }
        },
        {
         "layout": {
          "scene": {
           "camera": {
            "eye": {
             "x": -1.4717597223363255,
             "y": 1.3542242501552326,
             "z": 0.5
            }
           }
          }
         }
        },
        {
         "layout": {
          "scene": {
           "camera": {
            "eye": {
             "x": -1.4952346152059637,
             "y": 1.3282595550154621,
             "z": 0.5
            }
           }
          }
         }
        },
        {
         "layout": {
          "scene": {
           "camera": {
            "eye": {
             "x": -1.5182515042599858,
             "y": 1.301888002023327,
             "z": 0.5
            }
           }
          }
         }
        },
        {
         "layout": {
          "scene": {
           "camera": {
            "eye": {
             "x": -1.5408033392181866,
             "y": 1.2751176690227792,
             "z": 0.5
            }
           }
          }
         }
        },
        {
         "layout": {
          "scene": {
           "camera": {
            "eye": {
             "x": -1.5628832122506149,
             "y": 1.247956756007675,
             "z": 0.5
            }
           }
          }
         }
        },
        {
         "layout": {
          "scene": {
           "camera": {
            "eye": {
             "x": -1.5844843600935017,
             "y": 1.2204135826100455,
             "z": 0.5
            }
           }
          }
         }
        },
        {
         "layout": {
          "scene": {
           "camera": {
            "eye": {
             "x": -1.6056001661209136,
             "y": 1.1924965855517133,
             "z": 0.5
            }
           }
          }
         }
        },
        {
         "layout": {
          "scene": {
           "camera": {
            "eye": {
             "x": -1.6262241623714793,
             "y": 1.1642143160600547,
             "z": 0.5
            }
           }
          }
         }
        },
        {
         "layout": {
          "scene": {
           "camera": {
            "eye": {
             "x": -1.6463500315295891,
             "y": 1.1355754372486757,
             "z": 0.5
            }
           }
          }
         }
        },
        {
         "layout": {
          "scene": {
           "camera": {
            "eye": {
             "x": -1.665971608860442,
             "y": 1.1065887214638286,
             "z": 0.5
            }
           }
          }
         }
        },
        {
         "layout": {
          "scene": {
           "camera": {
            "eye": {
             "x": -1.6850828840983623,
             "y": 1.0772630475973568,
             "z": 0.5
            }
           }
          }
         }
        },
        {
         "layout": {
          "scene": {
           "camera": {
            "eye": {
             "x": -1.7036780032877954,
             "y": 1.0476073983670176,
             "z": 0.5
            }
           }
          }
         }
        },
        {
         "layout": {
          "scene": {
           "camera": {
            "eye": {
             "x": -1.7217512705764295,
             "y": 1.017630857564987,
             "z": 0.5
            }
           }
          }
         }
        },
        {
         "layout": {
          "scene": {
           "camera": {
            "eye": {
             "x": -1.7392971499598837,
             "y": 0.9873426072754206,
             "z": 0.5
            }
           }
          }
         }
        },
        {
         "layout": {
          "scene": {
           "camera": {
            "eye": {
             "x": -1.7563102669774393,
             "y": 0.9567519250618918,
             "z": 0.5
            }
           }
          }
         }
        },
        {
         "layout": {
          "scene": {
           "camera": {
            "eye": {
             "x": -1.772785410358283,
             "y": 0.9258681811255932,
             "z": 0.5
            }
           }
          }
         }
        },
        {
         "layout": {
          "scene": {
           "camera": {
            "eye": {
             "x": -1.7887175336177654,
             "y": 0.8947008354351627,
             "z": 0.5
            }
           }
          }
         }
        },
        {
         "layout": {
          "scene": {
           "camera": {
            "eye": {
             "x": -1.8041017566031883,
             "y": 0.8632594348290032,
             "z": 0.5
            }
           }
          }
         }
        },
        {
         "layout": {
          "scene": {
           "camera": {
            "eye": {
             "x": -1.8189333669886347,
             "y": 0.8315536100910081,
             "z": 0.5
            }
           }
          }
         }
        },
        {
         "layout": {
          "scene": {
           "camera": {
            "eye": {
             "x": -1.8332078217184011,
             "y": 0.7995930730005576,
             "z": 0.5
            }
           }
          }
         }
        },
        {
         "layout": {
          "scene": {
           "camera": {
            "eye": {
             "x": -1.8469207483985721,
             "y": 0.7673876133577207,
             "z": 0.5
            }
           }
          }
         }
        },
        {
         "layout": {
          "scene": {
           "camera": {
            "eye": {
             "x": -1.860067946636328,
             "y": 0.7349470959845442,
             "z": 0.5
            }
           }
          }
         }
        },
        {
         "layout": {
          "scene": {
           "camera": {
            "eye": {
             "x": -1.8726453893265593,
             "y": 0.7022814577033765,
             "z": 0.5
            }
           }
          }
         }
        },
        {
         "layout": {
          "scene": {
           "camera": {
            "eye": {
             "x": -1.8846492238854082,
             "y": 0.6694007042931225,
             "z": 0.5
            }
           }
          }
         }
        },
        {
         "layout": {
          "scene": {
           "camera": {
            "eye": {
             "x": -1.8960757734303484,
             "y": 0.6363149074243868,
             "z": 0.5
            }
           }
          }
         }
        },
        {
         "layout": {
          "scene": {
           "camera": {
            "eye": {
             "x": -1.9069215379064464,
             "y": 0.6030342015744328,
             "z": 0.5
            }
           }
          }
         }
        },
        {
         "layout": {
          "scene": {
           "camera": {
            "eye": {
             "x": -1.9171831951584615,
             "y": 0.569568780922895,
             "z": 0.5
            }
           }
          }
         }
        },
        {
         "layout": {
          "scene": {
           "camera": {
            "eye": {
             "x": -1.9268576019484505,
             "y": 0.5359288962292168,
             "z": 0.5
            }
           }
          }
         }
        },
        {
         "layout": {
          "scene": {
           "camera": {
            "eye": {
             "x": -1.9359417949185713,
             "y": 0.5021248516927443,
             "z": 0.5
            }
           }
          }
         }
        },
        {
         "layout": {
          "scene": {
           "camera": {
            "eye": {
             "x": -1.944432991498784,
             "y": 0.4681670017964636,
             "z": 0.5
            }
           }
          }
         }
        },
        {
         "layout": {
          "scene": {
           "camera": {
            "eye": {
             "x": -1.9523285907591792,
             "y": 0.43406574813532295,
             "z": 0.5
            }
           }
          }
         }
        },
        {
         "layout": {
          "scene": {
           "camera": {
            "eye": {
             "x": -1.9596261742066643,
             "y": 0.39983153623013756,
             "z": 0.5
            }
           }
          }
         }
        },
        {
         "layout": {
          "scene": {
           "camera": {
            "eye": {
             "x": -1.966323506525772,
             "y": 0.3654748523280255,
             "z": 0.5
            }
           }
          }
         }
        },
        {
         "layout": {
          "scene": {
           "camera": {
            "eye": {
             "x": -1.972418536263355,
             "y": 0.3310062201903829,
             "z": 0.5
            }
           }
          }
         }
        },
        {
         "layout": {
          "scene": {
           "camera": {
            "eye": {
             "x": -1.9779093964569663,
             "y": 0.2964361978693551,
             "z": 0.5
            }
           }
          }
         }
        },
        {
         "layout": {
          "scene": {
           "camera": {
            "eye": {
             "x": -1.9827944052067261,
             "y": 0.2617753744738127,
             "z": 0.5
            }
           }
          }
         }
        },
        {
         "layout": {
          "scene": {
           "camera": {
            "eye": {
             "x": -1.9870720661905028,
             "y": 0.22703436692581513,
             "z": 0.5
            }
           }
          }
         }
        },
        {
         "layout": {
          "scene": {
           "camera": {
            "eye": {
             "x": -1.99074106912225,
             "y": 0.19222381670854566,
             "z": 0.5
            }
           }
          }
         }
        },
        {
         "layout": {
          "scene": {
           "camera": {
            "eye": {
             "x": -1.993800290153359,
             "y": 0.15735438660673629,
             "z": 0.5
            }
           }
          }
         }
        },
        {
         "layout": {
          "scene": {
           "camera": {
            "eye": {
             "x": -1.9962487922169028,
             "y": 0.12243675744055389,
             "z": 0.5
            }
           }
          }
         }
        },
        {
         "layout": {
          "scene": {
           "camera": {
            "eye": {
             "x": -1.99808582531467,
             "y": 0.087481624793976,
             "z": 0.5
            }
           }
          }
         }
        },
        {
         "layout": {
          "scene": {
           "camera": {
            "eye": {
             "x": -1.9993108267468946,
             "y": 0.05249969573863005,
             "z": 0.5
            }
           }
          }
         }
        },
        {
         "layout": {
          "scene": {
           "camera": {
            "eye": {
             "x": -1.9999234212846162,
             "y": 0.01750168555412811,
             "z": 0.5
            }
           }
          }
         }
        },
        {
         "layout": {
          "scene": {
           "camera": {
            "eye": {
             "x": -1.9999234212846162,
             "y": -0.017501685554126734,
             "z": 0.5
            }
           }
          }
         }
        },
        {
         "layout": {
          "scene": {
           "camera": {
            "eye": {
             "x": -1.9993108267468946,
             "y": -0.05249969573862867,
             "z": 0.5
            }
           }
          }
         }
        },
        {
         "layout": {
          "scene": {
           "camera": {
            "eye": {
             "x": -1.99808582531467,
             "y": -0.08748162479397374,
             "z": 0.5
            }
           }
          }
         }
        },
        {
         "layout": {
          "scene": {
           "camera": {
            "eye": {
             "x": -1.9962487922169028,
             "y": -0.12243675744055252,
             "z": 0.5
            }
           }
          }
         }
        },
        {
         "layout": {
          "scene": {
           "camera": {
            "eye": {
             "x": -1.993800290153359,
             "y": -0.15735438660673404,
             "z": 0.5
            }
           }
          }
         }
        },
        {
         "layout": {
          "scene": {
           "camera": {
            "eye": {
             "x": -1.9907410691222502,
             "y": -0.1922238167085443,
             "z": 0.5
            }
           }
          }
         }
        },
        {
         "layout": {
          "scene": {
           "camera": {
            "eye": {
             "x": -1.9870720661905033,
             "y": -0.22703436692581289,
             "z": 0.5
            }
           }
          }
         }
        },
        {
         "layout": {
          "scene": {
           "camera": {
            "eye": {
             "x": -1.9827944052067263,
             "y": -0.26177537447381133,
             "z": 0.5
            }
           }
          }
         }
        },
        {
         "layout": {
          "scene": {
           "camera": {
            "eye": {
             "x": -1.9779093964569665,
             "y": -0.2964361978693528,
             "z": 0.5
            }
           }
          }
         }
        },
        {
         "layout": {
          "scene": {
           "camera": {
            "eye": {
             "x": -1.9724185362633553,
             "y": -0.33100622019038156,
             "z": 0.5
            }
           }
          }
         }
        },
        {
         "layout": {
          "scene": {
           "camera": {
            "eye": {
             "x": -1.9663235065257723,
             "y": -0.3654748523280242,
             "z": 0.5
            }
           }
          }
         }
        },
        {
         "layout": {
          "scene": {
           "camera": {
            "eye": {
             "x": -1.9596261742066647,
             "y": -0.39983153623013623,
             "z": 0.5
            }
           }
          }
         }
        },
        {
         "layout": {
          "scene": {
           "camera": {
            "eye": {
             "x": -1.9523285907591794,
             "y": -0.4340657481353216,
             "z": 0.5
            }
           }
          }
         }
        },
        {
         "layout": {
          "scene": {
           "camera": {
            "eye": {
             "x": -1.9444329914987846,
             "y": -0.46816700179646137,
             "z": 0.5
            }
           }
          }
         }
        },
        {
         "layout": {
          "scene": {
           "camera": {
            "eye": {
             "x": -1.9359417949185715,
             "y": -0.502124851692743,
             "z": 0.5
            }
           }
          }
         }
        },
        {
         "layout": {
          "scene": {
           "camera": {
            "eye": {
             "x": -1.9268576019484511,
             "y": -0.5359288962292147,
             "z": 0.5
            }
           }
          }
         }
        },
        {
         "layout": {
          "scene": {
           "camera": {
            "eye": {
             "x": -1.917183195158462,
             "y": -0.5695687809228936,
             "z": 0.5
            }
           }
          }
         }
        },
        {
         "layout": {
          "scene": {
           "camera": {
            "eye": {
             "x": -1.906921537906447,
             "y": -0.6030342015744307,
             "z": 0.5
            }
           }
          }
         }
        },
        {
         "layout": {
          "scene": {
           "camera": {
            "eye": {
             "x": -1.8960757734303488,
             "y": -0.6363149074243855,
             "z": 0.5
            }
           }
          }
         }
        },
        {
         "layout": {
          "scene": {
           "camera": {
            "eye": {
             "x": -1.884649223885409,
             "y": -0.6694007042931203,
             "z": 0.5
            }
           }
          }
         }
        },
        {
         "layout": {
          "scene": {
           "camera": {
            "eye": {
             "x": -1.8726453893265598,
             "y": -0.7022814577033751,
             "z": 0.5
            }
           }
          }
         }
        },
        {
         "layout": {
          "scene": {
           "camera": {
            "eye": {
             "x": -1.8600679466363284,
             "y": -0.7349470959845429,
             "z": 0.5
            }
           }
          }
         }
        },
        {
         "layout": {
          "scene": {
           "camera": {
            "eye": {
             "x": -1.8469207483985726,
             "y": -0.7673876133577193,
             "z": 0.5
            }
           }
          }
         }
        },
        {
         "layout": {
          "scene": {
           "camera": {
            "eye": {
             "x": -1.8332078217184016,
             "y": -0.7995930730005564,
             "z": 0.5
            }
           }
          }
         }
        },
        {
         "layout": {
          "scene": {
           "camera": {
            "eye": {
             "x": -1.8189333669886358,
             "y": -0.831553610091006,
             "z": 0.5
            }
           }
          }
         }
        },
        {
         "layout": {
          "scene": {
           "camera": {
            "eye": {
             "x": -1.804101756603189,
             "y": -0.863259434829002,
             "z": 0.5
            }
           }
          }
         }
        },
        {
         "layout": {
          "scene": {
           "camera": {
            "eye": {
             "x": -1.7887175336177665,
             "y": -0.8947008354351605,
             "z": 0.5
            }
           }
          }
         }
        },
        {
         "layout": {
          "scene": {
           "camera": {
            "eye": {
             "x": -1.7727854103582836,
             "y": -0.925868181125592,
             "z": 0.5
            }
           }
          }
         }
        },
        {
         "layout": {
          "scene": {
           "camera": {
            "eye": {
             "x": -1.7563102669774404,
             "y": -0.9567519250618898,
             "z": 0.5
            }
           }
          }
         }
        },
        {
         "layout": {
          "scene": {
           "camera": {
            "eye": {
             "x": -1.7392971499598846,
             "y": -0.9873426072754194,
             "z": 0.5
            }
           }
          }
         }
        },
        {
         "layout": {
          "scene": {
           "camera": {
            "eye": {
             "x": -1.7217512705764302,
             "y": -1.0176308575649857,
             "z": 0.5
            }
           }
          }
         }
        },
        {
         "layout": {
          "scene": {
           "camera": {
            "eye": {
             "x": -1.703678003287796,
             "y": -1.0476073983670162,
             "z": 0.5
            }
           }
          }
         }
        },
        {
         "layout": {
          "scene": {
           "camera": {
            "eye": {
             "x": -1.6850828840983632,
             "y": -1.0772630475973557,
             "z": 0.5
            }
           }
          }
         }
        },
        {
         "layout": {
          "scene": {
           "camera": {
            "eye": {
             "x": -1.6659716088604426,
             "y": -1.1065887214638275,
             "z": 0.5
            }
           }
          }
         }
        },
        {
         "layout": {
          "scene": {
           "camera": {
            "eye": {
             "x": -1.6463500315295898,
             "y": -1.1355754372486746,
             "z": 0.5
            }
           }
          }
         }
        },
        {
         "layout": {
          "scene": {
           "camera": {
            "eye": {
             "x": -1.6262241623714806,
             "y": -1.1642143160600529,
             "z": 0.5
            }
           }
          }
         }
        },
        {
         "layout": {
          "scene": {
           "camera": {
            "eye": {
             "x": -1.6056001661209145,
             "y": -1.1924965855517122,
             "z": 0.5
            }
           }
          }
         }
        },
        {
         "layout": {
          "scene": {
           "camera": {
            "eye": {
             "x": -1.584484360093503,
             "y": -1.2204135826100437,
             "z": 0.5
            }
           }
          }
         }
        },
        {
         "layout": {
          "scene": {
           "camera": {
            "eye": {
             "x": -1.5628832122506155,
             "y": -1.2479567560076739,
             "z": 0.5
            }
           }
          }
         }
        },
        {
         "layout": {
          "scene": {
           "camera": {
            "eye": {
             "x": -1.540803339218188,
             "y": -1.2751176690227775,
             "z": 0.5
            }
           }
          }
         }
        },
        {
         "layout": {
          "scene": {
           "camera": {
            "eye": {
             "x": -1.5182515042599867,
             "y": -1.301888002023326,
             "z": 0.5
            }
           }
          }
         }
        },
        {
         "layout": {
          "scene": {
           "camera": {
            "eye": {
             "x": -1.4952346152059646,
             "y": -1.3282595550154612,
             "z": 0.5
            }
           }
          }
         }
        },
        {
         "layout": {
          "scene": {
           "camera": {
            "eye": {
             "x": -1.4717597223363263,
             "y": -1.3542242501552315,
             "z": 0.5
            }
           }
          }
         }
        },
        {
         "layout": {
          "scene": {
           "camera": {
            "eye": {
             "x": -1.4478340162219683,
             "y": -1.3797741342229044,
             "z": 0.5
            }
           }
          }
         }
        },
        {
         "layout": {
          "scene": {
           "camera": {
            "eye": {
             "x": -1.423464825521937,
             "y": -1.4049013810591122,
             "z": 0.5
            }
           }
          }
         }
        },
        {
         "layout": {
          "scene": {
           "camera": {
            "eye": {
             "x": -1.398659614738601,
             "y": -1.4295982939620726,
             "z": 0.5
            }
           }
          }
         }
        },
        {
         "layout": {
          "scene": {
           "camera": {
            "eye": {
             "x": -1.3734259819312002,
             "y": -1.4538573080451598,
             "z": 0.5
            }
           }
          }
         }
        },
        {
         "layout": {
          "scene": {
           "camera": {
            "eye": {
             "x": -1.3477716563884963,
             "y": -1.4776709925540965,
             "z": 0.5
            }
           }
          }
         }
        },
        {
         "layout": {
          "scene": {
           "camera": {
            "eye": {
             "x": -1.3217044962612223,
             "y": -1.5010320531430597,
             "z": 0.5
            }
           }
          }
         }
        },
        {
         "layout": {
          "scene": {
           "camera": {
            "eye": {
             "x": -1.295232486155056,
             "y": -1.5239333341090064,
             "z": 0.5
            }
           }
          }
         }
        },
        {
         "layout": {
          "scene": {
           "camera": {
            "eye": {
             "x": -1.2683637346848693,
             "y": -1.546367820583528,
             "z": 0.5
            }
           }
          }
         }
        },
        {
         "layout": {
          "scene": {
           "camera": {
            "eye": {
             "x": -1.2411064719909815,
             "y": -1.5683286406815693,
             "z": 0.5
            }
           }
          }
         }
        },
        {
         "layout": {
          "scene": {
           "camera": {
            "eye": {
             "x": -1.2134690472181942,
             "y": -1.5898090676063488,
             "z": 0.5
            }
           }
          }
         }
        },
        {
         "layout": {
          "scene": {
           "camera": {
            "eye": {
             "x": -1.1854599259583782,
             "y": -1.6108025217098327,
             "z": 0.5
            }
           }
          }
         }
        },
        {
         "layout": {
          "scene": {
           "camera": {
            "eye": {
             "x": -1.1570876876573795,
             "y": -1.6313025725081471,
             "z": 0.5
            }
           }
          }
         }
        },
        {
         "layout": {
          "scene": {
           "camera": {
            "eye": {
             "x": -1.1283610229870604,
             "y": -1.651302940651289,
             "z": 0.5
            }
           }
          }
         }
        },
        {
         "layout": {
          "scene": {
           "camera": {
            "eye": {
             "x": -1.0992887311832706,
             "y": -1.6707974998465478,
             "z": 0.5
            }
           }
          }
         }
        },
        {
         "layout": {
          "scene": {
           "camera": {
            "eye": {
             "x": -1.0698797173505585,
             "y": -1.6897802787350458,
             "z": 0.5
            }
           }
          }
         }
        },
        {
         "layout": {
          "scene": {
           "camera": {
            "eye": {
             "x": -1.0401429897344634,
             "y": -1.7082454627208152,
             "z": 0.5
            }
           }
          }
         }
        },
        {
         "layout": {
          "scene": {
           "camera": {
            "eye": {
             "x": -1.010087656962201,
             "y": -1.7261873957518665,
             "z": 0.5
            }
           }
          }
         }
        },
        {
         "layout": {
          "scene": {
           "camera": {
            "eye": {
             "x": -0.9797229252526147,
             "y": -1.7436005820526843,
             "z": 0.5
            }
           }
          }
         }
        },
        {
         "layout": {
          "scene": {
           "camera": {
            "eye": {
             "x": -0.949058095596224,
             "y": -1.7604796878076352,
             "z": 0.5
            }
           }
          }
         }
        },
        {
         "layout": {
          "scene": {
           "camera": {
            "eye": {
             "x": -0.9181025609062545,
             "y": -1.7768195427947593,
             "z": 0.5
            }
           }
          }
         }
        },
        {
         "layout": {
          "scene": {
           "camera": {
            "eye": {
             "x": -0.8868658031414945,
             "y": -1.7926151419694614,
             "z": 0.5
            }
           }
          }
         }
        },
        {
         "layout": {
          "scene": {
           "camera": {
            "eye": {
             "x": -0.8553573904018917,
             "y": -1.8078616469975974,
             "z": 0.5
            }
           }
          }
         }
        },
        {
         "layout": {
          "scene": {
           "camera": {
            "eye": {
             "x": -0.8235869739977553,
             "y": -1.8225543877375021,
             "z": 0.5
            }
           }
          }
         }
        },
        {
         "layout": {
          "scene": {
           "camera": {
            "eye": {
             "x": -0.7915642854934789,
             "y": -1.8366888636704906,
             "z": 0.5
            }
           }
          }
         }
        },
        {
         "layout": {
          "scene": {
           "camera": {
            "eye": {
             "x": -0.7592991337266656,
             "y": -1.8502607452794146,
             "z": 0.5
            }
           }
          }
         }
        },
        {
         "layout": {
          "scene": {
           "camera": {
            "eye": {
             "x": -0.7268014018035986,
             "y": -1.863265875374828,
             "z": 0.5
            }
           }
          }
         }
        },
        {
         "layout": {
          "scene": {
           "camera": {
            "eye": {
             "x": -0.6940810440719558,
             "y": -1.875700270368372,
             "z": 0.5
            }
           }
          }
         }
        },
        {
         "layout": {
          "scene": {
           "camera": {
            "eye": {
             "x": -0.6611480830717015,
             "y": -1.8875601214929856,
             "z": 0.5
            }
           }
          }
         }
        },
        {
         "layout": {
          "scene": {
           "camera": {
            "eye": {
             "x": -0.6280126064650989,
             "y": -1.8988417959695623,
             "z": 0.5
            }
           }
          }
         }
        },
        {
         "layout": {
          "scene": {
           "camera": {
            "eye": {
             "x": -0.5946847639467587,
             "y": -1.9095418381197067,
             "z": 0.5
            }
           }
          }
         }
        },
        {
         "layout": {
          "scene": {
           "camera": {
            "eye": {
             "x": -0.5611747641347028,
             "y": -1.9196569704242372,
             "z": 0.5
            }
           }
          }
         }
        },
        {
         "layout": {
          "scene": {
           "camera": {
            "eye": {
             "x": -0.5274928714433692,
             "y": -1.9291840945271215,
             "z": 0.5
            }
           }
          }
         }
        },
        {
         "layout": {
          "scene": {
           "camera": {
            "eye": {
             "x": -0.4936494029395365,
             "y": -1.9381202921845277,
             "z": 0.5
            }
           }
          }
         }
        },
        {
         "layout": {
          "scene": {
           "camera": {
            "eye": {
             "x": -0.45965472518210354,
             "y": -1.9464628261587131,
             "z": 0.5
            }
           }
          }
         }
        },
        {
         "layout": {
          "scene": {
           "camera": {
            "eye": {
             "x": -0.42551925104672544,
             "y": -1.9542091410564617,
             "z": 0.5
            }
           }
          }
         }
        },
        {
         "layout": {
          "scene": {
           "camera": {
            "eye": {
             "x": -0.3912534365362548,
             "y": -1.9613568641118246,
             "z": 0.5
            }
           }
          }
         }
        },
        {
         "layout": {
          "scene": {
           "camera": {
            "eye": {
             "x": -0.35686777757797206,
             "y": -1.9679038059129208,
             "z": 0.5
            }
           }
          }
         }
        },
        {
         "layout": {
          "scene": {
           "camera": {
            "eye": {
             "x": -0.3223728068085954,
             "y": -1.9738479610725717,
             "z": 0.5
            }
           }
          }
         }
        },
        {
         "layout": {
          "scene": {
           "camera": {
            "eye": {
             "x": -0.2877790903480293,
             "y": -1.9791875088425708,
             "z": 0.5
            }
           }
          }
         }
        },
        {
         "layout": {
          "scene": {
           "camera": {
            "eye": {
             "x": -0.25309722456287326,
             "y": -1.983920813671395,
             "z": 0.5
            }
           }
          }
         }
        },
        {
         "layout": {
          "scene": {
           "camera": {
            "eye": {
             "x": -0.21833783282065655,
             "y": -1.9880464257051893,
             "z": 0.5
            }
           }
          }
         }
        },
        {
         "layout": {
          "scene": {
           "camera": {
            "eye": {
             "x": -0.18351156223581172,
             "y": -1.9915630812318679,
             "z": 0.5
            }
           }
          }
         }
        },
        {
         "layout": {
          "scene": {
           "camera": {
            "eye": {
             "x": -0.1486290804083573,
             "y": -1.994469703068203,
             "z": 0.5
            }
           }
          }
         }
        },
        {
         "layout": {
          "scene": {
           "camera": {
            "eye": {
             "x": -0.11370107215632295,
             "y": -1.9967654008897746,
             "z": 0.5
            }
           }
          }
         }
        },
        {
         "layout": {
          "scene": {
           "camera": {
            "eye": {
             "x": -0.07873823624289181,
             "y": -1.9984494715036851,
             "z": 0.5
            }
           }
          }
         }
        },
        {
         "layout": {
          "scene": {
           "camera": {
            "eye": {
             "x": -0.04375128209927122,
             "y": -1.9995213990639535,
             "z": 0.5
            }
           }
          }
         }
        },
        {
         "layout": {
          "scene": {
           "camera": {
            "eye": {
             "x": -0.008750926544304819,
             "y": -1.9999808552295235,
             "z": 0.5
            }
           }
          }
         }
        },
        {
         "layout": {
          "scene": {
           "camera": {
            "eye": {
             "x": 0.02625210949819625,
             "y": -1.9998276992648378,
             "z": 0.5
            }
           }
          }
         }
        },
        {
         "layout": {
          "scene": {
           "camera": {
            "eye": {
             "x": 0.061247104283361616,
             "y": -1.9990619780829466,
             "z": 0.5
            }
           }
          }
         }
        },
        {
         "layout": {
          "scene": {
           "camera": {
            "eye": {
             "x": 0.09622333852943213,
             "y": -1.9976839262311368,
             "z": 0.5
            }
           }
          }
         }
        },
        {
         "layout": {
          "scene": {
           "camera": {
            "eye": {
             "x": 0.13117009870116528,
             "y": -1.9956939658190898,
             "z": 0.5
            }
           }
          }
         }
        },
        {
         "layout": {
          "scene": {
           "camera": {
            "eye": {
             "x": 0.16607668029149797,
             "y": -1.9930927063895838,
             "z": 0.5
            }
           }
          }
         }
        },
        {
         "layout": {
          "scene": {
           "camera": {
            "eye": {
             "x": 0.20093239110042638,
             "y": -1.989880944731786,
             "z": 0.5
            }
           }
          }
         }
        },
        {
         "layout": {
          "scene": {
           "camera": {
            "eye": {
             "x": 0.23572655451012642,
             "y": -1.986059664637189,
             "z": 0.5
            }
           }
          }
         }
        },
        {
         "layout": {
          "scene": {
           "camera": {
            "eye": {
             "x": 0.2704485127552909,
             "y": -1.9816300365982675,
             "z": 0.5
            }
           }
          }
         }
        },
        {
         "layout": {
          "scene": {
           "camera": {
            "eye": {
             "x": 0.3050876301877095,
             "y": -1.9765934174499438,
             "z": 0.5
            }
           }
          }
         }
        },
        {
         "layout": {
          "scene": {
           "camera": {
            "eye": {
             "x": 0.33963329653405633,
             "y": -1.9709513499539784,
             "z": 0.5
            }
           }
          }
         }
        },
        {
         "layout": {
          "scene": {
           "camera": {
            "eye": {
             "x": 0.37407493014591403,
             "y": -1.9647055623264087,
             "z": 0.5
            }
           }
          }
         }
        },
        {
         "layout": {
          "scene": {
           "camera": {
            "eye": {
             "x": 0.4084019812410295,
             "y": -1.9578579677081793,
             "z": 0.5
            }
           }
          }
         }
        },
        {
         "layout": {
          "scene": {
           "camera": {
            "eye": {
             "x": 0.44260393513480023,
             "y": -1.9504106635791318,
             "z": 0.5
            }
           }
          }
         }
        },
        {
         "layout": {
          "scene": {
           "camera": {
            "eye": {
             "x": 0.4766703154610274,
             "y": -1.9423659311155261,
             "z": 0.5
            }
           }
          }
         }
        },
        {
         "layout": {
          "scene": {
           "camera": {
            "eye": {
             "x": 0.5105906873809137,
             "y": -1.9337262344912958,
             "z": 0.5
            }
           }
          }
         }
        },
        {
         "layout": {
          "scene": {
           "camera": {
            "eye": {
             "x": 0.5443546607793522,
             "y": -1.92449422012325,
             "z": 0.5
            }
           }
          }
         }
        },
        {
         "layout": {
          "scene": {
           "camera": {
            "eye": {
             "x": 0.5779518934475053,
             "y": -1.914672715860453,
             "z": 0.5
            }
           }
          }
         }
        },
        {
         "layout": {
          "scene": {
           "camera": {
            "eye": {
             "x": 0.611372094250726,
             "y": -1.9042647301180267,
             "z": 0.5
            }
           }
          }
         }
        },
        {
         "layout": {
          "scene": {
           "camera": {
            "eye": {
             "x": 0.6446050262808191,
             "y": -1.893273450955647,
             "z": 0.5
            }
           }
          }
         }
        },
        {
         "layout": {
          "scene": {
           "camera": {
            "eye": {
             "x": 0.6776405099916991,
             "y": -1.8817022451010124,
             "z": 0.5
            }
           }
          }
         }
        },
        {
         "layout": {
          "scene": {
           "camera": {
            "eye": {
             "x": 0.710468426317479,
             "y": -1.8695546569185841,
             "z": 0.5
            }
           }
          }
         }
        },
        {
         "layout": {
          "scene": {
           "camera": {
            "eye": {
             "x": 0.7430787197720243,
             "y": -1.856834407323919,
             "z": 0.5
            }
           }
          }
         }
        },
        {
         "layout": {
          "scene": {
           "camera": {
            "eye": {
             "x": 0.7754614015290493,
             "y": -1.8435453926439138,
             "z": 0.5
            }
           }
          }
         }
        },
        {
         "layout": {
          "scene": {
           "camera": {
            "eye": {
             "x": 0.807606552481777,
             "y": -1.8296916834233299,
             "z": 0.5
            }
           }
          }
         }
        },
        {
         "layout": {
          "scene": {
           "camera": {
            "eye": {
             "x": 0.8395043262812548,
             "y": -1.8152775231779454,
             "z": 0.5
            }
           }
          }
         }
        },
        {
         "layout": {
          "scene": {
           "camera": {
            "eye": {
             "x": 0.871144952352373,
             "y": -1.800307327094733,
             "z": 0.5
            }
           }
          }
         }
        },
        {
         "layout": {
          "scene": {
           "camera": {
            "eye": {
             "x": 0.9025187388866892,
             "y": -1.7847856806794422,
             "z": 0.5
            }
           }
          }
         }
        },
        {
         "layout": {
          "scene": {
           "camera": {
            "eye": {
             "x": 0.9336160758111107,
             "y": -1.7687173383520223,
             "z": 0.5
            }
           }
          }
         }
        },
        {
         "layout": {
          "scene": {
           "camera": {
            "eye": {
             "x": 0.9644274377315492,
             "y": -1.7521072219902978,
             "z": 0.5
            }
           }
          }
         }
        },
        {
         "layout": {
          "scene": {
           "camera": {
            "eye": {
             "x": 0.994943386850628,
             "y": -1.7349604194223571,
             "z": 0.5
            }
           }
          }
         }
        },
        {
         "layout": {
          "scene": {
           "camera": {
            "eye": {
             "x": 1.0251545758585745,
             "y": -1.7172821828681,
             "z": 0.5
            }
           }
          }
         }
        },
        {
         "layout": {
          "scene": {
           "camera": {
            "eye": {
             "x": 1.0550517507963784,
             "y": -1.6990779273304377,
             "z": 0.5
            }
           }
          }
         }
        },
        {
         "layout": {
          "scene": {
           "camera": {
            "eye": {
             "x": 1.0846257538903643,
             "y": -1.68035322893663,
             "z": 0.5
            }
           }
          }
         }
        },
        {
         "layout": {
          "scene": {
           "camera": {
            "eye": {
             "x": 1.1138675263573017,
             "y": -1.6611138232302645,
             "z": 0.5
            }
           }
          }
         }
        },
        {
         "layout": {
          "scene": {
           "camera": {
            "eye": {
             "x": 1.1427681111791856,
             "y": -1.6413656034144117,
             "z": 0.5
            }
           }
          }
         }
        },
        {
         "layout": {
          "scene": {
           "camera": {
            "eye": {
             "x": 1.1713186558468618,
             "y": -1.6211146185464806,
             "z": 0.5
            }
           }
          }
         }
        },
        {
         "layout": {
          "scene": {
           "camera": {
            "eye": {
             "x": 1.199510415071622,
             "y": -1.6003670716853384,
             "z": 0.5
            }
           }
          }
         }
        },
        {
         "layout": {
          "scene": {
           "camera": {
            "eye": {
             "x": 1.2273347534639696,
             "y": -1.5791293179912584,
             "z": 0.5
            }
           }
          }
         }
        },
        {
         "layout": {
          "scene": {
           "camera": {
            "eye": {
             "x": 1.2547831481787097,
             "y": -1.5574078627792804,
             "z": 0.5
            }
           }
          }
         }
        },
        {
         "layout": {
          "scene": {
           "camera": {
            "eye": {
             "x": 1.2818471915255834,
             "y": -1.5352093595265677,
             "z": 0.5
            }
           }
          }
         }
        },
        {
         "layout": {
          "scene": {
           "camera": {
            "eye": {
             "x": 1.3085185935446115,
             "y": -1.512540607834392,
             "z": 0.5
            }
           }
          }
         }
        },
        {
         "layout": {
          "scene": {
           "camera": {
            "eye": {
             "x": 1.3347891845453872,
             "y": -1.489408551345352,
             "z": 0.5
            }
           }
          }
         }
        },
        {
         "layout": {
          "scene": {
           "camera": {
            "eye": {
             "x": 1.360650917609525,
             "y": -1.4658202756164747,
             "z": 0.5
            }
           }
          }
         }
        },
        {
         "layout": {
          "scene": {
           "camera": {
            "eye": {
             "x": 1.386095871055501,
             "y": -1.4417830059488468,
             "z": 0.5
            }
           }
          }
         }
        },
        {
         "layout": {
          "scene": {
           "camera": {
            "eye": {
             "x": 1.4111162508651416,
             "y": -1.4173041051744355,
             "z": 0.5
            }
           }
          }
         }
        },
        {
         "layout": {
          "scene": {
           "camera": {
            "eye": {
             "x": 1.4357043930709967,
             "y": -1.3923910714007903,
             "z": 0.5
            }
           }
          }
         }
        },
        {
         "layout": {
          "scene": {
           "camera": {
            "eye": {
             "x": 1.4598527661038851,
             "y": -1.3670515357143034,
             "z": 0.5
            }
           }
          }
         }
        },
        {
         "layout": {
          "scene": {
           "camera": {
            "eye": {
             "x": 1.4835539730998755,
             "y": -1.3412932598427438,
             "z": 0.5
            }
           }
          }
         }
        },
        {
         "layout": {
          "scene": {
           "camera": {
            "eye": {
             "x": 1.5068007541660207,
             "y": -1.315124133777763,
             "z": 0.5
            }
           }
          }
         }
        },
        {
         "layout": {
          "scene": {
           "camera": {
            "eye": {
             "x": 1.5295859886041236,
             "y": -1.2885521733581244,
             "z": 0.5
            }
           }
          }
         }
        },
        {
         "layout": {
          "scene": {
           "camera": {
            "eye": {
             "x": 1.5519026970918717,
             "y": -1.2615855178143789,
             "z": 0.5
            }
           }
          }
         }
        },
        {
         "layout": {
          "scene": {
           "camera": {
            "eye": {
             "x": 1.5737440438206676,
             "y": -1.2342324272757434,
             "z": 0.5
            }
           }
          }
         }
        },
        {
         "layout": {
          "scene": {
           "camera": {
            "eye": {
             "x": 1.5951033385894942,
             "y": -1.2065012802399548,
             "z": 0.5
            }
           }
          }
         }
        },
        {
         "layout": {
          "scene": {
           "camera": {
            "eye": {
             "x": 1.6159740388541903,
             "y": -1.1784005710068526,
             "z": 0.5
            }
           }
          }
         }
        },
        {
         "layout": {
          "scene": {
           "camera": {
            "eye": {
             "x": 1.6363497517314862,
             "y": -1.1499389070765034,
             "z": 0.5
            }
           }
          }
         }
        },
        {
         "layout": {
          "scene": {
           "camera": {
            "eye": {
             "x": 1.656224235957204,
             "y": -1.1211250065126441,
             "z": 0.5
            }
           }
          }
         }
        },
        {
         "layout": {
          "scene": {
           "camera": {
            "eye": {
             "x": 1.6755914037980073,
             "y": -1.0919676952722654,
             "z": 0.5
            }
           }
          }
         }
        },
        {
         "layout": {
          "scene": {
           "camera": {
            "eye": {
             "x": 1.6944453229161367,
             "y": -1.0624759045021346,
             "z": 0.5
            }
           }
          }
         }
        },
        {
         "layout": {
          "scene": {
           "camera": {
            "eye": {
             "x": 1.7127802181865333,
             "y": -1.0326586678031087,
             "z": 0.5
            }
           }
          }
         }
        },
        {
         "layout": {
          "scene": {
           "camera": {
            "eye": {
             "x": 1.7305904734658133,
             "y": -1.00252511846306,
             "z": 0.5
            }
           }
          }
         }
        },
        {
         "layout": {
          "scene": {
           "camera": {
            "eye": {
             "x": 1.7478706333125396,
             "y": -0.9720844866592728,
             "z": 0.5
            }
           }
          }
         }
        },
        {
         "layout": {
          "scene": {
           "camera": {
            "eye": {
             "x": 1.7646154046582785,
             "y": -0.9413460966311489,
             "z": 0.5
            }
           }
          }
         }
        },
        {
         "layout": {
          "scene": {
           "camera": {
            "eye": {
             "x": 1.78081965842891,
             "y": -0.9103193638241143,
             "z": 0.5
            }
           }
          }
         }
        },
        {
         "layout": {
          "scene": {
           "camera": {
            "eye": {
             "x": 1.796478431115711,
             "y": -0.8790137920055826,
             "z": 0.5
            }
           }
          }
         }
        },
        {
         "layout": {
          "scene": {
           "camera": {
            "eye": {
             "x": 1.8115869262957223,
             "y": -0.8474389703538638,
             "z": 0.5
            }
           }
          }
         }
        },
        {
         "layout": {
          "scene": {
           "camera": {
            "eye": {
             "x": 1.8261405161009343,
             "y": -0.8156045705209193,
             "z": 0.5
            }
           }
          }
         }
        },
        {
         "layout": {
          "scene": {
           "camera": {
            "eye": {
             "x": 1.840134742635848,
             "y": -0.7835203436698378,
             "z": 0.5
            }
           }
          }
         }
        },
        {
         "layout": {
          "scene": {
           "camera": {
            "eye": {
             "x": 1.853565319342967,
             "y": -0.7511961174879731,
             "z": 0.5
            }
           }
          }
         }
        },
        {
         "layout": {
          "scene": {
           "camera": {
            "eye": {
             "x": 1.8664281323158078,
             "y": -0.7186417931766319,
             "z": 0.5
            }
           }
          }
         }
        },
        {
         "layout": {
          "scene": {
           "camera": {
            "eye": {
             "x": 1.8787192415590264,
             "y": -0.6858673424182528,
             "z": 0.5
            }
           }
          }
         }
        },
        {
         "layout": {
          "scene": {
           "camera": {
            "eye": {
             "x": 1.8904348821952757,
             "y": -0.6528828043219809,
             "z": 0.5
            }
           }
          }
         }
        },
        {
         "layout": {
          "scene": {
           "camera": {
            "eye": {
             "x": 1.9015714656184208,
             "y": -0.6196982823486048,
             "z": 0.5
            }
           }
          }
         }
        },
        {
         "layout": {
          "scene": {
           "camera": {
            "eye": {
             "x": 1.9121255805927606,
             "y": -0.5863239412157739,
             "z": 0.5
            }
           }
          }
         }
        },
        {
         "layout": {
          "scene": {
           "camera": {
            "eye": {
             "x": 1.922093994297921,
             "y": -0.5527700037844524,
             "z": 0.5
            }
           }
          }
         }
        },
        {
         "layout": {
          "scene": {
           "camera": {
            "eye": {
             "x": 1.931473653319095,
             "y": -0.5190467479275714,
             "z": 0.5
            }
           }
          }
         }
        },
        {
         "layout": {
          "scene": {
           "camera": {
            "eye": {
             "x": 1.9402616845823342,
             "y": -0.48516450338181444,
             "z": 0.5
            }
           }
          }
         }
        },
        {
         "layout": {
          "scene": {
           "camera": {
            "eye": {
             "x": 1.9484553962345943,
             "y": -0.4511336485835323,
             "z": 0.5
            }
           }
          }
         }
        },
        {
         "layout": {
          "scene": {
           "camera": {
            "eye": {
             "x": 1.9560522784682761,
             "y": -0.4169646074897315,
             "z": 0.5
            }
           }
          }
         }
        },
        {
         "layout": {
          "scene": {
           "camera": {
            "eye": {
             "x": 1.9630500042899994,
             "y": -0.38266784638512963,
             "z": 0.5
            }
           }
          }
         }
        },
        {
         "layout": {
          "scene": {
           "camera": {
            "eye": {
             "x": 1.9694464302333856,
             "y": -0.34825387067622726,
             "z": 0.5
            }
           }
          }
         }
        },
        {
         "layout": {
          "scene": {
           "camera": {
            "eye": {
             "x": 1.9752395970156178,
             "y": -0.3137332216734146,
             "z": 0.5
            }
           }
          }
         }
        },
        {
         "layout": {
          "scene": {
           "camera": {
            "eye": {
             "x": 1.9804277301375885,
             "y": -0.27911647336206996,
             "z": 0.5
            }
           }
          }
         }
        },
        {
         "layout": {
          "scene": {
           "camera": {
            "eye": {
             "x": 1.9850092404274429,
             "y": -0.2444142291636596,
             "z": 0.5
            }
           }
          }
         }
        },
        {
         "layout": {
          "scene": {
           "camera": {
            "eye": {
             "x": 1.9889827245273588,
             "y": -0.20963711868780402,
             "z": 0.5
            }
           }
          }
         }
        },
        {
         "layout": {
          "scene": {
           "camera": {
            "eye": {
             "x": 1.992346965323406,
             "y": -0.17479579447633986,
             "z": 0.5
            }
           }
          }
         }
        },
        {
         "layout": {
          "scene": {
           "camera": {
            "eye": {
             "x": 1.9951009323183597,
             "y": -0.13990092874034862,
             "z": 0.5
            }
           }
          }
         }
        },
        {
         "layout": {
          "scene": {
           "camera": {
            "eye": {
             "x": 1.9972437819473512,
             "y": -0.10496321009116087,
             "z": 0.5
            }
           }
          }
         }
        },
        {
         "layout": {
          "scene": {
           "camera": {
            "eye": {
             "x": 1.9987748578362596,
             "y": -0.06999334026634522,
             "z": 0.5
            }
           }
          }
         }
        },
        {
         "layout": {
          "scene": {
           "camera": {
            "eye": {
             "x": 1.9996936910027645,
             "y": -0.035002030851659434,
             "z": 0.5
            }
           }
          }
         }
        },
        {
         "layout": {
          "scene": {
           "camera": {
            "eye": {
             "x": 2,
             "y": -4.898587196589413e-16,
             "z": 0.5
            }
           }
          }
         }
        }
       ],
       "layout": {
        "height": 800,
        "scene": {
         "camera": {
          "eye": {
           "x": 2,
           "y": 0,
           "z": 0
          }
         },
         "xaxis": {
          "visible": false
         },
         "yaxis": {
          "visible": false
         },
         "zaxis": {
          "visible": false
         }
        },
        "showlegend": false,
        "template": {
         "data": {
          "bar": [
           {
            "error_x": {
             "color": "#2a3f5f"
            },
            "error_y": {
             "color": "#2a3f5f"
            },
            "marker": {
             "line": {
              "color": "#E5ECF6",
              "width": 0.5
             },
             "pattern": {
              "fillmode": "overlay",
              "size": 10,
              "solidity": 0.2
             }
            },
            "type": "bar"
           }
          ],
          "barpolar": [
           {
            "marker": {
             "line": {
              "color": "#E5ECF6",
              "width": 0.5
             },
             "pattern": {
              "fillmode": "overlay",
              "size": 10,
              "solidity": 0.2
             }
            },
            "type": "barpolar"
           }
          ],
          "carpet": [
           {
            "aaxis": {
             "endlinecolor": "#2a3f5f",
             "gridcolor": "white",
             "linecolor": "white",
             "minorgridcolor": "white",
             "startlinecolor": "#2a3f5f"
            },
            "baxis": {
             "endlinecolor": "#2a3f5f",
             "gridcolor": "white",
             "linecolor": "white",
             "minorgridcolor": "white",
             "startlinecolor": "#2a3f5f"
            },
            "type": "carpet"
           }
          ],
          "choropleth": [
           {
            "colorbar": {
             "outlinewidth": 0,
             "ticks": ""
            },
            "type": "choropleth"
           }
          ],
          "contour": [
           {
            "colorbar": {
             "outlinewidth": 0,
             "ticks": ""
            },
            "colorscale": [
             [
              0,
              "#0d0887"
             ],
             [
              0.1111111111111111,
              "#46039f"
             ],
             [
              0.2222222222222222,
              "#7201a8"
             ],
             [
              0.3333333333333333,
              "#9c179e"
             ],
             [
              0.4444444444444444,
              "#bd3786"
             ],
             [
              0.5555555555555556,
              "#d8576b"
             ],
             [
              0.6666666666666666,
              "#ed7953"
             ],
             [
              0.7777777777777778,
              "#fb9f3a"
             ],
             [
              0.8888888888888888,
              "#fdca26"
             ],
             [
              1,
              "#f0f921"
             ]
            ],
            "type": "contour"
           }
          ],
          "contourcarpet": [
           {
            "colorbar": {
             "outlinewidth": 0,
             "ticks": ""
            },
            "type": "contourcarpet"
           }
          ],
          "heatmap": [
           {
            "colorbar": {
             "outlinewidth": 0,
             "ticks": ""
            },
            "colorscale": [
             [
              0,
              "#0d0887"
             ],
             [
              0.1111111111111111,
              "#46039f"
             ],
             [
              0.2222222222222222,
              "#7201a8"
             ],
             [
              0.3333333333333333,
              "#9c179e"
             ],
             [
              0.4444444444444444,
              "#bd3786"
             ],
             [
              0.5555555555555556,
              "#d8576b"
             ],
             [
              0.6666666666666666,
              "#ed7953"
             ],
             [
              0.7777777777777778,
              "#fb9f3a"
             ],
             [
              0.8888888888888888,
              "#fdca26"
             ],
             [
              1,
              "#f0f921"
             ]
            ],
            "type": "heatmap"
           }
          ],
          "histogram": [
           {
            "marker": {
             "pattern": {
              "fillmode": "overlay",
              "size": 10,
              "solidity": 0.2
             }
            },
            "type": "histogram"
           }
          ],
          "histogram2d": [
           {
            "colorbar": {
             "outlinewidth": 0,
             "ticks": ""
            },
            "colorscale": [
             [
              0,
              "#0d0887"
             ],
             [
              0.1111111111111111,
              "#46039f"
             ],
             [
              0.2222222222222222,
              "#7201a8"
             ],
             [
              0.3333333333333333,
              "#9c179e"
             ],
             [
              0.4444444444444444,
              "#bd3786"
             ],
             [
              0.5555555555555556,
              "#d8576b"
             ],
             [
              0.6666666666666666,
              "#ed7953"
             ],
             [
              0.7777777777777778,
              "#fb9f3a"
             ],
             [
              0.8888888888888888,
              "#fdca26"
             ],
             [
              1,
              "#f0f921"
             ]
            ],
            "type": "histogram2d"
           }
          ],
          "histogram2dcontour": [
           {
            "colorbar": {
             "outlinewidth": 0,
             "ticks": ""
            },
            "colorscale": [
             [
              0,
              "#0d0887"
             ],
             [
              0.1111111111111111,
              "#46039f"
             ],
             [
              0.2222222222222222,
              "#7201a8"
             ],
             [
              0.3333333333333333,
              "#9c179e"
             ],
             [
              0.4444444444444444,
              "#bd3786"
             ],
             [
              0.5555555555555556,
              "#d8576b"
             ],
             [
              0.6666666666666666,
              "#ed7953"
             ],
             [
              0.7777777777777778,
              "#fb9f3a"
             ],
             [
              0.8888888888888888,
              "#fdca26"
             ],
             [
              1,
              "#f0f921"
             ]
            ],
            "type": "histogram2dcontour"
           }
          ],
          "mesh3d": [
           {
            "colorbar": {
             "outlinewidth": 0,
             "ticks": ""
            },
            "type": "mesh3d"
           }
          ],
          "parcoords": [
           {
            "line": {
             "colorbar": {
              "outlinewidth": 0,
              "ticks": ""
             }
            },
            "type": "parcoords"
           }
          ],
          "pie": [
           {
            "automargin": true,
            "type": "pie"
           }
          ],
          "scatter": [
           {
            "fillpattern": {
             "fillmode": "overlay",
             "size": 10,
             "solidity": 0.2
            },
            "type": "scatter"
           }
          ],
          "scatter3d": [
           {
            "line": {
             "colorbar": {
              "outlinewidth": 0,
              "ticks": ""
             }
            },
            "marker": {
             "colorbar": {
              "outlinewidth": 0,
              "ticks": ""
             }
            },
            "type": "scatter3d"
           }
          ],
          "scattercarpet": [
           {
            "marker": {
             "colorbar": {
              "outlinewidth": 0,
              "ticks": ""
             }
            },
            "type": "scattercarpet"
           }
          ],
          "scattergeo": [
           {
            "marker": {
             "colorbar": {
              "outlinewidth": 0,
              "ticks": ""
             }
            },
            "type": "scattergeo"
           }
          ],
          "scattergl": [
           {
            "marker": {
             "colorbar": {
              "outlinewidth": 0,
              "ticks": ""
             }
            },
            "type": "scattergl"
           }
          ],
          "scattermap": [
           {
            "marker": {
             "colorbar": {
              "outlinewidth": 0,
              "ticks": ""
             }
            },
            "type": "scattermap"
           }
          ],
          "scattermapbox": [
           {
            "marker": {
             "colorbar": {
              "outlinewidth": 0,
              "ticks": ""
             }
            },
            "type": "scattermapbox"
           }
          ],
          "scatterpolar": [
           {
            "marker": {
             "colorbar": {
              "outlinewidth": 0,
              "ticks": ""
             }
            },
            "type": "scatterpolar"
           }
          ],
          "scatterpolargl": [
           {
            "marker": {
             "colorbar": {
              "outlinewidth": 0,
              "ticks": ""
             }
            },
            "type": "scatterpolargl"
           }
          ],
          "scatterternary": [
           {
            "marker": {
             "colorbar": {
              "outlinewidth": 0,
              "ticks": ""
             }
            },
            "type": "scatterternary"
           }
          ],
          "surface": [
           {
            "colorbar": {
             "outlinewidth": 0,
             "ticks": ""
            },
            "colorscale": [
             [
              0,
              "#0d0887"
             ],
             [
              0.1111111111111111,
              "#46039f"
             ],
             [
              0.2222222222222222,
              "#7201a8"
             ],
             [
              0.3333333333333333,
              "#9c179e"
             ],
             [
              0.4444444444444444,
              "#bd3786"
             ],
             [
              0.5555555555555556,
              "#d8576b"
             ],
             [
              0.6666666666666666,
              "#ed7953"
             ],
             [
              0.7777777777777778,
              "#fb9f3a"
             ],
             [
              0.8888888888888888,
              "#fdca26"
             ],
             [
              1,
              "#f0f921"
             ]
            ],
            "type": "surface"
           }
          ],
          "table": [
           {
            "cells": {
             "fill": {
              "color": "#EBF0F8"
             },
             "line": {
              "color": "white"
             }
            },
            "header": {
             "fill": {
              "color": "#C8D4E3"
             },
             "line": {
              "color": "white"
             }
            },
            "type": "table"
           }
          ]
         },
         "layout": {
          "annotationdefaults": {
           "arrowcolor": "#2a3f5f",
           "arrowhead": 0,
           "arrowwidth": 1
          },
          "autotypenumbers": "strict",
          "coloraxis": {
           "colorbar": {
            "outlinewidth": 0,
            "ticks": ""
           }
          },
          "colorscale": {
           "diverging": [
            [
             0,
             "#8e0152"
            ],
            [
             0.1,
             "#c51b7d"
            ],
            [
             0.2,
             "#de77ae"
            ],
            [
             0.3,
             "#f1b6da"
            ],
            [
             0.4,
             "#fde0ef"
            ],
            [
             0.5,
             "#f7f7f7"
            ],
            [
             0.6,
             "#e6f5d0"
            ],
            [
             0.7,
             "#b8e186"
            ],
            [
             0.8,
             "#7fbc41"
            ],
            [
             0.9,
             "#4d9221"
            ],
            [
             1,
             "#276419"
            ]
           ],
           "sequential": [
            [
             0,
             "#0d0887"
            ],
            [
             0.1111111111111111,
             "#46039f"
            ],
            [
             0.2222222222222222,
             "#7201a8"
            ],
            [
             0.3333333333333333,
             "#9c179e"
            ],
            [
             0.4444444444444444,
             "#bd3786"
            ],
            [
             0.5555555555555556,
             "#d8576b"
            ],
            [
             0.6666666666666666,
             "#ed7953"
            ],
            [
             0.7777777777777778,
             "#fb9f3a"
            ],
            [
             0.8888888888888888,
             "#fdca26"
            ],
            [
             1,
             "#f0f921"
            ]
           ],
           "sequentialminus": [
            [
             0,
             "#0d0887"
            ],
            [
             0.1111111111111111,
             "#46039f"
            ],
            [
             0.2222222222222222,
             "#7201a8"
            ],
            [
             0.3333333333333333,
             "#9c179e"
            ],
            [
             0.4444444444444444,
             "#bd3786"
            ],
            [
             0.5555555555555556,
             "#d8576b"
            ],
            [
             0.6666666666666666,
             "#ed7953"
            ],
            [
             0.7777777777777778,
             "#fb9f3a"
            ],
            [
             0.8888888888888888,
             "#fdca26"
            ],
            [
             1,
             "#f0f921"
            ]
           ]
          },
          "colorway": [
           "#636efa",
           "#EF553B",
           "#00cc96",
           "#ab63fa",
           "#FFA15A",
           "#19d3f3",
           "#FF6692",
           "#B6E880",
           "#FF97FF",
           "#FECB52"
          ],
          "font": {
           "color": "#2a3f5f"
          },
          "geo": {
           "bgcolor": "white",
           "lakecolor": "white",
           "landcolor": "#E5ECF6",
           "showlakes": true,
           "showland": true,
           "subunitcolor": "white"
          },
          "hoverlabel": {
           "align": "left"
          },
          "hovermode": "closest",
          "mapbox": {
           "style": "light"
          },
          "paper_bgcolor": "white",
          "plot_bgcolor": "#E5ECF6",
          "polar": {
           "angularaxis": {
            "gridcolor": "white",
            "linecolor": "white",
            "ticks": ""
           },
           "bgcolor": "#E5ECF6",
           "radialaxis": {
            "gridcolor": "white",
            "linecolor": "white",
            "ticks": ""
           }
          },
          "scene": {
           "xaxis": {
            "backgroundcolor": "#E5ECF6",
            "gridcolor": "white",
            "gridwidth": 2,
            "linecolor": "white",
            "showbackground": true,
            "ticks": "",
            "zerolinecolor": "white"
           },
           "yaxis": {
            "backgroundcolor": "#E5ECF6",
            "gridcolor": "white",
            "gridwidth": 2,
            "linecolor": "white",
            "showbackground": true,
            "ticks": "",
            "zerolinecolor": "white"
           },
           "zaxis": {
            "backgroundcolor": "#E5ECF6",
            "gridcolor": "white",
            "gridwidth": 2,
            "linecolor": "white",
            "showbackground": true,
            "ticks": "",
            "zerolinecolor": "white"
           }
          },
          "shapedefaults": {
           "line": {
            "color": "#2a3f5f"
           }
          },
          "ternary": {
           "aaxis": {
            "gridcolor": "white",
            "linecolor": "white",
            "ticks": ""
           },
           "baxis": {
            "gridcolor": "white",
            "linecolor": "white",
            "ticks": ""
           },
           "bgcolor": "#E5ECF6",
           "caxis": {
            "gridcolor": "white",
            "linecolor": "white",
            "ticks": ""
           }
          },
          "title": {
           "x": 0.05
          },
          "xaxis": {
           "automargin": true,
           "gridcolor": "white",
           "linecolor": "white",
           "ticks": "",
           "title": {
            "standoff": 15
           },
           "zerolinecolor": "white",
           "zerolinewidth": 2
          },
          "yaxis": {
           "automargin": true,
           "gridcolor": "white",
           "linecolor": "white",
           "ticks": "",
           "title": {
            "standoff": 15
           },
           "zerolinecolor": "white",
           "zerolinewidth": 2
          }
         }
        },
        "title": {
         "text": "3D DNA Double Helix"
        },
        "updatemenus": [
         {
          "buttons": [
           {
            "args": [
             null,
             {
              "frame": {
               "duration": 60,
               "redraw": true
              }
             }
            ],
            "label": "Play",
            "method": "animate"
           },
           {
            "args": [
             [
              null
             ],
             {
              "frame": {
               "duration": 0,
               "redraw": false
              },
              "mode": "immediate"
             }
            ],
            "label": "Pause",
            "method": "animate"
           }
          ],
          "showactive": false,
          "type": "buttons"
         }
        ]
       }
      }
     },
     "metadata": {},
     "output_type": "display_data"
    }
   ],
   "source": [
    "show_double_helix_3d(seq)"
   ]
  },
  {
   "cell_type": "code",
   "execution_count": 100,
   "id": "0c47772e",
   "metadata": {},
   "outputs": [],
   "source": [
    "def show_double_helix_3d(seq: DNASequence, max_bases_display=128, rotate=True):\n",
    "    \"\"\"\n",
    "    Visualize a 3D DNA double helix using Plotly, dynamically scaled to adjust for size.\n",
    "    seq: DNASequence (must have .sequence)\n",
    "    max_bases_display: maximum number of bases to display at once (for performance)\n",
    "    rotate: if True, creates a slow rotation animation\n",
    "    \"\"\"\n",
    "    bases = list(seq.sequence)\n",
    "    n_total = len(seq)\n",
    "\n",
    "    # If the sequence is too large, take a centered slice\n",
    "    if n_total > max_bases_display:\n",
    "        start = (n_total - max_bases_display) // 2\n",
    "        end = start + max_bases_display\n",
    "        bases = bases[start:end]\n",
    "        n = max_bases_display\n",
    "        title_suffix = f\"(showing {n} of {n_total} bases)\"\n",
    "    else:\n",
    "        n = n_total\n",
    "        title_suffix = f\"({n} bases)\"   \n",
    "\n",
    "    # Adjust the helix parameters dynamically\n",
    "    turns = max(1, int(n / 64)) # ~20 bases per turn\n",
    "    radius = 0.5 # DNA radius ~1 arbitrary unit\n",
    "    height_per_turn = 360 # distance between turns\n",
    "    total_height = turns * height_per_turn\n",
    "\n",
    "    theta = np.linspace(0, 2 * np.pi * turns, n)\n",
    "\n",
    "    # Create two helices (offset by pi)\n",
    "    x1 = radius * np.cos(theta)\n",
    "    y1 = radius * np.sin(theta)\n",
    "    z1 = np.linspace(0, turns * height_per_turn, n)\n",
    "\n",
    "    x2 = radius * np.cos(theta + np.pi)\n",
    "    y2 = radius * np.sin(theta + np.pi)\n",
    "    z2 = z1 # Same height\n",
    "\n",
    "    # Connector base pairs\n",
    "    connectors = []\n",
    "    for i in range(n):\n",
    "        connectors.append(go.Scatter3d(\n",
    "            x = [x1[i], x2[i]],\n",
    "            y = [y1[i], y2[i]],\n",
    "            z = [z1[i], z2[i]],\n",
    "            mode = \"lines\",\n",
    "            line = dict(color=\"gray\", width=6),\n",
    "            showlegend = False\n",
    "        ))\n",
    "\n",
    "\n",
    "    # Strands\n",
    "    strand1 = go.Scatter3d(\n",
    "        x = x1, y = y1, z = z1,\n",
    "        mode = \"lines+markers+text\",\n",
    "        line = dict(color=\"blue\", width=12),\n",
    "        text = bases,\n",
    "        textposition = \"top center\",\n",
    "        name = \"Strand 1\"\n",
    "    )\n",
    "\n",
    "    strand2 = go.Scatter3d(\n",
    "        x = x2, y = y2, z = z2,\n",
    "        mode = \"lines+markers\",\n",
    "        line = dict(color=\"red\", width=12),\n",
    "        name = \"Strand 2\"\n",
    "    )\n",
    "    \n",
    "    # Initial Perspective Camera\n",
    "    side_camera = dict(\n",
    "        eye=dict(x=2, y=0, z=0) # Move along the x-axis facing the helix sideways\n",
    "    )\n",
    "\n",
    "    # Basic Figure\n",
    "    fig = go.Figure(data=[strand1, strand2] + connectors)\n",
    "    fig.update_layout(\n",
    "        title = f\"3D DNA Double Helix {title_suffix}\",\n",
    "        scene = dict(\n",
    "            xaxis = dict(visible=False),\n",
    "            yaxis = dict(visible=False),\n",
    "            zaxis = dict(visible=False),\n",
    "            aspectratio=dict(x=1, y=1, z=2),\n",
    "        ),\n",
    "        scene_camera=side_camera,\n",
    "        showlegend = False,\n",
    "        height = 800\n",
    "    )\n",
    "\n",
    "    if rotate:\n",
    "        # Create frames for rotation\n",
    "        frames = []\n",
    "        for angle in np.linspace(0, 2 * np.pi, 360): # 360 frames for full rotation\n",
    "            camera = dict(\n",
    "                eye = dict(\n",
    "                    x = 2 * np.cos(angle),\n",
    "                    y = 2 * np.sin(angle),\n",
    "                    z = 0.5, # Small tilt for better perspective\n",
    "                )\n",
    "            )\n",
    "            frames.append(go.Frame(layout=dict(scene_camera=camera)))\n",
    "\n",
    "        fig.frames = frames\n",
    "        \n",
    "        fig.update_layout(\n",
    "            updatemenus=[dict(\n",
    "                type=\"buttons\",\n",
    "                showactive=False,\n",
    "                buttons=[\n",
    "                    dict(\n",
    "                        label=\"Play\",\n",
    "                        method=\"animate\",\n",
    "                        args=[None, dict(frame=dict(duration=60, redraw=True))]\n",
    "                    ),\n",
    "                    dict(\n",
    "                        label=\"Pause\",\n",
    "                        method=\"animate\",\n",
    "                        args=[[None], dict(mode=\"immediate\", frame=dict(duration=0, redraw=False))]\n",
    "                    )\n",
    "                ]\n",
    "            )]\n",
    "        )\n",
    "\n",
    "    fig.show()"
   ]
  },
  {
   "cell_type": "code",
   "execution_count": 101,
   "id": "b29fa1a3",
   "metadata": {},
   "outputs": [
    {
     "data": {
      "application/vnd.plotly.v1+json": {
       "config": {
        "plotlyServerURL": "https://plot.ly"
       },
       "data": [
        {
         "line": {
          "color": "blue",
          "width": 12
         },
         "mode": "lines+markers+text",
         "name": "Strand 1",
         "text": [
          "G",
          "G",
          "T",
          "T",
          "C",
          "C",
          "C",
          "G",
          "G",
          "G",
          "A",
          "A",
          "G",
          "T",
          "G",
          "T",
          "T",
          "G",
          "G",
          "T",
          "A",
          "A",
          "C",
          "T",
          "C",
          "T",
          "T",
          "C",
          "C",
          "G",
          "A",
          "G",
          "A",
          "G",
          "A",
          "C",
          "G",
          "C",
          "C",
          "T",
          "G",
          "G",
          "A",
          "G",
          "A",
          "A",
          "T",
          "C",
          "G",
          "G",
          "A",
          "T",
          "T",
          "T",
          "G",
          "T",
          "C",
          "G",
          "A",
          "C",
          "G",
          "A",
          "C",
          "A",
          "C",
          "G",
          "C",
          "T",
          "G",
          "T",
          "A",
          "G",
          "A",
          "T",
          "C",
          "G",
          "A",
          "C",
          "T",
          "G",
          "G",
          "A",
          "A",
          "C",
          "A",
          "C",
          "T",
          "C",
          "C",
          "C",
          "A",
          "C",
          "C",
          "C",
          "C",
          "G",
          "C",
          "A",
          "T",
          "G",
          "A",
          "T",
          "C",
          "C",
          "C",
          "G",
          "C",
          "C",
          "C",
          "A",
          "C",
          "T",
          "A",
          "C",
          "A",
          "G",
          "C",
          "A",
          "G",
          "T",
          "A",
          "T",
          "T",
          "A",
          "T",
          "A",
          "T",
          "A"
         ],
         "textposition": "top center",
         "type": "scatter3d",
         "x": {
          "bdata": "AAAAAAAA4D+DeGMd7tffP8buDs8cYN8//pk1JriZ3j+cb0L8sIbdP+wzjRa4Kdw/xTFraTeG2j+3d3uLSaDYP6Hql26vfNY/K1AoeMQg1D8y0KcWcZLRP0Y97Os3sM0/dhkE7zPxxz9oBeYsOvbBPxhoqIqJnLc/KNDb/fkipj/wdSBKelR5v/djHKAqcKy/yUs44Ua3ur+Y8QgyyHnDv7g9vbkmZ8m/jYM+++YUz79DeG8eaDrSv0CluVq2vNS/aNLqoBUL17/WuORuvx/Zv1fDt8h99dq/pg5sRbiH3L9Z2iqRf9Ldv+cl9keX0t6/gapAEH6F378Npxrhc+nfv5kKPWR+/d+/TPv4aGvB378Xpulh0TXfvzCOLewNXN6/LvLWY0I23b+TACSOTsfbv91F22bJEtq/7/jSIvgc2L/+3yZ+w+rVv/c75XCrgdO/0sf8aLnn0L+TvdRX4kbMv7v6BQyBd8a/5kFs4NtvwL/NGPZeGX60vzTBtlWjpJ+/icjZx13+kj8aFOxvc1yxP/6JK+XUzb0/hHauOkn6xD9MIarYHtnKP0jwStNbOtA/nvDXMITf0j/ikiCraFXVPxUS18bfldc/fv7S1UWb2T8Pa5IWi2DbP9QfRmFA4dw/0geqQqIZ3j8oU9poogbfP9Gvikrvpd8/tQB19fn13z+1AHX1+fXfP9Gvikrvpd8/KVPaaKIG3z/UB6pCohneP9YfRmFA4dw/DWuSFotg2z+B/tLVRZvZPxgS18bfldc/5pIgq2hV1T+b8NcwhN/SP0zwStNbOtA/VCGq2B7Zyj+Ndq46SfrEP/CJK+XUzb0/KxTsb3NcsT/PyNnHXf6SP23BtlWjpJ+/uxj2Xhl+tL/dQWzg22/Av7L6BQyBd8a/mr3UV+JGzL/Vx/xouefQv/o75XCrgdO/+N8mfsPq1b/p+NIi+BzYv9tF22bJEtq/kQAkjk7H278u8tZjQjbdvzCOLewNXN6/GKbpYdE1379N+/hoa8Hfv5kKPWR+/d+/Daca4XPp37+CqkAQfoXfv+cl9keX0t6/WtoqkX/S3b+kDmxFuIfcv1XDt8h99dq/3Ljkbr8f2b9u0uqgFQvXv0OluVq2vNS/R3hvHmg60r+Ogz775hTPv7U9vbkmZ8m/kfEIMsh5w7+zSzjhRre6vzpkHKAqcKy/incgSnpUeb8F0Nv9+SKmPw5oqIqJnLc/ZwXmLDr2wT95GQTvM/HHP0097Os3sM0/KtCnFnGS0T8lUCh4xCDUP57ql26vfNY/tXd7i0mg2D/FMWtpN4baP+wzjRa4Kdw/nW9C/LCG3T//mTUmuJneP8TuDs8cYN8/gnhjHe7X3z8AAAAAAADgPw==",
          "dtype": "f8"
         },
         "y": {
          "bdata": "AAAAAAAAAACHkOkTEUqpPzvNIFxmKrk//FJ2Bl+4wj9NvkMEqazIP/yzmsYnY84//ITiVsbm0T8t6uDXI2/UP8TEw6dUxNY/6lz1MIHg2D86y0yoYL7aP80O8khGWdw/dvCDCS2t3T8/vi2twbbePwfodhdrc98/R6fxzVDh3z9uN32XX//fP39OiC1Mzd8/c62V+JNL3z8aqirWe3veP0E9OusMX90/8RYCiw/52z/xQh4/BE3aP5z2RgIbX9g/S3uvwyg01j/6gElNm9HTP6m3OqtrPdE/5HcibR78zD/7mFnRzjTHP+yqvD9hM8E/gRqWAcANtj+B2nH5BPuiP+jvAlH7U4m/UW3jECeVr79jUQmPG0O8v/LUkhxuOsS/eVvFwaUgyr/RldaTbsXPv16X2iZTjdK/hLL+9ngJ1b9fL7WU71DXv5sGPssBXtm/HtYgoowr278l9lc6DLXcvzsXCh2n9t2/LfWA3zft3r9GbzgEVZbfv7mRSgVX8N+/LsEXeVz637+YwspGTLTfvxreMuXVHt+/erVWo2873r8gSgz/Ugzdv5jOwRJ3lNu/ngdrKInX2b97OCyE49nXv0g60n2CoNW/hkFkBPgw079CWhSrXZHQv1+z+8SKkMu/zXjnCFK5xb8GSU9uY1e/vyE7fUml7bK/u6h3e/9Rmb91qHd7/1GZPy87fUml7bI/9UhPbmNXvz/EeOcIUrnFP1ez+8SKkMs/RVoUq12R0D+CQWQE+DDTP0Q60n2CoNU/eDgshOPZ1z+gB2soidfZP5XOwRJ3lNs/HkoM/1IM3T95tVajbzvePxveMuXVHt8/l8LKRky03z8uwRd5XPrfP7mRSgVX8N8/R284BFWW3z8u9YDfN+3ePz0XCh2n9t0/I/ZXOgy13D8c1iCijCvbP5kGPssBXtk/ZS+1lO9Q1z+Lsv72eAnVP2KX2iZTjdI/2ZXWk27Fzz96W8XBpSDKP/PUkhxuOsQ/VVEJjxtDvD80beMQJ5WvP/XwAlH7U4k/Xtpx+QT7or9vGpYBwA22v+uqvD9hM8G/+phZ0c40x7/qdyJtHvzMv6y3OqtrPdG/84BJTZvR079Fe6/DKDTWv5n2RgIbX9i/70IePwRN2r/wFgKLD/nbv0I9OusMX92/HKoq1nt73r91rZX4k0vfv35OiC1Mzd+/bjd9l1//379Ip/HNUOHfvwfodhdrc9+/P74trcG23r928IMJLa3dv8sO8khGWdy/P8tMqGC+2r/vXPUwgeDYv8jEw6dUxNa/L+rg1yNv1L/9hOJWxubRv/qzmsYnY86/R75DBKmsyL/yUnYGX7jCv13NIFxmKrm/u5DpExFKqb8HXBQzJqaxvA==",
          "dtype": "f8"
         },
         "z": {
          "bdata": "AAAAAAAAAACr1Wq1Wq0WQKvVarVarSZAQCAQCAQCMUCr1Wq1Wq02QBaLxWKxWDxAQCAQCAQCQUD2er1er9dDQKvVarVarUZAYDAYDAaDSUAWi8VisVhMQMvlcrlcLk9AQCAQCAQCUUCbzWaz2WxSQPZ6vV6v11NAUCgUCoVCVUCr1Wq1Wq1WQAaDwWAwGFhAYDAYDAaDWUC73W632+1aQBaLxWKxWFxAcDgcDofDXUDL5XK5XC5fQJPJZDKZTGBAQCAQCAQCYUDudrvdbrdhQJvNZrPZbGJASCQSiUQiY0D2er1er9djQKPRaDQajWRAUCgUCoVCZUD+fr/f7/dlQKvVarVarWZAWCwWi8ViZ0AGg8FgMBhoQLPZbDabzWhAYDAYDAaDaUAOh8PhcDhqQLvdbrfb7WpAaDQajUaja0AWi8VisVhsQMPhcDgcDm1AcDgcDofDbUAej8fj8XhuQMvlcrlcLm9AeDwej8fjb0CTyWQymUxwQOp0Op1Op3BAQCAQCAQCcUCXy+VyuVxxQO52u91ut3FARCKRSCQSckCbzWaz2WxyQPJ4PB6Px3JASCQSiUQic0Cfz+fz+XxzQPZ6vV6v13NATCaTyWQydECj0Wg0Go10QPp8Pp/P53RAUCgUCoVCdUCn0+l0Op11QP5+v9/v93VAVCqVSqVSdkCr1Wq1Wq12QAKBQCAQCHdAWCwWi8Vid0Cv1+v1er13QAaDwWAwGHhAXC6Xy+VyeECz2Ww2m814QAqFQqFQKHlAYDAYDAaDeUC32+12u915QA6Hw+FwOHpAZDKZTCaTekC73W632+16QBKJRCKRSHtAaDQajUaje0C/3+/3+/17QBaLxWKxWHxAbDabzWazfEDD4XA4HA59QBqNRqPRaH1AcDgcDofDfUDH4/F4PB5+QB6Px+PxeH5AdDqdTqfTfkDL5XK5XC5/QCKRSCQSiX9AeDwej8fjf0Do8/l8Ph+AQJPJZDKZTIBAPp/P5/N5gEDqdDqdTqeAQJVKpVKp1IBAQCAQCAQCgUDs9Xq9Xi+BQJfL5XK5XIFAQqFQKBSKgUDudrvdbreBQJlMJpPJ5IFARCKRSCQSgkDw9/v9fj+CQJvNZrPZbIJARqPRaDSagkDyeDwej8eCQJ1Op9Pp9IJASCQSiUQig0D0+Xw+n0+DQJ/P5/P5fINASqVSqVSqg0D2er1er9eDQKFQKBQKBYRATCaTyWQyhED4+/1+v1+EQKPRaDQajYRATqfT6XS6hED6fD6fz+eEQKVSqVQqFYVAUCgUCoVChUD8/X6/32+FQKfT6XQ6nYVAUqlUKpXKhUD+fr/f7/eFQKlUKpVKJYZAVCqVSqVShkAAAAAAAICGQA==",
          "dtype": "f8"
         }
        },
        {
         "line": {
          "color": "red",
          "width": 12
         },
         "mode": "lines+markers",
         "name": "Strand 2",
         "type": "scatter3d",
         "x": {
          "bdata": "AAAAAAAA4L+DeGMd7tffv8buDs8cYN+//5k1JriZ3r+cb0L8sIbdv+0zjRa4Kdy/xTFraTeG2r+4d3uLSaDYv6Hql26vfNa/KVAoeMQg1L810KcWcZLRv0g97Os3sM2/dBkE7zPxx79xBeYsOvbBvyRoqIqJnLe/MdDb/fkipr8pdiBKelR5Pw5kHKAqcKw/vEs44Ua3uj+W8QgyyHnDP7k9vbkmZ8k/hIM+++YUzz9DeG8eaDrSPz+luVq2vNQ/a9LqoBUL1z/YuORuvx/ZP1bDt8h99do/pQ5sRbiH3D9Y2iqRf9LdP+Yl9keX0t4/gapAEH6F3z8Npxrhc+nfP5kKPWR+/d8/TPv4aGvB3z8Ypulh0TXfPzKOLewNXN4/MPLWY0I23T+TACSOTsfbP95F22bJEto/7fjSIvgc2D/83yZ+w+rVP/g75XCrgdM/0sf8aLnn0D+VvdRX4kbMP736BQyBd8Y/6EFs4NtvwD/RGPZeGX60P0bBtlWjpJ8/d8jZx13+kr8WFOxvc1yxvxmKK+XUzb2/gnauOkn6xL9KIarYHtnKv0fwStNbOtC/nfDXMITf0r/okiCraFXVvw8S18bflde/g/7S1UWb2b8Ka5IWi2Dbv9MfRmFA4dy/0geqQqIZ3r8nU9poogbfv9Gvikrvpd+/tAB19fn137+1AHX1+fXfv9Kvikrvpd+/KVPaaKIG37/UB6pCohnev9YfRmFA4dy/DWuSFotg27+H/tLVRZvZvxQS18bflde/7ZIgq2hV1b+W8NcwhN/Sv03wStNbOtC/ViGq2B7Zyr+Pdq46SfrEv/SJK+XUzb2/EBTsb3Ncsb9hydnHXf6Sv9zBtlWjpJ8/txj2Xhl+tD/bQWzg22/AP7D6BQyBd8Y/mL3UV+JGzD/Ux/xouefQP/k75XCrgdM/998mfsPq1T/o+NIi+BzYP9pF22bJEto/kAAkjk7H2z8t8tZjQjbdPzCOLewNXN4/GKbpYdE13z9N+/hoa8HfP5kKPWR+/d8/Daca4XPp3z+CqkAQfoXfP+cl9keX0t4/WtoqkX/S3T+lDmxFuIfcP1bDt8h99do/3Ljkbr8f2T9v0uqgFQvXP0SluVq2vNQ/SHhvHmg60j+Qgz775hTPP7c9vbkmZ8k/k/EIMsh5wz+3SzjhRre6P0NkHKAqcKw/0XcgSnpUeT/8z9v9+SKmvwpoqIqJnLe/ZQXmLDr2wb93GQTvM/HHv0s97Os3sM2/KdCnFnGS0b8kUCh4xCDUv53ql26vfNa/tHd7i0mg2L/EMWtpN4bav+wzjRa4Kdy/nW9C/LCG3b//mTUmuJnev8TuDs8cYN+/gnhjHe7X378AAAAAAADgvw==",
          "dtype": "f8"
         },
         "y": {
          "bdata": "B1wUMyamkTxvkOkTEUqpvzfNIFxmKrm/91J2Bl+4wr9MvkMEqazIv/izmsYnY86//ITiVsbm0b8r6uDXI2/Uv8TEw6dUxNa/61z1MIHg2L84y0yoYL7av8wO8khGWdy/d/CDCS2t3b8+vi2twbbevwbodhdrc9+/R6fxzVDh379uN32XX//fv35OiC1Mzd+/dK2V+JNL378bqirWe3vev0E9OusMX92/8xYCiw/527/yQh4/BE3av5z2RgIbX9i/SXuvwyg01r/4gElNm9HTv6q3OqtrPdG/5ncibR78zL8EmVnRzjTHv/aqvD9hM8G/hRqWAcANtr+K2nH5BPuiv0XwAlH7U4k/SG3jECeVrz9fUQmPG0O8P+nUkhxuOsQ/cFvFwaUgyj/PldaTbsXPP12X2iZTjdI/hrL+9ngJ1T9hL7WU71DXP5oGPssBXtk/HdYgoowr2z8k9lc6DLXcPzsXCh2n9t0/LfWA3zft3j9GbzgEVZbfP7mRSgVX8N8/LsEXeVz63z+YwspGTLTfPxneMuXVHt8/e7VWo2873j8hSgz/UgzdP5jOwRJ3lNs/ngdrKInX2T92OCyE49nXP0460n2CoNU/gEFkBPgw0z9KWhSrXZHQP2Gz+8SKkMs/z3jnCFK5xT8KSU9uY1e/PyU7fUml7bI/Tal3e/9RmT/jqHd7/1GZvws7fUml7bK/8UhPbmNXv7/CeOcIUrnFv1Wz+8SKkMu/RFoUq12R0L97QWQE+DDTv0o60n2CoNW/cjgshOPZ17+kB2soidfZv5XOwRJ3lNu/HkoM/1IM3b94tVajbzvevxveMuXVHt+/mMLKRky0378uwRd5XPrfv7iRSgVX8N+/R284BFWW378u9YDfN+3evz0XCh2n9t2/I/ZXOgy13L8c1iCijCvbv5kGPssBXtm/Zi+1lO9Q17+Lsv72eAnVv2OX2iZTjdK/25XWk27Fz798W8XBpSDKv/XUkhxuOsS/WlEJjxtDvL89beMQJ5WvvxnxAlH7U4m/Vdpx+QT7oj9rGpYBwA22P+mqvD9hM8E/+JhZ0c40xz/odyJtHvzMP6u3OqtrPdE/8oBJTZvR0z9Fe6/DKDTWP5j2RgIbX9g/7kIePwRN2j/wFgKLD/nbP0I9OusMX90/G6oq1nt73j90rZX4k0vfP35OiC1Mzd8/bjd9l1//3z9Ip/HNUOHfPwfodhdrc98/QL4trcG23j928IMJLa3dP8sO8khGWdw/QMtMqGC+2j/vXPUwgeDYP8nEw6dUxNY/MOrg1yNv1D/+hOJWxubRP/yzmsYnY84/Sb5DBKmsyD/0UnYGX7jCP2HNIFxmKrk/xJDpExFKqT8Jc9m/rw+2PA==",
          "dtype": "f8"
         },
         "z": {
          "bdata": "AAAAAAAAAACr1Wq1Wq0WQKvVarVarSZAQCAQCAQCMUCr1Wq1Wq02QBaLxWKxWDxAQCAQCAQCQUD2er1er9dDQKvVarVarUZAYDAYDAaDSUAWi8VisVhMQMvlcrlcLk9AQCAQCAQCUUCbzWaz2WxSQPZ6vV6v11NAUCgUCoVCVUCr1Wq1Wq1WQAaDwWAwGFhAYDAYDAaDWUC73W632+1aQBaLxWKxWFxAcDgcDofDXUDL5XK5XC5fQJPJZDKZTGBAQCAQCAQCYUDudrvdbrdhQJvNZrPZbGJASCQSiUQiY0D2er1er9djQKPRaDQajWRAUCgUCoVCZUD+fr/f7/dlQKvVarVarWZAWCwWi8ViZ0AGg8FgMBhoQLPZbDabzWhAYDAYDAaDaUAOh8PhcDhqQLvdbrfb7WpAaDQajUaja0AWi8VisVhsQMPhcDgcDm1AcDgcDofDbUAej8fj8XhuQMvlcrlcLm9AeDwej8fjb0CTyWQymUxwQOp0Op1Op3BAQCAQCAQCcUCXy+VyuVxxQO52u91ut3FARCKRSCQSckCbzWaz2WxyQPJ4PB6Px3JASCQSiUQic0Cfz+fz+XxzQPZ6vV6v13NATCaTyWQydECj0Wg0Go10QPp8Pp/P53RAUCgUCoVCdUCn0+l0Op11QP5+v9/v93VAVCqVSqVSdkCr1Wq1Wq12QAKBQCAQCHdAWCwWi8Vid0Cv1+v1er13QAaDwWAwGHhAXC6Xy+VyeECz2Ww2m814QAqFQqFQKHlAYDAYDAaDeUC32+12u915QA6Hw+FwOHpAZDKZTCaTekC73W632+16QBKJRCKRSHtAaDQajUaje0C/3+/3+/17QBaLxWKxWHxAbDabzWazfEDD4XA4HA59QBqNRqPRaH1AcDgcDofDfUDH4/F4PB5+QB6Px+PxeH5AdDqdTqfTfkDL5XK5XC5/QCKRSCQSiX9AeDwej8fjf0Do8/l8Ph+AQJPJZDKZTIBAPp/P5/N5gEDqdDqdTqeAQJVKpVKp1IBAQCAQCAQCgUDs9Xq9Xi+BQJfL5XK5XIFAQqFQKBSKgUDudrvdbreBQJlMJpPJ5IFARCKRSCQSgkDw9/v9fj+CQJvNZrPZbIJARqPRaDSagkDyeDwej8eCQJ1Op9Pp9IJASCQSiUQig0D0+Xw+n0+DQJ/P5/P5fINASqVSqVSqg0D2er1er9eDQKFQKBQKBYRATCaTyWQyhED4+/1+v1+EQKPRaDQajYRATqfT6XS6hED6fD6fz+eEQKVSqVQqFYVAUCgUCoVChUD8/X6/32+FQKfT6XQ6nYVAUqlUKpXKhUD+fr/f7/eFQKlUKpVKJYZAVCqVSqVShkAAAAAAAICGQA==",
          "dtype": "f8"
         }
        },
        {
         "line": {
          "color": "gray",
          "width": 6
         },
         "mode": "lines",
         "showlegend": false,
         "type": "scatter3d",
         "x": [
          0.5,
          -0.5
         ],
         "y": [
          0,
          6.123233995736766e-17
         ],
         "z": [
          0,
          0
         ]
        },
        {
         "line": {
          "color": "gray",
          "width": 6
         },
         "mode": "lines",
         "showlegend": false,
         "type": "scatter3d",
         "x": [
          0.4975543295858033,
          -0.4975543295858033
         ],
         "y": [
          0.04939320915289707,
          -0.049393209152896904
         ],
         "z": [
          5.669291338582677,
          5.669291338582677
         ]
        },
        {
         "line": {
          "color": "gray",
          "width": 6
         },
         "mode": "lines",
         "showlegend": false,
         "type": "scatter3d",
         "x": [
          0.49024124355831267,
          -0.49024124355831267
         ],
         "y": [
          0.09830322026464426,
          -0.0983032202646442
         ],
         "z": [
          11.338582677165354,
          11.338582677165354
         ]
        },
        {
         "line": {
          "color": "gray",
          "width": 6
         },
         "mode": "lines",
         "showlegend": false,
         "type": "scatter3d",
         "x": [
          0.47813228351006376,
          -0.4781322835100638
         ],
         "y": [
          0.14625156226670544,
          -0.1462515622667053
         ],
         "z": [
          17.00787401574803,
          17.00787401574803
         ]
        },
        {
         "line": {
          "color": "gray",
          "width": 6
         },
         "mode": "lines",
         "showlegend": false,
         "type": "scatter3d",
         "x": [
          0.46134590754240334,
          -0.46134590754240334
         ],
         "y": [
          0.1927691717933037,
          -0.19276917179330366
         ],
         "z": [
          22.677165354330707,
          22.677165354330707
         ]
        },
        {
         "line": {
          "color": "gray",
          "width": 6
         },
         "mode": "lines",
         "showlegend": false,
         "type": "scatter3d",
         "x": [
          0.4400463314275942,
          -0.44004633142759425
         ],
         "y": [
          0.2374009818790056,
          -0.2374009818790055
         ],
         "z": [
          28.346456692913385,
          28.346456692913385
         ]
        },
        {
         "line": {
          "color": "gray",
          "width": 6
         },
         "mode": "lines",
         "showlegend": false,
         "type": "scatter3d",
         "x": [
          0.4144419221381919,
          -0.4144419221381919
         ],
         "y": [
          0.27971037373397656,
          -0.27971037373397656
         ],
         "z": [
          34.01574803149606,
          34.01574803149606
         ]
        },
        {
         "line": {
          "color": "gray",
          "width": 6
         },
         "mode": "lines",
         "showlegend": false,
         "type": "scatter3d",
         "x": [
          0.38478315945928493,
          -0.384783159459285
         ],
         "y": [
          0.3192834480466072,
          -0.3192834480466071
         ],
         "z": [
          39.68503937007874,
          39.68503937007874
         ]
        },
        {
         "line": {
          "color": "gray",
          "width": 6
         },
         "mode": "lines",
         "showlegend": false,
         "type": "scatter3d",
         "x": [
          0.35136018562449506,
          -0.35136018562449506
         ],
         "y": [
          0.35573307402871657,
          -0.35573307402871657
         ],
         "z": [
          45.354330708661415,
          45.354330708661415
         ]
        },
        {
         "line": {
          "color": "gray",
          "width": 6
         },
         "mode": "lines",
         "showlegend": false,
         "type": "scatter3d",
         "x": [
          0.31449996694687127,
          -0.31449996694687116
         ],
         "y": [
          0.3887026765928129,
          -0.38870267659281293
         ],
         "z": [
          51.02362204724409,
          51.02362204724409
         ]
        },
        {
         "line": {
          "color": "gray",
          "width": 6
         },
         "mode": "lines",
         "showlegend": false,
         "type": "scatter3d",
         "x": [
          0.2745630952115362,
          -0.2745630952115364
         ],
         "y": [
          0.4178697246126607,
          -0.4178697246126606
         ],
         "z": [
          56.69291338582677,
          56.69291338582677
         ]
        },
        {
         "line": {
          "color": "gray",
          "width": 6
         },
         "mode": "lines",
         "showlegend": false,
         "type": "scatter3d",
         "x": [
          0.23194026012104468,
          -0.23194026012104474
         ],
         "y": [
          0.4429488861426137,
          -0.44294888614261363
         ],
         "z": [
          62.362204724409445,
          62.362204724409445
         ]
        },
        {
         "line": {
          "color": "gray",
          "width": 6
         },
         "mode": "lines",
         "showlegend": false,
         "type": "scatter3d",
         "x": [
          0.18704842730239662,
          -0.18704842730239657
         ],
         "y": [
          0.4636948197292051,
          -0.4636948197292052
         ],
         "z": [
          68.03149606299212,
          68.03149606299212
         ]
        },
        {
         "line": {
          "color": "gray",
          "width": 6
         },
         "mode": "lines",
         "showlegend": false,
         "type": "scatter3d",
         "x": [
          0.14032675926504656,
          -0.1403267592650468
         ],
         "y": [
          0.4799045745084846,
          -0.47990457450848456
         ],
         "z": [
          73.7007874015748,
          73.7007874015748
         ]
        },
        {
         "line": {
          "color": "gray",
          "width": 6
         },
         "mode": "lines",
         "showlegend": false,
         "type": "scatter3d",
         "x": [
          0.09223231921387798,
          -0.09223231921387814
         ],
         "y": [
          0.4914195756097119,
          -0.49141957560971183
         ],
         "z": [
          79.37007874015748,
          79.37007874015748
         ]
        },
        {
         "line": {
          "color": "gray",
          "width": 6
         },
         "mode": "lines",
         "showlegend": false,
         "type": "scatter3d",
         "x": [
          0.04323559974537289,
          -0.04323559974537295
         ],
         "y": [
          0.49812717544283597,
          -0.49812717544283597
         ],
         "z": [
          85.03937007874015,
          85.03937007874015
         ]
        },
        {
         "line": {
          "color": "gray",
          "width": 6
         },
         "mode": "lines",
         "showlegend": false,
         "type": "scatter3d",
         "x": [
          -0.006184079831681441,
          0.0061840798316814905
         ],
         "y": [
          0.49996175569400847,
          -0.49996175569400847
         ],
         "z": [
          90.70866141732283,
          90.70866141732283
         ]
        },
        {
         "line": {
          "color": "gray",
          "width": 6
         },
         "mode": "lines",
         "showlegend": false,
         "type": "scatter3d",
         "x": [
          -0.055543262524402275,
          0.055543262524402434
         ],
         "y": [
          0.4969053692486582,
          -0.49690536924865814
         ],
         "z": [
          96.37795275590551,
          96.37795275590551
         ]
        },
        {
         "line": {
          "color": "gray",
          "width": 6
         },
         "mode": "lines",
         "showlegend": false,
         "type": "scatter3d",
         "x": [
          -0.10435908316166755,
          0.10435908316166737
         ],
         "y": [
          0.48898791576240014,
          -0.4889879157624002
         ],
         "z": [
          102.04724409448818,
          102.04724409448818
         ]
        },
        {
         "line": {
          "color": "gray",
          "width": 6
         },
         "mode": "lines",
         "showlegend": false,
         "type": "scatter3d",
         "x": [
          -0.15215399211036806,
          0.152153992110368
         ],
         "y": [
          0.47628684916222286,
          -0.4762868491622229
         ],
         "z": [
          107.71653543307086,
          107.71653543307086
         ]
        },
        {
         "line": {
          "color": "gray",
          "width": 6
         },
         "mode": "lines",
         "showlegend": false,
         "type": "scatter3d",
         "x": [
          -0.19846042699144362,
          0.19846042699144364
         ],
         "y": [
          0.4589264199393775,
          -0.4589264199393775
         ],
         "z": [
          113.38582677165354,
          113.38582677165354
         ]
        },
        {
         "line": {
          "color": "gray",
          "width": 6
         },
         "mode": "lines",
         "showlegend": false,
         "type": "scatter3d",
         "x": [
          -0.24282538669379186,
          0.2428253866937916
         ],
         "y": [
          0.43707645964637637,
          -0.4370764596463765
         ],
         "z": [
          119.05511811023621,
          119.05511811023621
         ]
        },
        {
         "line": {
          "color": "gray",
          "width": 6
         },
         "mode": "lines",
         "showlegend": false,
         "type": "scatter3d",
         "x": [
          -0.28481486293992847,
          0.28481486293992847
         ],
         "y": [
          0.41095071948897927,
          -0.4109507194889793
         ],
         "z": [
          124.72440944881889,
          124.72440944881889
         ]
        },
        {
         "line": {
          "color": "gray",
          "width": 6
         },
         "mode": "lines",
         "showlegend": false,
         "type": "scatter3d",
         "x": [
          -0.3240180860508026,
          0.32401808605080257
         ],
         "y": [
          0.38080477926619394,
          -0.38080477926619394
         ],
         "z": [
          130.39370078740157,
          130.39370078740157
         ]
        },
        {
         "line": {
          "color": "gray",
          "width": 6
         },
         "mode": "lines",
         "showlegend": false,
         "type": "scatter3d",
         "x": [
          -0.36005154337480016,
          0.36005154337480033
         ],
         "y": [
          0.3469335471144645,
          -0.3469335471144644
         ],
         "z": [
          136.06299212598424,
          136.06299212598424
         ]
        },
        {
         "line": {
          "color": "gray",
          "width": 6
         },
         "mode": "lines",
         "showlegend": false,
         "type": "scatter3d",
         "x": [
          -0.39256273106992745,
          0.39256273106992756
         ],
         "y": [
          0.3096683745152543,
          -0.3096683745152542
         ],
         "z": [
          141.73228346456693,
          141.73228346456693
         ]
        },
        {
         "line": {
          "color": "gray",
          "width": 6
         },
         "mode": "lines",
         "showlegend": false,
         "type": "scatter3d",
         "x": [
          -0.4212336025366787,
          0.42123360253667863
         ],
         "y": [
          0.26937381478898687,
          -0.2693738147889869
         ],
         "z": [
          147.4015748031496,
          147.4015748031496
         ]
        },
        {
         "line": {
          "color": "gray",
          "width": 6
         },
         "mode": "lines",
         "showlegend": false,
         "type": "scatter3d",
         "x": [
          -0.4457836797666722,
          0.44578367976667216
         ],
         "y": [
          0.22644405678596435,
          -0.2264440567859644
         ],
         "z": [
          153.07086614173227,
          153.07086614173227
         ]
        },
        {
         "line": {
          "color": "gray",
          "width": 6
         },
         "mode": "lines",
         "showlegend": false,
         "type": "scatter3d",
         "x": [
          -0.46597279716971723,
          0.4659727971697172
         ],
         "y": [
          0.18129906866233356,
          -0.1812990686623338
         ],
         "z": [
          158.74015748031496,
          158.74015748031496
         ]
        },
        {
         "line": {
          "color": "gray",
          "width": 6
         },
         "mode": "lines",
         "showlegend": false,
         "type": "scatter3d",
         "x": [
          -0.48160345103732854,
          0.4816034510373285
         ],
         "y": [
          0.134380489465307,
          -0.13438048946530728
         ],
         "z": [
          164.40944881889763,
          164.40944881889763
         ]
        },
        {
         "line": {
          "color": "gray",
          "width": 6
         },
         "mode": "lines",
         "showlegend": false,
         "type": "scatter3d",
         "x": [
          -0.49252273165863164,
          0.49252273165863164
         ],
         "y": [
          0.08614730871895838,
          -0.08614730871895844
         ],
         "z": [
          170.0787401574803,
          170.0787401574803
         ]
        },
        {
         "line": {
          "color": "gray",
          "width": 6
         },
         "mode": "lines",
         "showlegend": false,
         "type": "scatter3d",
         "x": [
          -0.49862381918738735,
          0.49862381918738735
         ],
         "y": [
          0.03707137627582303,
          -0.03707137627582309
         ],
         "z": [
          175.748031496063,
          175.748031496063
         ]
        },
        {
         "line": {
          "color": "gray",
          "width": 6
         },
         "mode": "lines",
         "showlegend": false,
         "type": "scatter3d",
         "x": [
          -0.49984702862654157,
          0.49984702862654157
         ],
         "y": [
          -0.012367213639997446,
          0.012367213639997607
         ],
         "z": [
          181.41732283464566,
          181.41732283464566
         ]
        },
        {
         "line": {
          "color": "gray",
          "width": 6
         },
         "mode": "lines",
         "showlegend": false,
         "type": "scatter3d",
         "x": [
          -0.4961803937075515,
          0.4961803937075515
         ],
         "y": [
          -0.06168481904179635,
          0.06168481904179629
         ],
         "z": [
          187.08661417322833,
          187.08661417322833
         ]
        },
        {
         "line": {
          "color": "gray",
          "width": 6
         },
         "mode": "lines",
         "showlegend": false,
         "type": "scatter3d",
         "x": [
          -0.4876597839525813,
          0.48765978395258136
         ],
         "y": [
          -0.11039898149585307,
          0.11039898149585302
         ],
         "z": [
          192.75590551181102,
          192.75590551181102
         ]
        },
        {
         "line": {
          "color": "gray",
          "width": 6
         },
         "mode": "lines",
         "showlegend": false,
         "type": "scatter3d",
         "x": [
          -0.4743685537743856,
          0.4743685537743857
         ],
         "y": [
          -0.15803314585870215,
          0.1580331458587019
         ],
         "z": [
          198.4251968503937,
          198.4251968503937
         ]
        },
        {
         "line": {
          "color": "gray",
          "width": 6
         },
         "mode": "lines",
         "showlegend": false,
         "type": "scatter3d",
         "x": [
          -0.45643672704662464,
          0.45643672704662475
         ],
         "y": [
          -0.2041213222643952,
          0.20412132226439494
         ],
         "z": [
          204.09448818897636,
          204.09448818897636
         ]
        },
        {
         "line": {
          "color": "gray",
          "width": 6
         },
         "mode": "lines",
         "showlegend": false,
         "type": "scatter3d",
         "x": [
          -0.4340397251217009,
          0.4340397251217009
         ],
         "y": [
          -0.24821264475501306,
          0.248212644755013
         ],
         "z": [
          209.76377952755905,
          209.76377952755905
         ]
        },
        {
         "line": {
          "color": "gray",
          "width": 6
         },
         "mode": "lines",
         "showlegend": false,
         "type": "scatter3d",
         "x": [
          -0.4073966507395122,
          0.40739665073951226
         ],
         "y": [
          -0.2898757819588037,
          0.28987578195880365
         ],
         "z": [
          215.43307086614172,
          215.43307086614172
         ]
        },
        {
         "line": {
          "color": "gray",
          "width": 6
         },
         "mode": "lines",
         "showlegend": false,
         "type": "scatter3d",
         "x": [
          -0.37676814461509783,
          0.3767681446150977
         ],
         "y": [
          -0.328703156667679,
          0.32870315666767913
         ],
         "z": [
          221.1023622047244,
          221.1023622047244
         ]
        },
        {
         "line": {
          "color": "gray",
          "width": 6
         },
         "mode": "lines",
         "showlegend": false,
         "type": "scatter3d",
         "x": [
          -0.3424538356734955,
          0.3424538356734954
         ],
         "y": [
          -0.36431493303529366,
          0.3643149330352938
         ],
         "z": [
          226.77165354330708,
          226.77165354330708
         ]
        },
        {
         "line": {
          "color": "gray",
          "width": 6
         },
         "mode": "lines",
         "showlegend": false,
         "type": "scatter3d",
         "x": [
          -0.304789409875354,
          0.3047894098753541
         ],
         "y": [
          -0.3963627323902103,
          0.39636273239021025
         ],
         "z": [
          232.44094488188975,
          232.44094488188975
         ]
        },
        {
         "line": {
          "color": "gray",
          "width": 6
         },
         "mode": "lines",
         "showlegend": false,
         "type": "scatter3d",
         "x": [
          -0.2641433263080418,
          0.2641433263080418
         ],
         "y": [
          -0.4245330413135394,
          0.42453304131353936
         ],
         "z": [
          238.11023622047242,
          238.11023622047242
         ]
        },
        {
         "line": {
          "color": "gray",
          "width": 6
         },
         "mode": "lines",
         "showlegend": false,
         "type": "scatter3d",
         "x": [
          -0.22091321266769323,
          0.2209132126676933
         ],
         "y": [
          -0.4485502786409106,
          0.44855027864091057
         ],
         "z": [
          243.7795275590551,
          243.7795275590551
         ]
        },
        {
         "line": {
          "color": "gray",
          "width": 6
         },
         "mode": "lines",
         "showlegend": false,
         "type": "scatter3d",
         "x": [
          -0.175521975394039,
          0.17552197539403905
         ],
         "y": [
          -0.46817949138527454,
          0.46817949138527454
         ],
         "z": [
          249.44881889763778,
          249.44881889763778
         ]
        },
        {
         "line": {
          "color": "gray",
          "width": 6
         },
         "mode": "lines",
         "showlegend": false,
         "type": "scatter3d",
         "x": [
          -0.12841366251133407,
          0.12841366251133413
         ],
         "y": [
          -0.48322865320718017,
          0.48322865320718017
         ],
         "z": [
          255.11811023622045,
          255.11811023622045
         ]
        },
        {
         "line": {
          "color": "gray",
          "width": 6
         },
         "mode": "lines",
         "showlegend": false,
         "type": "scatter3d",
         "x": [
          -0.0800491196478987,
          0.08004911964789875
         ],
         "y": [
          -0.49355054294732204,
          0.49355054294732204
         ],
         "z": [
          260.78740157480314,
          260.78740157480314
         ]
        },
        {
         "line": {
          "color": "gray",
          "width": 6
         },
         "mode": "lines",
         "showlegend": false,
         "type": "scatter3d",
         "x": [
          -0.030901481730041883,
          0.030901481730041945
         ],
         "y": [
          -0.499044184844276,
          0.499044184844276
         ],
         "z": [
          266.45669291338584,
          266.45669291338584
         ]
        },
        {
         "line": {
          "color": "gray",
          "width": 6
         },
         "mode": "lines",
         "showlegend": false,
         "type": "scatter3d",
         "x": [
          0.018548455546302498,
          -0.018548455546302436
         ],
         "y": [
          -0.49965583634822763,
          0.49965583634822763
         ],
         "z": [
          272.1259842519685,
          272.1259842519685
         ]
        },
        {
         "line": {
          "color": "gray",
          "width": 6
         },
         "mode": "lines",
         "showlegend": false,
         "type": "scatter3d",
         "x": [
          0.06781693918681278,
          -0.06781693918681272
         ],
         "y": [
          -0.495379513867229,
          0.495379513867229
         ],
         "z": [
          277.79527559055117,
          277.79527559055117
         ]
        },
        {
         "line": {
          "color": "gray",
          "width": 6
         },
         "mode": "lines",
         "showlegend": false,
         "type": "scatter3d",
         "x": [
          0.1164219913003208,
          -0.11642199130032117
         ],
         "y": [
          -0.4862570513027734,
          0.48625705130277336
         ],
         "z": [
          283.46456692913387,
          283.46456692913387
         ]
        },
        {
         "line": {
          "color": "gray",
          "width": 6
         },
         "mode": "lines",
         "showlegend": false,
         "type": "scatter3d",
         "x": [
          0.16388812413508813,
          -0.16388812413508808
         ],
         "y": [
          -0.47237769080205505,
          0.4723776908020551
         ],
         "z": [
          289.1338582677165,
          289.1338582677165
         ]
        },
        {
         "line": {
          "color": "gray",
          "width": 6
         },
         "mode": "lines",
         "showlegend": false,
         "type": "scatter3d",
         "x": [
          0.20975099162411437,
          -0.2097509916241143
         ],
         "y": [
          -0.453877209730452,
          0.45387720973045204
         ],
         "z": [
          294.8031496062992,
          294.8031496062992
         ]
        },
        {
         "line": {
          "color": "gray",
          "width": 6
         },
         "mode": "lines",
         "showlegend": false,
         "type": "scatter3d",
         "x": [
          0.2535619319348865,
          -0.25356193193488646
         ],
         "y": [
          -0.4309365924047852,
          0.4309365924047852
         ],
         "z": [
          300.4724409448819,
          300.4724409448819
         ]
        },
        {
         "line": {
          "color": "gray",
          "width": 6
         },
         "mode": "lines",
         "showlegend": false,
         "type": "scatter3d",
         "x": [
          0.2948923565852598,
          -0.29489235658525975
         ],
         "y": [
          -0.4037802595813619,
          0.4037802595813619
         ],
         "z": [
          306.14173228346453,
          306.14173228346453
         ]
        },
        {
         "line": {
          "color": "gray",
          "width": 6
         },
         "mode": "lines",
         "showlegend": false,
         "type": "scatter3d",
         "x": [
          0.3333379431881395,
          -0.3333379431881398
         ],
         "y": [
          -0.3726738730191596,
          0.37267387301915933
         ],
         "z": [
          311.81102362204723,
          311.81102362204723
         ]
        },
        {
         "line": {
          "color": "gray",
          "width": 6
         },
         "mode": "lines",
         "showlegend": false,
         "type": "scatter3d",
         "x": [
          0.3685225908086818,
          -0.3685225908086815
         ],
         "y": [
          -0.3379217365954088,
          0.33792173659540914
         ],
         "z": [
          317.4803149606299,
          317.4803149606299
         ]
        },
        {
         "line": {
          "color": "gray",
          "width": 6
         },
         "mode": "lines",
         "showlegend": false,
         "type": "scatter3d",
         "x": [
          0.4001020992400085,
          -0.4001020992400088
         ],
         "y": [
          -0.2998638193976365,
          0.2998638193976362
         ],
         "z": [
          323.14960629921256,
          323.14960629921256
         ]
        },
        {
         "line": {
          "color": "gray",
          "width": 6
         },
         "mode": "lines",
         "showlegend": false,
         "type": "scatter3d",
         "x": [
          0.42776753620425806,
          -0.4277675362042578
         ],
         "y": [
          -0.2588724299143089,
          0.25887242991430937
         ],
         "z": [
          328.81889763779526,
          328.81889763779526
         ]
        },
        {
         "line": {
          "color": "gray",
          "width": 6
         },
         "mode": "lines",
         "showlegend": false,
         "type": "scatter3d",
         "x": [
          0.45124825953871306,
          -0.451248259538713
         ],
         "y": [
          -0.21534857385941117,
          0.21534857385941122
         ],
         "z": [
          334.48818897637796,
          334.48818897637796
         ]
        },
        {
         "line": {
          "color": "gray",
          "width": 6
         },
         "mode": "lines",
         "showlegend": false,
         "type": "scatter3d",
         "x": [
          0.4703145648019219,
          -0.4703145648019219
         ],
         "y": [
          -0.16971803126120336,
          0.1697180312612034
         ],
         "z": [
          340.1574803149606,
          340.1574803149606
         ]
        },
        {
         "line": {
          "color": "gray",
          "width": 6
         },
         "mode": "lines",
         "showlegend": false,
         "type": "scatter3d",
         "x": [
          0.4847799323991233,
          -0.48477993239912326
         ],
         "y": [
          -0.12242719119175058,
          0.12242719119175063
         ],
         "z": [
          345.8267716535433,
          345.8267716535433
         ]
        },
        {
         "line": {
          "color": "gray",
          "width": 6
         },
         "mode": "lines",
         "showlegend": false,
         "type": "scatter3d",
         "x": [
          0.49450285224406537,
          -0.49450285224406537
         ],
         "y": [
          -0.07393868488473433,
          0.07393868488473439
         ],
         "z": [
          351.496062992126,
          351.496062992126
         ]
        },
        {
         "line": {
          "color": "gray",
          "width": 6
         },
         "mode": "lines",
         "showlegend": false,
         "type": "scatter3d",
         "x": [
          0.49938820810713064,
          -0.4993882081071306
         ],
         "y": [
          -0.02472685996136968,
          0.024726859961370185
         ],
         "z": [
          357.1653543307086,
          357.1653543307086
         ]
        },
        {
         "line": {
          "color": "gray",
          "width": 6
         },
         "mode": "lines",
         "showlegend": false,
         "type": "scatter3d",
         "x": [
          0.49938820810713064,
          -0.49938820810713064
         ],
         "y": [
          0.024726859961369436,
          -0.024726859961369817
         ],
         "z": [
          362.8346456692913,
          362.8346456692913
         ]
        },
        {
         "line": {
          "color": "gray",
          "width": 6
         },
         "mode": "lines",
         "showlegend": false,
         "type": "scatter3d",
         "x": [
          0.49450285224406537,
          -0.4945028522440654
         ],
         "y": [
          0.07393868488473453,
          -0.07393868488473403
         ],
         "z": [
          368.503937007874,
          368.503937007874
         ]
        },
        {
         "line": {
          "color": "gray",
          "width": 6
         },
         "mode": "lines",
         "showlegend": false,
         "type": "scatter3d",
         "x": [
          0.48477993239912337,
          -0.48477993239912337
         ],
         "y": [
          0.12242719119175034,
          -0.12242719119175029
         ],
         "z": [
          374.17322834645665,
          374.17322834645665
         ]
        },
        {
         "line": {
          "color": "gray",
          "width": 6
         },
         "mode": "lines",
         "showlegend": false,
         "type": "scatter3d",
         "x": [
          0.470314564801922,
          -0.470314564801922
         ],
         "y": [
          0.1697180312612031,
          -0.16971803126120305
         ],
         "z": [
          379.84251968503935,
          379.84251968503935
         ]
        },
        {
         "line": {
          "color": "gray",
          "width": 6
         },
         "mode": "lines",
         "showlegend": false,
         "type": "scatter3d",
         "x": [
          0.45124825953871317,
          -0.45124825953871317
         ],
         "y": [
          0.21534857385941095,
          -0.2153485738594109
         ],
         "z": [
          385.51181102362204,
          385.51181102362204
         ]
        },
        {
         "line": {
          "color": "gray",
          "width": 6
         },
         "mode": "lines",
         "showlegend": false,
         "type": "scatter3d",
         "x": [
          0.42776753620425795,
          -0.42776753620425795
         ],
         "y": [
          0.2588724299143091,
          -0.25887242991430903
         ],
         "z": [
          391.1811023622047,
          391.1811023622047
         ]
        },
        {
         "line": {
          "color": "gray",
          "width": 6
         },
         "mode": "lines",
         "showlegend": false,
         "type": "scatter3d",
         "x": [
          0.40010209924000867,
          -0.400102099240009
         ],
         "y": [
          0.2998638193976363,
          -0.2998638193976359
         ],
         "z": [
          396.8503937007874,
          396.8503937007874
         ]
        },
        {
         "line": {
          "color": "gray",
          "width": 6
         },
         "mode": "lines",
         "showlegend": false,
         "type": "scatter3d",
         "x": [
          0.368522590808682,
          -0.36852259080868177
         ],
         "y": [
          0.3379217365954086,
          -0.3379217365954089
         ],
         "z": [
          402.5196850393701,
          402.5196850393701
         ]
        },
        {
         "line": {
          "color": "gray",
          "width": 6
         },
         "mode": "lines",
         "showlegend": false,
         "type": "scatter3d",
         "x": [
          0.3333379431881397,
          -0.3333379431881401
         ],
         "y": [
          0.37267387301915944,
          -0.3726738730191591
         ],
         "z": [
          408.1889763779527,
          408.1889763779527
         ]
        },
        {
         "line": {
          "color": "gray",
          "width": 6
         },
         "mode": "lines",
         "showlegend": false,
         "type": "scatter3d",
         "x": [
          0.29489235658525964,
          -0.29489235658525936
         ],
         "y": [
          0.403780259581362,
          -0.4037802595813622
         ],
         "z": [
          413.8582677165354,
          413.8582677165354
         ]
        },
        {
         "line": {
          "color": "gray",
          "width": 6
         },
         "mode": "lines",
         "showlegend": false,
         "type": "scatter3d",
         "x": [
          0.25356193193488674,
          -0.2535619319348868
         ],
         "y": [
          0.43093659240478505,
          -0.43093659240478505
         ],
         "z": [
          419.5275590551181,
          419.5275590551181
         ]
        },
        {
         "line": {
          "color": "gray",
          "width": 6
         },
         "mode": "lines",
         "showlegend": false,
         "type": "scatter3d",
         "x": [
          0.2097509916241146,
          -0.20975099162411465
         ],
         "y": [
          0.45387720973045187,
          -0.45387720973045187
         ],
         "z": [
          425.19685039370074,
          425.19685039370074
         ]
        },
        {
         "line": {
          "color": "gray",
          "width": 6
         },
         "mode": "lines",
         "showlegend": false,
         "type": "scatter3d",
         "x": [
          0.16388812413508838,
          -0.16388812413508844
         ],
         "y": [
          0.472377690802055,
          -0.47237769080205494
         ],
         "z": [
          430.86614173228344,
          430.86614173228344
         ]
        },
        {
         "line": {
          "color": "gray",
          "width": 6
         },
         "mode": "lines",
         "showlegend": false,
         "type": "scatter3d",
         "x": [
          0.1164219913003206,
          -0.11642199130032066
         ],
         "y": [
          0.48625705130277347,
          -0.48625705130277347
         ],
         "z": [
          436.53543307086613,
          436.53543307086613
         ]
        },
        {
         "line": {
          "color": "gray",
          "width": 6
         },
         "mode": "lines",
         "showlegend": false,
         "type": "scatter3d",
         "x": [
          0.06781693918681302,
          -0.06781693918681264
         ],
         "y": [
          0.49537951386722895,
          -0.495379513867229
         ],
         "z": [
          442.2047244094488,
          442.2047244094488
         ]
        },
        {
         "line": {
          "color": "gray",
          "width": 6
         },
         "mode": "lines",
         "showlegend": false,
         "type": "scatter3d",
         "x": [
          0.01854845554630274,
          -0.018548455546303248
         ],
         "y": [
          0.49965583634822763,
          -0.49965583634822763
         ],
         "z": [
          447.87401574803147,
          447.87401574803147
         ]
        },
        {
         "line": {
          "color": "gray",
          "width": 6
         },
         "mode": "lines",
         "showlegend": false,
         "type": "scatter3d",
         "x": [
          -0.03090148173004208,
          0.030901481730042465
         ],
         "y": [
          0.499044184844276,
          -0.49904418484427593
         ],
         "z": [
          453.54330708661416,
          453.54330708661416
         ]
        },
        {
         "line": {
          "color": "gray",
          "width": 6
         },
         "mode": "lines",
         "showlegend": false,
         "type": "scatter3d",
         "x": [
          -0.08004911964789845,
          0.08004911964789839
         ],
         "y": [
          0.4935505429473221,
          -0.4935505429473221
         ],
         "z": [
          459.2125984251968,
          459.2125984251968
         ]
        },
        {
         "line": {
          "color": "gray",
          "width": 6
         },
         "mode": "lines",
         "showlegend": false,
         "type": "scatter3d",
         "x": [
          -0.12841366251133382,
          0.12841366251133376
         ],
         "y": [
          0.4832286532071802,
          -0.4832286532071802
         ],
         "z": [
          464.8818897637795,
          464.8818897637795
         ]
        },
        {
         "line": {
          "color": "gray",
          "width": 6
         },
         "mode": "lines",
         "showlegend": false,
         "type": "scatter3d",
         "x": [
          -0.17552197539403874,
          0.1755219753940387
         ],
         "y": [
          0.46817949138527465,
          -0.46817949138527465
         ],
         "z": [
          470.5511811023622,
          470.5511811023622
         ]
        },
        {
         "line": {
          "color": "gray",
          "width": 6
         },
         "mode": "lines",
         "showlegend": false,
         "type": "scatter3d",
         "x": [
          -0.22091321266769343,
          0.22091321266769337
         ],
         "y": [
          0.4485502786409105,
          -0.4485502786409105
         ],
         "z": [
          476.22047244094483,
          476.22047244094483
         ]
        },
        {
         "line": {
          "color": "gray",
          "width": 6
         },
         "mode": "lines",
         "showlegend": false,
         "type": "scatter3d",
         "x": [
          -0.264143326308042,
          0.26414332630804194
         ],
         "y": [
          0.4245330413135393,
          -0.4245330413135393
         ],
         "z": [
          481.8897637795275,
          481.8897637795275
         ]
        },
        {
         "line": {
          "color": "gray",
          "width": 6
         },
         "mode": "lines",
         "showlegend": false,
         "type": "scatter3d",
         "x": [
          -0.3047894098753542,
          0.30478940987535413
         ],
         "y": [
          0.3963627323902102,
          -0.3963627323902102
         ],
         "z": [
          487.5590551181102,
          487.5590551181102
         ]
        },
        {
         "line": {
          "color": "gray",
          "width": 6
         },
         "mode": "lines",
         "showlegend": false,
         "type": "scatter3d",
         "x": [
          -0.3424538356734952,
          0.34245383567349513
         ],
         "y": [
          0.364314933035294,
          -0.36431493303529405
         ],
         "z": [
          493.22834645669286,
          493.22834645669286
         ]
        },
        {
         "line": {
          "color": "gray",
          "width": 6
         },
         "mode": "lines",
         "showlegend": false,
         "type": "scatter3d",
         "x": [
          -0.3767681446150975,
          0.37676814461509744
         ],
         "y": [
          0.3287031566676794,
          -0.3287031566676794
         ],
         "z": [
          498.89763779527556,
          498.89763779527556
         ]
        },
        {
         "line": {
          "color": "gray",
          "width": 6
         },
         "mode": "lines",
         "showlegend": false,
         "type": "scatter3d",
         "x": [
          -0.4073966507395121,
          0.40739665073951203
         ],
         "y": [
          0.2898757819588039,
          -0.289875781958804
         ],
         "z": [
          504.56692913385825,
          504.56692913385825
         ]
        },
        {
         "line": {
          "color": "gray",
          "width": 6
         },
         "mode": "lines",
         "showlegend": false,
         "type": "scatter3d",
         "x": [
          -0.4340397251217008,
          0.43403972512170075
         ],
         "y": [
          0.24821264475501328,
          -0.24821264475501334
         ],
         "z": [
          510.2362204724409,
          510.2362204724409
         ]
        },
        {
         "line": {
          "color": "gray",
          "width": 6
         },
         "mode": "lines",
         "showlegend": false,
         "type": "scatter3d",
         "x": [
          -0.45643672704662464,
          0.4564367270466246
         ],
         "y": [
          0.20412132226439522,
          -0.20412132226439528
         ],
         "z": [
          515.9055118110236,
          515.9055118110236
         ]
        },
        {
         "line": {
          "color": "gray",
          "width": 6
         },
         "mode": "lines",
         "showlegend": false,
         "type": "scatter3d",
         "x": [
          -0.4743685537743856,
          0.4743685537743856
         ],
         "y": [
          0.15803314585870218,
          -0.15803314585870223
         ],
         "z": [
          521.5748031496063,
          521.5748031496063
         ]
        },
        {
         "line": {
          "color": "gray",
          "width": 6
         },
         "mode": "lines",
         "showlegend": false,
         "type": "scatter3d",
         "x": [
          -0.48765978395258136,
          0.48765978395258136
         ],
         "y": [
          0.11039898149585288,
          -0.11039898149585295
         ],
         "z": [
          527.2440944881889,
          527.2440944881889
         ]
        },
        {
         "line": {
          "color": "gray",
          "width": 6
         },
         "mode": "lines",
         "showlegend": false,
         "type": "scatter3d",
         "x": [
          -0.49618039370755157,
          0.49618039370755157
         ],
         "y": [
          0.06168481904179615,
          -0.061684819041796214
         ],
         "z": [
          532.9133858267717,
          532.9133858267717
         ]
        },
        {
         "line": {
          "color": "gray",
          "width": 6
         },
         "mode": "lines",
         "showlegend": false,
         "type": "scatter3d",
         "x": [
          -0.49984702862654157,
          0.49984702862654157
         ],
         "y": [
          0.012367213639997912,
          -0.012367213639997975
         ],
         "z": [
          538.5826771653543,
          538.5826771653543
         ]
        },
        {
         "line": {
          "color": "gray",
          "width": 6
         },
         "mode": "lines",
         "showlegend": false,
         "type": "scatter3d",
         "x": [
          -0.49862381918738735,
          0.49862381918738735
         ],
         "y": [
          -0.037071376275822784,
          0.03707137627582272
         ],
         "z": [
          544.251968503937,
          544.251968503937
         ]
        },
        {
         "line": {
          "color": "gray",
          "width": 6
         },
         "mode": "lines",
         "showlegend": false,
         "type": "scatter3d",
         "x": [
          -0.4925227316586317,
          0.4925227316586317
         ],
         "y": [
          -0.08614730871895813,
          0.08614730871895808
         ],
         "z": [
          549.9212598425197,
          549.9212598425197
         ]
        },
        {
         "line": {
          "color": "gray",
          "width": 6
         },
         "mode": "lines",
         "showlegend": false,
         "type": "scatter3d",
         "x": [
          -0.48160345103732854,
          0.48160345103732854
         ],
         "y": [
          -0.13438048946530698,
          0.13438048946530692
         ],
         "z": [
          555.5905511811023,
          555.5905511811023
         ]
        },
        {
         "line": {
          "color": "gray",
          "width": 6
         },
         "mode": "lines",
         "showlegend": false,
         "type": "scatter3d",
         "x": [
          -0.4659727971697173,
          0.4659727971697173
         ],
         "y": [
          -0.18129906866233353,
          0.18129906866233347
         ],
         "z": [
          561.259842519685,
          561.259842519685
         ]
        },
        {
         "line": {
          "color": "gray",
          "width": 6
         },
         "mode": "lines",
         "showlegend": false,
         "type": "scatter3d",
         "x": [
          -0.4457836797666721,
          0.44578367976667216
         ],
         "y": [
          -0.22644405678596452,
          0.22644405678596446
         ],
         "z": [
          566.9291338582677,
          566.9291338582677
         ]
        },
        {
         "line": {
          "color": "gray",
          "width": 6
         },
         "mode": "lines",
         "showlegend": false,
         "type": "scatter3d",
         "x": [
          -0.4212336025366786,
          0.42123360253667863
         ],
         "y": [
          -0.26937381478898703,
          0.269373814788987
         ],
         "z": [
          572.5984251968504,
          572.5984251968504
         ]
        },
        {
         "line": {
          "color": "gray",
          "width": 6
         },
         "mode": "lines",
         "showlegend": false,
         "type": "scatter3d",
         "x": [
          -0.3925627310699278,
          0.3925627310699278
         ],
         "y": [
          -0.3096683745152539,
          0.30966837451525386
         ],
         "z": [
          578.267716535433,
          578.267716535433
         ]
        },
        {
         "line": {
          "color": "gray",
          "width": 6
         },
         "mode": "lines",
         "showlegend": false,
         "type": "scatter3d",
         "x": [
          -0.3600515433748005,
          0.36005154337480055
         ],
         "y": [
          -0.34693354711446417,
          0.34693354711446417
         ],
         "z": [
          583.9370078740158,
          583.9370078740158
         ]
        },
        {
         "line": {
          "color": "gray",
          "width": 6
         },
         "mode": "lines",
         "showlegend": false,
         "type": "scatter3d",
         "x": [
          -0.3240180860508028,
          0.32401808605080284
         ],
         "y": [
          -0.38080477926619377,
          0.3808047792661937
         ],
         "z": [
          589.6062992125984,
          589.6062992125984
         ]
        },
        {
         "line": {
          "color": "gray",
          "width": 6
         },
         "mode": "lines",
         "showlegend": false,
         "type": "scatter3d",
         "x": [
          -0.2848148629399287,
          0.28481486293992875
         ],
         "y": [
          -0.41095071948897915,
          0.4109507194889791
         ],
         "z": [
          595.275590551181,
          595.275590551181
         ]
        },
        {
         "line": {
          "color": "gray",
          "width": 6
         },
         "mode": "lines",
         "showlegend": false,
         "type": "scatter3d",
         "x": [
          -0.2428253866937919,
          0.24282538669379194
         ],
         "y": [
          -0.4370764596463763,
          0.4370764596463763
         ],
         "z": [
          600.9448818897638,
          600.9448818897638
         ]
        },
        {
         "line": {
          "color": "gray",
          "width": 6
         },
         "mode": "lines",
         "showlegend": false,
         "type": "scatter3d",
         "x": [
          -0.19846042699144353,
          0.1984604269914436
         ],
         "y": [
          -0.45892641993937755,
          0.45892641993937755
         ],
         "z": [
          606.6141732283464,
          606.6141732283464
         ]
        },
        {
         "line": {
          "color": "gray",
          "width": 6
         },
         "mode": "lines",
         "showlegend": false,
         "type": "scatter3d",
         "x": [
          -0.15215399211036787,
          0.15215399211036792
         ],
         "y": [
          -0.47628684916222297,
          0.4762868491622229
         ],
         "z": [
          612.2834645669291,
          612.2834645669291
         ]
        },
        {
         "line": {
          "color": "gray",
          "width": 6
         },
         "mode": "lines",
         "showlegend": false,
         "type": "scatter3d",
         "x": [
          -0.10435908316166724,
          0.1043590831616673
         ],
         "y": [
          -0.48898791576240025,
          0.4889879157624002
         ],
         "z": [
          617.9527559055118,
          617.9527559055118
         ]
        },
        {
         "line": {
          "color": "gray",
          "width": 6
         },
         "mode": "lines",
         "showlegend": false,
         "type": "scatter3d",
         "x": [
          -0.05554326252440274,
          0.0555432625244028
         ],
         "y": [
          -0.49690536924865814,
          0.49690536924865814
         ],
         "z": [
          623.6220472440945,
          623.6220472440945
         ]
        },
        {
         "line": {
          "color": "gray",
          "width": 6
         },
         "mode": "lines",
         "showlegend": false,
         "type": "scatter3d",
         "x": [
          -0.006184079831681797,
          0.006184079831681858
         ],
         "y": [
          -0.49996175569400847,
          0.49996175569400847
         ],
         "z": [
          629.2913385826771,
          629.2913385826771
         ]
        },
        {
         "line": {
          "color": "gray",
          "width": 6
         },
         "mode": "lines",
         "showlegend": false,
         "type": "scatter3d",
         "x": [
          0.043235599745372645,
          -0.04323559974537258
         ],
         "y": [
          -0.498127175442836,
          0.498127175442836
         ],
         "z": [
          634.9606299212599,
          634.9606299212599
         ]
        },
        {
         "line": {
          "color": "gray",
          "width": 6
         },
         "mode": "lines",
         "showlegend": false,
         "type": "scatter3d",
         "x": [
          0.09223231921387784,
          -0.09223231921387778
         ],
         "y": [
          -0.4914195756097119,
          0.4914195756097119
         ],
         "z": [
          640.6299212598425,
          640.6299212598425
         ]
        },
        {
         "line": {
          "color": "gray",
          "width": 6
         },
         "mode": "lines",
         "showlegend": false,
         "type": "scatter3d",
         "x": [
          0.14032675926504654,
          -0.14032675926504648
         ],
         "y": [
          -0.4799045745084846,
          0.47990457450848467
         ],
         "z": [
          646.2992125984251,
          646.2992125984251
         ]
        },
        {
         "line": {
          "color": "gray",
          "width": 6
         },
         "mode": "lines",
         "showlegend": false,
         "type": "scatter3d",
         "x": [
          0.1870484273023967,
          -0.18704842730239665
         ],
         "y": [
          -0.4636948197292051,
          0.4636948197292051
         ],
         "z": [
          651.9685039370079,
          651.9685039370079
         ]
        },
        {
         "line": {
          "color": "gray",
          "width": 6
         },
         "mode": "lines",
         "showlegend": false,
         "type": "scatter3d",
         "x": [
          0.23194026012104488,
          -0.23194026012104482
         ],
         "y": [
          -0.4429488861426136,
          0.4429488861426136
         ],
         "z": [
          657.6377952755905,
          657.6377952755905
         ]
        },
        {
         "line": {
          "color": "gray",
          "width": 6
         },
         "mode": "lines",
         "showlegend": false,
         "type": "scatter3d",
         "x": [
          0.27456309521153577,
          -0.2745630952115357
         ],
         "y": [
          -0.417869724612661,
          0.41786972461266103
         ],
         "z": [
          663.3070866141732,
          663.3070866141732
         ]
        },
        {
         "line": {
          "color": "gray",
          "width": 6
         },
         "mode": "lines",
         "showlegend": false,
         "type": "scatter3d",
         "x": [
          0.31449996694687093,
          -0.3144999669468709
         ],
         "y": [
          -0.38870267659281316,
          0.38870267659281316
         ],
         "z": [
          668.9763779527559,
          668.9763779527559
         ]
        },
        {
         "line": {
          "color": "gray",
          "width": 6
         },
         "mode": "lines",
         "showlegend": false,
         "type": "scatter3d",
         "x": [
          0.3513601856244949,
          -0.35136018562449484
         ],
         "y": [
          -0.3557330740287168,
          0.35573307402871684
         ],
         "z": [
          674.6456692913385,
          674.6456692913385
         ]
        },
        {
         "line": {
          "color": "gray",
          "width": 6
         },
         "mode": "lines",
         "showlegend": false,
         "type": "scatter3d",
         "x": [
          0.3847831594592848,
          -0.38478315945928476
         ],
         "y": [
          -0.3192834480466073,
          0.31928344804660735
         ],
         "z": [
          680.3149606299212,
          680.3149606299212
         ]
        },
        {
         "line": {
          "color": "gray",
          "width": 6
         },
         "mode": "lines",
         "showlegend": false,
         "type": "scatter3d",
         "x": [
          0.4144419221381919,
          -0.41444192213819186
         ],
         "y": [
          -0.2797103737339766,
          0.27971037373397667
         ],
         "z": [
          685.9842519685039,
          685.9842519685039
         ]
        },
        {
         "line": {
          "color": "gray",
          "width": 6
         },
         "mode": "lines",
         "showlegend": false,
         "type": "scatter3d",
         "x": [
          0.4400463314275942,
          -0.4400463314275942
         ],
         "y": [
          -0.23740098187900555,
          0.2374009818790056
         ],
         "z": [
          691.6535433070866,
          691.6535433070866
         ]
        },
        {
         "line": {
          "color": "gray",
          "width": 6
         },
         "mode": "lines",
         "showlegend": false,
         "type": "scatter3d",
         "x": [
          0.4613459075424034,
          -0.4613459075424034
         ],
         "y": [
          -0.19276917179330352,
          0.19276917179330358
         ],
         "z": [
          697.3228346456692,
          697.3228346456692
         ]
        },
        {
         "line": {
          "color": "gray",
          "width": 6
         },
         "mode": "lines",
         "showlegend": false,
         "type": "scatter3d",
         "x": [
          0.4781322835100638,
          -0.4781322835100638
         ],
         "y": [
          -0.14625156226670516,
          0.14625156226670522
         ],
         "z": [
          702.992125984252,
          702.992125984252
         ]
        },
        {
         "line": {
          "color": "gray",
          "width": 6
         },
         "mode": "lines",
         "showlegend": false,
         "type": "scatter3d",
         "x": [
          0.49024124355831256,
          -0.49024124355831256
         ],
         "y": [
          -0.09830322026464473,
          0.09830322026464479
         ],
         "z": [
          708.6614173228346,
          708.6614173228346
         ]
        },
        {
         "line": {
          "color": "gray",
          "width": 6
         },
         "mode": "lines",
         "showlegend": false,
         "type": "scatter3d",
         "x": [
          0.49755432958580326,
          -0.49755432958580326
         ],
         "y": [
          -0.04939320915289743,
          0.049393209152897494
         ],
         "z": [
          714.3307086614172,
          714.3307086614172
         ]
        },
        {
         "line": {
          "color": "gray",
          "width": 6
         },
         "mode": "lines",
         "showlegend": false,
         "type": "scatter3d",
         "x": [
          0.5,
          -0.5
         ],
         "y": [
          -2.4492935982947064e-16,
          3.061616997868383e-16
         ],
         "z": [
          720,
          720
         ]
        }
       ],
       "frames": [
        {
         "layout": {
          "scene": {
           "camera": {
            "eye": {
             "x": 2,
             "y": 0,
             "z": 0.5
            }
           }
          }
         }
        },
        {
         "layout": {
          "scene": {
           "camera": {
            "eye": {
             "x": 1.9996936910027645,
             "y": 0.035002030851657574,
             "z": 0.5
            }
           }
          }
         }
        },
        {
         "layout": {
          "scene": {
           "camera": {
            "eye": {
             "x": 1.9987748578362596,
             "y": 0.06999334026634377,
             "z": 0.5
            }
           }
          }
         }
        },
        {
         "layout": {
          "scene": {
           "camera": {
            "eye": {
             "x": 1.9972437819473514,
             "y": 0.10496321009115982,
             "z": 0.5
            }
           }
          }
         }
        },
        {
         "layout": {
          "scene": {
           "camera": {
            "eye": {
             "x": 1.9951009323183597,
             "y": 0.1399009287403462,
             "z": 0.5
            }
           }
          }
         }
        },
        {
         "layout": {
          "scene": {
           "camera": {
            "eye": {
             "x": 1.9923469653234063,
             "y": 0.1747957944763378,
             "z": 0.5
            }
           }
          }
         }
        },
        {
         "layout": {
          "scene": {
           "camera": {
            "eye": {
             "x": 1.988982724527359,
             "y": 0.2096371186878024,
             "z": 0.5
            }
           }
          }
         }
        },
        {
         "layout": {
          "scene": {
           "camera": {
            "eye": {
             "x": 1.985009240427443,
             "y": 0.2444142291636584,
             "z": 0.5
            }
           }
          }
         }
        },
        {
         "layout": {
          "scene": {
           "camera": {
            "eye": {
             "x": 1.9804277301375885,
             "y": 0.27911647336206913,
             "z": 0.5
            }
           }
          }
         }
        },
        {
         "layout": {
          "scene": {
           "camera": {
            "eye": {
             "x": 1.975239597015618,
             "y": 0.31373322167341244,
             "z": 0.5
            }
           }
          }
         }
        },
        {
         "layout": {
          "scene": {
           "camera": {
            "eye": {
             "x": 1.9694464302333858,
             "y": 0.34825387067622543,
             "z": 0.5
            }
           }
          }
         }
        },
        {
         "layout": {
          "scene": {
           "camera": {
            "eye": {
             "x": 1.9630500042899997,
             "y": 0.3826678463851283,
             "z": 0.5
            }
           }
          }
         }
        },
        {
         "layout": {
          "scene": {
           "camera": {
            "eye": {
             "x": 1.9560522784682763,
             "y": 0.4169646074897306,
             "z": 0.5
            }
           }
          }
         }
        },
        {
         "layout": {
          "scene": {
           "camera": {
            "eye": {
             "x": 1.948455396234595,
             "y": 0.45113364858352994,
             "z": 0.5
            }
           }
          }
         }
        },
        {
         "layout": {
          "scene": {
           "camera": {
            "eye": {
             "x": 1.9402616845823346,
             "y": 0.48516450338181255,
             "z": 0.5
            }
           }
          }
         }
        },
        {
         "layout": {
          "scene": {
           "camera": {
            "eye": {
             "x": 1.9314736533190955,
             "y": 0.5190467479275699,
             "z": 0.5
            }
           }
          }
         }
        },
        {
         "layout": {
          "scene": {
           "camera": {
            "eye": {
             "x": 1.9220939942979214,
             "y": 0.5527700037844513,
             "z": 0.5
            }
           }
          }
         }
        },
        {
         "layout": {
          "scene": {
           "camera": {
            "eye": {
             "x": 1.9121255805927613,
             "y": 0.5863239412157716,
             "z": 0.5
            }
           }
          }
         }
        },
        {
         "layout": {
          "scene": {
           "camera": {
            "eye": {
             "x": 1.9015714656184215,
             "y": 0.6196982823486027,
             "z": 0.5
            }
           }
          }
         }
        },
        {
         "layout": {
          "scene": {
           "camera": {
            "eye": {
             "x": 1.8904348821952763,
             "y": 0.6528828043219792,
             "z": 0.5
            }
           }
          }
         }
        },
        {
         "layout": {
          "scene": {
           "camera": {
            "eye": {
             "x": 1.8787192415590268,
             "y": 0.6858673424182514,
             "z": 0.5
            }
           }
          }
         }
        },
        {
         "layout": {
          "scene": {
           "camera": {
            "eye": {
             "x": 1.8664281323158083,
             "y": 0.718641793176631,
             "z": 0.5
            }
           }
          }
         }
        },
        {
         "layout": {
          "scene": {
           "camera": {
            "eye": {
             "x": 1.8535653193429678,
             "y": 0.751196117487971,
             "z": 0.5
            }
           }
          }
         }
        },
        {
         "layout": {
          "scene": {
           "camera": {
            "eye": {
             "x": 1.840134742635849,
             "y": 0.783520343669836,
             "z": 0.5
            }
           }
          }
         }
        },
        {
         "layout": {
          "scene": {
           "camera": {
            "eye": {
             "x": 1.826140516100935,
             "y": 0.815604570520918,
             "z": 0.5
            }
           }
          }
         }
        },
        {
         "layout": {
          "scene": {
           "camera": {
            "eye": {
             "x": 1.8115869262957227,
             "y": 0.847438970353863,
             "z": 0.5
            }
           }
          }
         }
        },
        {
         "layout": {
          "scene": {
           "camera": {
            "eye": {
             "x": 1.796478431115712,
             "y": 0.8790137920055804,
             "z": 0.5
            }
           }
          }
         }
        },
        {
         "layout": {
          "scene": {
           "camera": {
            "eye": {
             "x": 1.7808196584289109,
             "y": 0.9103193638241125,
             "z": 0.5
            }
           }
          }
         }
        },
        {
         "layout": {
          "scene": {
           "camera": {
            "eye": {
             "x": 1.7646154046582792,
             "y": 0.9413460966311474,
             "z": 0.5
            }
           }
          }
         }
        },
        {
         "layout": {
          "scene": {
           "camera": {
            "eye": {
             "x": 1.74787063331254,
             "y": 0.9720844866592718,
             "z": 0.5
            }
           }
          }
         }
        },
        {
         "layout": {
          "scene": {
           "camera": {
            "eye": {
             "x": 1.7305904734658137,
             "y": 1.002525118463059,
             "z": 0.5
            }
           }
          }
         }
        },
        {
         "layout": {
          "scene": {
           "camera": {
            "eye": {
             "x": 1.7127802181865346,
             "y": 1.0326586678031069,
             "z": 0.5
            }
           }
          }
         }
        },
        {
         "layout": {
          "scene": {
           "camera": {
            "eye": {
             "x": 1.6944453229161378,
             "y": 1.062475904502133,
             "z": 0.5
            }
           }
          }
         }
        },
        {
         "layout": {
          "scene": {
           "camera": {
            "eye": {
             "x": 1.675591403798008,
             "y": 1.0919676952722643,
             "z": 0.5
            }
           }
          }
         }
        },
        {
         "layout": {
          "scene": {
           "camera": {
            "eye": {
             "x": 1.6562242359572044,
             "y": 1.1211250065126432,
             "z": 0.5
            }
           }
          }
         }
        },
        {
         "layout": {
          "scene": {
           "camera": {
            "eye": {
             "x": 1.6363497517314878,
             "y": 1.1499389070765014,
             "z": 0.5
            }
           }
          }
         }
        },
        {
         "layout": {
          "scene": {
           "camera": {
            "eye": {
             "x": 1.6159740388541914,
             "y": 1.1784005710068508,
             "z": 0.5
            }
           }
          }
         }
        },
        {
         "layout": {
          "scene": {
           "camera": {
            "eye": {
             "x": 1.595103338589495,
             "y": 1.2065012802399535,
             "z": 0.5
            }
           }
          }
         }
        },
        {
         "layout": {
          "scene": {
           "camera": {
            "eye": {
             "x": 1.5737440438206682,
             "y": 1.2342324272757423,
             "z": 0.5
            }
           }
          }
         }
        },
        {
         "layout": {
          "scene": {
           "camera": {
            "eye": {
             "x": 1.5519026970918732,
             "y": 1.2615855178143769,
             "z": 0.5
            }
           }
          }
         }
        },
        {
         "layout": {
          "scene": {
           "camera": {
            "eye": {
             "x": 1.529585988604125,
             "y": 1.2885521733581227,
             "z": 0.5
            }
           }
          }
         }
        },
        {
         "layout": {
          "scene": {
           "camera": {
            "eye": {
             "x": 1.5068007541660218,
             "y": 1.3151241337777615,
             "z": 0.5
            }
           }
          }
         }
        },
        {
         "layout": {
          "scene": {
           "camera": {
            "eye": {
             "x": 1.4835539730998764,
             "y": 1.3412932598427427,
             "z": 0.5
            }
           }
          }
         }
        },
        {
         "layout": {
          "scene": {
           "camera": {
            "eye": {
             "x": 1.4598527661038858,
             "y": 1.3670515357143027,
             "z": 0.5
            }
           }
          }
         }
        },
        {
         "layout": {
          "scene": {
           "camera": {
            "eye": {
             "x": 1.4357043930709985,
             "y": 1.3923910714007885,
             "z": 0.5
            }
           }
          }
         }
        },
        {
         "layout": {
          "scene": {
           "camera": {
            "eye": {
             "x": 1.4111162508651427,
             "y": 1.4173041051744342,
             "z": 0.5
            }
           }
          }
         }
        },
        {
         "layout": {
          "scene": {
           "camera": {
            "eye": {
             "x": 1.386095871055502,
             "y": 1.4417830059488457,
             "z": 0.5
            }
           }
          }
         }
        },
        {
         "layout": {
          "scene": {
           "camera": {
            "eye": {
             "x": 1.3606509176095258,
             "y": 1.465820275616474,
             "z": 0.5
            }
           }
          }
         }
        },
        {
         "layout": {
          "scene": {
           "camera": {
            "eye": {
             "x": 1.334789184545389,
             "y": 1.4894085513453506,
             "z": 0.5
            }
           }
          }
         }
        },
        {
         "layout": {
          "scene": {
           "camera": {
            "eye": {
             "x": 1.308518593544613,
             "y": 1.5125406078343906,
             "z": 0.5
            }
           }
          }
         }
        },
        {
         "layout": {
          "scene": {
           "camera": {
            "eye": {
             "x": 1.2818471915255847,
             "y": 1.5352093595265668,
             "z": 0.5
            }
           }
          }
         }
        },
        {
         "layout": {
          "scene": {
           "camera": {
            "eye": {
             "x": 1.2547831481787108,
             "y": 1.5574078627792796,
             "z": 0.5
            }
           }
          }
         }
        },
        {
         "layout": {
          "scene": {
           "camera": {
            "eye": {
             "x": 1.2273347534639703,
             "y": 1.5791293179912578,
             "z": 0.5
            }
           }
          }
         }
        },
        {
         "layout": {
          "scene": {
           "camera": {
            "eye": {
             "x": 1.1995104150716238,
             "y": 1.600367071685337,
             "z": 0.5
            }
           }
          }
         }
        },
        {
         "layout": {
          "scene": {
           "camera": {
            "eye": {
             "x": 1.1713186558468631,
             "y": 1.6211146185464795,
             "z": 0.5
            }
           }
          }
         }
        },
        {
         "layout": {
          "scene": {
           "camera": {
            "eye": {
             "x": 1.1427681111791868,
             "y": 1.641365603414411,
             "z": 0.5
            }
           }
          }
         }
        },
        {
         "layout": {
          "scene": {
           "camera": {
            "eye": {
             "x": 1.1138675263573024,
             "y": 1.6611138232302638,
             "z": 0.5
            }
           }
          }
         }
        },
        {
         "layout": {
          "scene": {
           "camera": {
            "eye": {
             "x": 1.0846257538903663,
             "y": 1.6803532289366288,
             "z": 0.5
            }
           }
          }
         }
        },
        {
         "layout": {
          "scene": {
           "camera": {
            "eye": {
             "x": 1.05505175079638,
             "y": 1.6990779273304368,
             "z": 0.5
            }
           }
          }
         }
        },
        {
         "layout": {
          "scene": {
           "camera": {
            "eye": {
             "x": 1.025154575858576,
             "y": 1.7172821828680989,
             "z": 0.5
            }
           }
          }
         }
        },
        {
         "layout": {
          "scene": {
           "camera": {
            "eye": {
             "x": 0.9949433868506292,
             "y": 1.7349604194223565,
             "z": 0.5
            }
           }
          }
         }
        },
        {
         "layout": {
          "scene": {
           "camera": {
            "eye": {
             "x": 0.96442743773155,
             "y": 1.7521072219902973,
             "z": 0.5
            }
           }
          }
         }
        },
        {
         "layout": {
          "scene": {
           "camera": {
            "eye": {
             "x": 0.9336160758111127,
             "y": 1.7687173383520214,
             "z": 0.5
            }
           }
          }
         }
        },
        {
         "layout": {
          "scene": {
           "camera": {
            "eye": {
             "x": 0.9025187388866908,
             "y": 1.7847856806794415,
             "z": 0.5
            }
           }
          }
         }
        },
        {
         "layout": {
          "scene": {
           "camera": {
            "eye": {
             "x": 0.8711449523523742,
             "y": 1.8003073270947323,
             "z": 0.5
            }
           }
          }
         }
        },
        {
         "layout": {
          "scene": {
           "camera": {
            "eye": {
             "x": 0.8395043262812557,
             "y": 1.815277523177945,
             "z": 0.5
            }
           }
          }
         }
        },
        {
         "layout": {
          "scene": {
           "camera": {
            "eye": {
             "x": 0.8076065524817791,
             "y": 1.829691683423329,
             "z": 0.5
            }
           }
          }
         }
        },
        {
         "layout": {
          "scene": {
           "camera": {
            "eye": {
             "x": 0.775461401529051,
             "y": 1.8435453926439132,
             "z": 0.5
            }
           }
          }
         }
        },
        {
         "layout": {
          "scene": {
           "camera": {
            "eye": {
             "x": 0.7430787197720257,
             "y": 1.8568344073239185,
             "z": 0.5
            }
           }
          }
         }
        },
        {
         "layout": {
          "scene": {
           "camera": {
            "eye": {
             "x": 0.7104684263174799,
             "y": 1.869554656918584,
             "z": 0.5
            }
           }
          }
         }
        },
        {
         "layout": {
          "scene": {
           "camera": {
            "eye": {
             "x": 0.6776405099917017,
             "y": 1.8817022451010113,
             "z": 0.5
            }
           }
          }
         }
        },
        {
         "layout": {
          "scene": {
           "camera": {
            "eye": {
             "x": 0.6446050262808213,
             "y": 1.8932734509556461,
             "z": 0.5
            }
           }
          }
         }
        },
        {
         "layout": {
          "scene": {
           "camera": {
            "eye": {
             "x": 0.6113720942507278,
             "y": 1.9042647301180262,
             "z": 0.5
            }
           }
          }
         }
        },
        {
         "layout": {
          "scene": {
           "camera": {
            "eye": {
             "x": 0.5779518934475066,
             "y": 1.9146727158604526,
             "z": 0.5
            }
           }
          }
         }
        },
        {
         "layout": {
          "scene": {
           "camera": {
            "eye": {
             "x": 0.5443546607793531,
             "y": 1.9244942201232498,
             "z": 0.5
            }
           }
          }
         }
        },
        {
         "layout": {
          "scene": {
           "camera": {
            "eye": {
             "x": 0.5105906873809158,
             "y": 1.9337262344912953,
             "z": 0.5
            }
           }
          }
         }
        },
        {
         "layout": {
          "scene": {
           "camera": {
            "eye": {
             "x": 0.47667031546102917,
             "y": 1.9423659311155257,
             "z": 0.5
            }
           }
          }
         }
        },
        {
         "layout": {
          "scene": {
           "camera": {
            "eye": {
             "x": 0.4426039351348016,
             "y": 1.9504106635791316,
             "z": 0.5
            }
           }
          }
         }
        },
        {
         "layout": {
          "scene": {
           "camera": {
            "eye": {
             "x": 0.4084019812410304,
             "y": 1.957857967708179,
             "z": 0.5
            }
           }
          }
         }
        },
        {
         "layout": {
          "scene": {
           "camera": {
            "eye": {
             "x": 0.37407493014591625,
             "y": 1.9647055623264083,
             "z": 0.5
            }
           }
          }
         }
        },
        {
         "layout": {
          "scene": {
           "camera": {
            "eye": {
             "x": 0.33963329653405855,
             "y": 1.970951349953978,
             "z": 0.5
            }
           }
          }
         }
        },
        {
         "layout": {
          "scene": {
           "camera": {
            "eye": {
             "x": 0.3050876301877113,
             "y": 1.9765934174499433,
             "z": 0.5
            }
           }
          }
         }
        },
        {
         "layout": {
          "scene": {
           "camera": {
            "eye": {
             "x": 0.2704485127552923,
             "y": 1.9816300365982673,
             "z": 0.5
            }
           }
          }
         }
        },
        {
         "layout": {
          "scene": {
           "camera": {
            "eye": {
             "x": 0.23572655451012733,
             "y": 1.986059664637189,
             "z": 0.5
            }
           }
          }
         }
        },
        {
         "layout": {
          "scene": {
           "camera": {
            "eye": {
             "x": 0.20093239110042863,
             "y": 1.9898809447317858,
             "z": 0.5
            }
           }
          }
         }
        },
        {
         "layout": {
          "scene": {
           "camera": {
            "eye": {
             "x": 0.16607668029149977,
             "y": 1.9930927063895836,
             "z": 0.5
            }
           }
          }
         }
        },
        {
         "layout": {
          "scene": {
           "camera": {
            "eye": {
             "x": 0.13117009870116664,
             "y": 1.9956939658190898,
             "z": 0.5
            }
           }
          }
         }
        },
        {
         "layout": {
          "scene": {
           "camera": {
            "eye": {
             "x": 0.09622333852943306,
             "y": 1.9976839262311368,
             "z": 0.5
            }
           }
          }
         }
        },
        {
         "layout": {
          "scene": {
           "camera": {
            "eye": {
             "x": 0.06124710428336388,
             "y": 1.9990619780829464,
             "z": 0.5
            }
           }
          }
         }
        },
        {
         "layout": {
          "scene": {
           "camera": {
            "eye": {
             "x": 0.026252109498198076,
             "y": 1.9998276992648378,
             "z": 0.5
            }
           }
          }
         }
        },
        {
         "layout": {
          "scene": {
           "camera": {
            "eye": {
             "x": -0.00875092654430344,
             "y": 1.9999808552295235,
             "z": 0.5
            }
           }
          }
         }
        },
        {
         "layout": {
          "scene": {
           "camera": {
            "eye": {
             "x": -0.043751282099269845,
             "y": 1.9995213990639535,
             "z": 0.5
            }
           }
          }
         }
        },
        {
         "layout": {
          "scene": {
           "camera": {
            "eye": {
             "x": -0.0787382362428891,
             "y": 1.9984494715036853,
             "z": 0.5
            }
           }
          }
         }
        },
        {
         "layout": {
          "scene": {
           "camera": {
            "eye": {
             "x": -0.11370107215632069,
             "y": 1.9967654008897748,
             "z": 0.5
            }
           }
          }
         }
        },
        {
         "layout": {
          "scene": {
           "camera": {
            "eye": {
             "x": -0.14862908040835549,
             "y": 1.9944697030682033,
             "z": 0.5
            }
           }
          }
         }
        },
        {
         "layout": {
          "scene": {
           "camera": {
            "eye": {
             "x": -0.18351156223581033,
             "y": 1.991563081231868,
             "z": 0.5
            }
           }
          }
         }
        },
        {
         "layout": {
          "scene": {
           "camera": {
            "eye": {
             "x": -0.2183378328206556,
             "y": 1.9880464257051895,
             "z": 0.5
            }
           }
          }
         }
        },
        {
         "layout": {
          "scene": {
           "camera": {
            "eye": {
             "x": -0.25309722456287104,
             "y": 1.9839208136713955,
             "z": 0.5
            }
           }
          }
         }
        },
        {
         "layout": {
          "scene": {
           "camera": {
            "eye": {
             "x": -0.28777909034802746,
             "y": 1.979187508842571,
             "z": 0.5
            }
           }
          }
         }
        },
        {
         "layout": {
          "scene": {
           "camera": {
            "eye": {
             "x": -0.3223728068085941,
             "y": 1.9738479610725719,
             "z": 0.5
            }
           }
          }
         }
        },
        {
         "layout": {
          "scene": {
           "camera": {
            "eye": {
             "x": -0.3568677775779711,
             "y": 1.967903805912921,
             "z": 0.5
            }
           }
          }
         }
        },
        {
         "layout": {
          "scene": {
           "camera": {
            "eye": {
             "x": -0.39125343653625255,
             "y": 1.961356864111825,
             "z": 0.5
            }
           }
          }
         }
        },
        {
         "layout": {
          "scene": {
           "camera": {
            "eye": {
             "x": -0.4255192510467232,
             "y": 1.9542091410564622,
             "z": 0.5
            }
           }
          }
         }
        },
        {
         "layout": {
          "scene": {
           "camera": {
            "eye": {
             "x": -0.45965472518210176,
             "y": 1.9464628261587136,
             "z": 0.5
            }
           }
          }
         }
        },
        {
         "layout": {
          "scene": {
           "camera": {
            "eye": {
             "x": -0.4936494029395352,
             "y": 1.938120292184528,
             "z": 0.5
            }
           }
          }
         }
        },
        {
         "layout": {
          "scene": {
           "camera": {
            "eye": {
             "x": -0.5274928714433683,
             "y": 1.9291840945271217,
             "z": 0.5
            }
           }
          }
         }
        },
        {
         "layout": {
          "scene": {
           "camera": {
            "eye": {
             "x": -0.5611747641347007,
             "y": 1.9196569704242379,
             "z": 0.5
            }
           }
          }
         }
        },
        {
         "layout": {
          "scene": {
           "camera": {
            "eye": {
             "x": -0.5946847639467571,
             "y": 1.9095418381197071,
             "z": 0.5
            }
           }
          }
         }
        },
        {
         "layout": {
          "scene": {
           "camera": {
            "eye": {
             "x": -0.6280126064650976,
             "y": 1.8988417959695627,
             "z": 0.5
            }
           }
          }
         }
        },
        {
         "layout": {
          "scene": {
           "camera": {
            "eye": {
             "x": -0.6611480830717006,
             "y": 1.8875601214929858,
             "z": 0.5
            }
           }
          }
         }
        },
        {
         "layout": {
          "scene": {
           "camera": {
            "eye": {
             "x": -0.6940810440719537,
             "y": 1.8757002703683727,
             "z": 0.5
            }
           }
          }
         }
        },
        {
         "layout": {
          "scene": {
           "camera": {
            "eye": {
             "x": -0.726801401803597,
             "y": 1.8632658753748286,
             "z": 0.5
            }
           }
          }
         }
        },
        {
         "layout": {
          "scene": {
           "camera": {
            "eye": {
             "x": -0.7592991337266644,
             "y": 1.8502607452794153,
             "z": 0.5
            }
           }
          }
         }
        },
        {
         "layout": {
          "scene": {
           "camera": {
            "eye": {
             "x": -0.7915642854934777,
             "y": 1.8366888636704912,
             "z": 0.5
            }
           }
          }
         }
        },
        {
         "layout": {
          "scene": {
           "camera": {
            "eye": {
             "x": -0.8235869739977544,
             "y": 1.8225543877375023,
             "z": 0.5
            }
           }
          }
         }
        },
        {
         "layout": {
          "scene": {
           "camera": {
            "eye": {
             "x": -0.8553573904018896,
             "y": 1.8078616469975985,
             "z": 0.5
            }
           }
          }
         }
        },
        {
         "layout": {
          "scene": {
           "camera": {
            "eye": {
             "x": -0.8868658031414933,
             "y": 1.7926151419694618,
             "z": 0.5
            }
           }
          }
         }
        },
        {
         "layout": {
          "scene": {
           "camera": {
            "eye": {
             "x": -0.9181025609062533,
             "y": 1.7768195427947597,
             "z": 0.5
            }
           }
          }
         }
        },
        {
         "layout": {
          "scene": {
           "camera": {
            "eye": {
             "x": -0.9490580955962229,
             "y": 1.7604796878076359,
             "z": 0.5
            }
           }
          }
         }
        },
        {
         "layout": {
          "scene": {
           "camera": {
            "eye": {
             "x": -0.9797229252526127,
             "y": 1.7436005820526854,
             "z": 0.5
            }
           }
          }
         }
        },
        {
         "layout": {
          "scene": {
           "camera": {
            "eye": {
             "x": -1.010087656962199,
             "y": 1.7261873957518676,
             "z": 0.5
            }
           }
          }
         }
        },
        {
         "layout": {
          "scene": {
           "camera": {
            "eye": {
             "x": -1.040142989734462,
             "y": 1.708245462720816,
             "z": 0.5
            }
           }
          }
         }
        },
        {
         "layout": {
          "scene": {
           "camera": {
            "eye": {
             "x": -1.0698797173505572,
             "y": 1.6897802787350467,
             "z": 0.5
            }
           }
          }
         }
        },
        {
         "layout": {
          "scene": {
           "camera": {
            "eye": {
             "x": -1.0992887311832689,
             "y": 1.670797499846549,
             "z": 0.5
            }
           }
          }
         }
        },
        {
         "layout": {
          "scene": {
           "camera": {
            "eye": {
             "x": -1.1283610229870586,
             "y": 1.6513029406512902,
             "z": 0.5
            }
           }
          }
         }
        },
        {
         "layout": {
          "scene": {
           "camera": {
            "eye": {
             "x": -1.1570876876573781,
             "y": 1.631302572508148,
             "z": 0.5
            }
           }
          }
         }
        },
        {
         "layout": {
          "scene": {
           "camera": {
            "eye": {
             "x": -1.1854599259583771,
             "y": 1.6108025217098336,
             "z": 0.5
            }
           }
          }
         }
        },
        {
         "layout": {
          "scene": {
           "camera": {
            "eye": {
             "x": -1.2134690472181937,
             "y": 1.5898090676063492,
             "z": 0.5
            }
           }
          }
         }
        },
        {
         "layout": {
          "scene": {
           "camera": {
            "eye": {
             "x": -1.2411064719909797,
             "y": 1.5683286406815709,
             "z": 0.5
            }
           }
          }
         }
        },
        {
         "layout": {
          "scene": {
           "camera": {
            "eye": {
             "x": -1.2683637346848675,
             "y": 1.5463678205835294,
             "z": 0.5
            }
           }
          }
         }
        },
        {
         "layout": {
          "scene": {
           "camera": {
            "eye": {
             "x": -1.295232486155055,
             "y": 1.5239333341090073,
             "z": 0.5
            }
           }
          }
         }
        },
        {
         "layout": {
          "scene": {
           "camera": {
            "eye": {
             "x": -1.3217044962612206,
             "y": 1.501032053143061,
             "z": 0.5
            }
           }
          }
         }
        },
        {
         "layout": {
          "scene": {
           "camera": {
            "eye": {
             "x": -1.3477716563884954,
             "y": 1.4776709925540976,
             "z": 0.5
            }
           }
          }
         }
        },
        {
         "layout": {
          "scene": {
           "camera": {
            "eye": {
             "x": -1.3734259819311987,
             "y": 1.4538573080451613,
             "z": 0.5
            }
           }
          }
         }
        },
        {
         "layout": {
          "scene": {
           "camera": {
            "eye": {
             "x": -1.3986596147386,
             "y": 1.4295982939620735,
             "z": 0.5
            }
           }
          }
         }
        },
        {
         "layout": {
          "scene": {
           "camera": {
            "eye": {
             "x": -1.4234648255219362,
             "y": 1.4049013810591133,
             "z": 0.5
            }
           }
          }
         }
        },
        {
         "layout": {
          "scene": {
           "camera": {
            "eye": {
             "x": -1.4478340162219674,
             "y": 1.3797741342229053,
             "z": 0.5
            }
           }
          }
         }
        },
        {
         "layout": {
          "scene": {
           "camera": {
            "eye": {
             "x": -1.4717597223363255,
             "y": 1.3542242501552326,
             "z": 0.5
            }
           }
          }
         }
        },
        {
         "layout": {
          "scene": {
           "camera": {
            "eye": {
             "x": -1.4952346152059637,
             "y": 1.3282595550154621,
             "z": 0.5
            }
           }
          }
         }
        },
        {
         "layout": {
          "scene": {
           "camera": {
            "eye": {
             "x": -1.5182515042599858,
             "y": 1.301888002023327,
             "z": 0.5
            }
           }
          }
         }
        },
        {
         "layout": {
          "scene": {
           "camera": {
            "eye": {
             "x": -1.5408033392181866,
             "y": 1.2751176690227792,
             "z": 0.5
            }
           }
          }
         }
        },
        {
         "layout": {
          "scene": {
           "camera": {
            "eye": {
             "x": -1.5628832122506149,
             "y": 1.247956756007675,
             "z": 0.5
            }
           }
          }
         }
        },
        {
         "layout": {
          "scene": {
           "camera": {
            "eye": {
             "x": -1.5844843600935017,
             "y": 1.2204135826100455,
             "z": 0.5
            }
           }
          }
         }
        },
        {
         "layout": {
          "scene": {
           "camera": {
            "eye": {
             "x": -1.6056001661209136,
             "y": 1.1924965855517133,
             "z": 0.5
            }
           }
          }
         }
        },
        {
         "layout": {
          "scene": {
           "camera": {
            "eye": {
             "x": -1.6262241623714793,
             "y": 1.1642143160600547,
             "z": 0.5
            }
           }
          }
         }
        },
        {
         "layout": {
          "scene": {
           "camera": {
            "eye": {
             "x": -1.6463500315295891,
             "y": 1.1355754372486757,
             "z": 0.5
            }
           }
          }
         }
        },
        {
         "layout": {
          "scene": {
           "camera": {
            "eye": {
             "x": -1.665971608860442,
             "y": 1.1065887214638286,
             "z": 0.5
            }
           }
          }
         }
        },
        {
         "layout": {
          "scene": {
           "camera": {
            "eye": {
             "x": -1.6850828840983623,
             "y": 1.0772630475973568,
             "z": 0.5
            }
           }
          }
         }
        },
        {
         "layout": {
          "scene": {
           "camera": {
            "eye": {
             "x": -1.7036780032877954,
             "y": 1.0476073983670176,
             "z": 0.5
            }
           }
          }
         }
        },
        {
         "layout": {
          "scene": {
           "camera": {
            "eye": {
             "x": -1.7217512705764295,
             "y": 1.017630857564987,
             "z": 0.5
            }
           }
          }
         }
        },
        {
         "layout": {
          "scene": {
           "camera": {
            "eye": {
             "x": -1.7392971499598837,
             "y": 0.9873426072754206,
             "z": 0.5
            }
           }
          }
         }
        },
        {
         "layout": {
          "scene": {
           "camera": {
            "eye": {
             "x": -1.7563102669774393,
             "y": 0.9567519250618918,
             "z": 0.5
            }
           }
          }
         }
        },
        {
         "layout": {
          "scene": {
           "camera": {
            "eye": {
             "x": -1.772785410358283,
             "y": 0.9258681811255932,
             "z": 0.5
            }
           }
          }
         }
        },
        {
         "layout": {
          "scene": {
           "camera": {
            "eye": {
             "x": -1.7887175336177654,
             "y": 0.8947008354351627,
             "z": 0.5
            }
           }
          }
         }
        },
        {
         "layout": {
          "scene": {
           "camera": {
            "eye": {
             "x": -1.8041017566031883,
             "y": 0.8632594348290032,
             "z": 0.5
            }
           }
          }
         }
        },
        {
         "layout": {
          "scene": {
           "camera": {
            "eye": {
             "x": -1.8189333669886347,
             "y": 0.8315536100910081,
             "z": 0.5
            }
           }
          }
         }
        },
        {
         "layout": {
          "scene": {
           "camera": {
            "eye": {
             "x": -1.8332078217184011,
             "y": 0.7995930730005576,
             "z": 0.5
            }
           }
          }
         }
        },
        {
         "layout": {
          "scene": {
           "camera": {
            "eye": {
             "x": -1.8469207483985721,
             "y": 0.7673876133577207,
             "z": 0.5
            }
           }
          }
         }
        },
        {
         "layout": {
          "scene": {
           "camera": {
            "eye": {
             "x": -1.860067946636328,
             "y": 0.7349470959845442,
             "z": 0.5
            }
           }
          }
         }
        },
        {
         "layout": {
          "scene": {
           "camera": {
            "eye": {
             "x": -1.8726453893265593,
             "y": 0.7022814577033765,
             "z": 0.5
            }
           }
          }
         }
        },
        {
         "layout": {
          "scene": {
           "camera": {
            "eye": {
             "x": -1.8846492238854082,
             "y": 0.6694007042931225,
             "z": 0.5
            }
           }
          }
         }
        },
        {
         "layout": {
          "scene": {
           "camera": {
            "eye": {
             "x": -1.8960757734303484,
             "y": 0.6363149074243868,
             "z": 0.5
            }
           }
          }
         }
        },
        {
         "layout": {
          "scene": {
           "camera": {
            "eye": {
             "x": -1.9069215379064464,
             "y": 0.6030342015744328,
             "z": 0.5
            }
           }
          }
         }
        },
        {
         "layout": {
          "scene": {
           "camera": {
            "eye": {
             "x": -1.9171831951584615,
             "y": 0.569568780922895,
             "z": 0.5
            }
           }
          }
         }
        },
        {
         "layout": {
          "scene": {
           "camera": {
            "eye": {
             "x": -1.9268576019484505,
             "y": 0.5359288962292168,
             "z": 0.5
            }
           }
          }
         }
        },
        {
         "layout": {
          "scene": {
           "camera": {
            "eye": {
             "x": -1.9359417949185713,
             "y": 0.5021248516927443,
             "z": 0.5
            }
           }
          }
         }
        },
        {
         "layout": {
          "scene": {
           "camera": {
            "eye": {
             "x": -1.944432991498784,
             "y": 0.4681670017964636,
             "z": 0.5
            }
           }
          }
         }
        },
        {
         "layout": {
          "scene": {
           "camera": {
            "eye": {
             "x": -1.9523285907591792,
             "y": 0.43406574813532295,
             "z": 0.5
            }
           }
          }
         }
        },
        {
         "layout": {
          "scene": {
           "camera": {
            "eye": {
             "x": -1.9596261742066643,
             "y": 0.39983153623013756,
             "z": 0.5
            }
           }
          }
         }
        },
        {
         "layout": {
          "scene": {
           "camera": {
            "eye": {
             "x": -1.966323506525772,
             "y": 0.3654748523280255,
             "z": 0.5
            }
           }
          }
         }
        },
        {
         "layout": {
          "scene": {
           "camera": {
            "eye": {
             "x": -1.972418536263355,
             "y": 0.3310062201903829,
             "z": 0.5
            }
           }
          }
         }
        },
        {
         "layout": {
          "scene": {
           "camera": {
            "eye": {
             "x": -1.9779093964569663,
             "y": 0.2964361978693551,
             "z": 0.5
            }
           }
          }
         }
        },
        {
         "layout": {
          "scene": {
           "camera": {
            "eye": {
             "x": -1.9827944052067261,
             "y": 0.2617753744738127,
             "z": 0.5
            }
           }
          }
         }
        },
        {
         "layout": {
          "scene": {
           "camera": {
            "eye": {
             "x": -1.9870720661905028,
             "y": 0.22703436692581513,
             "z": 0.5
            }
           }
          }
         }
        },
        {
         "layout": {
          "scene": {
           "camera": {
            "eye": {
             "x": -1.99074106912225,
             "y": 0.19222381670854566,
             "z": 0.5
            }
           }
          }
         }
        },
        {
         "layout": {
          "scene": {
           "camera": {
            "eye": {
             "x": -1.993800290153359,
             "y": 0.15735438660673629,
             "z": 0.5
            }
           }
          }
         }
        },
        {
         "layout": {
          "scene": {
           "camera": {
            "eye": {
             "x": -1.9962487922169028,
             "y": 0.12243675744055389,
             "z": 0.5
            }
           }
          }
         }
        },
        {
         "layout": {
          "scene": {
           "camera": {
            "eye": {
             "x": -1.99808582531467,
             "y": 0.087481624793976,
             "z": 0.5
            }
           }
          }
         }
        },
        {
         "layout": {
          "scene": {
           "camera": {
            "eye": {
             "x": -1.9993108267468946,
             "y": 0.05249969573863005,
             "z": 0.5
            }
           }
          }
         }
        },
        {
         "layout": {
          "scene": {
           "camera": {
            "eye": {
             "x": -1.9999234212846162,
             "y": 0.01750168555412811,
             "z": 0.5
            }
           }
          }
         }
        },
        {
         "layout": {
          "scene": {
           "camera": {
            "eye": {
             "x": -1.9999234212846162,
             "y": -0.017501685554126734,
             "z": 0.5
            }
           }
          }
         }
        },
        {
         "layout": {
          "scene": {
           "camera": {
            "eye": {
             "x": -1.9993108267468946,
             "y": -0.05249969573862867,
             "z": 0.5
            }
           }
          }
         }
        },
        {
         "layout": {
          "scene": {
           "camera": {
            "eye": {
             "x": -1.99808582531467,
             "y": -0.08748162479397374,
             "z": 0.5
            }
           }
          }
         }
        },
        {
         "layout": {
          "scene": {
           "camera": {
            "eye": {
             "x": -1.9962487922169028,
             "y": -0.12243675744055252,
             "z": 0.5
            }
           }
          }
         }
        },
        {
         "layout": {
          "scene": {
           "camera": {
            "eye": {
             "x": -1.993800290153359,
             "y": -0.15735438660673404,
             "z": 0.5
            }
           }
          }
         }
        },
        {
         "layout": {
          "scene": {
           "camera": {
            "eye": {
             "x": -1.9907410691222502,
             "y": -0.1922238167085443,
             "z": 0.5
            }
           }
          }
         }
        },
        {
         "layout": {
          "scene": {
           "camera": {
            "eye": {
             "x": -1.9870720661905033,
             "y": -0.22703436692581289,
             "z": 0.5
            }
           }
          }
         }
        },
        {
         "layout": {
          "scene": {
           "camera": {
            "eye": {
             "x": -1.9827944052067263,
             "y": -0.26177537447381133,
             "z": 0.5
            }
           }
          }
         }
        },
        {
         "layout": {
          "scene": {
           "camera": {
            "eye": {
             "x": -1.9779093964569665,
             "y": -0.2964361978693528,
             "z": 0.5
            }
           }
          }
         }
        },
        {
         "layout": {
          "scene": {
           "camera": {
            "eye": {
             "x": -1.9724185362633553,
             "y": -0.33100622019038156,
             "z": 0.5
            }
           }
          }
         }
        },
        {
         "layout": {
          "scene": {
           "camera": {
            "eye": {
             "x": -1.9663235065257723,
             "y": -0.3654748523280242,
             "z": 0.5
            }
           }
          }
         }
        },
        {
         "layout": {
          "scene": {
           "camera": {
            "eye": {
             "x": -1.9596261742066647,
             "y": -0.39983153623013623,
             "z": 0.5
            }
           }
          }
         }
        },
        {
         "layout": {
          "scene": {
           "camera": {
            "eye": {
             "x": -1.9523285907591794,
             "y": -0.4340657481353216,
             "z": 0.5
            }
           }
          }
         }
        },
        {
         "layout": {
          "scene": {
           "camera": {
            "eye": {
             "x": -1.9444329914987846,
             "y": -0.46816700179646137,
             "z": 0.5
            }
           }
          }
         }
        },
        {
         "layout": {
          "scene": {
           "camera": {
            "eye": {
             "x": -1.9359417949185715,
             "y": -0.502124851692743,
             "z": 0.5
            }
           }
          }
         }
        },
        {
         "layout": {
          "scene": {
           "camera": {
            "eye": {
             "x": -1.9268576019484511,
             "y": -0.5359288962292147,
             "z": 0.5
            }
           }
          }
         }
        },
        {
         "layout": {
          "scene": {
           "camera": {
            "eye": {
             "x": -1.917183195158462,
             "y": -0.5695687809228936,
             "z": 0.5
            }
           }
          }
         }
        },
        {
         "layout": {
          "scene": {
           "camera": {
            "eye": {
             "x": -1.906921537906447,
             "y": -0.6030342015744307,
             "z": 0.5
            }
           }
          }
         }
        },
        {
         "layout": {
          "scene": {
           "camera": {
            "eye": {
             "x": -1.8960757734303488,
             "y": -0.6363149074243855,
             "z": 0.5
            }
           }
          }
         }
        },
        {
         "layout": {
          "scene": {
           "camera": {
            "eye": {
             "x": -1.884649223885409,
             "y": -0.6694007042931203,
             "z": 0.5
            }
           }
          }
         }
        },
        {
         "layout": {
          "scene": {
           "camera": {
            "eye": {
             "x": -1.8726453893265598,
             "y": -0.7022814577033751,
             "z": 0.5
            }
           }
          }
         }
        },
        {
         "layout": {
          "scene": {
           "camera": {
            "eye": {
             "x": -1.8600679466363284,
             "y": -0.7349470959845429,
             "z": 0.5
            }
           }
          }
         }
        },
        {
         "layout": {
          "scene": {
           "camera": {
            "eye": {
             "x": -1.8469207483985726,
             "y": -0.7673876133577193,
             "z": 0.5
            }
           }
          }
         }
        },
        {
         "layout": {
          "scene": {
           "camera": {
            "eye": {
             "x": -1.8332078217184016,
             "y": -0.7995930730005564,
             "z": 0.5
            }
           }
          }
         }
        },
        {
         "layout": {
          "scene": {
           "camera": {
            "eye": {
             "x": -1.8189333669886358,
             "y": -0.831553610091006,
             "z": 0.5
            }
           }
          }
         }
        },
        {
         "layout": {
          "scene": {
           "camera": {
            "eye": {
             "x": -1.804101756603189,
             "y": -0.863259434829002,
             "z": 0.5
            }
           }
          }
         }
        },
        {
         "layout": {
          "scene": {
           "camera": {
            "eye": {
             "x": -1.7887175336177665,
             "y": -0.8947008354351605,
             "z": 0.5
            }
           }
          }
         }
        },
        {
         "layout": {
          "scene": {
           "camera": {
            "eye": {
             "x": -1.7727854103582836,
             "y": -0.925868181125592,
             "z": 0.5
            }
           }
          }
         }
        },
        {
         "layout": {
          "scene": {
           "camera": {
            "eye": {
             "x": -1.7563102669774404,
             "y": -0.9567519250618898,
             "z": 0.5
            }
           }
          }
         }
        },
        {
         "layout": {
          "scene": {
           "camera": {
            "eye": {
             "x": -1.7392971499598846,
             "y": -0.9873426072754194,
             "z": 0.5
            }
           }
          }
         }
        },
        {
         "layout": {
          "scene": {
           "camera": {
            "eye": {
             "x": -1.7217512705764302,
             "y": -1.0176308575649857,
             "z": 0.5
            }
           }
          }
         }
        },
        {
         "layout": {
          "scene": {
           "camera": {
            "eye": {
             "x": -1.703678003287796,
             "y": -1.0476073983670162,
             "z": 0.5
            }
           }
          }
         }
        },
        {
         "layout": {
          "scene": {
           "camera": {
            "eye": {
             "x": -1.6850828840983632,
             "y": -1.0772630475973557,
             "z": 0.5
            }
           }
          }
         }
        },
        {
         "layout": {
          "scene": {
           "camera": {
            "eye": {
             "x": -1.6659716088604426,
             "y": -1.1065887214638275,
             "z": 0.5
            }
           }
          }
         }
        },
        {
         "layout": {
          "scene": {
           "camera": {
            "eye": {
             "x": -1.6463500315295898,
             "y": -1.1355754372486746,
             "z": 0.5
            }
           }
          }
         }
        },
        {
         "layout": {
          "scene": {
           "camera": {
            "eye": {
             "x": -1.6262241623714806,
             "y": -1.1642143160600529,
             "z": 0.5
            }
           }
          }
         }
        },
        {
         "layout": {
          "scene": {
           "camera": {
            "eye": {
             "x": -1.6056001661209145,
             "y": -1.1924965855517122,
             "z": 0.5
            }
           }
          }
         }
        },
        {
         "layout": {
          "scene": {
           "camera": {
            "eye": {
             "x": -1.584484360093503,
             "y": -1.2204135826100437,
             "z": 0.5
            }
           }
          }
         }
        },
        {
         "layout": {
          "scene": {
           "camera": {
            "eye": {
             "x": -1.5628832122506155,
             "y": -1.2479567560076739,
             "z": 0.5
            }
           }
          }
         }
        },
        {
         "layout": {
          "scene": {
           "camera": {
            "eye": {
             "x": -1.540803339218188,
             "y": -1.2751176690227775,
             "z": 0.5
            }
           }
          }
         }
        },
        {
         "layout": {
          "scene": {
           "camera": {
            "eye": {
             "x": -1.5182515042599867,
             "y": -1.301888002023326,
             "z": 0.5
            }
           }
          }
         }
        },
        {
         "layout": {
          "scene": {
           "camera": {
            "eye": {
             "x": -1.4952346152059646,
             "y": -1.3282595550154612,
             "z": 0.5
            }
           }
          }
         }
        },
        {
         "layout": {
          "scene": {
           "camera": {
            "eye": {
             "x": -1.4717597223363263,
             "y": -1.3542242501552315,
             "z": 0.5
            }
           }
          }
         }
        },
        {
         "layout": {
          "scene": {
           "camera": {
            "eye": {
             "x": -1.4478340162219683,
             "y": -1.3797741342229044,
             "z": 0.5
            }
           }
          }
         }
        },
        {
         "layout": {
          "scene": {
           "camera": {
            "eye": {
             "x": -1.423464825521937,
             "y": -1.4049013810591122,
             "z": 0.5
            }
           }
          }
         }
        },
        {
         "layout": {
          "scene": {
           "camera": {
            "eye": {
             "x": -1.398659614738601,
             "y": -1.4295982939620726,
             "z": 0.5
            }
           }
          }
         }
        },
        {
         "layout": {
          "scene": {
           "camera": {
            "eye": {
             "x": -1.3734259819312002,
             "y": -1.4538573080451598,
             "z": 0.5
            }
           }
          }
         }
        },
        {
         "layout": {
          "scene": {
           "camera": {
            "eye": {
             "x": -1.3477716563884963,
             "y": -1.4776709925540965,
             "z": 0.5
            }
           }
          }
         }
        },
        {
         "layout": {
          "scene": {
           "camera": {
            "eye": {
             "x": -1.3217044962612223,
             "y": -1.5010320531430597,
             "z": 0.5
            }
           }
          }
         }
        },
        {
         "layout": {
          "scene": {
           "camera": {
            "eye": {
             "x": -1.295232486155056,
             "y": -1.5239333341090064,
             "z": 0.5
            }
           }
          }
         }
        },
        {
         "layout": {
          "scene": {
           "camera": {
            "eye": {
             "x": -1.2683637346848693,
             "y": -1.546367820583528,
             "z": 0.5
            }
           }
          }
         }
        },
        {
         "layout": {
          "scene": {
           "camera": {
            "eye": {
             "x": -1.2411064719909815,
             "y": -1.5683286406815693,
             "z": 0.5
            }
           }
          }
         }
        },
        {
         "layout": {
          "scene": {
           "camera": {
            "eye": {
             "x": -1.2134690472181942,
             "y": -1.5898090676063488,
             "z": 0.5
            }
           }
          }
         }
        },
        {
         "layout": {
          "scene": {
           "camera": {
            "eye": {
             "x": -1.1854599259583782,
             "y": -1.6108025217098327,
             "z": 0.5
            }
           }
          }
         }
        },
        {
         "layout": {
          "scene": {
           "camera": {
            "eye": {
             "x": -1.1570876876573795,
             "y": -1.6313025725081471,
             "z": 0.5
            }
           }
          }
         }
        },
        {
         "layout": {
          "scene": {
           "camera": {
            "eye": {
             "x": -1.1283610229870604,
             "y": -1.651302940651289,
             "z": 0.5
            }
           }
          }
         }
        },
        {
         "layout": {
          "scene": {
           "camera": {
            "eye": {
             "x": -1.0992887311832706,
             "y": -1.6707974998465478,
             "z": 0.5
            }
           }
          }
         }
        },
        {
         "layout": {
          "scene": {
           "camera": {
            "eye": {
             "x": -1.0698797173505585,
             "y": -1.6897802787350458,
             "z": 0.5
            }
           }
          }
         }
        },
        {
         "layout": {
          "scene": {
           "camera": {
            "eye": {
             "x": -1.0401429897344634,
             "y": -1.7082454627208152,
             "z": 0.5
            }
           }
          }
         }
        },
        {
         "layout": {
          "scene": {
           "camera": {
            "eye": {
             "x": -1.010087656962201,
             "y": -1.7261873957518665,
             "z": 0.5
            }
           }
          }
         }
        },
        {
         "layout": {
          "scene": {
           "camera": {
            "eye": {
             "x": -0.9797229252526147,
             "y": -1.7436005820526843,
             "z": 0.5
            }
           }
          }
         }
        },
        {
         "layout": {
          "scene": {
           "camera": {
            "eye": {
             "x": -0.949058095596224,
             "y": -1.7604796878076352,
             "z": 0.5
            }
           }
          }
         }
        },
        {
         "layout": {
          "scene": {
           "camera": {
            "eye": {
             "x": -0.9181025609062545,
             "y": -1.7768195427947593,
             "z": 0.5
            }
           }
          }
         }
        },
        {
         "layout": {
          "scene": {
           "camera": {
            "eye": {
             "x": -0.8868658031414945,
             "y": -1.7926151419694614,
             "z": 0.5
            }
           }
          }
         }
        },
        {
         "layout": {
          "scene": {
           "camera": {
            "eye": {
             "x": -0.8553573904018917,
             "y": -1.8078616469975974,
             "z": 0.5
            }
           }
          }
         }
        },
        {
         "layout": {
          "scene": {
           "camera": {
            "eye": {
             "x": -0.8235869739977553,
             "y": -1.8225543877375021,
             "z": 0.5
            }
           }
          }
         }
        },
        {
         "layout": {
          "scene": {
           "camera": {
            "eye": {
             "x": -0.7915642854934789,
             "y": -1.8366888636704906,
             "z": 0.5
            }
           }
          }
         }
        },
        {
         "layout": {
          "scene": {
           "camera": {
            "eye": {
             "x": -0.7592991337266656,
             "y": -1.8502607452794146,
             "z": 0.5
            }
           }
          }
         }
        },
        {
         "layout": {
          "scene": {
           "camera": {
            "eye": {
             "x": -0.7268014018035986,
             "y": -1.863265875374828,
             "z": 0.5
            }
           }
          }
         }
        },
        {
         "layout": {
          "scene": {
           "camera": {
            "eye": {
             "x": -0.6940810440719558,
             "y": -1.875700270368372,
             "z": 0.5
            }
           }
          }
         }
        },
        {
         "layout": {
          "scene": {
           "camera": {
            "eye": {
             "x": -0.6611480830717015,
             "y": -1.8875601214929856,
             "z": 0.5
            }
           }
          }
         }
        },
        {
         "layout": {
          "scene": {
           "camera": {
            "eye": {
             "x": -0.6280126064650989,
             "y": -1.8988417959695623,
             "z": 0.5
            }
           }
          }
         }
        },
        {
         "layout": {
          "scene": {
           "camera": {
            "eye": {
             "x": -0.5946847639467587,
             "y": -1.9095418381197067,
             "z": 0.5
            }
           }
          }
         }
        },
        {
         "layout": {
          "scene": {
           "camera": {
            "eye": {
             "x": -0.5611747641347028,
             "y": -1.9196569704242372,
             "z": 0.5
            }
           }
          }
         }
        },
        {
         "layout": {
          "scene": {
           "camera": {
            "eye": {
             "x": -0.5274928714433692,
             "y": -1.9291840945271215,
             "z": 0.5
            }
           }
          }
         }
        },
        {
         "layout": {
          "scene": {
           "camera": {
            "eye": {
             "x": -0.4936494029395365,
             "y": -1.9381202921845277,
             "z": 0.5
            }
           }
          }
         }
        },
        {
         "layout": {
          "scene": {
           "camera": {
            "eye": {
             "x": -0.45965472518210354,
             "y": -1.9464628261587131,
             "z": 0.5
            }
           }
          }
         }
        },
        {
         "layout": {
          "scene": {
           "camera": {
            "eye": {
             "x": -0.42551925104672544,
             "y": -1.9542091410564617,
             "z": 0.5
            }
           }
          }
         }
        },
        {
         "layout": {
          "scene": {
           "camera": {
            "eye": {
             "x": -0.3912534365362548,
             "y": -1.9613568641118246,
             "z": 0.5
            }
           }
          }
         }
        },
        {
         "layout": {
          "scene": {
           "camera": {
            "eye": {
             "x": -0.35686777757797206,
             "y": -1.9679038059129208,
             "z": 0.5
            }
           }
          }
         }
        },
        {
         "layout": {
          "scene": {
           "camera": {
            "eye": {
             "x": -0.3223728068085954,
             "y": -1.9738479610725717,
             "z": 0.5
            }
           }
          }
         }
        },
        {
         "layout": {
          "scene": {
           "camera": {
            "eye": {
             "x": -0.2877790903480293,
             "y": -1.9791875088425708,
             "z": 0.5
            }
           }
          }
         }
        },
        {
         "layout": {
          "scene": {
           "camera": {
            "eye": {
             "x": -0.25309722456287326,
             "y": -1.983920813671395,
             "z": 0.5
            }
           }
          }
         }
        },
        {
         "layout": {
          "scene": {
           "camera": {
            "eye": {
             "x": -0.21833783282065655,
             "y": -1.9880464257051893,
             "z": 0.5
            }
           }
          }
         }
        },
        {
         "layout": {
          "scene": {
           "camera": {
            "eye": {
             "x": -0.18351156223581172,
             "y": -1.9915630812318679,
             "z": 0.5
            }
           }
          }
         }
        },
        {
         "layout": {
          "scene": {
           "camera": {
            "eye": {
             "x": -0.1486290804083573,
             "y": -1.994469703068203,
             "z": 0.5
            }
           }
          }
         }
        },
        {
         "layout": {
          "scene": {
           "camera": {
            "eye": {
             "x": -0.11370107215632295,
             "y": -1.9967654008897746,
             "z": 0.5
            }
           }
          }
         }
        },
        {
         "layout": {
          "scene": {
           "camera": {
            "eye": {
             "x": -0.07873823624289181,
             "y": -1.9984494715036851,
             "z": 0.5
            }
           }
          }
         }
        },
        {
         "layout": {
          "scene": {
           "camera": {
            "eye": {
             "x": -0.04375128209927122,
             "y": -1.9995213990639535,
             "z": 0.5
            }
           }
          }
         }
        },
        {
         "layout": {
          "scene": {
           "camera": {
            "eye": {
             "x": -0.008750926544304819,
             "y": -1.9999808552295235,
             "z": 0.5
            }
           }
          }
         }
        },
        {
         "layout": {
          "scene": {
           "camera": {
            "eye": {
             "x": 0.02625210949819625,
             "y": -1.9998276992648378,
             "z": 0.5
            }
           }
          }
         }
        },
        {
         "layout": {
          "scene": {
           "camera": {
            "eye": {
             "x": 0.061247104283361616,
             "y": -1.9990619780829466,
             "z": 0.5
            }
           }
          }
         }
        },
        {
         "layout": {
          "scene": {
           "camera": {
            "eye": {
             "x": 0.09622333852943213,
             "y": -1.9976839262311368,
             "z": 0.5
            }
           }
          }
         }
        },
        {
         "layout": {
          "scene": {
           "camera": {
            "eye": {
             "x": 0.13117009870116528,
             "y": -1.9956939658190898,
             "z": 0.5
            }
           }
          }
         }
        },
        {
         "layout": {
          "scene": {
           "camera": {
            "eye": {
             "x": 0.16607668029149797,
             "y": -1.9930927063895838,
             "z": 0.5
            }
           }
          }
         }
        },
        {
         "layout": {
          "scene": {
           "camera": {
            "eye": {
             "x": 0.20093239110042638,
             "y": -1.989880944731786,
             "z": 0.5
            }
           }
          }
         }
        },
        {
         "layout": {
          "scene": {
           "camera": {
            "eye": {
             "x": 0.23572655451012642,
             "y": -1.986059664637189,
             "z": 0.5
            }
           }
          }
         }
        },
        {
         "layout": {
          "scene": {
           "camera": {
            "eye": {
             "x": 0.2704485127552909,
             "y": -1.9816300365982675,
             "z": 0.5
            }
           }
          }
         }
        },
        {
         "layout": {
          "scene": {
           "camera": {
            "eye": {
             "x": 0.3050876301877095,
             "y": -1.9765934174499438,
             "z": 0.5
            }
           }
          }
         }
        },
        {
         "layout": {
          "scene": {
           "camera": {
            "eye": {
             "x": 0.33963329653405633,
             "y": -1.9709513499539784,
             "z": 0.5
            }
           }
          }
         }
        },
        {
         "layout": {
          "scene": {
           "camera": {
            "eye": {
             "x": 0.37407493014591403,
             "y": -1.9647055623264087,
             "z": 0.5
            }
           }
          }
         }
        },
        {
         "layout": {
          "scene": {
           "camera": {
            "eye": {
             "x": 0.4084019812410295,
             "y": -1.9578579677081793,
             "z": 0.5
            }
           }
          }
         }
        },
        {
         "layout": {
          "scene": {
           "camera": {
            "eye": {
             "x": 0.44260393513480023,
             "y": -1.9504106635791318,
             "z": 0.5
            }
           }
          }
         }
        },
        {
         "layout": {
          "scene": {
           "camera": {
            "eye": {
             "x": 0.4766703154610274,
             "y": -1.9423659311155261,
             "z": 0.5
            }
           }
          }
         }
        },
        {
         "layout": {
          "scene": {
           "camera": {
            "eye": {
             "x": 0.5105906873809137,
             "y": -1.9337262344912958,
             "z": 0.5
            }
           }
          }
         }
        },
        {
         "layout": {
          "scene": {
           "camera": {
            "eye": {
             "x": 0.5443546607793522,
             "y": -1.92449422012325,
             "z": 0.5
            }
           }
          }
         }
        },
        {
         "layout": {
          "scene": {
           "camera": {
            "eye": {
             "x": 0.5779518934475053,
             "y": -1.914672715860453,
             "z": 0.5
            }
           }
          }
         }
        },
        {
         "layout": {
          "scene": {
           "camera": {
            "eye": {
             "x": 0.611372094250726,
             "y": -1.9042647301180267,
             "z": 0.5
            }
           }
          }
         }
        },
        {
         "layout": {
          "scene": {
           "camera": {
            "eye": {
             "x": 0.6446050262808191,
             "y": -1.893273450955647,
             "z": 0.5
            }
           }
          }
         }
        },
        {
         "layout": {
          "scene": {
           "camera": {
            "eye": {
             "x": 0.6776405099916991,
             "y": -1.8817022451010124,
             "z": 0.5
            }
           }
          }
         }
        },
        {
         "layout": {
          "scene": {
           "camera": {
            "eye": {
             "x": 0.710468426317479,
             "y": -1.8695546569185841,
             "z": 0.5
            }
           }
          }
         }
        },
        {
         "layout": {
          "scene": {
           "camera": {
            "eye": {
             "x": 0.7430787197720243,
             "y": -1.856834407323919,
             "z": 0.5
            }
           }
          }
         }
        },
        {
         "layout": {
          "scene": {
           "camera": {
            "eye": {
             "x": 0.7754614015290493,
             "y": -1.8435453926439138,
             "z": 0.5
            }
           }
          }
         }
        },
        {
         "layout": {
          "scene": {
           "camera": {
            "eye": {
             "x": 0.807606552481777,
             "y": -1.8296916834233299,
             "z": 0.5
            }
           }
          }
         }
        },
        {
         "layout": {
          "scene": {
           "camera": {
            "eye": {
             "x": 0.8395043262812548,
             "y": -1.8152775231779454,
             "z": 0.5
            }
           }
          }
         }
        },
        {
         "layout": {
          "scene": {
           "camera": {
            "eye": {
             "x": 0.871144952352373,
             "y": -1.800307327094733,
             "z": 0.5
            }
           }
          }
         }
        },
        {
         "layout": {
          "scene": {
           "camera": {
            "eye": {
             "x": 0.9025187388866892,
             "y": -1.7847856806794422,
             "z": 0.5
            }
           }
          }
         }
        },
        {
         "layout": {
          "scene": {
           "camera": {
            "eye": {
             "x": 0.9336160758111107,
             "y": -1.7687173383520223,
             "z": 0.5
            }
           }
          }
         }
        },
        {
         "layout": {
          "scene": {
           "camera": {
            "eye": {
             "x": 0.9644274377315492,
             "y": -1.7521072219902978,
             "z": 0.5
            }
           }
          }
         }
        },
        {
         "layout": {
          "scene": {
           "camera": {
            "eye": {
             "x": 0.994943386850628,
             "y": -1.7349604194223571,
             "z": 0.5
            }
           }
          }
         }
        },
        {
         "layout": {
          "scene": {
           "camera": {
            "eye": {
             "x": 1.0251545758585745,
             "y": -1.7172821828681,
             "z": 0.5
            }
           }
          }
         }
        },
        {
         "layout": {
          "scene": {
           "camera": {
            "eye": {
             "x": 1.0550517507963784,
             "y": -1.6990779273304377,
             "z": 0.5
            }
           }
          }
         }
        },
        {
         "layout": {
          "scene": {
           "camera": {
            "eye": {
             "x": 1.0846257538903643,
             "y": -1.68035322893663,
             "z": 0.5
            }
           }
          }
         }
        },
        {
         "layout": {
          "scene": {
           "camera": {
            "eye": {
             "x": 1.1138675263573017,
             "y": -1.6611138232302645,
             "z": 0.5
            }
           }
          }
         }
        },
        {
         "layout": {
          "scene": {
           "camera": {
            "eye": {
             "x": 1.1427681111791856,
             "y": -1.6413656034144117,
             "z": 0.5
            }
           }
          }
         }
        },
        {
         "layout": {
          "scene": {
           "camera": {
            "eye": {
             "x": 1.1713186558468618,
             "y": -1.6211146185464806,
             "z": 0.5
            }
           }
          }
         }
        },
        {
         "layout": {
          "scene": {
           "camera": {
            "eye": {
             "x": 1.199510415071622,
             "y": -1.6003670716853384,
             "z": 0.5
            }
           }
          }
         }
        },
        {
         "layout": {
          "scene": {
           "camera": {
            "eye": {
             "x": 1.2273347534639696,
             "y": -1.5791293179912584,
             "z": 0.5
            }
           }
          }
         }
        },
        {
         "layout": {
          "scene": {
           "camera": {
            "eye": {
             "x": 1.2547831481787097,
             "y": -1.5574078627792804,
             "z": 0.5
            }
           }
          }
         }
        },
        {
         "layout": {
          "scene": {
           "camera": {
            "eye": {
             "x": 1.2818471915255834,
             "y": -1.5352093595265677,
             "z": 0.5
            }
           }
          }
         }
        },
        {
         "layout": {
          "scene": {
           "camera": {
            "eye": {
             "x": 1.3085185935446115,
             "y": -1.512540607834392,
             "z": 0.5
            }
           }
          }
         }
        },
        {
         "layout": {
          "scene": {
           "camera": {
            "eye": {
             "x": 1.3347891845453872,
             "y": -1.489408551345352,
             "z": 0.5
            }
           }
          }
         }
        },
        {
         "layout": {
          "scene": {
           "camera": {
            "eye": {
             "x": 1.360650917609525,
             "y": -1.4658202756164747,
             "z": 0.5
            }
           }
          }
         }
        },
        {
         "layout": {
          "scene": {
           "camera": {
            "eye": {
             "x": 1.386095871055501,
             "y": -1.4417830059488468,
             "z": 0.5
            }
           }
          }
         }
        },
        {
         "layout": {
          "scene": {
           "camera": {
            "eye": {
             "x": 1.4111162508651416,
             "y": -1.4173041051744355,
             "z": 0.5
            }
           }
          }
         }
        },
        {
         "layout": {
          "scene": {
           "camera": {
            "eye": {
             "x": 1.4357043930709967,
             "y": -1.3923910714007903,
             "z": 0.5
            }
           }
          }
         }
        },
        {
         "layout": {
          "scene": {
           "camera": {
            "eye": {
             "x": 1.4598527661038851,
             "y": -1.3670515357143034,
             "z": 0.5
            }
           }
          }
         }
        },
        {
         "layout": {
          "scene": {
           "camera": {
            "eye": {
             "x": 1.4835539730998755,
             "y": -1.3412932598427438,
             "z": 0.5
            }
           }
          }
         }
        },
        {
         "layout": {
          "scene": {
           "camera": {
            "eye": {
             "x": 1.5068007541660207,
             "y": -1.315124133777763,
             "z": 0.5
            }
           }
          }
         }
        },
        {
         "layout": {
          "scene": {
           "camera": {
            "eye": {
             "x": 1.5295859886041236,
             "y": -1.2885521733581244,
             "z": 0.5
            }
           }
          }
         }
        },
        {
         "layout": {
          "scene": {
           "camera": {
            "eye": {
             "x": 1.5519026970918717,
             "y": -1.2615855178143789,
             "z": 0.5
            }
           }
          }
         }
        },
        {
         "layout": {
          "scene": {
           "camera": {
            "eye": {
             "x": 1.5737440438206676,
             "y": -1.2342324272757434,
             "z": 0.5
            }
           }
          }
         }
        },
        {
         "layout": {
          "scene": {
           "camera": {
            "eye": {
             "x": 1.5951033385894942,
             "y": -1.2065012802399548,
             "z": 0.5
            }
           }
          }
         }
        },
        {
         "layout": {
          "scene": {
           "camera": {
            "eye": {
             "x": 1.6159740388541903,
             "y": -1.1784005710068526,
             "z": 0.5
            }
           }
          }
         }
        },
        {
         "layout": {
          "scene": {
           "camera": {
            "eye": {
             "x": 1.6363497517314862,
             "y": -1.1499389070765034,
             "z": 0.5
            }
           }
          }
         }
        },
        {
         "layout": {
          "scene": {
           "camera": {
            "eye": {
             "x": 1.656224235957204,
             "y": -1.1211250065126441,
             "z": 0.5
            }
           }
          }
         }
        },
        {
         "layout": {
          "scene": {
           "camera": {
            "eye": {
             "x": 1.6755914037980073,
             "y": -1.0919676952722654,
             "z": 0.5
            }
           }
          }
         }
        },
        {
         "layout": {
          "scene": {
           "camera": {
            "eye": {
             "x": 1.6944453229161367,
             "y": -1.0624759045021346,
             "z": 0.5
            }
           }
          }
         }
        },
        {
         "layout": {
          "scene": {
           "camera": {
            "eye": {
             "x": 1.7127802181865333,
             "y": -1.0326586678031087,
             "z": 0.5
            }
           }
          }
         }
        },
        {
         "layout": {
          "scene": {
           "camera": {
            "eye": {
             "x": 1.7305904734658133,
             "y": -1.00252511846306,
             "z": 0.5
            }
           }
          }
         }
        },
        {
         "layout": {
          "scene": {
           "camera": {
            "eye": {
             "x": 1.7478706333125396,
             "y": -0.9720844866592728,
             "z": 0.5
            }
           }
          }
         }
        },
        {
         "layout": {
          "scene": {
           "camera": {
            "eye": {
             "x": 1.7646154046582785,
             "y": -0.9413460966311489,
             "z": 0.5
            }
           }
          }
         }
        },
        {
         "layout": {
          "scene": {
           "camera": {
            "eye": {
             "x": 1.78081965842891,
             "y": -0.9103193638241143,
             "z": 0.5
            }
           }
          }
         }
        },
        {
         "layout": {
          "scene": {
           "camera": {
            "eye": {
             "x": 1.796478431115711,
             "y": -0.8790137920055826,
             "z": 0.5
            }
           }
          }
         }
        },
        {
         "layout": {
          "scene": {
           "camera": {
            "eye": {
             "x": 1.8115869262957223,
             "y": -0.8474389703538638,
             "z": 0.5
            }
           }
          }
         }
        },
        {
         "layout": {
          "scene": {
           "camera": {
            "eye": {
             "x": 1.8261405161009343,
             "y": -0.8156045705209193,
             "z": 0.5
            }
           }
          }
         }
        },
        {
         "layout": {
          "scene": {
           "camera": {
            "eye": {
             "x": 1.840134742635848,
             "y": -0.7835203436698378,
             "z": 0.5
            }
           }
          }
         }
        },
        {
         "layout": {
          "scene": {
           "camera": {
            "eye": {
             "x": 1.853565319342967,
             "y": -0.7511961174879731,
             "z": 0.5
            }
           }
          }
         }
        },
        {
         "layout": {
          "scene": {
           "camera": {
            "eye": {
             "x": 1.8664281323158078,
             "y": -0.7186417931766319,
             "z": 0.5
            }
           }
          }
         }
        },
        {
         "layout": {
          "scene": {
           "camera": {
            "eye": {
             "x": 1.8787192415590264,
             "y": -0.6858673424182528,
             "z": 0.5
            }
           }
          }
         }
        },
        {
         "layout": {
          "scene": {
           "camera": {
            "eye": {
             "x": 1.8904348821952757,
             "y": -0.6528828043219809,
             "z": 0.5
            }
           }
          }
         }
        },
        {
         "layout": {
          "scene": {
           "camera": {
            "eye": {
             "x": 1.9015714656184208,
             "y": -0.6196982823486048,
             "z": 0.5
            }
           }
          }
         }
        },
        {
         "layout": {
          "scene": {
           "camera": {
            "eye": {
             "x": 1.9121255805927606,
             "y": -0.5863239412157739,
             "z": 0.5
            }
           }
          }
         }
        },
        {
         "layout": {
          "scene": {
           "camera": {
            "eye": {
             "x": 1.922093994297921,
             "y": -0.5527700037844524,
             "z": 0.5
            }
           }
          }
         }
        },
        {
         "layout": {
          "scene": {
           "camera": {
            "eye": {
             "x": 1.931473653319095,
             "y": -0.5190467479275714,
             "z": 0.5
            }
           }
          }
         }
        },
        {
         "layout": {
          "scene": {
           "camera": {
            "eye": {
             "x": 1.9402616845823342,
             "y": -0.48516450338181444,
             "z": 0.5
            }
           }
          }
         }
        },
        {
         "layout": {
          "scene": {
           "camera": {
            "eye": {
             "x": 1.9484553962345943,
             "y": -0.4511336485835323,
             "z": 0.5
            }
           }
          }
         }
        },
        {
         "layout": {
          "scene": {
           "camera": {
            "eye": {
             "x": 1.9560522784682761,
             "y": -0.4169646074897315,
             "z": 0.5
            }
           }
          }
         }
        },
        {
         "layout": {
          "scene": {
           "camera": {
            "eye": {
             "x": 1.9630500042899994,
             "y": -0.38266784638512963,
             "z": 0.5
            }
           }
          }
         }
        },
        {
         "layout": {
          "scene": {
           "camera": {
            "eye": {
             "x": 1.9694464302333856,
             "y": -0.34825387067622726,
             "z": 0.5
            }
           }
          }
         }
        },
        {
         "layout": {
          "scene": {
           "camera": {
            "eye": {
             "x": 1.9752395970156178,
             "y": -0.3137332216734146,
             "z": 0.5
            }
           }
          }
         }
        },
        {
         "layout": {
          "scene": {
           "camera": {
            "eye": {
             "x": 1.9804277301375885,
             "y": -0.27911647336206996,
             "z": 0.5
            }
           }
          }
         }
        },
        {
         "layout": {
          "scene": {
           "camera": {
            "eye": {
             "x": 1.9850092404274429,
             "y": -0.2444142291636596,
             "z": 0.5
            }
           }
          }
         }
        },
        {
         "layout": {
          "scene": {
           "camera": {
            "eye": {
             "x": 1.9889827245273588,
             "y": -0.20963711868780402,
             "z": 0.5
            }
           }
          }
         }
        },
        {
         "layout": {
          "scene": {
           "camera": {
            "eye": {
             "x": 1.992346965323406,
             "y": -0.17479579447633986,
             "z": 0.5
            }
           }
          }
         }
        },
        {
         "layout": {
          "scene": {
           "camera": {
            "eye": {
             "x": 1.9951009323183597,
             "y": -0.13990092874034862,
             "z": 0.5
            }
           }
          }
         }
        },
        {
         "layout": {
          "scene": {
           "camera": {
            "eye": {
             "x": 1.9972437819473512,
             "y": -0.10496321009116087,
             "z": 0.5
            }
           }
          }
         }
        },
        {
         "layout": {
          "scene": {
           "camera": {
            "eye": {
             "x": 1.9987748578362596,
             "y": -0.06999334026634522,
             "z": 0.5
            }
           }
          }
         }
        },
        {
         "layout": {
          "scene": {
           "camera": {
            "eye": {
             "x": 1.9996936910027645,
             "y": -0.035002030851659434,
             "z": 0.5
            }
           }
          }
         }
        },
        {
         "layout": {
          "scene": {
           "camera": {
            "eye": {
             "x": 2,
             "y": -4.898587196589413e-16,
             "z": 0.5
            }
           }
          }
         }
        }
       ],
       "layout": {
        "height": 800,
        "scene": {
         "aspectratio": {
          "x": 1,
          "y": 1,
          "z": 2
         },
         "camera": {
          "eye": {
           "x": 2,
           "y": 0,
           "z": 0
          }
         },
         "xaxis": {
          "visible": false
         },
         "yaxis": {
          "visible": false
         },
         "zaxis": {
          "visible": false
         }
        },
        "showlegend": false,
        "template": {
         "data": {
          "bar": [
           {
            "error_x": {
             "color": "#2a3f5f"
            },
            "error_y": {
             "color": "#2a3f5f"
            },
            "marker": {
             "line": {
              "color": "#E5ECF6",
              "width": 0.5
             },
             "pattern": {
              "fillmode": "overlay",
              "size": 10,
              "solidity": 0.2
             }
            },
            "type": "bar"
           }
          ],
          "barpolar": [
           {
            "marker": {
             "line": {
              "color": "#E5ECF6",
              "width": 0.5
             },
             "pattern": {
              "fillmode": "overlay",
              "size": 10,
              "solidity": 0.2
             }
            },
            "type": "barpolar"
           }
          ],
          "carpet": [
           {
            "aaxis": {
             "endlinecolor": "#2a3f5f",
             "gridcolor": "white",
             "linecolor": "white",
             "minorgridcolor": "white",
             "startlinecolor": "#2a3f5f"
            },
            "baxis": {
             "endlinecolor": "#2a3f5f",
             "gridcolor": "white",
             "linecolor": "white",
             "minorgridcolor": "white",
             "startlinecolor": "#2a3f5f"
            },
            "type": "carpet"
           }
          ],
          "choropleth": [
           {
            "colorbar": {
             "outlinewidth": 0,
             "ticks": ""
            },
            "type": "choropleth"
           }
          ],
          "contour": [
           {
            "colorbar": {
             "outlinewidth": 0,
             "ticks": ""
            },
            "colorscale": [
             [
              0,
              "#0d0887"
             ],
             [
              0.1111111111111111,
              "#46039f"
             ],
             [
              0.2222222222222222,
              "#7201a8"
             ],
             [
              0.3333333333333333,
              "#9c179e"
             ],
             [
              0.4444444444444444,
              "#bd3786"
             ],
             [
              0.5555555555555556,
              "#d8576b"
             ],
             [
              0.6666666666666666,
              "#ed7953"
             ],
             [
              0.7777777777777778,
              "#fb9f3a"
             ],
             [
              0.8888888888888888,
              "#fdca26"
             ],
             [
              1,
              "#f0f921"
             ]
            ],
            "type": "contour"
           }
          ],
          "contourcarpet": [
           {
            "colorbar": {
             "outlinewidth": 0,
             "ticks": ""
            },
            "type": "contourcarpet"
           }
          ],
          "heatmap": [
           {
            "colorbar": {
             "outlinewidth": 0,
             "ticks": ""
            },
            "colorscale": [
             [
              0,
              "#0d0887"
             ],
             [
              0.1111111111111111,
              "#46039f"
             ],
             [
              0.2222222222222222,
              "#7201a8"
             ],
             [
              0.3333333333333333,
              "#9c179e"
             ],
             [
              0.4444444444444444,
              "#bd3786"
             ],
             [
              0.5555555555555556,
              "#d8576b"
             ],
             [
              0.6666666666666666,
              "#ed7953"
             ],
             [
              0.7777777777777778,
              "#fb9f3a"
             ],
             [
              0.8888888888888888,
              "#fdca26"
             ],
             [
              1,
              "#f0f921"
             ]
            ],
            "type": "heatmap"
           }
          ],
          "histogram": [
           {
            "marker": {
             "pattern": {
              "fillmode": "overlay",
              "size": 10,
              "solidity": 0.2
             }
            },
            "type": "histogram"
           }
          ],
          "histogram2d": [
           {
            "colorbar": {
             "outlinewidth": 0,
             "ticks": ""
            },
            "colorscale": [
             [
              0,
              "#0d0887"
             ],
             [
              0.1111111111111111,
              "#46039f"
             ],
             [
              0.2222222222222222,
              "#7201a8"
             ],
             [
              0.3333333333333333,
              "#9c179e"
             ],
             [
              0.4444444444444444,
              "#bd3786"
             ],
             [
              0.5555555555555556,
              "#d8576b"
             ],
             [
              0.6666666666666666,
              "#ed7953"
             ],
             [
              0.7777777777777778,
              "#fb9f3a"
             ],
             [
              0.8888888888888888,
              "#fdca26"
             ],
             [
              1,
              "#f0f921"
             ]
            ],
            "type": "histogram2d"
           }
          ],
          "histogram2dcontour": [
           {
            "colorbar": {
             "outlinewidth": 0,
             "ticks": ""
            },
            "colorscale": [
             [
              0,
              "#0d0887"
             ],
             [
              0.1111111111111111,
              "#46039f"
             ],
             [
              0.2222222222222222,
              "#7201a8"
             ],
             [
              0.3333333333333333,
              "#9c179e"
             ],
             [
              0.4444444444444444,
              "#bd3786"
             ],
             [
              0.5555555555555556,
              "#d8576b"
             ],
             [
              0.6666666666666666,
              "#ed7953"
             ],
             [
              0.7777777777777778,
              "#fb9f3a"
             ],
             [
              0.8888888888888888,
              "#fdca26"
             ],
             [
              1,
              "#f0f921"
             ]
            ],
            "type": "histogram2dcontour"
           }
          ],
          "mesh3d": [
           {
            "colorbar": {
             "outlinewidth": 0,
             "ticks": ""
            },
            "type": "mesh3d"
           }
          ],
          "parcoords": [
           {
            "line": {
             "colorbar": {
              "outlinewidth": 0,
              "ticks": ""
             }
            },
            "type": "parcoords"
           }
          ],
          "pie": [
           {
            "automargin": true,
            "type": "pie"
           }
          ],
          "scatter": [
           {
            "fillpattern": {
             "fillmode": "overlay",
             "size": 10,
             "solidity": 0.2
            },
            "type": "scatter"
           }
          ],
          "scatter3d": [
           {
            "line": {
             "colorbar": {
              "outlinewidth": 0,
              "ticks": ""
             }
            },
            "marker": {
             "colorbar": {
              "outlinewidth": 0,
              "ticks": ""
             }
            },
            "type": "scatter3d"
           }
          ],
          "scattercarpet": [
           {
            "marker": {
             "colorbar": {
              "outlinewidth": 0,
              "ticks": ""
             }
            },
            "type": "scattercarpet"
           }
          ],
          "scattergeo": [
           {
            "marker": {
             "colorbar": {
              "outlinewidth": 0,
              "ticks": ""
             }
            },
            "type": "scattergeo"
           }
          ],
          "scattergl": [
           {
            "marker": {
             "colorbar": {
              "outlinewidth": 0,
              "ticks": ""
             }
            },
            "type": "scattergl"
           }
          ],
          "scattermap": [
           {
            "marker": {
             "colorbar": {
              "outlinewidth": 0,
              "ticks": ""
             }
            },
            "type": "scattermap"
           }
          ],
          "scattermapbox": [
           {
            "marker": {
             "colorbar": {
              "outlinewidth": 0,
              "ticks": ""
             }
            },
            "type": "scattermapbox"
           }
          ],
          "scatterpolar": [
           {
            "marker": {
             "colorbar": {
              "outlinewidth": 0,
              "ticks": ""
             }
            },
            "type": "scatterpolar"
           }
          ],
          "scatterpolargl": [
           {
            "marker": {
             "colorbar": {
              "outlinewidth": 0,
              "ticks": ""
             }
            },
            "type": "scatterpolargl"
           }
          ],
          "scatterternary": [
           {
            "marker": {
             "colorbar": {
              "outlinewidth": 0,
              "ticks": ""
             }
            },
            "type": "scatterternary"
           }
          ],
          "surface": [
           {
            "colorbar": {
             "outlinewidth": 0,
             "ticks": ""
            },
            "colorscale": [
             [
              0,
              "#0d0887"
             ],
             [
              0.1111111111111111,
              "#46039f"
             ],
             [
              0.2222222222222222,
              "#7201a8"
             ],
             [
              0.3333333333333333,
              "#9c179e"
             ],
             [
              0.4444444444444444,
              "#bd3786"
             ],
             [
              0.5555555555555556,
              "#d8576b"
             ],
             [
              0.6666666666666666,
              "#ed7953"
             ],
             [
              0.7777777777777778,
              "#fb9f3a"
             ],
             [
              0.8888888888888888,
              "#fdca26"
             ],
             [
              1,
              "#f0f921"
             ]
            ],
            "type": "surface"
           }
          ],
          "table": [
           {
            "cells": {
             "fill": {
              "color": "#EBF0F8"
             },
             "line": {
              "color": "white"
             }
            },
            "header": {
             "fill": {
              "color": "#C8D4E3"
             },
             "line": {
              "color": "white"
             }
            },
            "type": "table"
           }
          ]
         },
         "layout": {
          "annotationdefaults": {
           "arrowcolor": "#2a3f5f",
           "arrowhead": 0,
           "arrowwidth": 1
          },
          "autotypenumbers": "strict",
          "coloraxis": {
           "colorbar": {
            "outlinewidth": 0,
            "ticks": ""
           }
          },
          "colorscale": {
           "diverging": [
            [
             0,
             "#8e0152"
            ],
            [
             0.1,
             "#c51b7d"
            ],
            [
             0.2,
             "#de77ae"
            ],
            [
             0.3,
             "#f1b6da"
            ],
            [
             0.4,
             "#fde0ef"
            ],
            [
             0.5,
             "#f7f7f7"
            ],
            [
             0.6,
             "#e6f5d0"
            ],
            [
             0.7,
             "#b8e186"
            ],
            [
             0.8,
             "#7fbc41"
            ],
            [
             0.9,
             "#4d9221"
            ],
            [
             1,
             "#276419"
            ]
           ],
           "sequential": [
            [
             0,
             "#0d0887"
            ],
            [
             0.1111111111111111,
             "#46039f"
            ],
            [
             0.2222222222222222,
             "#7201a8"
            ],
            [
             0.3333333333333333,
             "#9c179e"
            ],
            [
             0.4444444444444444,
             "#bd3786"
            ],
            [
             0.5555555555555556,
             "#d8576b"
            ],
            [
             0.6666666666666666,
             "#ed7953"
            ],
            [
             0.7777777777777778,
             "#fb9f3a"
            ],
            [
             0.8888888888888888,
             "#fdca26"
            ],
            [
             1,
             "#f0f921"
            ]
           ],
           "sequentialminus": [
            [
             0,
             "#0d0887"
            ],
            [
             0.1111111111111111,
             "#46039f"
            ],
            [
             0.2222222222222222,
             "#7201a8"
            ],
            [
             0.3333333333333333,
             "#9c179e"
            ],
            [
             0.4444444444444444,
             "#bd3786"
            ],
            [
             0.5555555555555556,
             "#d8576b"
            ],
            [
             0.6666666666666666,
             "#ed7953"
            ],
            [
             0.7777777777777778,
             "#fb9f3a"
            ],
            [
             0.8888888888888888,
             "#fdca26"
            ],
            [
             1,
             "#f0f921"
            ]
           ]
          },
          "colorway": [
           "#636efa",
           "#EF553B",
           "#00cc96",
           "#ab63fa",
           "#FFA15A",
           "#19d3f3",
           "#FF6692",
           "#B6E880",
           "#FF97FF",
           "#FECB52"
          ],
          "font": {
           "color": "#2a3f5f"
          },
          "geo": {
           "bgcolor": "white",
           "lakecolor": "white",
           "landcolor": "#E5ECF6",
           "showlakes": true,
           "showland": true,
           "subunitcolor": "white"
          },
          "hoverlabel": {
           "align": "left"
          },
          "hovermode": "closest",
          "mapbox": {
           "style": "light"
          },
          "paper_bgcolor": "white",
          "plot_bgcolor": "#E5ECF6",
          "polar": {
           "angularaxis": {
            "gridcolor": "white",
            "linecolor": "white",
            "ticks": ""
           },
           "bgcolor": "#E5ECF6",
           "radialaxis": {
            "gridcolor": "white",
            "linecolor": "white",
            "ticks": ""
           }
          },
          "scene": {
           "xaxis": {
            "backgroundcolor": "#E5ECF6",
            "gridcolor": "white",
            "gridwidth": 2,
            "linecolor": "white",
            "showbackground": true,
            "ticks": "",
            "zerolinecolor": "white"
           },
           "yaxis": {
            "backgroundcolor": "#E5ECF6",
            "gridcolor": "white",
            "gridwidth": 2,
            "linecolor": "white",
            "showbackground": true,
            "ticks": "",
            "zerolinecolor": "white"
           },
           "zaxis": {
            "backgroundcolor": "#E5ECF6",
            "gridcolor": "white",
            "gridwidth": 2,
            "linecolor": "white",
            "showbackground": true,
            "ticks": "",
            "zerolinecolor": "white"
           }
          },
          "shapedefaults": {
           "line": {
            "color": "#2a3f5f"
           }
          },
          "ternary": {
           "aaxis": {
            "gridcolor": "white",
            "linecolor": "white",
            "ticks": ""
           },
           "baxis": {
            "gridcolor": "white",
            "linecolor": "white",
            "ticks": ""
           },
           "bgcolor": "#E5ECF6",
           "caxis": {
            "gridcolor": "white",
            "linecolor": "white",
            "ticks": ""
           }
          },
          "title": {
           "x": 0.05
          },
          "xaxis": {
           "automargin": true,
           "gridcolor": "white",
           "linecolor": "white",
           "ticks": "",
           "title": {
            "standoff": 15
           },
           "zerolinecolor": "white",
           "zerolinewidth": 2
          },
          "yaxis": {
           "automargin": true,
           "gridcolor": "white",
           "linecolor": "white",
           "ticks": "",
           "title": {
            "standoff": 15
           },
           "zerolinecolor": "white",
           "zerolinewidth": 2
          }
         }
        },
        "title": {
         "text": "3D DNA Double Helix (showing 128 of 1000 bases)"
        },
        "updatemenus": [
         {
          "buttons": [
           {
            "args": [
             null,
             {
              "frame": {
               "duration": 60,
               "redraw": true
              }
             }
            ],
            "label": "Play",
            "method": "animate"
           },
           {
            "args": [
             [
              null
             ],
             {
              "frame": {
               "duration": 0,
               "redraw": false
              },
              "mode": "immediate"
             }
            ],
            "label": "Pause",
            "method": "animate"
           }
          ],
          "showactive": false,
          "type": "buttons"
         }
        ]
       }
      }
     },
     "metadata": {},
     "output_type": "display_data"
    }
   ],
   "source": [
    "seq = DNASequence(generate_random_sequence(1000))\n",
    "show_double_helix_3d(seq)"
   ]
  },
  {
   "cell_type": "markdown",
   "id": "3fdc2553",
   "metadata": {},
   "source": [
    "## Hamming Distance\n",
    "\n",
    "Hamming distance counts differences between two DNA sequences. They must be of the same length.\n",
    "\n",
    "Use din genetics for **mutation analysis** and **similarity comparisons**."
   ]
  },
  {
   "cell_type": "code",
   "execution_count": 104,
   "id": "beb9a262",
   "metadata": {},
   "outputs": [],
   "source": [
    "class DNASequence(DNASequence): # We extend the existing class to make out lives easier\n",
    "    def hamming_distance(self, other: DNASequence) -> int:\n",
    "        \"\"\"Compare two sequences of equal length\"\"\"\n",
    "        if len(self.sequence) != len(other.sequence):\n",
    "            raise ValueError(\"Sequences must be of equal length\")\n",
    "        return sum(a != b for a, b in zip(self.sequence, other.sequence))"
   ]
  },
  {
   "cell_type": "code",
   "execution_count": 105,
   "id": "349d092b",
   "metadata": {},
   "outputs": [],
   "source": [
    "seq = DNASequence(seq.sequence)"
   ]
  },
  {
   "cell_type": "code",
   "execution_count": 106,
   "id": "891602b3",
   "metadata": {},
   "outputs": [
    {
     "data": {
      "text/plain": [
       "13"
      ]
     },
     "execution_count": 106,
     "metadata": {},
     "output_type": "execute_result"
    }
   ],
   "source": [
    "len(seq)"
   ]
  },
  {
   "cell_type": "code",
   "execution_count": 107,
   "id": "0f546d18",
   "metadata": {},
   "outputs": [
    {
     "data": {
      "text/plain": [
       "<DNASequence(length=13)?"
      ]
     },
     "execution_count": 107,
     "metadata": {},
     "output_type": "execute_result"
    }
   ],
   "source": [
    "other = DNASequence(\"GTCGACATAGCAC\")\n",
    "other"
   ]
  },
  {
   "cell_type": "code",
   "execution_count": 108,
   "id": "52ce2f58",
   "metadata": {},
   "outputs": [
    {
     "data": {
      "text/plain": [
       "9"
      ]
     },
     "execution_count": 108,
     "metadata": {},
     "output_type": "execute_result"
    }
   ],
   "source": [
    "seq.hamming_distance(other)"
   ]
  },
  {
   "cell_type": "markdown",
   "id": "2d63430f",
   "metadata": {},
   "source": [
    "## FASTA Representation\n",
    "\n",
    "`FASTA` is a standard format for storing sequences: A **header** line starting with `>` followed by the sequence. Commonly used in **bioinformatics tools** and databases."
   ]
  },
  {
   "cell_type": "code",
   "execution_count": 109,
   "id": "fff41f11",
   "metadata": {},
   "outputs": [],
   "source": [
    "class DNASequence(DNASequence):\n",
    "    def set_name(self, name: str):\n",
    "        \"\"\"Set a friendly-name for this sequence\"\"\"\n",
    "        self.name = name\n",
    "\n",
    "    def to_fasta(self, name: str) -> str:\n",
    "        \"\"\"Return a FASTA-formatted string\"\"\"\n",
    "        name = name if name is not None else self.name\n",
    "        return f\">{name}\\n{self.sequence}\"\n",
    "        "
   ]
  },
  {
   "cell_type": "code",
   "execution_count": 111,
   "id": "4897d574",
   "metadata": {},
   "outputs": [
    {
     "name": "stdout",
     "output_type": "stream",
     "text": [
      "TTGGGACAATAG\n"
     ]
    }
   ],
   "source": [
    "seq = DNASequence.random(12)\n",
    "print(seq)"
   ]
  },
  {
   "cell_type": "code",
   "execution_count": 112,
   "id": "454c7ef3",
   "metadata": {},
   "outputs": [
    {
     "name": "stdout",
     "output_type": "stream",
     "text": [
      ">Test\n",
      "TTGGGACAATAG\n"
     ]
    }
   ],
   "source": [
    "print(seq.to_fasta(name=\"Test\"))"
   ]
  },
  {
   "cell_type": "code",
   "execution_count": null,
   "id": "a7873049",
   "metadata": {},
   "outputs": [],
   "source": []
  }
 ],
 "metadata": {
  "kernelspec": {
   "display_name": ".venv",
   "language": "python",
   "name": "python3"
  },
  "language_info": {
   "codemirror_mode": {
    "name": "ipython",
    "version": 3
   },
   "file_extension": ".py",
   "mimetype": "text/x-python",
   "name": "python",
   "nbconvert_exporter": "python",
   "pygments_lexer": "ipython3",
   "version": "3.13.7"
  }
 },
 "nbformat": 4,
 "nbformat_minor": 5
}
