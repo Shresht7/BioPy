{
 "cells": [
  {
   "cell_type": "markdown",
   "id": "037459f0",
   "metadata": {},
   "source": [
    "# DNA Sequence 101\n",
    "\n",
    "Understanding DNA Sequences with Python"
   ]
  },
  {
   "cell_type": "markdown",
   "id": "a6a75f98",
   "metadata": {},
   "source": [
    "## Objectives\n",
    "\n",
    "In this lesson, we'll:\n",
    "- Learn what DNA is and what it's made of\n",
    "- Represent DNA sequences in Python\n",
    "- Implement basic operations (length, counting nucleotide bases, complement, reverse complement)\n",
    "- Build a `DNASequence` python class"
   ]
  },
  {
   "cell_type": "markdown",
   "id": "67350665",
   "metadata": {},
   "source": [
    "## Deoxyribonucleic Acid (DNA)\n",
    "\n",
    "DNA (Deoxyribonucleic Acid) is made up of **four bases**:\n",
    "- `A`: Adenine\n",
    "- `T`: Thymine\n",
    "- `G`: Guanine\n",
    "- `C`: Cytosine\n",
    "\n",
    "Each base pairs with it's **complement**:\n",
    "|Base|Complement|\n",
    "|---|---|\n",
    "|A|T|\n",
    "|T|A|\n",
    "|G|C|\n",
    "|C|G|\n",
    "\n",
    "Sp a DMA strand like `A T G C` pairs with `T A C G`\n",
    "\n",
    "DNA Sequences are written as strings of these letters:\n",
    "`ATGCGTACGTTAGC`"
   ]
  },
  {
   "cell_type": "code",
   "execution_count": 1,
   "id": "c7116573",
   "metadata": {},
   "outputs": [
    {
     "name": "stdout",
     "output_type": "stream",
     "text": [
      "DNA Sequence: ATGCGTACGTTAGC\n",
      "Length: 14\n",
      "Bases: {'A', 'C', 'G', 'T'}\n"
     ]
    }
   ],
   "source": [
    "# Since DNA is just a sequence of these nucleotides, it can simply be represented as a string (which is essentially a list of characters) in Python\n",
    "dna_sequence = \"ATGCGTACGTTAGC\"\n",
    "\n",
    "print(\"DNA Sequence:\", dna_sequence)\n",
    "print(\"Length:\", len(dna_sequence))\n",
    "print(\"Bases:\", set(dna_sequence))"
   ]
  },
  {
   "cell_type": "code",
   "execution_count": 2,
   "id": "5e975169",
   "metadata": {},
   "outputs": [],
   "source": [
    "BASES = ['A', 'T', 'G', 'C']"
   ]
  },
  {
   "cell_type": "markdown",
   "id": "01485c92",
   "metadata": {},
   "source": [
    "## Counting Nucleotides"
   ]
  },
  {
   "cell_type": "code",
   "execution_count": 3,
   "id": "7d3ab53b",
   "metadata": {},
   "outputs": [],
   "source": [
    "def count_nucleotides(seq: str) -> dict[str, int]:\n",
    "    \"\"\"Count the number of nucleotides in the given DNA sequence\"\"\"\n",
    "    counts = { base: seq.count(base) for base in BASES }\n",
    "    return counts"
   ]
  },
  {
   "cell_type": "code",
   "execution_count": 4,
   "id": "0fb03ed8",
   "metadata": {},
   "outputs": [
    {
     "data": {
      "text/plain": [
       "{'A': 3, 'T': 4, 'G': 4, 'C': 3}"
      ]
     },
     "execution_count": 4,
     "metadata": {},
     "output_type": "execute_result"
    }
   ],
   "source": [
    "count_nucleotides('ATGCGTACGTTAGC')"
   ]
  },
  {
   "cell_type": "markdown",
   "id": "c04480a4",
   "metadata": {},
   "source": [
    "## Generating Random DNA Sequences\n",
    "\n",
    "Turns out that the only requirement for a valid DNA sequence is to only have these nucleotides. The order does not matter. Since we will need a lot of DNA sequences in the following lessons, let's create a simple helper function to generate random DNA sequences"
   ]
  },
  {
   "cell_type": "code",
   "execution_count": 5,
   "id": "60c7f640",
   "metadata": {},
   "outputs": [],
   "source": [
    "# We'll need to import the `random` module from the Python standard library to be able to select bases randomly\n",
    "import random"
   ]
  },
  {
   "cell_type": "code",
   "execution_count": 6,
   "id": "c4f53563",
   "metadata": {},
   "outputs": [],
   "source": [
    "def generate_random_sequence(length: int = 12) -> str:\n",
    "    \"\"\"Generates a random DNA sequence of given length\"\"\"\n",
    "    seq = [random.choice(BASES) for _ in range(length)]\n",
    "    return \"\".join(seq)"
   ]
  },
  {
   "cell_type": "code",
   "execution_count": null,
   "id": "c9d35d87",
   "metadata": {},
   "outputs": [
    {
     "data": {
      "text/plain": [
       "'TCCCCATCGTGC'"
      ]
     },
     "execution_count": 7,
     "metadata": {},
     "output_type": "execute_result"
    }
   ],
   "source": [
    "# Generate a random DNA sequence of length 12 (default)\n",
    "seq = generate_random_sequence()\n",
    "seq"
   ]
  },
  {
   "cell_type": "code",
   "execution_count": 8,
   "id": "96dd4563",
   "metadata": {},
   "outputs": [
    {
     "data": {
      "text/plain": [
       "'TAAACTATTGCGGTATTCTGATCGGAAGCGTTCCGCAGGATTCTGAACCATACGGCAGCCGCTTAGGCTAGGGTGCCTGTTGAAAACCACCCAACTGAGTTTGCAGATTCGCAAGCGGGCACAAGCCCTATCGCGAGTGATTCGGAATTACATGAACTGCCAGCGAGGGTTCCCGCCCGGCTTCGACCCCAGACCTTCAAAATCATTGTTTGTTGGCAGTTACCTGGCTGAGTTGCGATCTGTTCTTCTGGTCCTTCCGCCGGATAAAAGGATTGTCCGTCATGCAGAATACGCGTCAGTAGTAGGACGGTAAGATCTGGCATTTTCTAGAGGGAACCCCATTGAGCCGGCTGCTATCCCTTTTTTAACCATAAGCCAGGTAGACTTGGCCTGTATCGGCAATCACGGGGCGGCGCACAGAAAAAGTGTACCATGATGGCGCTCATAGCCCCAGTGCGGAATGAATTTTCGTACTGTTTGAGCCTTTCCTCGTCGGGTGTGCCGGGGACCGTATTCCGCGCCGATCCTTGGGACTACAAACCAACCCATCTATATGTCGGCCCAAGTTAGGCCACACCTACAAGGCATCAACACCTTGAACGCGAAAGGTTATTTCACGGAGATGTCAGCCGCAGGTCTCGGCCTCCGGGTTTAAGTTAAACTCAAGTTCGGTTTTATTGAATATGCAGTTGCGCCTGTGAACGGACCCCAGCGGTGCAACTGTCTCACTACAGTGATTGGCTAGATGGTATTAACATTGTACATGGGGTTAGGTAAAATCTTGACCACATTATGCCGAGGCGTGACGGGGCCTACGTAGGTTAATGCTGTTATACAGTCGCCGTGCGATCCTTTGGGGTTAACGTCCATATACTAAACCTGGCTTAAGGCTATCAAATGCAAAGAACTTCATGTACGGGCCGACCTGATTTTCCTTTGGTGCTACCGTGCCCTGTACTATTCACATAGTTTAGGGAAAGCAATTGTGGTCTCTCTAATA'"
      ]
     },
     "execution_count": 8,
     "metadata": {},
     "output_type": "execute_result"
    }
   ],
   "source": [
    "# Generate a much larger sequence\n",
    "seq = generate_random_sequence(1000)\n",
    "seq"
   ]
  },
  {
   "cell_type": "code",
   "execution_count": null,
   "id": "bb98e38f",
   "metadata": {},
   "outputs": [],
   "source": []
  }
 ],
 "metadata": {
  "kernelspec": {
   "display_name": ".venv",
   "language": "python",
   "name": "python3"
  },
  "language_info": {
   "codemirror_mode": {
    "name": "ipython",
    "version": 3
   },
   "file_extension": ".py",
   "mimetype": "text/x-python",
   "name": "python",
   "nbconvert_exporter": "python",
   "pygments_lexer": "ipython3",
   "version": "3.13.7"
  }
 },
 "nbformat": 4,
 "nbformat_minor": 5
}
