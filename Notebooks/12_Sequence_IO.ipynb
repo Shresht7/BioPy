{
 "cells": [
  {
   "cell_type": "markdown",
   "id": "4962f8d7",
   "metadata": {},
   "source": [
    "# Sequence I/O"
   ]
  },
  {
   "cell_type": "markdown",
   "id": "e3cacbab",
   "metadata": {},
   "source": [
    "BioPython provides the `Bio.SeqIO` module to read and write sequences to and from a file. It supports nearly all file formats commonly used in bioinformatics. Most bioinformatics software out there provide different approaches for different file formats; but BioPython consciously follows a single approach to present the parsed sequence data to the user through its `SeqRecord` object"
   ]
  },
  {
   "cell_type": "markdown",
   "id": "2baa89fe",
   "metadata": {},
   "source": [
    "## `SeqRecord`\n",
    "\n",
    "`Bio.SeqRecord` module provides `SeqRecord` to hold meta information of the sequence as well as the sequence data itself.\n",
    "\n",
    "- `seq`: The actual sequence\n",
    "- `id`: The primary identifier of the given sequence.\n",
    "- `name`: Name of the sequence.\n",
    "- `description`: Human readable information about the sequence\n",
    "- `annotations`: It is a dictionary of additional informations about the sequence"
   ]
  },
  {
   "cell_type": "code",
   "execution_count": null,
   "id": "4345529e",
   "metadata": {},
   "outputs": [],
   "source": [
    "from Bio.SeqRecord import SeqRecord"
   ]
  },
  {
   "cell_type": "markdown",
   "id": "cac1b59d",
   "metadata": {},
   "source": [
    "## FASTA\n",
    "\n",
    "FASTA is the most basic file format for storing sequence data. originally, FASTA was a software package for sequence alignment of DNA and protein developed during the early evolution of Bioinformatics and used mostly to search the sequence similarity.\n",
    "\n",
    "`Bio.SeqIO` module provides a `parse()` method to process sequence files"
   ]
  },
  {
   "cell_type": "code",
   "execution_count": null,
   "id": "6ee73425",
   "metadata": {},
   "outputs": [],
   "source": [
    "from Bio.SeqIO import parse"
   ]
  },
  {
   "cell_type": "markdown",
   "id": "4477270b",
   "metadata": {},
   "source": [
    "The `parse()` method contains two arguments, first one is file handle and second is the file format"
   ]
  },
  {
   "cell_type": "code",
   "execution_count": null,
   "id": "2b04479f",
   "metadata": {},
   "outputs": [],
   "source": [
    "with open('path/to/orchid.fasta', r) as file:\n",
    "    records = parse(file, 'fasta')\n",
    "    ..."
   ]
  },
  {
   "cell_type": "markdown",
   "id": "0b0bc1be",
   "metadata": {},
   "source": [
    "Here, the `parse()` method returns an iterable object which returns `SeqRecord` on every iteration."
   ]
  },
  {
   "cell_type": "markdown",
   "id": "d138bebd",
   "metadata": {},
   "source": [
    "Writing a collection of `SeqRecord` objects into file is as simple as calling the `SeqIO.write` method\n",
    "\n",
    "```python\n",
    "with open('target.fasta', 'r') as file:\n",
    "    SeqIO.write(seq_record, file, 'fasta')\n",
    "```"
   ]
  },
  {
   "cell_type": "markdown",
   "id": "549019d2",
   "metadata": {},
   "source": [
    "## GenBank\n",
    "\n",
    "It is a richer sequence format for genes including fields for various kinds of annotations. Since BioPython provides a single function to parse any kind of file."
   ]
  },
  {
   "cell_type": "code",
   "execution_count": null,
   "id": "76aaec10",
   "metadata": {},
   "outputs": [],
   "source": [
    "from Bio.SeqIO import parse\n",
    "with open('path/to/orchid.gbk', 'r') as file:\n",
    "    records = parse(file)\n",
    "    record = next(records)\n",
    "    print(record.id)\n",
    "    print(record.name)\n",
    "    print(record.seq)\n",
    "    print(record.description)"
   ]
  }
 ],
 "metadata": {
  "kernelspec": {
   "display_name": ".venv (3.13.8)",
   "language": "python",
   "name": "python3"
  },
  "language_info": {
   "name": "python",
   "version": "3.13.8"
  }
 },
 "nbformat": 4,
 "nbformat_minor": 5
}
