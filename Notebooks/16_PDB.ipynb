{
 "cells": [
  {
   "cell_type": "markdown",
   "id": "7fe3fb1b",
   "metadata": {},
   "source": [
    "# PDB Module\n",
    "\n",
    "BioPython provides the `Bio.PDB` module to manipulate polypeptide structures. The PDB (Protein Data Bank) is the largest protein structure resource available online. It hosts a lot of distinct protein structures, including protein-protein, protein-DNA, protein-RNA complexes"
   ]
  },
  {
   "cell_type": "code",
   "execution_count": 1,
   "id": "2d53a204",
   "metadata": {},
   "outputs": [],
   "source": [
    "# To import\n",
    "from Bio.PDB.PDBList import PDBList"
   ]
  },
  {
   "cell_type": "code",
   "execution_count": 2,
   "id": "bf7a1422",
   "metadata": {},
   "outputs": [
    {
     "data": {
      "text/plain": [
       "<Bio.PDB.PDBList.PDBList at 0x153c7065160>"
      ]
     },
     "execution_count": 2,
     "metadata": {},
     "output_type": "execute_result"
    }
   ],
   "source": [
    "pdbl = PDBList()\n",
    "pdbl"
   ]
  },
  {
   "cell_type": "code",
   "execution_count": 3,
   "id": "d97178a6",
   "metadata": {},
   "outputs": [
    {
     "name": "stdout",
     "output_type": "stream",
     "text": [
      "Downloading PDB structure '2fat'...\n"
     ]
    },
    {
     "data": {
      "text/plain": [
       "'.\\\\2fat.cif'"
      ]
     },
     "execution_count": 3,
     "metadata": {},
     "output_type": "execute_result"
    }
   ],
   "source": [
    "pdbl.retrieve_pdb_file('2FAT', pdir = '.', file_format = \"mmCif\")"
   ]
  },
  {
   "cell_type": "code",
   "execution_count": 5,
   "id": "a80f1c4d",
   "metadata": {},
   "outputs": [
    {
     "name": "stdout",
     "output_type": "stream",
     "text": [
      "<class 'Bio.PDB.Structure.Structure'>\n"
     ]
    },
    {
     "data": {
      "text/plain": [
       "<Structure id=2FAT>"
      ]
     },
     "execution_count": 5,
     "metadata": {},
     "output_type": "execute_result"
    }
   ],
   "source": [
    "# To load a cif file\n",
    "from Bio.PDB.MMCIFParser import MMCIFParser\n",
    "parser = MMCIFParser(QUIET = True)\n",
    "data = parser.get_structure(\"2FAT\", \"2FAT.cif\")\n",
    "print(type(data))\n",
    "data"
   ]
  },
  {
   "cell_type": "markdown",
   "id": "9c6e0147",
   "metadata": {},
   "source": [
    "## `PDB` Parser"
   ]
  },
  {
   "cell_type": "code",
   "execution_count": 6,
   "id": "e05b2b45",
   "metadata": {},
   "outputs": [
    {
     "name": "stdout",
     "output_type": "stream",
     "text": [
      "Downloading PDB structure '2fat'...\n"
     ]
    },
    {
     "data": {
      "text/plain": [
       "'.\\\\pdb2fat.ent'"
      ]
     },
     "execution_count": 6,
     "metadata": {},
     "output_type": "execute_result"
    }
   ],
   "source": [
    "pdbl.retrieve_pdb_file('2FAT', pdir='.', file_format=\"pdb\")"
   ]
  },
  {
   "cell_type": "code",
   "execution_count": 7,
   "id": "9c5263d0",
   "metadata": {},
   "outputs": [
    {
     "name": "stdout",
     "output_type": "stream",
     "text": [
      "<class 'Bio.PDB.Structure.Structure'>\n"
     ]
    },
    {
     "data": {
      "text/plain": [
       "<Structure id=2fat>"
      ]
     },
     "execution_count": 7,
     "metadata": {},
     "output_type": "execute_result"
    }
   ],
   "source": [
    "# To load a pdb file\n",
    "from Bio.PDB.PDBParser import PDBParser\n",
    "parser = PDBParser(PERMISSIVE=True, QUIET=True)\n",
    "data = parser.get_structure(\"2fat\", \"pdb2fat.ent\")\n",
    "print(type(data))\n",
    "data"
   ]
  },
  {
   "cell_type": "code",
   "execution_count": 10,
   "id": "8e5334cb",
   "metadata": {},
   "outputs": [
    {
     "data": {
      "text/plain": [
       "dict_keys(['name', 'head', 'idcode', 'deposition_date', 'release_date', 'structure_method', 'resolution', 'structure_reference', 'journal_reference', 'author', 'compound', 'source', 'has_missing_residues', 'missing_residues', 'biomoltrans', 'keywords', 'journal'])"
      ]
     },
     "execution_count": 10,
     "metadata": {},
     "output_type": "execute_result"
    }
   ],
   "source": [
    "data.header.keys()"
   ]
  },
  {
   "cell_type": "code",
   "execution_count": 9,
   "id": "9ea3f7e0",
   "metadata": {},
   "outputs": [
    {
     "data": {
      "text/plain": [
       "'an anti-urokinase plasminogen activator receptor (upar) antibody: crystal structure and binding epitope'"
      ]
     },
     "execution_count": 9,
     "metadata": {},
     "output_type": "execute_result"
    }
   ],
   "source": [
    "data.header[\"name\"]"
   ]
  },
  {
   "cell_type": "code",
   "execution_count": 11,
   "id": "e9fe63c2",
   "metadata": {},
   "outputs": [
    {
     "data": {
      "text/plain": [
       "'2006-11-14'"
      ]
     },
     "execution_count": 11,
     "metadata": {},
     "output_type": "execute_result"
    }
   ],
   "source": [
    "data.header[\"release_date\"]"
   ]
  },
  {
   "cell_type": "code",
   "execution_count": 12,
   "id": "b49773ac",
   "metadata": {},
   "outputs": [
    {
     "data": {
      "text/plain": [
       "1.77"
      ]
     },
     "execution_count": 12,
     "metadata": {},
     "output_type": "execute_result"
    }
   ],
   "source": [
    "data.header[\"resolution\"]"
   ]
  },
  {
   "cell_type": "markdown",
   "id": "e5b343b9",
   "metadata": {},
   "source": [
    "## PDB Structure\n",
    "\n",
    "PDB structure is composed of a single model, containing two chains:\n",
    "- chain L, containing the number of residues\n",
    "- chain H, containing the number of residues\n",
    "\n",
    "Each residue is composed of multiple atoms, each having a 3D position represented by (x, y, z) coordinates"
   ]
  },
  {
   "cell_type": "markdown",
   "id": "27327bf9",
   "metadata": {},
   "source": [
    "### Model"
   ]
  },
  {
   "cell_type": "code",
   "execution_count": 13,
   "id": "d7612707",
   "metadata": {},
   "outputs": [
    {
     "data": {
      "text/plain": [
       "<generator object Structure.get_models at 0x00000153DD516B00>"
      ]
     },
     "execution_count": 13,
     "metadata": {},
     "output_type": "execute_result"
    }
   ],
   "source": [
    "model = data.get_models()\n",
    "model"
   ]
  },
  {
   "cell_type": "code",
   "execution_count": 14,
   "id": "4b147362",
   "metadata": {},
   "outputs": [
    {
     "data": {
      "text/plain": [
       "[<Model id=0>]"
      ]
     },
     "execution_count": 14,
     "metadata": {},
     "output_type": "execute_result"
    }
   ],
   "source": [
    "models = list(model)\n",
    "models"
   ]
  },
  {
   "cell_type": "code",
   "execution_count": 15,
   "id": "dc511565",
   "metadata": {},
   "outputs": [
    {
     "data": {
      "text/plain": [
       "Bio.PDB.Model.Model"
      ]
     },
     "execution_count": 15,
     "metadata": {},
     "output_type": "execute_result"
    }
   ],
   "source": [
    "type(models[0])"
   ]
  },
  {
   "cell_type": "markdown",
   "id": "bed2efcd",
   "metadata": {},
   "source": [
    "### Chain"
   ]
  },
  {
   "cell_type": "code",
   "execution_count": 16,
   "id": "3e8e82e3",
   "metadata": {},
   "outputs": [
    {
     "data": {
      "text/plain": [
       "[<Chain id=L>, <Chain id=H>]"
      ]
     },
     "execution_count": 16,
     "metadata": {},
     "output_type": "execute_result"
    }
   ],
   "source": [
    "chains = list(models[0].get_chains())\n",
    "chains"
   ]
  },
  {
   "cell_type": "code",
   "execution_count": 17,
   "id": "733b6934",
   "metadata": {},
   "outputs": [
    {
     "data": {
      "text/plain": [
       "Bio.PDB.Chain.Chain"
      ]
     },
     "execution_count": 17,
     "metadata": {},
     "output_type": "execute_result"
    }
   ],
   "source": [
    "type(chains[0])"
   ]
  },
  {
   "cell_type": "markdown",
   "id": "c036b372",
   "metadata": {},
   "source": [
    "### Residue"
   ]
  },
  {
   "cell_type": "code",
   "execution_count": 18,
   "id": "bcc1ce27",
   "metadata": {},
   "outputs": [
    {
     "data": {
      "text/plain": [
       "293"
      ]
     },
     "execution_count": 18,
     "metadata": {},
     "output_type": "execute_result"
    }
   ],
   "source": [
    "residue = list(chains[0].get_residues())\n",
    "len(residue)"
   ]
  },
  {
   "cell_type": "code",
   "execution_count": 19,
   "id": "823c91eb",
   "metadata": {},
   "outputs": [
    {
     "data": {
      "text/plain": [
       "311"
      ]
     },
     "execution_count": 19,
     "metadata": {},
     "output_type": "execute_result"
    }
   ],
   "source": [
    "residue1 = list(chains[1].get_residues())\n",
    "len(residue1)"
   ]
  },
  {
   "cell_type": "markdown",
   "id": "69c5823e",
   "metadata": {},
   "source": [
    "### Atoms"
   ]
  },
  {
   "cell_type": "code",
   "execution_count": 20,
   "id": "39018ca8",
   "metadata": {},
   "outputs": [
    {
     "data": {
      "text/plain": [
       "[<Atom N>,\n",
       " <Atom CA>,\n",
       " <Atom C>,\n",
       " <Atom O>,\n",
       " <Atom CB>,\n",
       " <Atom CG>,\n",
       " <Atom OD1>,\n",
       " <Atom OD2>]"
      ]
     },
     "execution_count": 20,
     "metadata": {},
     "output_type": "execute_result"
    }
   ],
   "source": [
    "atoms = list(residue[0].get_atoms())\n",
    "atoms"
   ]
  },
  {
   "cell_type": "code",
   "execution_count": 21,
   "id": "500ef905",
   "metadata": {},
   "outputs": [
    {
     "data": {
      "text/plain": [
       "<Vector 18.49, 73.26, 44.16>"
      ]
     },
     "execution_count": 21,
     "metadata": {},
     "output_type": "execute_result"
    }
   ],
   "source": [
    "# An atom holds the 3D coordinates of an atom and it is called a Vector\n",
    "atoms[0].get_vector()"
   ]
  },
  {
   "cell_type": "code",
   "execution_count": null,
   "id": "38c2e4f1",
   "metadata": {},
   "outputs": [],
   "source": []
  }
 ],
 "metadata": {
  "kernelspec": {
   "display_name": ".venv (3.13.8)",
   "language": "python",
   "name": "python3"
  },
  "language_info": {
   "codemirror_mode": {
    "name": "ipython",
    "version": 3
   },
   "file_extension": ".py",
   "mimetype": "text/x-python",
   "name": "python",
   "nbconvert_exporter": "python",
   "pygments_lexer": "ipython3",
   "version": "3.13.9"
  }
 },
 "nbformat": 4,
 "nbformat_minor": 5
}
