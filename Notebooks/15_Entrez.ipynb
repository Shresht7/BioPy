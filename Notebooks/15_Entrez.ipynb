{
 "cells": [
  {
   "cell_type": "markdown",
   "id": "ffee9814",
   "metadata": {},
   "source": [
    "## Entrez\n",
    "\n",
    "**Entrez** is an online search system provided by NCBI. It provides access to nearly all known molecular biology databases with an integrated global query supporting boolean operators and field search. It returns results from all the databases with information like the number of hits from each database, records with links to the original database etc.\n",
    "\n",
    "Some popular databases that can be accessed through Entrez are:\n",
    "- Pubmed\n",
    "- Pubmed Central\n",
    "- Nucleotide (GenBank Sequence Data)\n",
    "- Protein (Sequence Data)\n",
    "- Genome (Whole Genome Database)\n",
    "- Structure (Three Dimensional Macromolecular Structure)\n",
    "- Taxonomy (Organisms in GenBank)\n",
    "- SNP (Single Nucleotide Polymorphism)\n",
    "- UniGene (Gene Oriented Clusters of Transcript Sequences)\n",
    "- CDD (Conserved Protein Domain Database)\n",
    "- 3D Domains (Domains from Entrez Structure)"
   ]
  },
  {
   "cell_type": "markdown",
   "id": "d4b5a6ce",
   "metadata": {},
   "source": [
    "BioPython provides an Entrez specific module, `Bio.Entrez` to access `Entrez` database."
   ]
  },
  {
   "cell_type": "code",
   "execution_count": null,
   "id": "5fcbaf23",
   "metadata": {},
   "outputs": [],
   "source": [
    "from Bio import Entrez"
   ]
  },
  {
   "cell_type": "markdown",
   "id": "6df9957c",
   "metadata": {},
   "source": [
    "Set your email so that Entrez can identify who is connected"
   ]
  },
  {
   "cell_type": "code",
   "execution_count": null,
   "id": "aacec370",
   "metadata": {},
   "outputs": [],
   "source": [
    "Entrez.email = '<youremail>'"
   ]
  },
  {
   "cell_type": "code",
   "execution_count": null,
   "id": "732ee22d",
   "metadata": {},
   "outputs": [],
   "source": [
    "Entrez.tool = 'Demoscript'"
   ]
  },
  {
   "cell_type": "markdown",
   "id": "7c564dc7",
   "metadata": {},
   "source": [
    "call `einfo` function to find index term counts, last update, and available links for each database"
   ]
  },
  {
   "cell_type": "code",
   "execution_count": null,
   "id": "a7c94df0",
   "metadata": {},
   "outputs": [],
   "source": [
    "info = Entrez.einfo()"
   ]
  },
  {
   "cell_type": "markdown",
   "id": "214c0507",
   "metadata": {},
   "source": [
    "The data is in XML format, and to get the data as python object, use `Entrez.read`"
   ]
  },
  {
   "cell_type": "code",
   "execution_count": null,
   "id": "7f0a543c",
   "metadata": {},
   "outputs": [],
   "source": [
    "info = Entrez.einfo()\n",
    "record = Entrez.read(info)"
   ]
  },
  {
   "cell_type": "markdown",
   "id": "6a9b6126",
   "metadata": {},
   "source": [
    "## Search Database\n",
    "\n",
    "To search any of the one Entrez databases, we can use the `Bio.Entrez.esearch()` module"
   ]
  },
  {
   "cell_type": "code",
   "execution_count": null,
   "id": "07a7ef77",
   "metadata": {},
   "outputs": [],
   "source": [
    "info = Entrez.einfo()\n",
    "info = Entrez.esearch(db = \"pubmed\", term = \"genome\")\n",
    "record = Entrez.read(info)\n",
    "print(record)"
   ]
  }
 ],
 "metadata": {
  "kernelspec": {
   "display_name": ".venv (3.13.8)",
   "language": "python",
   "name": "python3"
  },
  "language_info": {
   "name": "python",
   "version": "3.13.8"
  }
 },
 "nbformat": 4,
 "nbformat_minor": 5
}
