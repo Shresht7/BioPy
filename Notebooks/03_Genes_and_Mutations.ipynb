{
 "cells": [
  {
   "cell_type": "markdown",
   "id": "57391fbe",
   "metadata": {},
   "source": [
    "# Genes and Mutations\n",
    "\n",
    "Each DNA molecule contains many genes - specific regions that code for proteins.\n",
    "\n",
    "A gene usually consists of:\n",
    "- A start codon (`ATG` in DNA and `AUG` in mRNA)\n",
    "- A series of codons\n",
    "- A stop codon (`TAA`, `TAG`, `TGA` for DNA - and `UAA`, `UAG`, `UGA` for mRNA)"
   ]
  },
  {
   "cell_type": "markdown",
   "id": "b309f3eb",
   "metadata": {},
   "source": [
    "However, DNA can be read in **three possible reading frames**, depending on where you start reading the triplets. Changing the frame changes the entire protein.\n",
    "\n",
    "For example:\n",
    "```yaml\n",
    "DNA: ATGGGCTTTAAC\n",
    "Reading Frame 1: ATG GGC TTT AAC -> AUG GGC UUU AAC -> Met Gly Phe Asn\n",
    "Reading Frame 2: TGG GCT TAA AC -> UGG GCU UUA AC -> Trp Ala Leu\n",
    "Reading Frame 3: GGG CTT TAA C -> GGG CUU UAA -> Gly Leu Stop\n",
    "```\n",
    "\n",
    "So a simple shift in the reading frame (called **Frameshift Mutation**) can completely change the resulting protein."
   ]
  },
  {
   "cell_type": "code",
   "execution_count": 12,
   "id": "5ce09a75",
   "metadata": {},
   "outputs": [],
   "source": [
    "from dna import DNASequence, translate, transcribe, BASES"
   ]
  },
  {
   "cell_type": "markdown",
   "id": "5a935b3b",
   "metadata": {},
   "source": [
    "## Get Reading Frames\n",
    "\n",
    "Let's create a helper to show all possible mRNA reading frames for a given DNA sequence."
   ]
  },
  {
   "cell_type": "code",
   "execution_count": 13,
   "id": "bb698784",
   "metadata": {},
   "outputs": [],
   "source": [
    "def get_reading_frames(dna: DNASequence) -> list:\n",
    "    \"\"\"Returns all three reading frames for a DNA sequence (as RNA)\"\"\"\n",
    "    rna = dna.transcribe()\n",
    "    frames = [rna[i:] for i in range(3)]\n",
    "    return frames\n"
   ]
  },
  {
   "cell_type": "code",
   "execution_count": 14,
   "id": "00a97c67",
   "metadata": {},
   "outputs": [],
   "source": [
    "seq = DNASequence.random()"
   ]
  },
  {
   "cell_type": "code",
   "execution_count": 15,
   "id": "9f69a14f",
   "metadata": {},
   "outputs": [
    {
     "data": {
      "text/plain": [
       "['UCCAUUAUACGC', 'CCAUUAUACGC', 'CAUUAUACGC']"
      ]
     },
     "execution_count": 15,
     "metadata": {},
     "output_type": "execute_result"
    }
   ],
   "source": [
    "get_reading_frames(seq)"
   ]
  },
  {
   "cell_type": "code",
   "execution_count": 16,
   "id": "87e7b418",
   "metadata": {},
   "outputs": [],
   "source": [
    "def translate_all_frames(dna: DNASequence):\n",
    "    frames = get_reading_frames(dna)\n",
    "    translations = []\n",
    "    for frame in frames:\n",
    "        amino_acids = translate(frame)\n",
    "        translations.append(amino_acids)\n",
    "    return translations"
   ]
  },
  {
   "cell_type": "code",
   "execution_count": 17,
   "id": "136421d1",
   "metadata": {},
   "outputs": [],
   "source": [
    "seq = DNASequence.random(128)"
   ]
  },
  {
   "cell_type": "code",
   "execution_count": 18,
   "id": "3e504d75",
   "metadata": {},
   "outputs": [
    {
     "data": {
      "text/plain": [
       "['MEVLV', 'MEVLV', 'MEVLV']"
      ]
     },
     "execution_count": 18,
     "metadata": {},
     "output_type": "execute_result"
    }
   ],
   "source": [
    "translations = translate_all_frames(seq)\n",
    "translations"
   ]
  },
  {
   "cell_type": "code",
   "execution_count": 19,
   "id": "7e6f409e",
   "metadata": {},
   "outputs": [
    {
     "name": "stdout",
     "output_type": "stream",
     "text": [
      "Frame 1: M-E-V-L-V\n",
      "Frame 2: M-E-V-L-V\n",
      "Frame 3: M-E-V-L-V\n"
     ]
    }
   ],
   "source": [
    "for i, amino_seq in enumerate(translations, start=1):\n",
    "    print(f\"Frame {i}: {'-'.join(amino_seq) if amino_seq else '(no valid sequence)'}\")"
   ]
  },
  {
   "cell_type": "markdown",
   "id": "bc20a815",
   "metadata": {},
   "source": [
    "## Mutations\n",
    "\n",
    "Mutations are simply change in the DNA sequence:\n",
    "- `Insertion`: One or more bases added\n",
    "- `Substitution`: One base replaced by another\n",
    "- `Deletion`: One or more bases removed"
   ]
  },
  {
   "cell_type": "code",
   "execution_count": 20,
   "id": "ca35314b",
   "metadata": {},
   "outputs": [],
   "source": [
    "import random"
   ]
  },
  {
   "cell_type": "code",
   "execution_count": 21,
   "id": "37fea7d0",
   "metadata": {},
   "outputs": [],
   "source": [
    "def mutate(seq: str, rate: float = 0.01) -> str:\n",
    "    \"\"\"Randomly mutate a DNA sequence with the given mutation rate\"\"\"\n",
    "    new_dna = []\n",
    "    for base in seq:\n",
    "        if random.random() < rate:\n",
    "            new_base = random.choice([b for b in BASES if b != base])\n",
    "            new_dna.append(new_base)\n",
    "        else:\n",
    "            new_dna.append(base)\n",
    "    return ''.join(new_dna)"
   ]
  },
  {
   "cell_type": "code",
   "execution_count": 22,
   "id": "7b48beb3",
   "metadata": {},
   "outputs": [
    {
     "name": "stdout",
     "output_type": "stream",
     "text": [
      "Original: TTGGAGTGGACG\n",
      "Mutated: TTGGAGTGGACG\n",
      "\n",
      "Protein from mutated:\n",
      "\n"
     ]
    }
   ],
   "source": [
    "seq = DNASequence.random()\n",
    "mutated = mutate(seq.sequence)\n",
    "\n",
    "print(\"Original:\", seq.sequence)\n",
    "print(\"Mutated:\", mutated)\n",
    "print(\"\\nProtein from mutated:\")\n",
    "print('-'.join(translate(transcribe(mutated))))"
   ]
  },
  {
   "cell_type": "markdown",
   "id": "5a5ee621",
   "metadata": {},
   "source": [
    "Even a single mutation can have major effects:\n",
    "- `Silent Mutation`: No change in amino acid\n",
    "- `Missense Mutation`: One amino acid changes\n",
    "- `Nonsense Mutation`: Premature stop codon\n",
    "- `Frameshift Mutation`: Shifts the reading frame -> catastrophic change"
   ]
  },
  {
   "cell_type": "code",
   "execution_count": null,
   "id": "f5815d44",
   "metadata": {},
   "outputs": [],
   "source": []
  }
 ],
 "metadata": {
  "kernelspec": {
   "display_name": ".venv",
   "language": "python",
   "name": "python3"
  },
  "language_info": {
   "codemirror_mode": {
    "name": "ipython",
    "version": 3
   },
   "file_extension": ".py",
   "mimetype": "text/x-python",
   "name": "python",
   "nbconvert_exporter": "python",
   "pygments_lexer": "ipython3",
   "version": "3.13.7"
  }
 },
 "nbformat": 4,
 "nbformat_minor": 5
}
